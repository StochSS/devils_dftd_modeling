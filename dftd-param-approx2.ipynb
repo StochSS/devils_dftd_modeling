{
 "cells": [
  {
   "cell_type": "code",
   "execution_count": 1,
   "metadata": {},
   "outputs": [],
   "source": [
    "import numpy as np\n",
    "import sys\n",
    "sys.path.append('/home/smatthe2/GillesPy2')\n",
    "import gillespy2\n",
    "from gillespy2 import Model, Species, Parameter, Reaction, Event, \\\n",
    "                      EventTrigger, EventAssignment\n",
    "from gillespy2 import ODECSolver, ODESolver, SSACSolver\n",
    "\n",
    "import matplotlib.pyplot as plt\n",
    "\n",
    "from __future__ import print_function\n",
    "from ipywidgets import interact, interactive, fixed, interact_manual\n",
    "import ipywidgets as widgets"
   ]
  },
  {
   "cell_type": "markdown",
   "metadata": {},
   "source": [
    "# devils Parameter Approximation\n",
    "\n",
    "This notebook is used to calibrate a initial values which approximately match the results given in *Cunningham, Calum X., et al. \"Quantifying 25 years of disease‐caused declines in Tasmanian devil populations: host density drives spatial pathogen spread.\" Ecology Letters 24.5 (2021): 958-969.*  The objective of this notebook is to gain an \"eyeball approximation\" of reasonable starting values to serve as input for more sophisticated inferencing."
   ]
  },
  {
   "cell_type": "code",
   "execution_count": 2,
   "metadata": {},
   "outputs": [],
   "source": [
    "class Devilsv101(Model):\n",
    "    def __init__(self, parameter_values=None):\n",
    "        Model.__init__(self, name=\"devils_v1.0\")\n",
    "        self.volume = 1\n",
    "\n",
    "        # Parameters\n",
    "        self.add_parameter(Parameter(name=\"r\", expression=\"1\"))\n",
    "        self.add_parameter(Parameter(name=\"K\", expression=\"217\"))\n",
    "        self.add_parameter(Parameter(name=\"ds\", expression=\"0.22\"))\n",
    "        self.add_parameter(Parameter(name=\"dI\", expression=\"1.28\"))\n",
    "        self.add_parameter(Parameter(name=\"L\", expression=\".75\"))\n",
    "        self.add_parameter(Parameter(name=\"k0\", expression=\"4\"))\n",
    "\n",
    "        # Variables (initial values adjusted to observed data)\n",
    "        self.add_species(Species(name=\"S\", initial_value=0, mode=\"discrete\"))\n",
    "        self.add_species(Species(name=\"E\", initial_value=0, mode=\"discrete\"))\n",
    "        self.add_species(Species(name=\"I\", initial_value=0, mode=\"discrete\"))\n",
    "        self.add_species(Species(name=\"Devils\", initial_value=0, mode=\"discrete\"))\n",
    "\n",
    "        # Reactions\n",
    "        self.add_reaction(Reaction(name=\"birth\", reactants={}, products={'S': 1, 'Devils': 1}, propensity_function=\"r*(S+E+I)*(1-(S+E+I)/K)\"))\n",
    "        self.add_reaction(Reaction(name=\"death_S\", reactants={'S': 1, 'Devils': 1}, products={}, propensity_function=\"ds*S\"))\n",
    "        self.add_reaction(Reaction(name=\"transmission\", reactants={'S': 1, 'I': 1}, products={'E': 1, 'I':1}, propensity_function=\"k0*S*I/K\"))\n",
    "        self.add_reaction(Reaction(name=\"death_E\", reactants={'Devils': 1, 'E': 1}, products={}, propensity_function=\"ds*E\"))\n",
    "        self.add_reaction(Reaction(name=\"latency\", reactants={'E': 1}, products={'I': 1}, propensity_function=\"E/L\"))\n",
    "        self.add_reaction(Reaction(name=\"death_I\", reactants={'I': 1, 'Devils': 1}, products={}, propensity_function=\"dI*I\"))\n",
    "\n",
    "        # Timespan\n",
    "#         self.timespan(np.linspace(0, 422, 421)) # month data tspan"
   ]
  },
  {
   "cell_type": "code",
   "execution_count": 3,
   "metadata": {},
   "outputs": [],
   "source": [
    "model = Devilsv101()"
   ]
  },
  {
   "cell_type": "code",
   "execution_count": 4,
   "metadata": {},
   "outputs": [
    {
     "name": "stdout",
     "output_type": "stream",
     "text": [
      "422.0\n"
     ]
    }
   ],
   "source": [
    "print(np.linspace(0,422,421)[-1])"
   ]
  },
  {
   "cell_type": "markdown",
   "metadata": {},
   "source": [
    "## Read in observed data"
   ]
  },
  {
   "cell_type": "code",
   "execution_count": 5,
   "metadata": {
    "scrolled": true
   },
   "outputs": [
    {
     "name": "stdout",
     "output_type": "stream",
     "text": [
      "[[[34615.70418 34615.70418 34741.36901 34867.03384 35055.53109\n",
      "   35244.02834 35432.52558 35621.02283 35872.35249 35998.01732\n",
      "   36186.51457 36375.01181 36563.50906 36752.0063  36877.67114\n",
      "   37129.0008  37254.66563 37443.16287 37631.66012 37945.8222\n",
      "   38134.31944 38259.98427 38448.48152 38636.97877 38888.30843\n",
      "   39076.80567 39265.30292 39453.80017 39705.12983 39956.45949\n",
      "   40333.45398 40459.11881 40773.28089 40961.77814 41150.27538\n",
      "   41338.77263 41590.10229 41841.43195 41967.09678 42155.59403\n",
      "   42281.25886 42721.08577 42909.58301 43035.24784 43286.57751\n",
      "   43412.24234 43663.572   43789.23683 43977.73407 44040.56649\n",
      "   44166.23132 44229.06374 44354.72857 44417.56098 44480.3934\n",
      "   44543.22581 44668.89064 44668.89064 44794.55547 44794.55547\n",
      "   44920.22031 44983.05272 45108.71755 45422.87963 45611.37688\n",
      "   45737.04171 45862.70654 46051.20378 46239.70103 46365.36586\n",
      "   46428.19828 46616.69552 46805.19277 46930.8576  47370.68451\n",
      "   47559.18175 47810.51141 47936.17624 48187.50591 48376.00315\n",
      "   48501.66798 48690.16523 48878.66248 49067.15972 49318.48938\n",
      "   49569.81904 49632.65146 49695.48388 49821.14871 49821.14871\n",
      "   49883.98112 49946.81354 50072.47837 50135.31078 50198.1432\n",
      "   50323.80803 50449.47286 50512.30528 50637.97011 50763.63494\n",
      "   50889.29977 51014.9646  51140.62943 51266.29426 51391.95909\n",
      "   51517.62392 51643.28875 51894.61841 51957.45083 52020.28325\n",
      "   52083.11566 52145.94808 52208.78049 52334.44532 52334.44532\n",
      "   52334.44532 52460.11015 52460.11015 52585.77498 52585.77498\n",
      "   52711.43981 52711.43981 52774.27223 52837.10465 52899.93706\n",
      "   52899.93706 52962.76948 53025.60189 53088.43431 53151.26672\n",
      "   53214.09914 53214.09914 53276.93155 53276.93155 53214.09914\n",
      "   53151.26672 53151.26672 53151.26672 53088.43431 53025.60189\n",
      "   52962.76948 52962.76948 52899.93706 52899.93706 52837.10465\n",
      "   52899.93706 52899.93706 52962.76948 53025.60189 53025.60189\n",
      "   53088.43431 53151.26672 53214.09914 53276.93155 53339.76397\n",
      "   53339.76397 53339.76397 53276.93155 53151.26672 53025.60189\n",
      "   52899.93706 52774.27223 52522.94257 52397.27774 52271.61291\n",
      "   52145.94808 52020.28325 51894.61841 51831.786   51706.12117\n",
      "   51706.12117 51643.28875 51643.28875 51580.45634 51580.45634\n",
      "   51517.62392 51517.62392 51517.62392 51454.79151 51454.79151\n",
      "   51454.79151 51391.95909 51266.29426 51203.46184 51014.9646\n",
      "   50952.13218 50826.46735 50700.80252 50700.80252 50637.97011\n",
      "   50575.13769 50449.47286 50386.64044 50386.64044 50323.80803\n",
      "   50260.97561 50198.1432  50135.31078 50135.31078 50135.31078\n",
      "   50072.47837 50072.47837 50009.64595 49946.81354 49883.98112\n",
      "   49695.48388 49381.3218  49129.99214 48878.66248 48752.99764\n",
      "   48564.5004  48376.00315 48187.50591 47936.17624 47810.51141\n",
      "   47496.34934 47245.01968 46742.36035 46491.03069 46239.70103\n",
      "   45925.53895 45611.37688 45360.04721 44983.05272 44731.72306\n",
      "   44417.56098 44103.39891 43789.23683 43098.08026 42783.91818\n",
      "   42406.92369 42029.9292  41590.10229 41150.27538 40710.44847\n",
      "   40270.62157 39893.62707 39516.63258 39076.80567 38448.48152\n",
      "   38008.65461 37694.49254 37380.33046 37066.16838 36940.50355\n",
      "   36814.83872 36249.34698 35683.85524 35621.02283 35306.86075\n",
      "   34804.20143 34552.87177 34175.87727 33861.7152  33547.55312\n",
      "   33233.39104 32919.22897 32605.06689 32353.73723 32039.57515\n",
      "   31725.41307 31097.08892 30782.92684 30531.59718 30280.26752\n",
      "   30091.77027 29903.27303 29777.6082  29651.94337 29526.27853\n",
      "   29400.6137  29274.94887 29023.61921 28897.95438 28835.12197\n",
      "   28646.62472 28520.95989 28395.29506 28332.46264 28143.9654\n",
      "   27955.46815 27829.80332 27704.13849 27389.97641 27264.31158\n",
      "   27075.81433 26887.31709 26761.65226 26698.81984 26573.15501\n",
      "   26510.3226  26321.82535 26196.16052 26133.3281  25881.99844\n",
      "   25756.33361 25630.66878 25505.00395 25505.00395 25379.33912\n",
      "   25253.67429 25128.00946 25002.34463 24876.6798  24751.01496\n",
      "   24499.6853  24374.02047 24248.35564 24122.69081 23997.02598\n",
      "   23871.36115 23745.69632 23682.8639  23557.19907 23431.53424\n",
      "   23431.53424 23305.86941 23180.20458 23180.20458 23180.20458\n",
      "   23054.53975 23054.53975 22928.87492 22866.0425  22803.21009\n",
      "   22677.54526 22677.54526 22551.88043 22551.88043 22426.2156\n",
      "   22426.2156  22363.38318 22300.55076 22174.88593 22174.88593\n",
      "   22112.05352 22049.2211  21923.55627 21797.89144 21797.89144\n",
      "   21672.22661 21546.56178 21483.72936 21358.06453 21295.23212\n",
      "   21232.3997  21106.73487 20981.07004 20981.07004 20792.57279\n",
      "   20792.57279 20792.57279 20729.74038 20666.90796 20666.90796\n",
      "   20604.07555 20604.07555 20541.24313 20478.41072 20478.41072\n",
      "   20415.5783  20352.74589 20289.91347 20289.91347 20164.24864\n",
      "   20164.24864 20101.41623 20038.58381 19912.91898 19912.91898\n",
      "   19912.91898 19787.25415 19724.42173 19661.58932 19661.58932\n",
      "   19661.58932 19661.58932 19598.7569  19535.92449 19535.92449\n",
      "   19473.09207 19473.09207 19410.25966 19347.42724 19347.42724\n",
      "   19284.59483 19221.76241 19158.92999 19158.92999 19096.09758\n",
      "   19033.26516 19033.26516 18907.60033 18781.9355  18781.9355\n",
      "   18719.10309 18656.27067 18593.43826 18530.60584 18530.60584\n",
      "   18530.60584 18404.94101 18404.94101 18279.27618 18216.44376\n",
      "   18153.61135 18153.61135 18027.94652 18027.94652 17902.28169\n",
      "   17902.28169 17776.61686 17650.95203 17588.11961 17462.45478\n",
      "   17336.78995 17211.12512 17148.2927  17022.62787 17022.62787\n",
      "   16896.96304]]]\n",
      "devils_v1.0\n",
      "\n",
      "**********\n",
      "Species\n",
      "**********\n",
      "\n",
      "Devils: 34615.70418\n",
      "E: 0\n",
      "I: 3461.5704180000002\n",
      "S: 31154.133762\n",
      "\n",
      "**********\n",
      "Parameters\n",
      "**********\n",
      "\n",
      "K: 61874.126205199995\n",
      "L: .75\n",
      "dI: 1.28\n",
      "ds: 0.22\n",
      "k0: 4\n",
      "r: 1\n",
      "\n",
      "**********\n",
      "Reactions\n",
      "**********\n",
      "\n",
      "birth\n",
      "\tProducts\n",
      "\t\tS: 1\n",
      "\t\tDevils: 1\n",
      "\tPropensity Function: ((r*((S+E)+I))*(1-(((S+E)+I)/K)))\n",
      "death_E\n",
      "\tReactants\n",
      "\t\tDevils: 1\n",
      "\t\tE: 1\n",
      "\tPropensity Function: (ds*E)\n",
      "death_I\n",
      "\tReactants\n",
      "\t\tI: 1\n",
      "\t\tDevils: 1\n",
      "\tPropensity Function: (dI*I)\n",
      "death_S\n",
      "\tReactants\n",
      "\t\tS: 1\n",
      "\t\tDevils: 1\n",
      "\tPropensity Function: (ds*S)\n",
      "latency\n",
      "\tReactants\n",
      "\t\tE: 1\n",
      "\tProducts\n",
      "\t\tI: 1\n",
      "\tPropensity Function: (E/L)\n",
      "transmission\n",
      "\tReactants\n",
      "\t\tS: 1\n",
      "\t\tI: 1\n",
      "\tProducts\n",
      "\t\tE: 1\n",
      "\t\tI: 1\n",
      "\tPropensity Function: (((k0*S)*I)/K)\n"
     ]
    }
   ],
   "source": [
    "import pandas as pd\n",
    "\n",
    "# pop_data = pd.read_csv('../year_data/devil_data_v2.csv')\n",
    "pop_data = pd.read_csv('../month_data/Devils_Dataset__Population_1985-2020.csv')\n",
    "\n",
    "devil_pop = np.array(pop_data['Population'].iloc[:].values)\n",
    "init_devils_pop = devil_pop[0]\n",
    "dftd_pop = .1*init_devils_pop\n",
    "\n",
    "model.listOfParameters['K'].expression = max(devil_pop)*1.16\n",
    "\n",
    "model.listOfSpecies['Devils'].initial_value = init_devils_pop\n",
    "model.listOfSpecies['I'].initial_value = dftd_pop  # This will be overwritten by variables later\n",
    "model.listOfSpecies['S'].initial_value = init_devils_pop - dftd_pop\n",
    "\n",
    "obs = np.vstack([devil_pop]).reshape(1, 1, -1)\n",
    "print(obs)\n",
    "print(model)"
   ]
  },
  {
   "cell_type": "code",
   "execution_count": 6,
   "metadata": {},
   "outputs": [
    {
     "data": {
      "text/plain": [
       "[<matplotlib.lines.Line2D at 0x7fdca9086790>]"
      ]
     },
     "execution_count": 6,
     "metadata": {},
     "output_type": "execute_result"
    },
    {
     "data": {
      "image/png": "[encoded data removed]",
      "text/plain": [
       "<Figure size 432x288 with 1 Axes>"
      ]
     },
     "metadata": {
      "needs_background": "light"
     },
     "output_type": "display_data"
    }
   ],
   "source": [
    "plt.plot(range(0,len(devil_pop)), devil_pop)"
   ]
  },
  {
   "cell_type": "markdown",
   "metadata": {},
   "source": [
    "## Configure Solver Widget"
   ]
  },
  {
   "cell_type": "code",
   "execution_count": 7,
   "metadata": {},
   "outputs": [],
   "source": [
    "# solver = ODECSolver(model, variable=True)\n",
    "solver = SSACSolver(model, variable=True)"
   ]
  },
  {
   "cell_type": "code",
   "execution_count": 40,
   "metadata": {},
   "outputs": [],
   "source": [
    "def f(L, k0, r, sTime, eTime, dI, ds):\n",
    "    title = 'Total Species for Time Range {0}-{1}'.format(sTime, eTime)\n",
    "    print('=================================')\n",
    "    print('| Time Range: {}-{}'.format(sTime, eTime))\n",
    "    print('| -------------------------------')\n",
    "    print('| Input Parameters:')\n",
    "    print('| \\tL: {}, k0: {}'.format(L, k0))\n",
    "    print('| \\tr: {}'.format(r))\n",
    "    print('| \\tds: {}'.format(ds))\n",
    "    print('| -------------------------------')\n",
    "#     print('| Initial Value of I: {}'.format(dfdt_pop[sTime]))\n",
    "#     print('| -------------------------------')\n",
    "#     print('| Ratio of dI:r:')\n",
    "#     print('| \\t{}:{}'.format(str(dI), str(r)))\n",
    "    print('=================================')\n",
    "    \n",
    "    print(sTime)\n",
    "    \n",
    "    print(devil_pop[sTime])\n",
    "    model.listOfSpecies['I'].initial_value = round(devil_pop[sTime]*.001)  # This will be overwritten by variables later\n",
    "    model.listOfSpecies['S'].initial_value = round(devil_pop[sTime]*.999)\n",
    "    \n",
    "#     # MAP TO NO INFECTION\n",
    "#     model.listOfSpecies['I'].initial_value = 0  # This will be overwritten by variables later\n",
    "#     model.listOfSpecies['S'].initial_value = round(devil_pop[sTime])\n",
    "    \n",
    "    model.listOfSpecies['Devils'].initial_value = round(devil_pop[sTime])\n",
    "    \n",
    "    results = solver.run(model=model, variables={'L':str(L), 'r':str(r), 'k0':str(k0), 'dI': str(dI), 'ds': str(ds)}, t=eTime-sTime, increment=1)\n",
    "#     print(results)\n",
    "#     if len(res) > 0:\n",
    "#         print('>0')\n",
    "#         results_list = []\n",
    "#         for i in range(0, len(res)):\n",
    "#             temp = gillespy2.Trajectory(data=res[i], model=model, solver_name=solver.name)\n",
    "#             results_list.append(temp)\n",
    "\n",
    "#         results = gillespy2.Results(results_list)\n",
    "\n",
    "#     print('RESULTS')\n",
    "#     print(results)\n",
    "    total_devils = np.add(np.add(results['I'], results['S']), results['E'])\n",
    "    print(model.listOfParameters['K'])\n",
    "#     print('I: ', results['I'], '\\nS: ', results['S'], '\\nE: ', results['E'], '\\ntotal: ', total_devils)\n",
    "\n",
    "    simulated_devils = plt.plot(range(sTime, eTime+1), total_devils, 'b', label='Simulated Total')\n",
    "    s_devils = plt.plot(range(sTime, eTime+1), results['S'], 'g', alpha=.3, label='Susceptible')\n",
    "    i_devils = plt.plot(range(sTime, eTime+1), results['I'], 'r', alpha=.3,label='Infected')\n",
    "    e_devils = plt.plot(range(sTime, eTime+1), results['E'], 'y', alpha=.3,label='Exposed')\n",
    "    expected_devils = plt.plot(range(sTime, eTime), devil_pop[sTime:eTime], '--b', label='Observed Total')\n",
    "#     print('Exposed')\n",
    "#     print(results['E'])\n",
    "    plt.xlabel('month')\n",
    "    plt.ylabel('population')\n",
    "    plt.legend(loc='best')\n",
    "    plt.title(title)\n",
    "    result_str = 'TOTAL Expected: {0} - Got: {1}'.format(devil_pop[eTime-1], total_devils[-1])\n",
    "\n",
    "    return result_str"
   ]
  },
  {
   "cell_type": "code",
   "execution_count": 43,
   "metadata": {
    "scrolled": false
   },
   "outputs": [],
   "source": [
    "# Create Widgets\n",
    "month = 12\n",
    "dL = widgets.FloatSlider(min=0, max=10/month, step=0.01, value=0.75/month)\n",
    "dk0 = widgets.FloatSlider(min=0, max=10/month, step=0.01, value=4/month)\n",
    "dds = widgets.FloatSlider(min=0, max=.05, step=.0001, value=.0038)\n",
    "ddI = widgets.FloatSlider(min=0, max=.1, step=.001, value=.02)\n",
    "# dInfection = widgets.FloatSlider(min=0, max=.1, step=.001, value=0.024)\n",
    "dr = widgets.FloatSlider(min=0, max=1/month, step=0.001, value=.029)\n",
    "dsTime = widgets.IntSlider(min=0, max=420, step=1, value=132)\n",
    "deTime = widgets.IntSlider(min=1, max=421, step=1, value=421)"
   ]
  },
  {
   "cell_type": "markdown",
   "metadata": {},
   "source": [
    "## Run the widget and attempt to calibrate model"
   ]
  },
  {
   "cell_type": "code",
   "execution_count": 44,
   "metadata": {
    "scrolled": false
   },
   "outputs": [
    {
     "data": {
      "application/vnd.jupyter.widget-view+json": {
       "model_id": "560e5c5ed50f4e8ebb3749af0b9b5719",
       "version_major": 2,
       "version_minor": 0
      },
      "text/plain": [
       "interactive(children=(FloatSlider(value=0.0625, description='L', max=0.8333333333333334, step=0.01), FloatSlid…"
      ]
     },
     "metadata": {},
     "output_type": "display_data"
    },
    {
     "data": {
      "text/plain": [
       "<function __main__.f(L, k0, r, sTime, eTime, dI, ds)>"
      ]
     },
     "execution_count": 44,
     "metadata": {},
     "output_type": "execute_result"
    }
   ],
   "source": [
    "# Run interactions\n",
    "interact(f, L=dL, k0=dk0, r=dr, sTime=dsTime, eTime=deTime, dI=ddI, ds=dds)"
   ]
  },
  {
   "cell_type": "code",
   "execution_count": null,
   "metadata": {},
   "outputs": [],
   "source": []
  }
 ],
 "metadata": {
  "@webio": {
   "lastCommId": null,
   "lastKernelId": null
  },
  "kernelspec": {
   "display_name": "Python 3",
   "language": "python",
   "name": "python3"
  },
  "language_info": {
   "codemirror_mode": {
    "name": "ipython",
    "version": 3
   },
   "file_extension": ".py",
   "mimetype": "text/x-python",
   "name": "python",
   "nbconvert_exporter": "python",
   "pygments_lexer": "ipython3",
   "version": "3.8.10"
  }
 },
 "nbformat": 4,
 "nbformat_minor": 4
}
