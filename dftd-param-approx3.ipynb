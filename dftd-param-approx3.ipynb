{
 "cells": [
  {
   "cell_type": "code",
   "execution_count": null,
   "id": "fancy-registrar",
   "metadata": {},
   "outputs": [],
   "source": [
    "import numpy as np\n",
    "import pandas as pd\n",
    "\n",
    "import sys\n",
    "sys.path.append('/home/smatthe2/GillesPy2')\n",
    "import gillespy2\n",
    "from gillespy2 import Model, Species, Parameter, Reaction, Event, \\\n",
    "                      EventTrigger, EventAssignment\n",
    "from gillespy2 import ODECSolver, ODESolver, SSACSolver\n",
    "\n",
    "import matplotlib.pyplot as plt\n",
    "\n",
    "from __future__ import print_function\n",
    "from ipywidgets import interact, interactive, fixed, interact_manual\n",
    "import ipywidgets as widgets"
   ]
  },
  {
   "cell_type": "markdown",
   "id": "entire-finnish",
   "metadata": {},
   "source": [
    "# devils Parameter Approximation\n",
    "\n",
    "This notebook is used to calibrate a initial values which approximately match the results given in Cunningham, Calum X., et al. \"Quantifying 25 years of disease‐caused declines in Tasmanian devil populations: host density drives spatial pathogen spread.\" Ecology Letters 24.5 (2021): 958-969. The objective of this notebook is to gain an \"eyeball approximation\" of reasonable starting values to serve as input for more sophisticated inferencing."
   ]
  },
  {
   "cell_type": "markdown",
   "id": "emerging-passage",
   "metadata": {},
   "source": [
    "## Read in observed data"
   ]
  },
  {
   "cell_type": "code",
   "execution_count": null,
   "id": "angry-translation",
   "metadata": {},
   "outputs": [],
   "source": [
    "# pop_data = pd.read_csv('../year_data/devil_data_v2.csv')\n",
    "pop_data = pd.read_csv('../month_data/Devils_Dataset__Population_1985-2020.csv')\n",
    "\n",
    "devil_pop = np.array(pop_data['Population'].iloc[:].values)\n",
    "\n",
    "obs = np.vstack([devil_pop]).reshape(1, 1, -1)\n",
    "print(obs)"
   ]
  },
  {
   "cell_type": "code",
   "execution_count": null,
   "id": "korean-locator",
   "metadata": {},
   "outputs": [],
   "source": [
    "plt.plot(range(0,len(devil_pop)), devil_pop)"
   ]
  },
  {
   "cell_type": "markdown",
   "id": "legitimate-carolina",
   "metadata": {},
   "source": [
    "## Model"
   ]
  },
  {
   "cell_type": "code",
   "execution_count": null,
   "id": "lasting-radical",
   "metadata": {},
   "outputs": [],
   "source": [
    "class Devilsv101(Model):\n",
    "    def __init__(self, parameter_values=None):\n",
    "        Model.__init__(self, name=\"devils_v1.0\")\n",
    "        self.volume = 1\n",
    "\n",
    "        # Parameters\n",
    "        self.add_parameter(Parameter(name=\"r\", expression=\"1\"))\n",
    "        self.add_parameter(Parameter(name=\"K\", expression=max(devil_pop)*1.16))\n",
    "        self.add_parameter(Parameter(name=\"ds\", expression=\"0.22\"))\n",
    "        self.add_parameter(Parameter(name=\"dI\", expression=\"1.28\"))\n",
    "        self.add_parameter(Parameter(name=\"L\", expression=\".75\"))\n",
    "        self.add_parameter(Parameter(name=\"k0\", expression=\"4\"))\n",
    "\n",
    "        # Variables (initial values adjusted to observed data)\n",
    "        self.add_species(Species(name=\"S\", initial_value=devil_pop[0], mode=\"discrete\"))\n",
    "        self.add_species(Species(name=\"E\", initial_value=0, mode=\"discrete\"))\n",
    "        self.add_species(Species(name=\"I\", initial_value=0, mode=\"discrete\"))\n",
    "        self.add_species(Species(name=\"Devils\", initial_value=devil_pop[0], mode=\"discrete\"))\n",
    "\n",
    "        # Reactions\n",
    "        self.add_reaction(Reaction(name=\"birth\", reactants={}, products={'S': 1, 'Devils': 1}, propensity_function=\"r*(S+E+I)*(1-(S+E+I)/K)\"))\n",
    "        self.add_reaction(Reaction(name=\"death_S\", reactants={'S': 1, 'Devils': 1}, products={}, propensity_function=\"ds*S\"))\n",
    "        self.add_reaction(Reaction(name=\"transmission\", reactants={'S': 1, 'I': 1}, products={'E': 1, 'I':1}, propensity_function=\"k0*S*I/K\"))\n",
    "        self.add_reaction(Reaction(name=\"death_E\", reactants={'Devils': 1, 'E': 1}, products={}, propensity_function=\"ds*E\"))\n",
    "        self.add_reaction(Reaction(name=\"latency\", reactants={'E': 1}, products={'I': 1}, propensity_function=\"E/L\"))\n",
    "        self.add_reaction(Reaction(name=\"death_I\", reactants={'I': 1, 'Devils': 1}, products={}, propensity_function=\"dI*I\"))\n",
    "\n",
    "        # Timespan\n",
    "        self.timespan(np.arange(0, 422, 1)) # month data tspan"
   ]
  },
  {
   "cell_type": "code",
   "execution_count": null,
   "id": "individual-marking",
   "metadata": {},
   "outputs": [],
   "source": [
    "model = Devilsv101()\n",
    "print(model)"
   ]
  },
  {
   "cell_type": "markdown",
   "id": "authorized-metro",
   "metadata": {},
   "source": [
    "## Configure Solver Widgets"
   ]
  },
  {
   "cell_type": "code",
   "execution_count": null,
   "id": "marine-cleaning",
   "metadata": {},
   "outputs": [],
   "source": [
    "solver = SSACSolver(model, variable=True)"
   ]
  },
  {
   "cell_type": "code",
   "execution_count": null,
   "id": "worldwide-appendix",
   "metadata": {},
   "outputs": [],
   "source": [
    "def plot(start, end, results, total_devils):\n",
    "    title = f'Total Species for Time Range {start}-{end}'\n",
    "    \n",
    "    simulated_devils = plt.plot(range(start, end+1), total_devils, 'b', label='Simulated Total')\n",
    "    s_devils = plt.plot(range(start, end+1), results['S'], 'g', alpha=.3, label='Susceptible')\n",
    "    i_devils = plt.plot(range(start, end+1), results['I'], 'r', alpha=.3, label='Infected')\n",
    "    e_devils = plt.plot(range(start, end+1), results['E'], 'y', alpha=.3, label='Exposed')\n",
    "    expected_devils = plt.plot(range(start, end), devil_pop[start:end], '--b', label='Observed Total')\n",
    "    plt.xlabel('month')\n",
    "    plt.ylabel('population')\n",
    "    plt.legend(loc='best')\n",
    "    plt.title(title)"
   ]
  },
  {
   "cell_type": "code",
   "execution_count": null,
   "id": "announced-labor",
   "metadata": {},
   "outputs": [],
   "source": [
    "def pre_infection(start, end, birth, s_death):\n",
    "    print('=================================')\n",
    "    print(f'| Time Range: {start}-{end}')\n",
    "    print('| -------------------------------')\n",
    "    print('| Input Parameters:')\n",
    "    print(f'| \\tr: {birth}')\n",
    "    print(f'| \\tds: {s_death}')\n",
    "    print('| -------------------------------')\n",
    "    print(f'| Initial Value of Devils: {round(devil_pop[start])}')\n",
    "    print('=================================')\n",
    "    \n",
    "    model.listOfSpecies['Devils'].initial_value = round(devil_pop[start])\n",
    "    variables = {\n",
    "        'r':str(birth),\n",
    "        'ds': str(s_death)\n",
    "    }\n",
    "    results = solver.run(model=model, variables=variables, t=end-start, increment=1)\n",
    "    \n",
    "    total_devils = np.add(np.add(results['I'], results['S']), results['E'])\n",
    "    \n",
    "    plot(start, end, results, total_devils)\n",
    "    \n",
    "    return 'TOTAL Expected: {0} - Got: {1}'.format(devil_pop[end-1], total_devils[-1])"
   ]
  },
  {
   "cell_type": "code",
   "execution_count": null,
   "id": "manual-binary",
   "metadata": {},
   "outputs": [],
   "source": [
    "def f(L, k0, r, sTime, eTime, dI, ds):\n",
    "    title = 'Total Species for Time Range {0}-{1}'.format(sTime, eTime)\n",
    "    print('=================================')\n",
    "    print('| Time Range: {}-{}'.format(sTime, eTime))\n",
    "    print('| -------------------------------')\n",
    "    print('| Input Parameters:')\n",
    "    print('| \\tL: {}, k0: {}'.format(L, k0))\n",
    "    print('| \\tr: {}'.format(r))\n",
    "    print('| \\tds: {}'.format(ds))\n",
    "    print('| -------------------------------')\n",
    "#     print('| Initial Value of I: {}'.format(dfdt_pop[sTime]))\n",
    "#     print('| -------------------------------')\n",
    "#     print('| Ratio of dI:r:')\n",
    "#     print('| \\t{}:{}'.format(str(dI), str(r)))\n",
    "    print('=================================')\n",
    "    \n",
    "    print(sTime)\n",
    "    \n",
    "    print(devil_pop[sTime])\n",
    "    model.listOfSpecies['I'].initial_value = round(devil_pop[sTime]*.001)  # This will be overwritten by variables later\n",
    "    model.listOfSpecies['S'].initial_value = round(devil_pop[sTime]*.999)\n",
    "    \n",
    "#     # MAP TO NO INFECTION\n",
    "#     model.listOfSpecies['I'].initial_value = 0  # This will be overwritten by variables later\n",
    "#     model.listOfSpecies['S'].initial_value = round(devil_pop[sTime])\n",
    "    \n",
    "    model.listOfSpecies['Devils'].initial_value = round(devil_pop[sTime])\n",
    "    \n",
    "    results = solver.run(model=model, variables={'L':str(L), 'r':str(r), 'k0':str(k0), 'dI': str(dI), 'ds': str(ds)}, t=eTime-sTime, increment=1)\n",
    "#     print(results)\n",
    "#     if len(res) > 0:\n",
    "#         print('>0')\n",
    "#         results_list = []\n",
    "#         for i in range(0, len(res)):\n",
    "#             temp = gillespy2.Trajectory(data=res[i], model=model, solver_name=solver.name)\n",
    "#             results_list.append(temp)\n",
    "\n",
    "#         results = gillespy2.Results(results_list)\n",
    "\n",
    "#     print('RESULTS')\n",
    "#     print(results)\n",
    "    total_devils = np.add(np.add(results['I'], results['S']), results['E'])\n",
    "    print(model.listOfParameters['K'])\n",
    "#     print('I: ', results['I'], '\\nS: ', results['S'], '\\nE: ', results['E'], '\\ntotal: ', total_devils)\n",
    "\n",
    "    simulated_devils = plt.plot(range(sTime, eTime+1), total_devils, 'b', label='Simulated Total')\n",
    "    s_devils = plt.plot(range(sTime, eTime+1), results['S'], 'g', alpha=.3, label='Susceptible')\n",
    "    i_devils = plt.plot(range(sTime, eTime+1), results['I'], 'r', alpha=.3,label='Infected')\n",
    "    e_devils = plt.plot(range(sTime, eTime+1), results['E'], 'y', alpha=.3,label='Exposed')\n",
    "    expected_devils = plt.plot(range(sTime, eTime), devil_pop[sTime:eTime], '--b', label='Observed Total')\n",
    "#     print('Exposed')\n",
    "#     print(results['E'])\n",
    "    plt.xlabel('month')\n",
    "    plt.ylabel('population')\n",
    "    plt.legend(loc='best')\n",
    "    plt.title(title)\n",
    "    result_str = 'TOTAL Expected: {0} - Got: {1}'.format(devil_pop[eTime-1], total_devils[-1])\n",
    "\n",
    "    return result_str"
   ]
  }
 ],
 "metadata": {
  "kernelspec": {
   "display_name": "Python 3",
   "language": "python",
   "name": "python3"
  },
  "language_info": {
   "codemirror_mode": {
    "name": "ipython",
    "version": 3
   },
   "file_extension": ".py",
   "mimetype": "text/x-python",
   "name": "python",
   "nbconvert_exporter": "python",
   "pygments_lexer": "ipython3",
   "version": "3.9.2"
  }
 },
 "nbformat": 4,
 "nbformat_minor": 5
}
