{
 "cells": [
  {
   "cell_type": "code",
   "execution_count": 1,
   "metadata": {},
   "outputs": [
    {
     "name": "stdout",
     "output_type": "stream",
     "text": [
      "Collecting git+git://github.com/StochSS/sciope.git@master\n",
      "  Cloning git://github.com/StochSS/sciope.git (to revision master) to /tmp/pip-req-build-29qugehx\n",
      "Requirement already satisfied (use --upgrade to upgrade): sciope==0.4 from git+git://github.com/StochSS/sciope.git@master in /opt/conda/lib/python3.8/site-packages\n",
      "Requirement already satisfied: numpy>=1.16.5 in /opt/conda/lib/python3.8/site-packages (from sciope==0.4) (1.21.2)\n",
      "Requirement already satisfied: scipy in /opt/conda/lib/python3.8/site-packages (from sciope==0.4) (1.7.1)\n",
      "Requirement already satisfied: scikit-learn in /opt/conda/lib/python3.8/site-packages (from sciope==0.4) (0.24.2)\n",
      "Requirement already satisfied: gillespy2 in /opt/conda/lib/python3.8/site-packages (from sciope==0.4) (1.6.3)\n",
      "Requirement already satisfied: tsfresh==0.15.0 in /opt/conda/lib/python3.8/site-packages (from sciope==0.4) (0.15.0)\n",
      "Requirement already satisfied: ipywidgets in /opt/conda/lib/python3.8/site-packages (from sciope==0.4) (7.6.4)\n",
      "Requirement already satisfied: dask in /opt/conda/lib/python3.8/site-packages (from sciope==0.4) (2021.9.0)\n",
      "Requirement already satisfied: distributed in /opt/conda/lib/python3.8/site-packages (from sciope==0.4) (2021.9.0)\n",
      "Requirement already satisfied: matplotlib in /opt/conda/lib/python3.8/site-packages (from sciope==0.4) (3.4.3)\n",
      "Requirement already satisfied: umap-learn in /opt/conda/lib/python3.8/site-packages (from sciope==0.4) (0.5.1)\n",
      "Requirement already satisfied: threadpoolctl>=2.0.0 in /opt/conda/lib/python3.8/site-packages (from scikit-learn->sciope==0.4) (2.2.0)\n",
      "Requirement already satisfied: joblib>=0.11 in /opt/conda/lib/python3.8/site-packages (from scikit-learn->sciope==0.4) (1.0.1)\n",
      "Requirement already satisfied: setuptools>=41.0.1 in /opt/conda/lib/python3.8/site-packages (from gillespy2->sciope==0.4) (49.6.0.post20200917)\n",
      "Requirement already satisfied: plotly>=4.1.0 in /opt/conda/lib/python3.8/site-packages (from gillespy2->sciope==0.4) (5.3.1)\n",
      "Requirement already satisfied: tqdm>=4.10.0 in /opt/conda/lib/python3.8/site-packages (from tsfresh==0.15.0->sciope==0.4) (4.49.0)\n",
      "Requirement already satisfied: pandas!=0.24.*,>=0.20.3 in /opt/conda/lib/python3.8/site-packages (from tsfresh==0.15.0->sciope==0.4) (1.3.2)\n",
      "Requirement already satisfied: statsmodels>=0.8.0 in /opt/conda/lib/python3.8/site-packages (from tsfresh==0.15.0->sciope==0.4) (0.12.2)\n",
      "Requirement already satisfied: requests>=2.9.1 in /opt/conda/lib/python3.8/site-packages (from tsfresh==0.15.0->sciope==0.4) (2.24.0)\n",
      "Requirement already satisfied: patsy>=0.4.1 in /opt/conda/lib/python3.8/site-packages (from tsfresh==0.15.0->sciope==0.4) (0.5.1)\n",
      "Requirement already satisfied: traitlets>=4.3.1 in /opt/conda/lib/python3.8/site-packages (from ipywidgets->sciope==0.4) (5.0.4)\n",
      "Requirement already satisfied: ipython>=4.0.0; python_version >= \"3.3\" in /opt/conda/lib/python3.8/site-packages (from ipywidgets->sciope==0.4) (7.18.1)\n",
      "Requirement already satisfied: jupyterlab-widgets>=1.0.0; python_version >= \"3.6\" in /opt/conda/lib/python3.8/site-packages (from ipywidgets->sciope==0.4) (1.0.1)\n",
      "Requirement already satisfied: nbformat>=4.2.0 in /opt/conda/lib/python3.8/site-packages (from ipywidgets->sciope==0.4) (5.0.7)\n",
      "Requirement already satisfied: ipykernel>=4.5.1 in /opt/conda/lib/python3.8/site-packages (from ipywidgets->sciope==0.4) (5.3.4)\n",
      "Requirement already satisfied: ipython-genutils~=0.2.0 in /opt/conda/lib/python3.8/site-packages (from ipywidgets->sciope==0.4) (0.2.0)\n",
      "Requirement already satisfied: widgetsnbextension~=3.5.0 in /opt/conda/lib/python3.8/site-packages (from ipywidgets->sciope==0.4) (3.5.1)\n",
      "Requirement already satisfied: packaging>=20.0 in /opt/conda/lib/python3.8/site-packages (from dask->sciope==0.4) (20.4)\n",
      "Requirement already satisfied: fsspec>=0.6.0 in /opt/conda/lib/python3.8/site-packages (from dask->sciope==0.4) (2021.8.1)\n",
      "Requirement already satisfied: cloudpickle>=1.1.1 in /opt/conda/lib/python3.8/site-packages (from dask->sciope==0.4) (1.6.0)\n",
      "Requirement already satisfied: toolz>=0.8.2 in /opt/conda/lib/python3.8/site-packages (from dask->sciope==0.4) (0.11.1)\n",
      "Requirement already satisfied: partd>=0.3.10 in /opt/conda/lib/python3.8/site-packages (from dask->sciope==0.4) (1.2.0)\n",
      "Requirement already satisfied: pyyaml in /opt/conda/lib/python3.8/site-packages (from dask->sciope==0.4) (5.4.1)\n",
      "Requirement already satisfied: tornado>=6.0.3; python_version >= \"3.8\" in /opt/conda/lib/python3.8/site-packages (from distributed->sciope==0.4) (6.0.4)\n",
      "Requirement already satisfied: tblib>=1.6.0 in /opt/conda/lib/python3.8/site-packages (from distributed->sciope==0.4) (1.7.0)\n",
      "Requirement already satisfied: click>=6.6 in /opt/conda/lib/python3.8/site-packages (from distributed->sciope==0.4) (8.0.1)\n",
      "Requirement already satisfied: sortedcontainers!=2.0.0,!=2.0.1 in /opt/conda/lib/python3.8/site-packages (from distributed->sciope==0.4) (2.4.0)\n",
      "Requirement already satisfied: jinja2 in /opt/conda/lib/python3.8/site-packages (from distributed->sciope==0.4) (2.11.2)\n",
      "Requirement already satisfied: zict>=0.1.3 in /opt/conda/lib/python3.8/site-packages (from distributed->sciope==0.4) (2.0.0)\n",
      "Requirement already satisfied: msgpack>=0.6.0 in /opt/conda/lib/python3.8/site-packages (from distributed->sciope==0.4) (1.0.2)\n",
      "Requirement already satisfied: psutil>=5.0 in /opt/conda/lib/python3.8/site-packages (from distributed->sciope==0.4) (5.8.0)\n",
      "Requirement already satisfied: pyparsing>=2.2.1 in /opt/conda/lib/python3.8/site-packages (from matplotlib->sciope==0.4) (2.4.7)\n",
      "Requirement already satisfied: cycler>=0.10 in /opt/conda/lib/python3.8/site-packages (from matplotlib->sciope==0.4) (0.10.0)\n",
      "Requirement already satisfied: pillow>=6.2.0 in /opt/conda/lib/python3.8/site-packages (from matplotlib->sciope==0.4) (8.3.2)\n",
      "Requirement already satisfied: kiwisolver>=1.0.1 in /opt/conda/lib/python3.8/site-packages (from matplotlib->sciope==0.4) (1.3.2)\n",
      "Requirement already satisfied: python-dateutil>=2.7 in /opt/conda/lib/python3.8/site-packages (from matplotlib->sciope==0.4) (2.8.1)\n",
      "Requirement already satisfied: pynndescent>=0.5 in /opt/conda/lib/python3.8/site-packages (from umap-learn->sciope==0.4) (0.5.4)\n",
      "Requirement already satisfied: numba>=0.49 in /opt/conda/lib/python3.8/site-packages (from umap-learn->sciope==0.4) (0.54.0)\n",
      "Requirement already satisfied: tenacity>=6.2.0 in /opt/conda/lib/python3.8/site-packages (from plotly>=4.1.0->gillespy2->sciope==0.4) (8.0.1)\n",
      "Requirement already satisfied: six in /opt/conda/lib/python3.8/site-packages (from plotly>=4.1.0->gillespy2->sciope==0.4) (1.15.0)\n",
      "Requirement already satisfied: pytz>=2017.3 in /opt/conda/lib/python3.8/site-packages (from pandas!=0.24.*,>=0.20.3->tsfresh==0.15.0->sciope==0.4) (2021.1)\n",
      "Requirement already satisfied: chardet<4,>=3.0.2 in /opt/conda/lib/python3.8/site-packages (from requests>=2.9.1->tsfresh==0.15.0->sciope==0.4) (3.0.4)\n",
      "Requirement already satisfied: idna<3,>=2.5 in /opt/conda/lib/python3.8/site-packages (from requests>=2.9.1->tsfresh==0.15.0->sciope==0.4) (2.10)\n",
      "Requirement already satisfied: certifi>=2017.4.17 in /opt/conda/lib/python3.8/site-packages (from requests>=2.9.1->tsfresh==0.15.0->sciope==0.4) (2020.6.20)\n",
      "Requirement already satisfied: urllib3!=1.25.0,!=1.25.1,<1.26,>=1.21.1 in /opt/conda/lib/python3.8/site-packages (from requests>=2.9.1->tsfresh==0.15.0->sciope==0.4) (1.25.10)\n",
      "Requirement already satisfied: prompt-toolkit!=3.0.0,!=3.0.1,<3.1.0,>=2.0.0 in /opt/conda/lib/python3.8/site-packages (from ipython>=4.0.0; python_version >= \"3.3\"->ipywidgets->sciope==0.4) (3.0.7)\n",
      "Requirement already satisfied: decorator in /opt/conda/lib/python3.8/site-packages (from ipython>=4.0.0; python_version >= \"3.3\"->ipywidgets->sciope==0.4) (4.4.2)\n",
      "Requirement already satisfied: jedi>=0.10 in /opt/conda/lib/python3.8/site-packages (from ipython>=4.0.0; python_version >= \"3.3\"->ipywidgets->sciope==0.4) (0.17.2)\n",
      "Requirement already satisfied: backcall in /opt/conda/lib/python3.8/site-packages (from ipython>=4.0.0; python_version >= \"3.3\"->ipywidgets->sciope==0.4) (0.2.0)\n",
      "Requirement already satisfied: pygments in /opt/conda/lib/python3.8/site-packages (from ipython>=4.0.0; python_version >= \"3.3\"->ipywidgets->sciope==0.4) (2.7.1)\n",
      "Requirement already satisfied: pexpect>4.3; sys_platform != \"win32\" in /opt/conda/lib/python3.8/site-packages (from ipython>=4.0.0; python_version >= \"3.3\"->ipywidgets->sciope==0.4) (4.8.0)\n",
      "Requirement already satisfied: pickleshare in /opt/conda/lib/python3.8/site-packages (from ipython>=4.0.0; python_version >= \"3.3\"->ipywidgets->sciope==0.4) (0.7.5)\n",
      "Requirement already satisfied: jsonschema!=2.5.0,>=2.4 in /opt/conda/lib/python3.8/site-packages (from nbformat>=4.2.0->ipywidgets->sciope==0.4) (3.2.0)\n",
      "Requirement already satisfied: jupyter-core in /opt/conda/lib/python3.8/site-packages (from nbformat>=4.2.0->ipywidgets->sciope==0.4) (4.6.3)\n",
      "Requirement already satisfied: jupyter-client in /opt/conda/lib/python3.8/site-packages (from ipykernel>=4.5.1->ipywidgets->sciope==0.4) (6.1.7)\n"
     ]
    },
    {
     "name": "stdout",
     "output_type": "stream",
     "text": [
      "Requirement already satisfied: notebook>=4.4.1 in /opt/conda/lib/python3.8/site-packages (from widgetsnbextension~=3.5.0->ipywidgets->sciope==0.4) (6.1.3)\n",
      "Requirement already satisfied: locket in /opt/conda/lib/python3.8/site-packages (from partd>=0.3.10->dask->sciope==0.4) (0.2.1)\n",
      "Requirement already satisfied: MarkupSafe>=0.23 in /opt/conda/lib/python3.8/site-packages (from jinja2->distributed->sciope==0.4) (1.1.1)\n",
      "Requirement already satisfied: heapdict in /opt/conda/lib/python3.8/site-packages (from zict>=0.1.3->distributed->sciope==0.4) (1.0.1)\n",
      "Requirement already satisfied: llvmlite>=0.30 in /opt/conda/lib/python3.8/site-packages (from pynndescent>=0.5->umap-learn->sciope==0.4) (0.37.0)\n",
      "Requirement already satisfied: wcwidth in /opt/conda/lib/python3.8/site-packages (from prompt-toolkit!=3.0.0,!=3.0.1,<3.1.0,>=2.0.0->ipython>=4.0.0; python_version >= \"3.3\"->ipywidgets->sciope==0.4) (0.2.5)\n",
      "Requirement already satisfied: parso<0.8.0,>=0.7.0 in /opt/conda/lib/python3.8/site-packages (from jedi>=0.10->ipython>=4.0.0; python_version >= \"3.3\"->ipywidgets->sciope==0.4) (0.7.1)\n",
      "Requirement already satisfied: ptyprocess>=0.5 in /opt/conda/lib/python3.8/site-packages (from pexpect>4.3; sys_platform != \"win32\"->ipython>=4.0.0; python_version >= \"3.3\"->ipywidgets->sciope==0.4) (0.6.0)\n",
      "Requirement already satisfied: pyrsistent>=0.14.0 in /opt/conda/lib/python3.8/site-packages (from jsonschema!=2.5.0,>=2.4->nbformat>=4.2.0->ipywidgets->sciope==0.4) (0.17.3)\n",
      "Requirement already satisfied: attrs>=17.4.0 in /opt/conda/lib/python3.8/site-packages (from jsonschema!=2.5.0,>=2.4->nbformat>=4.2.0->ipywidgets->sciope==0.4) (20.2.0)\n",
      "Requirement already satisfied: pyzmq>=13 in /opt/conda/lib/python3.8/site-packages (from jupyter-client->ipykernel>=4.5.1->ipywidgets->sciope==0.4) (19.0.2)\n",
      "Requirement already satisfied: argon2-cffi in /opt/conda/lib/python3.8/site-packages (from notebook>=4.4.1->widgetsnbextension~=3.5.0->ipywidgets->sciope==0.4) (20.1.0)\n",
      "Requirement already satisfied: terminado>=0.8.3 in /opt/conda/lib/python3.8/site-packages (from notebook>=4.4.1->widgetsnbextension~=3.5.0->ipywidgets->sciope==0.4) (0.8.3)\n",
      "Requirement already satisfied: nbconvert in /opt/conda/lib/python3.8/site-packages (from notebook>=4.4.1->widgetsnbextension~=3.5.0->ipywidgets->sciope==0.4) (6.0.3)\n",
      "Requirement already satisfied: Send2Trash in /opt/conda/lib/python3.8/site-packages (from notebook>=4.4.1->widgetsnbextension~=3.5.0->ipywidgets->sciope==0.4) (1.5.0)\n",
      "Requirement already satisfied: prometheus-client in /opt/conda/lib/python3.8/site-packages (from notebook>=4.4.1->widgetsnbextension~=3.5.0->ipywidgets->sciope==0.4) (0.8.0)\n",
      "Requirement already satisfied: cffi>=1.0.0 in /opt/conda/lib/python3.8/site-packages (from argon2-cffi->notebook>=4.4.1->widgetsnbextension~=3.5.0->ipywidgets->sciope==0.4) (1.14.3)\n",
      "Requirement already satisfied: nbclient<0.6.0,>=0.5.0 in /opt/conda/lib/python3.8/site-packages (from nbconvert->notebook>=4.4.1->widgetsnbextension~=3.5.0->ipywidgets->sciope==0.4) (0.5.0)\n",
      "Requirement already satisfied: bleach in /opt/conda/lib/python3.8/site-packages (from nbconvert->notebook>=4.4.1->widgetsnbextension~=3.5.0->ipywidgets->sciope==0.4) (3.2.1)\n",
      "Requirement already satisfied: testpath in /opt/conda/lib/python3.8/site-packages (from nbconvert->notebook>=4.4.1->widgetsnbextension~=3.5.0->ipywidgets->sciope==0.4) (0.4.4)\n",
      "Requirement already satisfied: pandocfilters>=1.4.1 in /opt/conda/lib/python3.8/site-packages (from nbconvert->notebook>=4.4.1->widgetsnbextension~=3.5.0->ipywidgets->sciope==0.4) (1.4.2)\n",
      "Requirement already satisfied: defusedxml in /opt/conda/lib/python3.8/site-packages (from nbconvert->notebook>=4.4.1->widgetsnbextension~=3.5.0->ipywidgets->sciope==0.4) (0.6.0)\n",
      "Requirement already satisfied: entrypoints>=0.2.2 in /opt/conda/lib/python3.8/site-packages (from nbconvert->notebook>=4.4.1->widgetsnbextension~=3.5.0->ipywidgets->sciope==0.4) (0.3)\n",
      "Requirement already satisfied: mistune<2,>=0.8.1 in /opt/conda/lib/python3.8/site-packages (from nbconvert->notebook>=4.4.1->widgetsnbextension~=3.5.0->ipywidgets->sciope==0.4) (0.8.4)\n",
      "Requirement already satisfied: jupyterlab-pygments in /opt/conda/lib/python3.8/site-packages (from nbconvert->notebook>=4.4.1->widgetsnbextension~=3.5.0->ipywidgets->sciope==0.4) (0.1.1)\n",
      "Requirement already satisfied: pycparser in /opt/conda/lib/python3.8/site-packages (from cffi>=1.0.0->argon2-cffi->notebook>=4.4.1->widgetsnbextension~=3.5.0->ipywidgets->sciope==0.4) (2.20)\n",
      "Requirement already satisfied: nest-asyncio in /opt/conda/lib/python3.8/site-packages (from nbclient<0.6.0,>=0.5.0->nbconvert->notebook>=4.4.1->widgetsnbextension~=3.5.0->ipywidgets->sciope==0.4) (1.4.0)\n",
      "Requirement already satisfied: async-generator in /opt/conda/lib/python3.8/site-packages (from nbclient<0.6.0,>=0.5.0->nbconvert->notebook>=4.4.1->widgetsnbextension~=3.5.0->ipywidgets->sciope==0.4) (1.10)\n",
      "Requirement already satisfied: webencodings in /opt/conda/lib/python3.8/site-packages (from bleach->nbconvert->notebook>=4.4.1->widgetsnbextension~=3.5.0->ipywidgets->sciope==0.4) (0.5.1)\n",
      "Building wheels for collected packages: sciope\n",
      "  Building wheel for sciope (setup.py) ... \u001b[?25ldone\n",
      "\u001b[?25h  Created wheel for sciope: filename=sciope-0.4-py3-none-any.whl size=89110 sha256=9bb43804337a9287fd39521d6c23afa88eae6aca8a14ae9059846a6f1136eeec\n",
      "  Stored in directory: /tmp/pip-ephem-wheel-cache-m7lzxjpw/wheels/4c/8a/1b/24dbc19bb62d6c1873cfb5b32facf15dc677dce8caa60a578b\n",
      "Successfully built sciope\n"
     ]
    }
   ],
   "source": [
    "!pip install git+git://github.com/StochSS/sciope.git@master\n",
    "import numpy as np\n",
    "import gillespy2\n",
    "from gillespy2 import Model, Species, Parameter, Reaction, Event, \\\n",
    "                      EventTrigger, EventAssignment\n",
    "from gillespy2 import ODECSolver, ODESolver\n",
    "\n",
    "import matplotlib.pyplot as plt"
   ]
  },
  {
   "cell_type": "markdown",
   "metadata": {},
   "source": [
    "# devils_v1.0\n",
    "- Need to validate timespan"
   ]
  },
  {
   "cell_type": "code",
   "execution_count": 2,
   "metadata": {},
   "outputs": [],
   "source": [
    "class Devilsv101(Model):\n",
    "    def __init__(self, parameter_values=None):\n",
    "        Model.__init__(self, name=\"devils_v1.0\")\n",
    "        self.volume = 1\n",
    "\n",
    "        # Parameters\n",
    "        self.add_parameter(Parameter(name=\"r\", expression=\"1\"))\n",
    "        self.add_parameter(Parameter(name=\"K\", expression=\"217\"))\n",
    "        self.add_parameter(Parameter(name=\"ds\", expression=\"0.22\"))\n",
    "        self.add_parameter(Parameter(name=\"dI\", expression=\"1.28\"))\n",
    "        self.add_parameter(Parameter(name=\"L\", expression=\".75\"))\n",
    "        # self.add_parameter(Parameter(name=\"sigma\", expression=\"0.5\"))\n",
    "        # self.add_parameter(Parameter(name=\"p\", expression=\"0.6\"))\n",
    "        self.add_parameter(Parameter(name=\"k0\", expression=\"4\"))\n",
    "        # self.add_parameter(Parameter(name=\"vf\", expression=\"1\"))\n",
    "        # self.add_parameter(Parameter(name=\"vt\", expression=\"0\"))\n",
    "\n",
    "        # Variables (initial values adjusted to observed data)\n",
    "        self.add_species(Species(name=\"S\", initial_value=0, mode=\"discrete\"))\n",
    "        self.add_species(Species(name=\"E\", initial_value=0, mode=\"discrete\"))\n",
    "        self.add_species(Species(name=\"I\", initial_value=0, mode=\"discrete\"))\n",
    "        # self.add_species(Species(name=\"W\", initial_value=0, mode=\"discrete\"))\n",
    "#         self.add_species(Species(name=\"R\", initial_value=0, mode=\"discrete\"))\n",
    "        self.add_species(Species(name=\"Devils\", initial_value=0, mode=\"discrete\"))\n",
    "\n",
    "        # Reactions\n",
    "        self.add_reaction(Reaction(name=\"birth\", reactants={}, products={'S': 1, 'Devils': 1}, propensity_function=\"r*(S+E+I)*(1-(S+E+I)/K)\"))\n",
    "#         self.add_reaction(Reaction(name=\"birth\", reactants={}, products={'S': 1}, propensity_function=\"r*S*(1-S/K)\"))\n",
    "#         self.add_reaction(Reaction(name=\"birth\", reactants={}, products={'S': 1}, rate=self.listOfParameters['r']))\n",
    "#         self.add_reaction(Reaction(name='infect', reactants={'S':1}, products={'I':1}, rate=self.listOfParameters['infection']))\n",
    "        self.add_reaction(Reaction(name=\"death_S\", reactants={'S': 1, 'Devils': 1}, products={}, propensity_function=\"ds*S\"))\n",
    "        self.add_reaction(Reaction(name=\"transmission\", reactants={'S': 1}, products={'E': 1}, propensity_function=\"k0*S*I/(S+E+I)\"))\n",
    "        self.add_reaction(Reaction(name=\"death_E\", reactants={'Devils': 1, 'E': 1}, products={}, propensity_function=\"ds*E\"))\n",
    "        self.add_reaction(Reaction(name=\"latency\", reactants={'E': 1}, products={'I': 1}, propensity_function=\"E/L\"))\n",
    "        # self.add_reaction(Reaction(name=\"vaccine_failure\", reactants={'W': 1}, products={'E': 1}, propensity_function=\"k0*sigma*W*I/(S+E+I+W+R)\"))\n",
    "        self.add_reaction(Reaction(name=\"death_I\", reactants={'I': 1, 'Devils': 1}, products={}, propensity_function=\"dI*I\"))\n",
    "        # self.add_reaction(Reaction(name=\"death_W\", reactants={'W': 1}, products={}, propensity_function=\"ds*W\"))\n",
    "#         self.add_reaction(Reaction(name=\"death_R\", reactants={'Devils': 1, 'R': 1}, products={}, propensity_function=\"ds*R\"))\n",
    "\n",
    "        # # Event Triggers\n",
    "        # vaccination_trig = EventTrigger(expression=\"t >= vt+vf\", initial_value=False, persistent=False)\n",
    "\n",
    "        # # Event Assignments\n",
    "        # vaccination_assign_1 = EventAssignment(variable=\"vt\", expression=\"vt+1\")\n",
    "        # vaccination_assign_2 = EventAssignment(variable=\"W\", expression=\"W+(S*p)\")\n",
    "        # vaccination_assign_3 = EventAssignment(variable=\"S\", expression=\"S*(1-p)\")\n",
    "\n",
    "        # # Events\n",
    "        # self.add_event(Event(name=\"vaccination\", trigger=vaccination_trig, assignments=[vaccination_assign_1, vaccination_assign_2, vaccination_assign_3], delay=None, priority=\"0\", use_values_from_trigger_time=True))\n",
    "\n",
    "        # Timespan\n",
    "        self.timespan(np.arange(0, 8, 1)) # month data tspan\n",
    "#         self.timespan(np.arange(0, 60, 1)) # month data tspan\n",
    "#         self.timespan(np.arange(0, 21, 1)) # year data tspan"
   ]
  },
  {
   "cell_type": "code",
   "execution_count": 3,
   "metadata": {},
   "outputs": [
    {
     "name": "stdout",
     "output_type": "stream",
     "text": [
      "8\n"
     ]
    }
   ],
   "source": [
    "model = Devilsv101()\n",
    "print(len(model.tspan))"
   ]
  },
  {
   "cell_type": "markdown",
   "metadata": {},
   "source": [
    "# Model Inference"
   ]
  },
  {
   "cell_type": "code",
   "execution_count": 4,
   "metadata": {},
   "outputs": [],
   "source": [
    "%load_ext autoreload\n",
    "%autoreload 2\n",
    "\n",
    "from tsfresh.feature_extraction.settings import MinimalFCParameters\n",
    "from sciope.utilities.priors import uniform_prior\n",
    "from sciope.utilities.summarystats import auto_tsfresh\n",
    "from sciope.utilities.distancefunctions import naive_squared\n",
    "from sciope.inference.abc_inference import ABC\n",
    "from sciope.inference.smc_abc import SMCABC\n",
    "from sklearn.metrics import mean_absolute_error\n",
    "import dask\n",
    "from dask.distributed import Client"
   ]
  },
  {
   "cell_type": "markdown",
   "metadata": {},
   "source": [
    "## Generate some fixed(observed) data based on default parameters of the model"
   ]
  },
  {
   "cell_type": "code",
   "execution_count": 5,
   "metadata": {
    "scrolled": true
   },
   "outputs": [
    {
     "name": "stdout",
     "output_type": "stream",
     "text": [
      "[[[113.17829457 131.39534884 145.34883721 143.02325581  96.51162791\n",
      "    65.50387597  51.9379845   48.0620155 ]]]\n"
     ]
    }
   ],
   "source": [
    "import pandas as pd\n",
    "\n",
    "# pop_data = pd.read_csv('../month_data/Devils_Dataset__Population_1985-2020.csv')\n",
    "pop_data = pd.read_csv('../year_data/devil_data_v2.csv')\n",
    "devil_pop = np.array(pop_data['Population'].iloc[:].values)\n",
    "init_devils_pop = devil_pop[0]\n",
    "dftd_pop = .1*init_devils_pop\n",
    "\n",
    "model.listOfSpecies['Devils'].initial_value = init_devils_pop\n",
    "# model.listOfParameters['K'].initial_value = init_devils_pop\n",
    "\n",
    "model.listOfSpecies['I'].initial_value = dftd_pop  # This will be overwritten by variables later\n",
    "model.listOfSpecies['S'].initial_value = init_devils_pop - dftd_pop\n",
    "\n",
    "# r_pop = init_devils_pop - init_dfdt_pop\n",
    "# init_e_pop = 0\n",
    "# init_s_pop = r_pop - init_e_pop\n",
    "# model.listOfSpecies['S'].initial_value = init_s_pop\n",
    "# model.listOfSpecies['E'].initial_value = init_e_pop\n",
    "\n",
    "obs = np.vstack([devil_pop]).reshape(1, 1, -1)\n",
    "print(obs)\n",
    "# print(obs)"
   ]
  },
  {
   "cell_type": "code",
   "execution_count": 6,
   "metadata": {},
   "outputs": [],
   "source": [
    "def configure_simulation():\n",
    "    solver = ODECSolver(model=model)\n",
    "    kwargs = {\n",
    "        \"solver\":solver,\n",
    "#         \"number_of_trajectories\":100,\n",
    "#         \"seed\":None,\n",
    "#         \"tau_tol\":0.03,\n",
    "#         \"integrator_options\":{'rtol': 0.001, 'atol': 1e-06}\n",
    "    }\n",
    "    return kwargs"
   ]
  },
  {
   "cell_type": "code",
   "execution_count": 7,
   "metadata": {},
   "outputs": [],
   "source": [
    "kwargs = configure_simulation()"
   ]
  },
  {
   "cell_type": "code",
   "execution_count": 8,
   "metadata": {},
   "outputs": [
    {
     "data": {
      "text/plain": [
       "[<matplotlib.lines.Line2D at 0x7fbaabd9c730>]"
      ]
     },
     "execution_count": 8,
     "metadata": {},
     "output_type": "execute_result"
    },
    {
     "data": {
      "image/png": "[encoded data removed]",
      "text/plain": [
       "<Figure size 432x288 with 1 Axes>"
      ]
     },
     "metadata": {
      "needs_background": "light"
     },
     "output_type": "display_data"
    }
   ],
   "source": [
    "plt.plot(model.tspan, devil_pop)\n",
    "# plt.plot(model.tspan, dfdt_pop)"
   ]
  },
  {
   "cell_type": "code",
   "execution_count": 9,
   "metadata": {},
   "outputs": [
    {
     "data": {
      "text/html": [
       "        <script type=\"text/javascript\">\n",
       "        window.PlotlyConfig = {MathJaxConfig: 'local'};\n",
       "        if (window.MathJax) {MathJax.Hub.Config({SVG: {font: \"STIX-Web\"}});}\n",
       "        if (typeof require !== 'undefined') {\n",
       "        require.undef(\"plotly\");\n",
       "        requirejs.config({\n",
       "            paths: {\n",
       "                'plotly': ['https://cdn.plot.ly/plotly-2.4.2.min']\n",
       "            }\n",
       "        });\n",
       "        require(['plotly'], function(Plotly) {\n",
       "            window._Plotly = Plotly;\n",
       "        });\n",
       "        }\n",
       "        </script>\n",
       "        "
      ]
     },
     "metadata": {},
     "output_type": "display_data"
    },
    {
     "data": {
      "application/vnd.plotly.v1+json": {
       "config": {
        "linkText": "Export to plot.ly",
        "plotlyServerURL": "https://plot.ly",
        "showLink": false
       },
       "data": [
        {
         "legendgroup": "Devils",
         "line": {
          "color": "#d62728"
         },
         "mode": "lines",
         "name": "Devils",
         "type": "scatter",
         "x": [
          0,
          1,
          2,
          3,
          4,
          5,
          6,
          7
         ],
         "y": [
          113.17829457364344,
          128.8572102039424,
          133.65703317080894,
          128.3925871385959,
          118.25281358884553,
          108.47695922167756,
          101.58378095676643,
          97.6256662133096
         ]
        }
       ],
       "layout": {
        "showlegend": true,
        "template": {
         "data": {
          "bar": [
           {
            "error_x": {
             "color": "#2a3f5f"
            },
            "error_y": {
             "color": "#2a3f5f"
            },
            "marker": {
             "line": {
              "color": "#E5ECF6",
              "width": 0.5
             },
             "pattern": {
              "fillmode": "overlay",
              "size": 10,
              "solidity": 0.2
             }
            },
            "type": "bar"
           }
          ],
          "barpolar": [
           {
            "marker": {
             "line": {
              "color": "#E5ECF6",
              "width": 0.5
             },
             "pattern": {
              "fillmode": "overlay",
              "size": 10,
              "solidity": 0.2
             }
            },
            "type": "barpolar"
           }
          ],
          "carpet": [
           {
            "aaxis": {
             "endlinecolor": "#2a3f5f",
             "gridcolor": "white",
             "linecolor": "white",
             "minorgridcolor": "white",
             "startlinecolor": "#2a3f5f"
            },
            "baxis": {
             "endlinecolor": "#2a3f5f",
             "gridcolor": "white",
             "linecolor": "white",
             "minorgridcolor": "white",
             "startlinecolor": "#2a3f5f"
            },
            "type": "carpet"
           }
          ],
          "choropleth": [
           {
            "colorbar": {
             "outlinewidth": 0,
             "ticks": ""
            },
            "type": "choropleth"
           }
          ],
          "contour": [
           {
            "colorbar": {
             "outlinewidth": 0,
             "ticks": ""
            },
            "colorscale": [
             [
              0,
              "#0d0887"
             ],
             [
              0.1111111111111111,
              "#46039f"
             ],
             [
              0.2222222222222222,
              "#7201a8"
             ],
             [
              0.3333333333333333,
              "#9c179e"
             ],
             [
              0.4444444444444444,
              "#bd3786"
             ],
             [
              0.5555555555555556,
              "#d8576b"
             ],
             [
              0.6666666666666666,
              "#ed7953"
             ],
             [
              0.7777777777777778,
              "#fb9f3a"
             ],
             [
              0.8888888888888888,
              "#fdca26"
             ],
             [
              1,
              "#f0f921"
             ]
            ],
            "type": "contour"
           }
          ],
          "contourcarpet": [
           {
            "colorbar": {
             "outlinewidth": 0,
             "ticks": ""
            },
            "type": "contourcarpet"
           }
          ],
          "heatmap": [
           {
            "colorbar": {
             "outlinewidth": 0,
             "ticks": ""
            },
            "colorscale": [
             [
              0,
              "#0d0887"
             ],
             [
              0.1111111111111111,
              "#46039f"
             ],
             [
              0.2222222222222222,
              "#7201a8"
             ],
             [
              0.3333333333333333,
              "#9c179e"
             ],
             [
              0.4444444444444444,
              "#bd3786"
             ],
             [
              0.5555555555555556,
              "#d8576b"
             ],
             [
              0.6666666666666666,
              "#ed7953"
             ],
             [
              0.7777777777777778,
              "#fb9f3a"
             ],
             [
              0.8888888888888888,
              "#fdca26"
             ],
             [
              1,
              "#f0f921"
             ]
            ],
            "type": "heatmap"
           }
          ],
          "heatmapgl": [
           {
            "colorbar": {
             "outlinewidth": 0,
             "ticks": ""
            },
            "colorscale": [
             [
              0,
              "#0d0887"
             ],
             [
              0.1111111111111111,
              "#46039f"
             ],
             [
              0.2222222222222222,
              "#7201a8"
             ],
             [
              0.3333333333333333,
              "#9c179e"
             ],
             [
              0.4444444444444444,
              "#bd3786"
             ],
             [
              0.5555555555555556,
              "#d8576b"
             ],
             [
              0.6666666666666666,
              "#ed7953"
             ],
             [
              0.7777777777777778,
              "#fb9f3a"
             ],
             [
              0.8888888888888888,
              "#fdca26"
             ],
             [
              1,
              "#f0f921"
             ]
            ],
            "type": "heatmapgl"
           }
          ],
          "histogram": [
           {
            "marker": {
             "pattern": {
              "fillmode": "overlay",
              "size": 10,
              "solidity": 0.2
             }
            },
            "type": "histogram"
           }
          ],
          "histogram2d": [
           {
            "colorbar": {
             "outlinewidth": 0,
             "ticks": ""
            },
            "colorscale": [
             [
              0,
              "#0d0887"
             ],
             [
              0.1111111111111111,
              "#46039f"
             ],
             [
              0.2222222222222222,
              "#7201a8"
             ],
             [
              0.3333333333333333,
              "#9c179e"
             ],
             [
              0.4444444444444444,
              "#bd3786"
             ],
             [
              0.5555555555555556,
              "#d8576b"
             ],
             [
              0.6666666666666666,
              "#ed7953"
             ],
             [
              0.7777777777777778,
              "#fb9f3a"
             ],
             [
              0.8888888888888888,
              "#fdca26"
             ],
             [
              1,
              "#f0f921"
             ]
            ],
            "type": "histogram2d"
           }
          ],
          "histogram2dcontour": [
           {
            "colorbar": {
             "outlinewidth": 0,
             "ticks": ""
            },
            "colorscale": [
             [
              0,
              "#0d0887"
             ],
             [
              0.1111111111111111,
              "#46039f"
             ],
             [
              0.2222222222222222,
              "#7201a8"
             ],
             [
              0.3333333333333333,
              "#9c179e"
             ],
             [
              0.4444444444444444,
              "#bd3786"
             ],
             [
              0.5555555555555556,
              "#d8576b"
             ],
             [
              0.6666666666666666,
              "#ed7953"
             ],
             [
              0.7777777777777778,
              "#fb9f3a"
             ],
             [
              0.8888888888888888,
              "#fdca26"
             ],
             [
              1,
              "#f0f921"
             ]
            ],
            "type": "histogram2dcontour"
           }
          ],
          "mesh3d": [
           {
            "colorbar": {
             "outlinewidth": 0,
             "ticks": ""
            },
            "type": "mesh3d"
           }
          ],
          "parcoords": [
           {
            "line": {
             "colorbar": {
              "outlinewidth": 0,
              "ticks": ""
             }
            },
            "type": "parcoords"
           }
          ],
          "pie": [
           {
            "automargin": true,
            "type": "pie"
           }
          ],
          "scatter": [
           {
            "marker": {
             "colorbar": {
              "outlinewidth": 0,
              "ticks": ""
             }
            },
            "type": "scatter"
           }
          ],
          "scatter3d": [
           {
            "line": {
             "colorbar": {
              "outlinewidth": 0,
              "ticks": ""
             }
            },
            "marker": {
             "colorbar": {
              "outlinewidth": 0,
              "ticks": ""
             }
            },
            "type": "scatter3d"
           }
          ],
          "scattercarpet": [
           {
            "marker": {
             "colorbar": {
              "outlinewidth": 0,
              "ticks": ""
             }
            },
            "type": "scattercarpet"
           }
          ],
          "scattergeo": [
           {
            "marker": {
             "colorbar": {
              "outlinewidth": 0,
              "ticks": ""
             }
            },
            "type": "scattergeo"
           }
          ],
          "scattergl": [
           {
            "marker": {
             "colorbar": {
              "outlinewidth": 0,
              "ticks": ""
             }
            },
            "type": "scattergl"
           }
          ],
          "scattermapbox": [
           {
            "marker": {
             "colorbar": {
              "outlinewidth": 0,
              "ticks": ""
             }
            },
            "type": "scattermapbox"
           }
          ],
          "scatterpolar": [
           {
            "marker": {
             "colorbar": {
              "outlinewidth": 0,
              "ticks": ""
             }
            },
            "type": "scatterpolar"
           }
          ],
          "scatterpolargl": [
           {
            "marker": {
             "colorbar": {
              "outlinewidth": 0,
              "ticks": ""
             }
            },
            "type": "scatterpolargl"
           }
          ],
          "scatterternary": [
           {
            "marker": {
             "colorbar": {
              "outlinewidth": 0,
              "ticks": ""
             }
            },
            "type": "scatterternary"
           }
          ],
          "surface": [
           {
            "colorbar": {
             "outlinewidth": 0,
             "ticks": ""
            },
            "colorscale": [
             [
              0,
              "#0d0887"
             ],
             [
              0.1111111111111111,
              "#46039f"
             ],
             [
              0.2222222222222222,
              "#7201a8"
             ],
             [
              0.3333333333333333,
              "#9c179e"
             ],
             [
              0.4444444444444444,
              "#bd3786"
             ],
             [
              0.5555555555555556,
              "#d8576b"
             ],
             [
              0.6666666666666666,
              "#ed7953"
             ],
             [
              0.7777777777777778,
              "#fb9f3a"
             ],
             [
              0.8888888888888888,
              "#fdca26"
             ],
             [
              1,
              "#f0f921"
             ]
            ],
            "type": "surface"
           }
          ],
          "table": [
           {
            "cells": {
             "fill": {
              "color": "#EBF0F8"
             },
             "line": {
              "color": "white"
             }
            },
            "header": {
             "fill": {
              "color": "#C8D4E3"
             },
             "line": {
              "color": "white"
             }
            },
            "type": "table"
           }
          ]
         },
         "layout": {
          "annotationdefaults": {
           "arrowcolor": "#2a3f5f",
           "arrowhead": 0,
           "arrowwidth": 1
          },
          "autotypenumbers": "strict",
          "coloraxis": {
           "colorbar": {
            "outlinewidth": 0,
            "ticks": ""
           }
          },
          "colorscale": {
           "diverging": [
            [
             0,
             "#8e0152"
            ],
            [
             0.1,
             "#c51b7d"
            ],
            [
             0.2,
             "#de77ae"
            ],
            [
             0.3,
             "#f1b6da"
            ],
            [
             0.4,
             "#fde0ef"
            ],
            [
             0.5,
             "#f7f7f7"
            ],
            [
             0.6,
             "#e6f5d0"
            ],
            [
             0.7,
             "#b8e186"
            ],
            [
             0.8,
             "#7fbc41"
            ],
            [
             0.9,
             "#4d9221"
            ],
            [
             1,
             "#276419"
            ]
           ],
           "sequential": [
            [
             0,
             "#0d0887"
            ],
            [
             0.1111111111111111,
             "#46039f"
            ],
            [
             0.2222222222222222,
             "#7201a8"
            ],
            [
             0.3333333333333333,
             "#9c179e"
            ],
            [
             0.4444444444444444,
             "#bd3786"
            ],
            [
             0.5555555555555556,
             "#d8576b"
            ],
            [
             0.6666666666666666,
             "#ed7953"
            ],
            [
             0.7777777777777778,
             "#fb9f3a"
            ],
            [
             0.8888888888888888,
             "#fdca26"
            ],
            [
             1,
             "#f0f921"
            ]
           ],
           "sequentialminus": [
            [
             0,
             "#0d0887"
            ],
            [
             0.1111111111111111,
             "#46039f"
            ],
            [
             0.2222222222222222,
             "#7201a8"
            ],
            [
             0.3333333333333333,
             "#9c179e"
            ],
            [
             0.4444444444444444,
             "#bd3786"
            ],
            [
             0.5555555555555556,
             "#d8576b"
            ],
            [
             0.6666666666666666,
             "#ed7953"
            ],
            [
             0.7777777777777778,
             "#fb9f3a"
            ],
            [
             0.8888888888888888,
             "#fdca26"
            ],
            [
             1,
             "#f0f921"
            ]
           ]
          },
          "colorway": [
           "#636efa",
           "#EF553B",
           "#00cc96",
           "#ab63fa",
           "#FFA15A",
           "#19d3f3",
           "#FF6692",
           "#B6E880",
           "#FF97FF",
           "#FECB52"
          ],
          "font": {
           "color": "#2a3f5f"
          },
          "geo": {
           "bgcolor": "white",
           "lakecolor": "white",
           "landcolor": "#E5ECF6",
           "showlakes": true,
           "showland": true,
           "subunitcolor": "white"
          },
          "hoverlabel": {
           "align": "left"
          },
          "hovermode": "closest",
          "mapbox": {
           "style": "light"
          },
          "paper_bgcolor": "white",
          "plot_bgcolor": "#E5ECF6",
          "polar": {
           "angularaxis": {
            "gridcolor": "white",
            "linecolor": "white",
            "ticks": ""
           },
           "bgcolor": "#E5ECF6",
           "radialaxis": {
            "gridcolor": "white",
            "linecolor": "white",
            "ticks": ""
           }
          },
          "scene": {
           "xaxis": {
            "backgroundcolor": "#E5ECF6",
            "gridcolor": "white",
            "gridwidth": 2,
            "linecolor": "white",
            "showbackground": true,
            "ticks": "",
            "zerolinecolor": "white"
           },
           "yaxis": {
            "backgroundcolor": "#E5ECF6",
            "gridcolor": "white",
            "gridwidth": 2,
            "linecolor": "white",
            "showbackground": true,
            "ticks": "",
            "zerolinecolor": "white"
           },
           "zaxis": {
            "backgroundcolor": "#E5ECF6",
            "gridcolor": "white",
            "gridwidth": 2,
            "linecolor": "white",
            "showbackground": true,
            "ticks": "",
            "zerolinecolor": "white"
           }
          },
          "shapedefaults": {
           "line": {
            "color": "#2a3f5f"
           }
          },
          "ternary": {
           "aaxis": {
            "gridcolor": "white",
            "linecolor": "white",
            "ticks": ""
           },
           "baxis": {
            "gridcolor": "white",
            "linecolor": "white",
            "ticks": ""
           },
           "bgcolor": "#E5ECF6",
           "caxis": {
            "gridcolor": "white",
            "linecolor": "white",
            "ticks": ""
           }
          },
          "title": {
           "x": 0.05
          },
          "xaxis": {
           "automargin": true,
           "gridcolor": "white",
           "linecolor": "white",
           "ticks": "",
           "title": {
            "standoff": 15
           },
           "zerolinecolor": "white",
           "zerolinewidth": 2
          },
          "yaxis": {
           "automargin": true,
           "gridcolor": "white",
           "linecolor": "white",
           "ticks": "",
           "title": {
            "standoff": 15
           },
           "zerolinecolor": "white",
           "zerolinewidth": 2
          }
         }
        },
        "title": {
         "text": ""
        },
        "xaxis": {
         "title": {
          "text": "Time"
         }
        },
        "yaxis": {
         "title": {
          "text": "Value"
         }
        }
       }
      },
      "text/html": [
       "<div>                            <div id=\"e7ce504c-5473-4ff6-ad00-d1f0deceafa0\" class=\"plotly-graph-div\" style=\"height:525px; width:100%;\"></div>            <script type=\"text/javascript\">                require([\"plotly\"], function(Plotly) {                    window.PLOTLYENV=window.PLOTLYENV || {};                                    if (document.getElementById(\"e7ce504c-5473-4ff6-ad00-d1f0deceafa0\")) {                    Plotly.newPlot(                        \"e7ce504c-5473-4ff6-ad00-d1f0deceafa0\",                        [{\"legendgroup\":\"Devils\",\"line\":{\"color\":\"#d62728\"},\"mode\":\"lines\",\"name\":\"Devils\",\"type\":\"scatter\",\"x\":[0.0,1.0,2.0,3.0,4.0,5.0,6.0,7.0],\"y\":[113.17829457364344,128.8572102039424,133.65703317080894,128.3925871385959,118.25281358884553,108.47695922167756,101.58378095676643,97.6256662133096]}],                        {\"showlegend\":true,\"template\":{\"data\":{\"bar\":[{\"error_x\":{\"color\":\"#2a3f5f\"},\"error_y\":{\"color\":\"#2a3f5f\"},\"marker\":{\"line\":{\"color\":\"#E5ECF6\",\"width\":0.5},\"pattern\":{\"fillmode\":\"overlay\",\"size\":10,\"solidity\":0.2}},\"type\":\"bar\"}],\"barpolar\":[{\"marker\":{\"line\":{\"color\":\"#E5ECF6\",\"width\":0.5},\"pattern\":{\"fillmode\":\"overlay\",\"size\":10,\"solidity\":0.2}},\"type\":\"barpolar\"}],\"carpet\":[{\"aaxis\":{\"endlinecolor\":\"#2a3f5f\",\"gridcolor\":\"white\",\"linecolor\":\"white\",\"minorgridcolor\":\"white\",\"startlinecolor\":\"#2a3f5f\"},\"baxis\":{\"endlinecolor\":\"#2a3f5f\",\"gridcolor\":\"white\",\"linecolor\":\"white\",\"minorgridcolor\":\"white\",\"startlinecolor\":\"#2a3f5f\"},\"type\":\"carpet\"}],\"choropleth\":[{\"colorbar\":{\"outlinewidth\":0,\"ticks\":\"\"},\"type\":\"choropleth\"}],\"contour\":[{\"colorbar\":{\"outlinewidth\":0,\"ticks\":\"\"},\"colorscale\":[[0.0,\"#0d0887\"],[0.1111111111111111,\"#46039f\"],[0.2222222222222222,\"#7201a8\"],[0.3333333333333333,\"#9c179e\"],[0.4444444444444444,\"#bd3786\"],[0.5555555555555556,\"#d8576b\"],[0.6666666666666666,\"#ed7953\"],[0.7777777777777778,\"#fb9f3a\"],[0.8888888888888888,\"#fdca26\"],[1.0,\"#f0f921\"]],\"type\":\"contour\"}],\"contourcarpet\":[{\"colorbar\":{\"outlinewidth\":0,\"ticks\":\"\"},\"type\":\"contourcarpet\"}],\"heatmap\":[{\"colorbar\":{\"outlinewidth\":0,\"ticks\":\"\"},\"colorscale\":[[0.0,\"#0d0887\"],[0.1111111111111111,\"#46039f\"],[0.2222222222222222,\"#7201a8\"],[0.3333333333333333,\"#9c179e\"],[0.4444444444444444,\"#bd3786\"],[0.5555555555555556,\"#d8576b\"],[0.6666666666666666,\"#ed7953\"],[0.7777777777777778,\"#fb9f3a\"],[0.8888888888888888,\"#fdca26\"],[1.0,\"#f0f921\"]],\"type\":\"heatmap\"}],\"heatmapgl\":[{\"colorbar\":{\"outlinewidth\":0,\"ticks\":\"\"},\"colorscale\":[[0.0,\"#0d0887\"],[0.1111111111111111,\"#46039f\"],[0.2222222222222222,\"#7201a8\"],[0.3333333333333333,\"#9c179e\"],[0.4444444444444444,\"#bd3786\"],[0.5555555555555556,\"#d8576b\"],[0.6666666666666666,\"#ed7953\"],[0.7777777777777778,\"#fb9f3a\"],[0.8888888888888888,\"#fdca26\"],[1.0,\"#f0f921\"]],\"type\":\"heatmapgl\"}],\"histogram\":[{\"marker\":{\"pattern\":{\"fillmode\":\"overlay\",\"size\":10,\"solidity\":0.2}},\"type\":\"histogram\"}],\"histogram2d\":[{\"colorbar\":{\"outlinewidth\":0,\"ticks\":\"\"},\"colorscale\":[[0.0,\"#0d0887\"],[0.1111111111111111,\"#46039f\"],[0.2222222222222222,\"#7201a8\"],[0.3333333333333333,\"#9c179e\"],[0.4444444444444444,\"#bd3786\"],[0.5555555555555556,\"#d8576b\"],[0.6666666666666666,\"#ed7953\"],[0.7777777777777778,\"#fb9f3a\"],[0.8888888888888888,\"#fdca26\"],[1.0,\"#f0f921\"]],\"type\":\"histogram2d\"}],\"histogram2dcontour\":[{\"colorbar\":{\"outlinewidth\":0,\"ticks\":\"\"},\"colorscale\":[[0.0,\"#0d0887\"],[0.1111111111111111,\"#46039f\"],[0.2222222222222222,\"#7201a8\"],[0.3333333333333333,\"#9c179e\"],[0.4444444444444444,\"#bd3786\"],[0.5555555555555556,\"#d8576b\"],[0.6666666666666666,\"#ed7953\"],[0.7777777777777778,\"#fb9f3a\"],[0.8888888888888888,\"#fdca26\"],[1.0,\"#f0f921\"]],\"type\":\"histogram2dcontour\"}],\"mesh3d\":[{\"colorbar\":{\"outlinewidth\":0,\"ticks\":\"\"},\"type\":\"mesh3d\"}],\"parcoords\":[{\"line\":{\"colorbar\":{\"outlinewidth\":0,\"ticks\":\"\"}},\"type\":\"parcoords\"}],\"pie\":[{\"automargin\":true,\"type\":\"pie\"}],\"scatter\":[{\"marker\":{\"colorbar\":{\"outlinewidth\":0,\"ticks\":\"\"}},\"type\":\"scatter\"}],\"scatter3d\":[{\"line\":{\"colorbar\":{\"outlinewidth\":0,\"ticks\":\"\"}},\"marker\":{\"colorbar\":{\"outlinewidth\":0,\"ticks\":\"\"}},\"type\":\"scatter3d\"}],\"scattercarpet\":[{\"marker\":{\"colorbar\":{\"outlinewidth\":0,\"ticks\":\"\"}},\"type\":\"scattercarpet\"}],\"scattergeo\":[{\"marker\":{\"colorbar\":{\"outlinewidth\":0,\"ticks\":\"\"}},\"type\":\"scattergeo\"}],\"scattergl\":[{\"marker\":{\"colorbar\":{\"outlinewidth\":0,\"ticks\":\"\"}},\"type\":\"scattergl\"}],\"scattermapbox\":[{\"marker\":{\"colorbar\":{\"outlinewidth\":0,\"ticks\":\"\"}},\"type\":\"scattermapbox\"}],\"scatterpolar\":[{\"marker\":{\"colorbar\":{\"outlinewidth\":0,\"ticks\":\"\"}},\"type\":\"scatterpolar\"}],\"scatterpolargl\":[{\"marker\":{\"colorbar\":{\"outlinewidth\":0,\"ticks\":\"\"}},\"type\":\"scatterpolargl\"}],\"scatterternary\":[{\"marker\":{\"colorbar\":{\"outlinewidth\":0,\"ticks\":\"\"}},\"type\":\"scatterternary\"}],\"surface\":[{\"colorbar\":{\"outlinewidth\":0,\"ticks\":\"\"},\"colorscale\":[[0.0,\"#0d0887\"],[0.1111111111111111,\"#46039f\"],[0.2222222222222222,\"#7201a8\"],[0.3333333333333333,\"#9c179e\"],[0.4444444444444444,\"#bd3786\"],[0.5555555555555556,\"#d8576b\"],[0.6666666666666666,\"#ed7953\"],[0.7777777777777778,\"#fb9f3a\"],[0.8888888888888888,\"#fdca26\"],[1.0,\"#f0f921\"]],\"type\":\"surface\"}],\"table\":[{\"cells\":{\"fill\":{\"color\":\"#EBF0F8\"},\"line\":{\"color\":\"white\"}},\"header\":{\"fill\":{\"color\":\"#C8D4E3\"},\"line\":{\"color\":\"white\"}},\"type\":\"table\"}]},\"layout\":{\"annotationdefaults\":{\"arrowcolor\":\"#2a3f5f\",\"arrowhead\":0,\"arrowwidth\":1},\"autotypenumbers\":\"strict\",\"coloraxis\":{\"colorbar\":{\"outlinewidth\":0,\"ticks\":\"\"}},\"colorscale\":{\"diverging\":[[0,\"#8e0152\"],[0.1,\"#c51b7d\"],[0.2,\"#de77ae\"],[0.3,\"#f1b6da\"],[0.4,\"#fde0ef\"],[0.5,\"#f7f7f7\"],[0.6,\"#e6f5d0\"],[0.7,\"#b8e186\"],[0.8,\"#7fbc41\"],[0.9,\"#4d9221\"],[1,\"#276419\"]],\"sequential\":[[0.0,\"#0d0887\"],[0.1111111111111111,\"#46039f\"],[0.2222222222222222,\"#7201a8\"],[0.3333333333333333,\"#9c179e\"],[0.4444444444444444,\"#bd3786\"],[0.5555555555555556,\"#d8576b\"],[0.6666666666666666,\"#ed7953\"],[0.7777777777777778,\"#fb9f3a\"],[0.8888888888888888,\"#fdca26\"],[1.0,\"#f0f921\"]],\"sequentialminus\":[[0.0,\"#0d0887\"],[0.1111111111111111,\"#46039f\"],[0.2222222222222222,\"#7201a8\"],[0.3333333333333333,\"#9c179e\"],[0.4444444444444444,\"#bd3786\"],[0.5555555555555556,\"#d8576b\"],[0.6666666666666666,\"#ed7953\"],[0.7777777777777778,\"#fb9f3a\"],[0.8888888888888888,\"#fdca26\"],[1.0,\"#f0f921\"]]},\"colorway\":[\"#636efa\",\"#EF553B\",\"#00cc96\",\"#ab63fa\",\"#FFA15A\",\"#19d3f3\",\"#FF6692\",\"#B6E880\",\"#FF97FF\",\"#FECB52\"],\"font\":{\"color\":\"#2a3f5f\"},\"geo\":{\"bgcolor\":\"white\",\"lakecolor\":\"white\",\"landcolor\":\"#E5ECF6\",\"showlakes\":true,\"showland\":true,\"subunitcolor\":\"white\"},\"hoverlabel\":{\"align\":\"left\"},\"hovermode\":\"closest\",\"mapbox\":{\"style\":\"light\"},\"paper_bgcolor\":\"white\",\"plot_bgcolor\":\"#E5ECF6\",\"polar\":{\"angularaxis\":{\"gridcolor\":\"white\",\"linecolor\":\"white\",\"ticks\":\"\"},\"bgcolor\":\"#E5ECF6\",\"radialaxis\":{\"gridcolor\":\"white\",\"linecolor\":\"white\",\"ticks\":\"\"}},\"scene\":{\"xaxis\":{\"backgroundcolor\":\"#E5ECF6\",\"gridcolor\":\"white\",\"gridwidth\":2,\"linecolor\":\"white\",\"showbackground\":true,\"ticks\":\"\",\"zerolinecolor\":\"white\"},\"yaxis\":{\"backgroundcolor\":\"#E5ECF6\",\"gridcolor\":\"white\",\"gridwidth\":2,\"linecolor\":\"white\",\"showbackground\":true,\"ticks\":\"\",\"zerolinecolor\":\"white\"},\"zaxis\":{\"backgroundcolor\":\"#E5ECF6\",\"gridcolor\":\"white\",\"gridwidth\":2,\"linecolor\":\"white\",\"showbackground\":true,\"ticks\":\"\",\"zerolinecolor\":\"white\"}},\"shapedefaults\":{\"line\":{\"color\":\"#2a3f5f\"}},\"ternary\":{\"aaxis\":{\"gridcolor\":\"white\",\"linecolor\":\"white\",\"ticks\":\"\"},\"baxis\":{\"gridcolor\":\"white\",\"linecolor\":\"white\",\"ticks\":\"\"},\"bgcolor\":\"#E5ECF6\",\"caxis\":{\"gridcolor\":\"white\",\"linecolor\":\"white\",\"ticks\":\"\"}},\"title\":{\"x\":0.05},\"xaxis\":{\"automargin\":true,\"gridcolor\":\"white\",\"linecolor\":\"white\",\"ticks\":\"\",\"title\":{\"standoff\":15},\"zerolinecolor\":\"white\",\"zerolinewidth\":2},\"yaxis\":{\"automargin\":true,\"gridcolor\":\"white\",\"linecolor\":\"white\",\"ticks\":\"\",\"title\":{\"standoff\":15},\"zerolinecolor\":\"white\",\"zerolinewidth\":2}}},\"title\":{\"text\":\"\"},\"xaxis\":{\"title\":{\"text\":\"Time\"}},\"yaxis\":{\"title\":{\"text\":\"Value\"}}},                        {\"responsive\": true}                    ).then(function(){\n",
       "                            \n",
       "var gd = document.getElementById('e7ce504c-5473-4ff6-ad00-d1f0deceafa0');\n",
       "var x = new MutationObserver(function (mutations, observer) {{\n",
       "        var display = window.getComputedStyle(gd).display;\n",
       "        if (!display || display === 'none') {{\n",
       "            console.log([gd, 'removed!']);\n",
       "            Plotly.purge(gd);\n",
       "            observer.disconnect();\n",
       "        }}\n",
       "}});\n",
       "\n",
       "// Listen for the removal of the full notebook cells\n",
       "var notebookContainer = gd.closest('#notebook-container');\n",
       "if (notebookContainer) {{\n",
       "    x.observe(notebookContainer, {childList: true});\n",
       "}}\n",
       "\n",
       "// Listen for the clearing of the current output cell\n",
       "var outputEl = gd.closest('.output');\n",
       "if (outputEl) {{\n",
       "    x.observe(outputEl, {childList: true});\n",
       "}}\n",
       "\n",
       "                        })                };                });            </script>        </div>"
      ]
     },
     "metadata": {},
     "output_type": "display_data"
    }
   ],
   "source": [
    "results = model.run(solver=ODESolver)\n",
    "results.plotplotly(included_species_list=['Devils'])"
   ]
  },
  {
   "cell_type": "markdown",
   "metadata": {},
   "source": [
    "## Define prior distribution"
   ]
  },
  {
   "cell_type": "code",
   "execution_count": 10,
   "metadata": {},
   "outputs": [
    {
     "name": "stdout",
     "output_type": "stream",
     "text": [
      "[<gillespy2.core.parameter.Parameter object at 0x7fbae46a30d0>\n",
      " <gillespy2.core.parameter.Parameter object at 0x7fbab52c8430>\n",
      " <gillespy2.core.parameter.Parameter object at 0x7fbab52c8580>\n",
      " <gillespy2.core.parameter.Parameter object at 0x7fbab52c84f0>\n",
      " <gillespy2.core.parameter.Parameter object at 0x7fbab52c8520>\n",
      " <gillespy2.core.parameter.Parameter object at 0x7fbab52c8400>]\n",
      "['r', 'K', 'ds', 'dI', 'L', 'k0']\n",
      "[1.0, 217.0, 0.22, 1.28, 0.75, 4.0]\n",
      "[ 0.          0.53798974 -0.15141277  0.02468601 -0.02876821  0.13862944]\n",
      "[  0.          53.79897354 -15.14127733   2.46860078  -2.87682072\n",
      "  13.86294361]\n"
     ]
    }
   ],
   "source": [
    "# take default from mode 1 as reference\n",
    "default_param = np.array(list(model.listOfParameters.items()))[:, 1]\n",
    "\n",
    "print(default_param)\n",
    "\n",
    "parameter_names = []\n",
    "bound = []\n",
    "for exp in default_param:\n",
    "    bound.append(float(exp.expression))\n",
    "    parameter_names.append(exp.name)\n",
    "\n",
    "print(parameter_names)\n",
    "print(bound)\n",
    "bound = np.log(bound)\n",
    "# Set the bounds\n",
    "bound = np.array(bound)\n",
    "dmin = bound * 0.1\n",
    "dmax = bound * 10.0\n",
    "\n",
    "print(dmin)\n",
    "print(dmax)\n",
    "# Here we use uniform prior\n",
    "uni_prior = uniform_prior.UniformPrior(dmin, dmax)"
   ]
  },
  {
   "cell_type": "code",
   "execution_count": 11,
   "metadata": {},
   "outputs": [],
   "source": [
    "# parameter_names = ['r',    'K',   'L',   'k0']\n",
    "# lower_bounds =    [.002,   45000, .003,  .06]\n",
    "# upper_bounds =    [.04,    75000, .04,   .7]\n",
    "# uni_prior = uniform_prior.UniformPrior(np.array(lower_bounds), np.array(upper_bounds))"
   ]
  },
  {
   "cell_type": "markdown",
   "metadata": {},
   "source": [
    "## Define simulator"
   ]
  },
  {
   "cell_type": "code",
   "execution_count": 12,
   "metadata": {},
   "outputs": [],
   "source": [
    "def set_model_parameters(params, model):\n",
    "    # params - array, need to have the same order as model.listOfParameters\n",
    "    for e, pname in enumerate(model.listOfParameters.keys()):\n",
    "        model.get_parameter(pname).set_expression(params[e])\n",
    "    return model\n",
    "\n",
    "# Here we use the GillesPy2 Solver\n",
    "def simulator(params, model):\n",
    "    print('testing params:\\n', params)\n",
    "    params = np.exp(params)\n",
    "    model_update = set_model_parameters(params, model)\n",
    "\n",
    "    res = model_update.run(**kwargs)\n",
    "#     res = res.to_array()\n",
    "#     tot_res = np.asarray([x.T for x in res]) # reshape to (N, S, T)\n",
    "#     # should not contain timepoints\n",
    "#     tot_res = tot_res[:, 1:, :]\n",
    "    devils = res['Devils']\n",
    "#     infected = res['I']\n",
    "\n",
    "    return np.vstack([devils]).reshape(1, 1, -1)\n",
    "#     return tot_res\n",
    "\n",
    "# Wrapper, simulator function to abc should should only take one argument (the parameter point)\n",
    "def simulator2(x):\n",
    "    return simulator(x, model=model)"
   ]
  },
  {
   "cell_type": "markdown",
   "metadata": {},
   "source": [
    "## Define summary statistics and distance function"
   ]
  },
  {
   "cell_type": "code",
   "execution_count": 13,
   "metadata": {},
   "outputs": [],
   "source": [
    "# Function to generate summary statistics\n",
    "summ_func = auto_tsfresh.SummariesTSFRESH()\n",
    "\n",
    "# Distance\n",
    "ns = naive_squared.NaiveSquaredDistance()"
   ]
  },
  {
   "cell_type": "markdown",
   "metadata": {},
   "source": [
    "## Start local cluster using dask client"
   ]
  },
  {
   "cell_type": "code",
   "execution_count": 14,
   "metadata": {
    "scrolled": true
   },
   "outputs": [],
   "source": [
    "c = Client()"
   ]
  },
  {
   "cell_type": "markdown",
   "metadata": {},
   "source": [
    "## Start abc instance"
   ]
  },
  {
   "cell_type": "code",
   "execution_count": 15,
   "metadata": {},
   "outputs": [],
   "source": [
    "abc = SMCABC(obs,\n",
    "                          sim=simulator2,\n",
    "                          prior_function=uni_prior,\n",
    "                          summaries_function=summ_func.compute,\n",
    "#                           distance_function=ns\n",
    "                         )\n",
    "# abc.compute_fixed_mean(1)"
   ]
  },
  {
   "cell_type": "code",
   "execution_count": 16,
   "metadata": {},
   "outputs": [],
   "source": [
    "# First compute the fixed(observed) mean\n",
    "# abc.compute_fixed_mean(chunk_size=2)"
   ]
  },
  {
   "cell_type": "code",
   "execution_count": 17,
   "metadata": {
    "scrolled": true
   },
   "outputs": [
    {
     "name": "stdout",
     "output_type": "stream",
     "text": [
      "<Client: 'tcp://127.0.0.1:40841' processes=2 threads=2, memory=4.00 GiB>\n",
      "Determining initial population using 20\n",
      "Starting epsilon = 689.6558169225507\n"
     ]
    }
   ],
   "source": [
    "with dask.config.set(schedular=\"processes\", workers=20):\n",
    "    print(c)\n",
    "    res = abc.infer(num_samples=100, batch_size=10, chunk_size=2)"
   ]
  },
  {
   "cell_type": "code",
   "execution_count": 18,
   "metadata": {},
   "outputs": [
    {
     "data": {
      "text/plain": [
       "{'accepted_samples': [array([ 0.        , 34.09465305, -1.90573627,  1.00305407, -0.05943626,\n",
       "         10.66278411]),\n",
       "  array([  0.        ,  31.39938057, -14.12331088,   1.54780417,\n",
       "          -1.57171536,   8.54705491]),\n",
       "  array([  0.        ,   2.87668151, -12.71408433,   1.58396861,\n",
       "          -1.6196825 ,   0.7923992 ]),\n",
       "  array([  0.        ,   6.71447046, -10.78255972,   2.26252448,\n",
       "          -2.49478621,   0.5061301 ]),\n",
       "  array([ 0.        , 40.86100135, -5.59195856,  0.66671019, -0.07417319,\n",
       "         12.15940252]),\n",
       "  array([  0.        ,  35.26909523, -10.3420454 ,   0.18879039,\n",
       "          -2.2999538 ,  13.70900083]),\n",
       "  array([  0.        ,   6.48819271, -14.03447931,   0.2019456 ,\n",
       "          -1.57994505,   8.07905457]),\n",
       "  array([  0.        ,   5.5740344 , -13.8296228 ,   0.84616342,\n",
       "          -1.09289135,   7.69183732]),\n",
       "  array([ 0.        , 28.35631071, -1.52080555,  0.61893584, -1.7826224 ,\n",
       "          0.55104197]),\n",
       "  array([ 0.        , 13.59809301, -9.64625484,  1.31776247, -2.86504172,\n",
       "          1.64711065]),\n",
       "  array([ 0.        , 40.86100135, -5.59195856,  0.66671019, -0.07417319,\n",
       "         12.15940252]),\n",
       "  array([  0.        ,  35.26909523, -10.3420454 ,   0.18879039,\n",
       "          -2.2999538 ,  13.70900083]),\n",
       "  array([  0.        ,   6.48819271, -14.03447931,   0.2019456 ,\n",
       "          -1.57994505,   8.07905457]),\n",
       "  array([  0.        ,   5.5740344 , -13.8296228 ,   0.84616342,\n",
       "          -1.09289135,   7.69183732]),\n",
       "  array([ 0.        , 34.09465305, -1.90573627,  1.00305407, -0.05943626,\n",
       "         10.66278411]),\n",
       "  array([  0.        ,  31.39938057, -14.12331088,   1.54780417,\n",
       "          -1.57171536,   8.54705491]),\n",
       "  array([  0.        ,   2.87668151, -12.71408433,   1.58396861,\n",
       "          -1.6196825 ,   0.7923992 ]),\n",
       "  array([  0.        ,   6.71447046, -10.78255972,   2.26252448,\n",
       "          -2.49478621,   0.5061301 ]),\n",
       "  array([ 0.        , 28.35631071, -1.52080555,  0.61893584, -1.7826224 ,\n",
       "          0.55104197]),\n",
       "  array([ 0.        , 13.59809301, -9.64625484,  1.31776247, -2.86504172,\n",
       "          1.64711065]),\n",
       "  array([  0.        ,  15.35115162, -14.24590984,   0.40720934,\n",
       "          -1.5573224 ,  10.98831773]),\n",
       "  array([ 0.        ,  3.0019412 , -1.39684498,  0.62195579, -2.84162618,\n",
       "          9.93170142]),\n",
       "  array([ 0.        , 20.76551866, -3.6562106 ,  1.45692474, -2.66878161,\n",
       "          4.73176182]),\n",
       "  array([ 0.        ,  5.08891783, -2.17763954,  0.83040601, -0.40754115,\n",
       "          9.03533949]),\n",
       "  array([ 0.        , 17.70502343, -4.16838257,  0.08057913, -2.46442458,\n",
       "         11.86736801]),\n",
       "  array([  0.        ,  22.14381154, -10.16608754,   0.86024651,\n",
       "          -0.85872843,  10.05573179]),\n",
       "  array([ 0.        ,  7.19143245, -6.209642  ,  0.71581718, -1.46187642,\n",
       "          0.16657913]),\n",
       "  array([  0.        ,  52.90948521, -13.845966  ,   0.13725852,\n",
       "          -0.98128427,  12.57368134]),\n",
       "  array([ 0.        , 38.68601156, -4.38568674,  2.17702691, -1.71638475,\n",
       "         12.99013926]),\n",
       "  array([ 0.        , 35.61327321, -9.95997781,  0.83024894, -2.31895274,\n",
       "          7.02246083]),\n",
       "  array([  0.        ,   6.48819271, -14.03447931,   0.2019456 ,\n",
       "          -1.57994505,   8.07905457]),\n",
       "  array([  0.        ,   5.5740344 , -13.8296228 ,   0.84616342,\n",
       "          -1.09289135,   7.69183732]),\n",
       "  array([ 0.        , 40.86100135, -5.59195856,  0.66671019, -0.07417319,\n",
       "         12.15940252]),\n",
       "  array([  0.        ,  35.26909523, -10.3420454 ,   0.18879039,\n",
       "          -2.2999538 ,  13.70900083]),\n",
       "  array([ 0.        , 34.09465305, -1.90573627,  1.00305407, -0.05943626,\n",
       "         10.66278411]),\n",
       "  array([  0.        ,  31.39938057, -14.12331088,   1.54780417,\n",
       "          -1.57171536,   8.54705491]),\n",
       "  array([  0.        ,   2.87668151, -12.71408433,   1.58396861,\n",
       "          -1.6196825 ,   0.7923992 ]),\n",
       "  array([  0.        ,   6.71447046, -10.78255972,   2.26252448,\n",
       "          -2.49478621,   0.5061301 ]),\n",
       "  array([ 0.        , 28.35631071, -1.52080555,  0.61893584, -1.7826224 ,\n",
       "          0.55104197]),\n",
       "  array([ 0.        , 13.59809301, -9.64625484,  1.31776247, -2.86504172,\n",
       "          1.64711065]),\n",
       "  array([ 0.        , 17.70502343, -4.16838257,  0.08057913, -2.46442458,\n",
       "         11.86736801]),\n",
       "  array([  0.        ,  22.14381154, -10.16608754,   0.86024651,\n",
       "          -0.85872843,  10.05573179]),\n",
       "  array([  0.        ,  15.35115162, -14.24590984,   0.40720934,\n",
       "          -1.5573224 ,  10.98831773]),\n",
       "  array([ 0.        ,  3.0019412 , -1.39684498,  0.62195579, -2.84162618,\n",
       "          9.93170142]),\n",
       "  array([ 0.        , 20.76551866, -3.6562106 ,  1.45692474, -2.66878161,\n",
       "          4.73176182]),\n",
       "  array([ 0.        ,  5.08891783, -2.17763954,  0.83040601, -0.40754115,\n",
       "          9.03533949]),\n",
       "  array([ 0.        , 38.68601156, -4.38568674,  2.17702691, -1.71638475,\n",
       "         12.99013926]),\n",
       "  array([ 0.        , 35.61327321, -9.95997781,  0.83024894, -2.31895274,\n",
       "          7.02246083]),\n",
       "  array([ 0.        ,  7.19143245, -6.209642  ,  0.71581718, -1.46187642,\n",
       "          0.16657913]),\n",
       "  array([  0.        ,  52.90948521, -13.845966  ,   0.13725852,\n",
       "          -0.98128427,  12.57368134]),\n",
       "  array([ 0.        , 27.59137105, -0.35438692,  0.42582619, -2.31979072,\n",
       "          1.41490751]),\n",
       "  array([  0.        ,  10.45807189, -11.49207634,   1.52313429,\n",
       "          -1.48165709,   3.08177742]),\n",
       "  array([ 0.        , 38.86550597, -1.91101047,  1.9940441 , -1.65637971,\n",
       "          4.20505891]),\n",
       "  array([ 0.        , 26.36804351, -0.37906193,  1.37034921, -2.45477595,\n",
       "          8.36567284]),\n",
       "  array([ 0.        , 16.62450464, -8.83282879,  0.19049518, -0.47790768,\n",
       "          7.58560162]),\n",
       "  array([  0.        ,  49.31746389, -14.851658  ,   1.4744479 ,\n",
       "          -1.26271299,   1.54990889]),\n",
       "  array([ 0.        , 45.07372825, -3.92268548,  0.91769354, -1.40453272,\n",
       "          7.53139741]),\n",
       "  array([  0.        ,   7.50474577, -13.39721826,   0.21974223,\n",
       "          -0.15704383,  12.93884414]),\n",
       "  array([  0.        ,  16.51656468, -10.17497707,   1.83038115,\n",
       "          -1.78525367,   7.34455084]),\n",
       "  array([ 0.        , 24.06861713, -5.72886625,  0.31297479, -2.33098609,\n",
       "         13.24934812]),\n",
       "  array([  0.        ,  49.59755671, -11.39252225,   1.59500628,\n",
       "          -0.44040132,   7.04594106]),\n",
       "  array([ 0.        , 37.55086651, -1.55554725,  1.44643602, -1.1154717 ,\n",
       "          7.22578125]),\n",
       "  array([ 0.        , 24.83472602, -6.88089367,  0.16570786, -2.64378852,\n",
       "          4.82339368]),\n",
       "  array([  0.        ,  22.91032756, -11.43001606,   0.77943715,\n",
       "          -2.6864987 ,   4.10214551]),\n",
       "  array([ 0.        ,  2.38616621, -2.35866904,  0.20163267, -0.70460071,\n",
       "          0.54961898]),\n",
       "  array([ 0.        , 22.86070902, -3.96419338,  0.69111914, -1.16148499,\n",
       "          0.51468038]),\n",
       "  array([ 0.        , 30.97908289, -6.28389807,  1.60830856, -2.12673405,\n",
       "          2.53953345]),\n",
       "  array([ 0.        , 16.43141952, -6.91331164,  0.07723566, -0.82031136,\n",
       "          1.89853527]),\n",
       "  array([ 0.        , 38.21503846, -8.83398681,  1.13754662, -0.93934656,\n",
       "          1.00859899]),\n",
       "  array([  0.        ,  46.77207343, -10.89222733,   1.01886558,\n",
       "          -1.6186261 ,   1.3306409 ]),\n",
       "  array([ 0.        , 40.86100135, -5.59195856,  0.66671019, -0.07417319,\n",
       "         12.15940252]),\n",
       "  array([  0.        ,  35.26909523, -10.3420454 ,   0.18879039,\n",
       "          -2.2999538 ,  13.70900083]),\n",
       "  array([  0.        ,   6.48819271, -14.03447931,   0.2019456 ,\n",
       "          -1.57994505,   8.07905457]),\n",
       "  array([  0.        ,   5.5740344 , -13.8296228 ,   0.84616342,\n",
       "          -1.09289135,   7.69183732]),\n",
       "  array([ 0.        , 34.09465305, -1.90573627,  1.00305407, -0.05943626,\n",
       "         10.66278411]),\n",
       "  array([  0.        ,  31.39938057, -14.12331088,   1.54780417,\n",
       "          -1.57171536,   8.54705491]),\n",
       "  array([  0.        ,   2.87668151, -12.71408433,   1.58396861,\n",
       "          -1.6196825 ,   0.7923992 ]),\n",
       "  array([  0.        ,   6.71447046, -10.78255972,   2.26252448,\n",
       "          -2.49478621,   0.5061301 ]),\n",
       "  array([ 0.        , 28.35631071, -1.52080555,  0.61893584, -1.7826224 ,\n",
       "          0.55104197]),\n",
       "  array([ 0.        , 13.59809301, -9.64625484,  1.31776247, -2.86504172,\n",
       "          1.64711065]),\n",
       "  array([ 0.        , 17.70502343, -4.16838257,  0.08057913, -2.46442458,\n",
       "         11.86736801]),\n",
       "  array([  0.        ,  22.14381154, -10.16608754,   0.86024651,\n",
       "          -0.85872843,  10.05573179]),\n",
       "  array([  0.        ,  15.35115162, -14.24590984,   0.40720934,\n",
       "          -1.5573224 ,  10.98831773]),\n",
       "  array([ 0.        ,  3.0019412 , -1.39684498,  0.62195579, -2.84162618,\n",
       "          9.93170142]),\n",
       "  array([ 0.        , 20.76551866, -3.6562106 ,  1.45692474, -2.66878161,\n",
       "          4.73176182]),\n",
       "  array([ 0.        ,  5.08891783, -2.17763954,  0.83040601, -0.40754115,\n",
       "          9.03533949]),\n",
       "  array([ 0.        , 38.68601156, -4.38568674,  2.17702691, -1.71638475,\n",
       "         12.99013926]),\n",
       "  array([ 0.        , 35.61327321, -9.95997781,  0.83024894, -2.31895274,\n",
       "          7.02246083]),\n",
       "  array([ 0.        ,  7.19143245, -6.209642  ,  0.71581718, -1.46187642,\n",
       "          0.16657913]),\n",
       "  array([  0.        ,  52.90948521, -13.845966  ,   0.13725852,\n",
       "          -0.98128427,  12.57368134]),\n",
       "  array([  0.        ,  49.59755671, -11.39252225,   1.59500628,\n",
       "          -0.44040132,   7.04594106]),\n",
       "  array([ 0.        , 37.55086651, -1.55554725,  1.44643602, -1.1154717 ,\n",
       "          7.22578125]),\n",
       "  array([ 0.        , 24.83472602, -6.88089367,  0.16570786, -2.64378852,\n",
       "          4.82339368]),\n",
       "  array([  0.        ,  22.91032756, -11.43001606,   0.77943715,\n",
       "          -2.6864987 ,   4.10214551]),\n",
       "  array([ 0.        , 38.86550597, -1.91101047,  1.9940441 , -1.65637971,\n",
       "          4.20505891]),\n",
       "  array([ 0.        , 26.36804351, -0.37906193,  1.37034921, -2.45477595,\n",
       "          8.36567284]),\n",
       "  array([ 0.        , 38.21503846, -8.83398681,  1.13754662, -0.93934656,\n",
       "          1.00859899]),\n",
       "  array([  0.        ,  46.77207343, -10.89222733,   1.01886558,\n",
       "          -1.6186261 ,   1.3306409 ]),\n",
       "  array([ 0.        , 16.62450464, -8.83282879,  0.19049518, -0.47790768,\n",
       "          7.58560162]),\n",
       "  array([  0.        ,  49.31746389, -14.851658  ,   1.4744479 ,\n",
       "          -1.26271299,   1.54990889])],\n",
       " 'distances': [1262.214023955537,\n",
       "  1262.214023955537,\n",
       "  1262.214023955537,\n",
       "  1262.214023955537,\n",
       "  330043.85903711343,\n",
       "  330043.85903711343,\n",
       "  998.3864896462334,\n",
       "  998.3864896462334,\n",
       "  57113361.28381682,\n",
       "  57113361.28381682,\n",
       "  330043.85903711343,\n",
       "  330043.85903711343,\n",
       "  998.3864896462334,\n",
       "  998.3864896462334,\n",
       "  1262.214023955537,\n",
       "  1262.214023955537,\n",
       "  1262.214023955537,\n",
       "  1262.214023955537,\n",
       "  57113361.28381682,\n",
       "  57113361.28381682,\n",
       "  711.7654177495824,\n",
       "  711.7654177495824,\n",
       "  687.8284806552292,\n",
       "  687.8284806552292,\n",
       "  1407.3067287301944,\n",
       "  1407.3067287301944,\n",
       "  200559.0174802601,\n",
       "  200559.0174802601,\n",
       "  692.5148571408828,\n",
       "  692.5148571408828,\n",
       "  998.3864896462334,\n",
       "  998.3864896462334,\n",
       "  330043.85903711343,\n",
       "  330043.85903711343,\n",
       "  1262.214023955537,\n",
       "  1262.214023955537,\n",
       "  1262.214023955537,\n",
       "  1262.214023955537,\n",
       "  57113361.28381682,\n",
       "  57113361.28381682,\n",
       "  1407.3067287301944,\n",
       "  1407.3067287301944,\n",
       "  711.7654177495824,\n",
       "  711.7654177495824,\n",
       "  687.8284806552292,\n",
       "  687.8284806552292,\n",
       "  692.5148571408828,\n",
       "  692.5148571408828,\n",
       "  200559.0174802601,\n",
       "  200559.0174802601,\n",
       "  689.8674575197241,\n",
       "  689.8674575197241,\n",
       "  682.983267512606,\n",
       "  682.983267512606,\n",
       "  424689.0929491945,\n",
       "  424689.0929491945,\n",
       "  564.0648141679151,\n",
       "  564.0648141679151,\n",
       "  688.8092545338571,\n",
       "  688.8092545338571,\n",
       "  591.6476442920548,\n",
       "  591.6476442920548,\n",
       "  1146.5439475369196,\n",
       "  1146.5439475369196,\n",
       "  669.6190983962057,\n",
       "  669.6190983962057,\n",
       "  999.2295021353095,\n",
       "  999.2295021353095,\n",
       "  1204987317.229193,\n",
       "  1204987317.229193,\n",
       "  330043.85903711343,\n",
       "  330043.85903711343,\n",
       "  998.3864896462334,\n",
       "  998.3864896462334,\n",
       "  1262.214023955537,\n",
       "  1262.214023955537,\n",
       "  1262.214023955537,\n",
       "  1262.214023955537,\n",
       "  57113361.28381682,\n",
       "  57113361.28381682,\n",
       "  1407.3067287301944,\n",
       "  1407.3067287301944,\n",
       "  711.7654177495824,\n",
       "  711.7654177495824,\n",
       "  687.8284806552292,\n",
       "  687.8284806552292,\n",
       "  692.5148571408828,\n",
       "  692.5148571408828,\n",
       "  200559.0174802601,\n",
       "  200559.0174802601,\n",
       "  591.6476442920548,\n",
       "  591.6476442920548,\n",
       "  1146.5439475369196,\n",
       "  1146.5439475369196,\n",
       "  682.983267512606,\n",
       "  682.983267512606,\n",
       "  1204987317.229193,\n",
       "  1204987317.229193,\n",
       "  424689.0929491945,\n",
       "  424689.0929491945],\n",
       " 'accepted_count': 100,\n",
       " 'trial_count': 100,\n",
       " 'inferred_parameters': array([ 0.        , 23.82280042, -8.07110261,  0.95456376, -1.58475973,\n",
       "         6.71021188])}"
      ]
     },
     "execution_count": 18,
     "metadata": {},
     "output_type": "execute_result"
    }
   ],
   "source": [
    "# mae_inference = mean_absolute_error(bound, abc.results['inferred_parameters'])\n",
    "res[0]"
   ]
  },
  {
   "cell_type": "markdown",
   "metadata": {},
   "source": [
    "## Analysis"
   ]
  },
  {
   "cell_type": "code",
   "execution_count": 19,
   "metadata": {},
   "outputs": [],
   "source": [
    "posterior = np.array(res[0]['accepted_samples'])"
   ]
  },
  {
   "cell_type": "code",
   "execution_count": 20,
   "metadata": {
    "scrolled": false
   },
   "outputs": [
    {
     "name": "stderr",
     "output_type": "stream",
     "text": [
      "<ipython-input-20-f6209009ca72>:10: UserWarning:\n",
      "\n",
      "Attempting to set identical left == right == 0.0 results in singular transformations; automatically expanding.\n",
      "\n",
      "<ipython-input-20-f6209009ca72>:13: UserWarning:\n",
      "\n",
      "Attempting to set identical bottom == top == 0.0 results in singular transformations; automatically expanding.\n",
      "\n"
     ]
    },
    {
     "data": {
      "image/png": "[encoded data removed]",
      "text/plain": [
       "<Figure size 720x720 with 36 Axes>"
      ]
     },
     "metadata": {
      "needs_background": "light"
     },
     "output_type": "display_data"
    }
   ],
   "source": [
    "fig, ax = plt.subplots(posterior.shape[1], posterior.shape[1])\n",
    "for i in range(posterior.shape[1]):\n",
    "    for j in range(posterior.shape[1]):\n",
    "        if i > j:\n",
    "            ax[i,j].axis('off')\n",
    "        else:\n",
    "            if i == j:\n",
    "                ax[i,j].hist(posterior[:,i], bins = 'auto')\n",
    "                ax[i,j].axvline(np.median(posterior[:,i]), color = 'C1')\n",
    "                ax[i,j].set_xlim(dmin[i], dmax[i])\n",
    "            else:\n",
    "                ax[i,j].scatter(posterior[:,j], posterior[:,i])\n",
    "                ax[i,j].set_ylim(dmin[i], dmax[i])\n",
    "                ax[i,j].set_xlim(dmin[j], dmax[j])\n",
    "    ax[i,0].set_ylabel(parameter_names[i])\n",
    "    ax[0,i].set_title(parameter_names[i])\n",
    "fig.set_size_inches(10,10)\n",
    "fig.tight_layout()"
   ]
  },
  {
   "cell_type": "code",
   "execution_count": null,
   "metadata": {},
   "outputs": [],
   "source": [
    "fig, ax = plt.subplots(2)\n",
    "for i in range(posterior.shape[0]):\n",
    "    res = simulator2(posterior[i,:])\n",
    "    ax[0].plot(res[0,1,:], color = 'C0', alpha = 0.02)\n",
    "#     ax[1].plot(res[0,1,:], color = 'C0', alpha = 0.02)\n",
    "ax[0].plot(obs[0,0,:], color = 'black', label = 'Observed Data')\n",
    "# ax[1].plot(obs[0,1,:], color = 'black', label = 'Observed Data')\n",
    "ax[0].set_title(\"Total Devil Population\")\n",
    "# ax[1].set_title(\"Infected\")\n",
    "ax[0].legend()\n",
    "ax[1].legend()\n",
    "fig.set_size_inches(12, 8)"
   ]
  },
  {
   "cell_type": "code",
   "execution_count": null,
   "metadata": {},
   "outputs": [],
   "source": []
  },
  {
   "cell_type": "code",
   "execution_count": null,
   "metadata": {},
   "outputs": [],
   "source": []
  }
 ],
 "metadata": {
  "kernelspec": {
   "display_name": "Python 3",
   "language": "python",
   "name": "python3"
  },
  "language_info": {
   "codemirror_mode": {
    "name": "ipython",
    "version": 3
   },
   "file_extension": ".py",
   "mimetype": "text/x-python",
   "name": "python",
   "nbconvert_exporter": "python",
   "pygments_lexer": "ipython3",
   "version": "3.8.5"
  }
 },
 "nbformat": 4,
 "nbformat_minor": 4
}
