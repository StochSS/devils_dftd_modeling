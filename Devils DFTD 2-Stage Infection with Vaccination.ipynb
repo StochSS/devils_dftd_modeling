{
 "cells": [
  {
   "cell_type": "code",
   "execution_count": 1,
   "metadata": {},
   "outputs": [],
   "source": [
    "import json\n",
    "import numpy as np\n",
    "import pandas as pd\n",
    "\n",
    "import sys\n",
    "sys.path.append('../GillesPy2/')\n",
    "import gillespy2\n",
    "from gillespy2 import Model, Species, Parameter, Reaction, Event, \\\n",
    "                      EventTrigger, EventAssignment, export_StochSS\n",
    "from gillespy2 import ODECSolver, ODESolver, SSACSolver\n",
    "\n",
    "import matplotlib.pyplot as plt\n",
    "\n",
    "from __future__ import print_function\n",
    "from ipywidgets import interact, interactive, fixed, interact_manual, interactive_output\n",
    "import ipywidgets as widgets\n",
    "from IPython.display import display"
   ]
  },
  {
   "cell_type": "markdown",
   "metadata": {},
   "source": [
    "## Read in observed data"
   ]
  },
  {
   "cell_type": "code",
   "execution_count": 2,
   "metadata": {},
   "outputs": [],
   "source": [
    "# pop_data = pd.read_csv('../year_data/devil_data_v2.csv')\n",
    "pop_data = pd.read_csv('month_data/Devils_Dataset__Population_1985-2020.csv')\n",
    "\n",
    "devil_pop = np.array(pop_data['Population'].iloc[:].values)\n",
    "\n",
    "obs = np.vstack([devil_pop]).reshape(1, 1, -1)"
   ]
  },
  {
   "cell_type": "markdown",
   "metadata": {},
   "source": [
    "# Devils DFTD 2-Stage Infection with Vaccination"
   ]
  },
  {
   "cell_type": "code",
   "execution_count": 3,
   "metadata": {},
   "outputs": [],
   "source": [
    "variables = {\n",
    "    \"vaccinated_infection_rate\": \"0.5\",\n",
    "    \"vaccination_proportion\": \"0.6\",\n",
    "    \"vaccine_frequency\": \"3\",\n",
    "    \"vaccine_time\": \"0\",\n",
    "    \"program_length\": \"4\",\n",
    "    \"end_sim\": 600\n",
    "}\n",
    "variables_orig = variables.copy()"
   ]
  },
  {
   "cell_type": "code",
   "execution_count": 4,
   "metadata": {},
   "outputs": [],
   "source": [
    "dates = []\n",
    "year = 1985\n",
    "while len(dates) < variables['end_sim'] + 1:\n",
    "    for month in [\"Jan\", \"Feb\", \"Mar\", \"Apr\", \"May\", \"Jun\", \"Jul\", \"Aug\", \"Sept\", \"Oct\", \"Nov\", \"Dec\"]:\n",
    "        dates.append(f\"{month} {year}\")\n",
    "    year += 1"
   ]
  },
  {
   "cell_type": "code",
   "execution_count": 5,
   "metadata": {},
   "outputs": [],
   "source": [
    "class DevilsDFTD2StageInfectionWithVaccination(Model):\n",
    "    def __init__(self, values=variables):\n",
    "        Model.__init__(self, name=\"Devils DFTD 2-Stage Infection with Vaccination\")\n",
    "        self.volume = 1\n",
    "\n",
    "        # Parameters (Pre-Vaccination)\n",
    "        birth_rate = Parameter(name=\"birth_rate\", expression=\"0.055\")\n",
    "        death_rate_diseased = Parameter(name=\"death_rate_diseased\", expression=\"0.048\")\n",
    "        death_rate_infected = Parameter(name=\"death_rate_infected\", expression=\"0.03\")\n",
    "        death_rate_juvenile = Parameter(name=\"death_rate_juvenile\", expression=\"0.006\")\n",
    "        death_rate_over_population = Parameter(name=\"death_rate_over_population\", expression=\"2.3e-07\")\n",
    "        death_rate_susceptible = Parameter(name=\"death_rate_susceptible\", expression=\"0.02335\")\n",
    "        incubation = Parameter(name=\"incubation\", expression=\"22.6\")\n",
    "        infection_rate_diseased = Parameter(name=\"infection_rate_diseased\", expression=\"3e-05\")\n",
    "        infection_rate_infected = Parameter(name=\"infection_rate_infected\", expression=\"2e-05\")\n",
    "        maturity_rate = Parameter(name=\"maturity_rate\", expression=\"0.04267\")\n",
    "        progression = Parameter(name=\"progression\", expression=\"12\")\n",
    "        DFTD_introduction = Parameter(name=\"DFTD_introduction\", expression=\"40\")\n",
    "        self.add_parameter([\n",
    "            birth_rate, death_rate_diseased, death_rate_infected, death_rate_juvenile, death_rate_over_population,\n",
    "            death_rate_susceptible, incubation, infection_rate_diseased, infection_rate_infected,\n",
    "            maturity_rate, progression, DFTD_introduction\n",
    "        ])\n",
    "        \n",
    "        # Parameters (Vaccination)\n",
    "        vaccinated_infection_rate = Parameter(\n",
    "            name=\"vaccinated_infection_rate\", expression=values['vaccinated_infection_rate']\n",
    "        )\n",
    "        vaccination_proportion = Parameter(name=\"vaccination_proportion\", expression=values['vaccination_proportion'])\n",
    "        vaccine_frequency = Parameter(name=\"vaccine_frequency\", expression=values['vaccine_frequency'])\n",
    "        vaccine_time = Parameter(name=\"vaccine_time\", expression=values['vaccine_time'])\n",
    "        program_length = Parameter(name=\"program_length\", expression=values['program_length'])\n",
    "        self.add_parameter([\n",
    "            vaccinated_infection_rate, vaccination_proportion, vaccine_frequency, vaccine_time, program_length\n",
    "        ])\n",
    "        \n",
    "        # Variables (Pre-Vaccination)\n",
    "        init_Devils_pop = round(devil_pop[0])\n",
    "        init_J_pop = round(devil_pop[0] * 0.467)\n",
    "        init_S_pop = round(devil_pop[0] - init_J_pop)\n",
    "        \n",
    "        Devils = Species(name=\"Devils\", initial_value=init_Devils_pop, mode=\"discrete\")\n",
    "        Diseased = Species(name=\"Diseased\", initial_value=0, mode=\"discrete\")\n",
    "        Exposed = Species(name=\"Exposed\", initial_value=0, mode=\"discrete\")\n",
    "        Infected = Species(name=\"Infected\", initial_value=0, mode=\"discrete\")\n",
    "        Juvenile = Species(name=\"Juvenile\", initial_value=init_S_pop, mode=\"discrete\")\n",
    "        Susceptible = Species(name=\"Susceptible\", initial_value=init_J_pop, mode=\"discrete\")\n",
    "        self.add_species([Devils, Diseased, Exposed, Infected, Juvenile, Susceptible])\n",
    "        \n",
    "        # Variables (Vaccination)\n",
    "        Vaccinated = Species(name=\"Vaccinated\", initial_value=0, mode=\"discrete\")\n",
    "        self.add_species(Vaccinated)\n",
    "        \n",
    "        # Reactions (Pre-Vaccination)\n",
    "        Birth = Reaction(name=\"Birth\",\n",
    "            reactants={}, products={'Juvenile': 1, 'Devils': 1},\n",
    "            propensity_function=\"birth_rate * (Susceptible + Exposed + Infected + Vaccinated)\"\n",
    "        )\n",
    "        Mature = Reaction(name=\"Mature\",\n",
    "            reactants={'Juvenile': 1}, products={'Susceptible': 1},\n",
    "            propensity_function=\"Juvenile * maturity_rate\"\n",
    "        )\n",
    "        Death_Diseased = Reaction(name=\"Death_Diseased\",\n",
    "            reactants={'Diseased': 1, 'Devils': 1}, products={},\n",
    "            propensity_function=\"death_rate_diseased * Diseased\"\n",
    "        )\n",
    "        Death_Diseased2 = Reaction(name=\"Death_Diseased2\",\n",
    "            reactants={'Diseased': 1, 'Devils': 1}, products={},\n",
    "            propensity_function=\"death_rate_over_population * Diseased * (Devils - 1)\"\n",
    "        )\n",
    "        Death_Exposed = Reaction(name=\"Death_Exposed\",\n",
    "            reactants={'Devils': 1, 'Exposed': 1}, products={},\n",
    "            propensity_function=\"death_rate_susceptible * Exposed\"\n",
    "        )\n",
    "        Death_Exposed2 = Reaction(name=\"Death_Exposed2\",\n",
    "            reactants={'Devils': 1, 'Exposed': 1}, products={},\n",
    "            propensity_function=\"death_rate_over_population * Exposed * (Devils - 1)\"\n",
    "        )\n",
    "        Death_Infected = Reaction(name=\"Death_Infected\",\n",
    "            reactants={'Infected': 1, 'Devils': 1}, products={},\n",
    "            propensity_function=\"death_rate_infected * Infected\"\n",
    "        )\n",
    "        Death_Infected2 = Reaction(name=\"Death_Infected2\",\n",
    "            reactants={'Infected': 1, 'Devils': 1}, products={},\n",
    "            propensity_function=\"death_rate_over_population * Infected * (Devils-1)\"\n",
    "        )\n",
    "        Death_Juvenile = Reaction(name=\"Death_Juvenile\",\n",
    "            reactants={'Juvenile': 1, 'Devils': 1}, products={},\n",
    "            propensity_function=\"death_rate_juvenile * Juvenile\"\n",
    "        )\n",
    "        Death_Juvenile2 = Reaction(name=\"Death_Juvenile2\",\n",
    "            reactants={'Juvenile': 1, 'Devils': 1}, products={},\n",
    "            propensity_function=\"death_rate_over_population * Juvenile * (Devils-1)\"\n",
    "        )\n",
    "        Death_Susceptible = Reaction(name=\"Death_Susceptible\",\n",
    "            reactants={'Susceptible': 1, 'Devils': 1}, products={},\n",
    "            propensity_function=\"death_rate_susceptible * Susceptible\"\n",
    "        )\n",
    "        Death_Susceptible2 = Reaction(name=\"Death_Susceptible2\",\n",
    "            reactants={'Susceptible': 1, 'Devils': 1}, products={},\n",
    "            propensity_function=\"death_rate_over_population * Susceptible * (Devils-1)\"\n",
    "        )\n",
    "        DFTD_Stage1 = Reaction(name=\"DFTD_Stage1\",\n",
    "            reactants={'Exposed': 1}, products={'Infected': 1},\n",
    "            propensity_function=\"Exposed / incubation\"\n",
    "        )\n",
    "        DFTD_Stage2 = Reaction(name=\"DFTD_Stage2\",\n",
    "            reactants={'Infected': 1}, products={'Diseased': 1},\n",
    "            propensity_function=\"Infected / progression\"\n",
    "        )\n",
    "        TransmissionD = Reaction(name=\"TransmissionD\",\n",
    "            reactants={'Susceptible': 1, 'Diseased': 1}, products={'Exposed': 1, 'Diseased': 1},\n",
    "            propensity_function=\"infection_rate_diseased * Susceptible * Diseased\"\n",
    "        )\n",
    "        TransmissionI = Reaction(name=\"TransmissionI\",\n",
    "            reactants={'Susceptible': 1, 'Infected': 1}, products={'Exposed': 1, 'Infected': 1},\n",
    "            propensity_function=\"infection_rate_infected * Susceptible * Infected\"\n",
    "        )\n",
    "        self.add_reaction([\n",
    "            Birth, Mature, Death_Diseased, Death_Diseased2, Death_Exposed, Death_Exposed2, Death_Infected,\n",
    "            Death_Infected2, Death_Juvenile, Death_Juvenile2, Death_Susceptible, Death_Susceptible2,\n",
    "            DFTD_Stage1, DFTD_Stage2, TransmissionD, TransmissionI\n",
    "        ])\n",
    "        \n",
    "        # Reactions (Vaccination)\n",
    "        Vaccine_Failure_I = Reaction(name=\"Vaccine_Failure_I\",\n",
    "            reactants={'Vaccinated': 1, 'Infected': 1}, products={'Exposed': 1, 'Infected': 1},\n",
    "            propensity_function=\"infection_rate_infected * vaccinated_infection_rate * Vaccinated * Infected / \\\n",
    "                                            (Susceptible + Exposed + Infected + Vaccinated + Diseased + Juvenile)\"\n",
    "        )\n",
    "        Vaccine_Failure_D = Reaction(name=\"Vaccine_Failure_D\",\n",
    "            reactants={'Vaccinated': 1, 'Diseased': 1}, products={'Exposed': 1, 'Diseased': 1},\n",
    "            propensity_function=\"infection_rate_diseased * vaccinated_infection_rate * Vaccinated * Diseased / \\\n",
    "                                            (Susceptible + Exposed + Infected + Vaccinated + Diseased + Juvenile)\"\n",
    "        )\n",
    "        Death_Vaccinated = Reaction(name=\"Death_Vaccinated\",\n",
    "            reactants={'Devils': 1, 'Vaccinated': 1}, products={},\n",
    "            propensity_function=\"death_rate_susceptible * Vaccinated\"\n",
    "        )\n",
    "        Death_Vaccinated2 = Reaction(name=\"Death_Vaccinated2\",\n",
    "            reactants={'Devils': 1, 'Vaccinated': 1}, products={},\n",
    "            propensity_function=\"death_rate_over_population * Vaccinated * (Devils - 1)\"\n",
    "        )\n",
    "        self.add_reaction([Vaccine_Failure_I, Vaccine_Failure_D, Death_Vaccinated, Death_Vaccinated2])\n",
    "        \n",
    "#         # Event Triggers\n",
    "#         DFTD_Introduction_trig = EventTrigger(expression=\"t >= DFTD_introduction\", initial_value=False, persistent=False)\n",
    "#         Vaccination_trig = EventTrigger(expression=\"t >= 442 + vaccine_time and program_length > 0\", initial_value=False, persistent=True)\n",
    "\n",
    "#         # Event Assignments\n",
    "#         DFTD_Introduction_assign_1 = EventAssignment(variable=\"Infected\", expression=\"1\")\n",
    "#         DFTD_Introduction_assign_2 = EventAssignment(variable=\"Susceptible\", expression=\"Susceptible - 1\")\n",
    "#         Vaccination_assign_1 = EventAssignment(variable=\"vaccine_time\", expression=\"vaccine_time + 12 / vaccine_frequency\")\n",
    "#         Vaccination_assign_2 = EventAssignment(variable=\"program_length\", expression=\"program_length - (12 / vaccine_frequency) / 12\")\n",
    "#         Vaccination_assign_3 = EventAssignment(variable=\"Vaccinated\", expression=\"Vaccinated + (Susceptible * vaccination_proportion)\")\n",
    "#         Vaccination_assign_4 = EventAssignment(variable=\"Susceptible\", expression=\"Susceptible * (1 - vaccination_proportion)\")\n",
    "\n",
    "#         # Events\n",
    "#         self.add_event(Event(name=\"DFTD_Introduction\", trigger=DFTD_Introduction_trig, assignments=[DFTD_Introduction_assign_1, DFTD_Introduction_assign_2], delay=None, priority=\"0\", use_values_from_trigger_time=False))\n",
    "#         self.add_event(Event(name=\"Vaccination\", trigger=Vaccination_trig, assignments=[Vaccination_assign_1, Vaccination_assign_2, Vaccination_assign_3, Vaccination_assign_4], delay=None, priority=\"0\", use_values_from_trigger_time=True))\n",
    "\n",
    "        # Timespan\n",
    "        self.timespan(np.arange(0, values['end_sim'] + 1, 1))\n",
    "        \n",
    "    def __fix_shape(self, result):\n",
    "        if result['time'].size < result['Devils'].size:\n",
    "            for species in self.listOfSpecies.keys():\n",
    "                result[0][species] = result[0][species][:-1]\n",
    "        return result\n",
    "    \n",
    "    def __run_vaccine_period(self, resume, t, kwargs):\n",
    "        vaccination_proportion = float(variables['vaccination_proportion'])\n",
    "        susceptible_pop = int(resume[0]['Susceptible'][-1] * (1 - vaccination_proportion))\n",
    "        vaccinated_pop = int(resume[0]['Vaccinated'][-1] + resume[0]['Susceptible'][-1] * vaccination_proportion)\n",
    "        kwargs['variables']['Susceptible'] = susceptible_pop\n",
    "        kwargs['variables']['Vaccinated'] = vaccinated_pop\n",
    "        return self.__fix_shape(super().run(resume=resume, t=t, **kwargs))\n",
    "    \n",
    "    def run(self, with_pr=False, **kwargs):\n",
    "        if not with_pr:\n",
    "            return super().run(**kwargs)\n",
    "        \n",
    "        self.resolve_parameters()\n",
    "        # Run Pre-infection Period\n",
    "        t = int(self.listOfParameters['DFTD_introduction'].value)\n",
    "        res1 = super().run(**kwargs, t=t)\n",
    "        \n",
    "        # Configure Infection Period\n",
    "        if not \"variables\" in kwargs.keys():\n",
    "            kwargs['variables'] = {}\n",
    "        kwargs['variables']['Infected'] = \"1\"\n",
    "        kwargs['variables']['Susceptible'] = f\"{int(res1[0]['Susceptible'][-1] - 1)}\"\n",
    "        \n",
    "        # Run Infection Period\n",
    "        t = 442 + int(variables['vaccine_time'])\n",
    "        result = self.__fix_shape(super().run(resume=res1, t=t, **kwargs))\n",
    "        while result['Infected'][-1] <= 0:\n",
    "            result = self.__fix_shape(super().run(resume=res1, t=t, **kwargs))\n",
    "                    \n",
    "        # Configure Vaccination Period\n",
    "        del kwargs['variables']['Infected']\n",
    "        vaccine_frequency = int(variables['vaccine_frequency'])\n",
    "        program_length = int(variables['program_length'])\n",
    "        time_diff = 12 / vaccine_frequency\n",
    "        program_end = t + (time_diff * (vaccine_frequency * program_length))\n",
    "        \n",
    "        # Run Vaccination Period\n",
    "        while t < program_end:\n",
    "            t += time_diff\n",
    "            result = self.__run_vaccine_period(resume=result, t=t, kwargs=kwargs)\n",
    "            \n",
    "        del kwargs['variables']['Susceptible']\n",
    "        del kwargs['variables']['Vaccinated']\n",
    "        return self.__fix_shape(super().run(resume=result, **kwargs))"
   ]
  },
  {
   "cell_type": "code",
   "execution_count": 6,
   "metadata": {},
   "outputs": [],
   "source": [
    "model = DevilsDFTD2StageInfectionWithVaccination()"
   ]
  },
  {
   "cell_type": "markdown",
   "metadata": {},
   "source": [
    "# Simulation Parameters"
   ]
  },
  {
   "cell_type": "code",
   "execution_count": 7,
   "metadata": {},
   "outputs": [],
   "source": [
    "def configure_simulation():\n",
    "    solver = SSACSolver(model=model, variable=True)\n",
    "    kwargs = {\n",
    "        \"solver\": solver,\n",
    "        \"number_of_trajectories\": 1,\n",
    "    }\n",
    "    return kwargs"
   ]
  },
  {
   "cell_type": "code",
   "execution_count": 8,
   "metadata": {},
   "outputs": [],
   "source": [
    "kwargs = configure_simulation()\n",
    "results = model.run(with_pr=True, **kwargs)"
   ]
  },
  {
   "cell_type": "markdown",
   "metadata": {},
   "source": [
    "# Visualization"
   ]
  },
  {
   "cell_type": "code",
   "execution_count": 9,
   "metadata": {},
   "outputs": [],
   "source": [
    "def plot(results, start=0, alpha=0.3):\n",
    "    carry_cap = int(max(devil_pop)*1.16)\n",
    "    dftd_start = int(results.model.listOfParameters['DFTD_introduction'].value)\n",
    "    vaccine_start = int(442 + int(variables['vaccine_time']))\n",
    "    spec_list = [results['Juvenile'], results['Susceptible'], results['Exposed'],\n",
    "                 results['Infected'], results['Diseased'], results['Vaccinated']]\n",
    "    total_devils = np.add.reduce(spec_list)\n",
    "    x = results['time'][start:]\n",
    "    text_offset = (results['time'].size - start) / 601\n",
    "    \n",
    "    plt.figure(figsize=[15, 8])\n",
    "    plt.title(\"Tasmanian Devil Population with DFTD: Vaccination Program\", fontsize=18)\n",
    "    plt.xlabel(f\"Time (months) since {dates[start]}\", fontsize=14)\n",
    "    plt.ylabel(\"Population of Tasmanian Devils\", fontsize=14)\n",
    "    plt.plot(x, total_devils[start:], color='blue', label='Total Devils')\n",
    "    plt.plot(x, results['Juvenile'][start:], color='purple', alpha=alpha, label='Juvenile')\n",
    "    plt.plot(x, results['Susceptible'][start:], color='green', alpha=alpha, label='Susceptible')\n",
    "    plt.plot(x, results['Exposed'][start:], color='magenta', alpha=alpha, label='Exposed')\n",
    "    plt.plot(x, results['Infected'][start:], color='red', alpha=alpha, label='Infected')\n",
    "    plt.plot(x, results['Diseased'][start:], color='brown', alpha=alpha, label='Diseased')\n",
    "    plt.plot(x, results['Vaccinated'][start:], color='cyan', alpha=alpha, label='Vaccinated')\n",
    "    plt.ylim([-3000, carry_cap])\n",
    "    if start <= dftd_start:\n",
    "        plt.plot([dftd_start, dftd_start], [-3000, carry_cap], '--r', alpha=0.3)\n",
    "        plt.text(dftd_start-10*text_offset, 45000, \"DFTD Introduced\", rotation=\"vertical\", color=\"red\", fontsize=12)\n",
    "        plt.text(dftd_start+3*text_offset, 48000, dates[dftd_start], rotation=\"vertical\", color=\"red\", fontsize=12)\n",
    "    plt.plot([vaccine_start, vaccine_start], [-3000, carry_cap], '--r', alpha=0.3)\n",
    "    plt.text(vaccine_start-10*text_offset, 30000,\n",
    "             \"Start Vaccination Program\", rotation=\"vertical\", color=\"red\", fontsize=12)\n",
    "    plt.text(vaccine_start+3*text_offset, 37000,\n",
    "             dates[vaccine_start], rotation=\"vertical\", color=\"red\", fontsize=12)\n",
    "    plt.xticks(fontsize=12)\n",
    "    plt.yticks(fontsize=12, rotation=\"vertical\", va=\"center\")\n",
    "    plt.legend(loc='best', fontsize=12)"
   ]
  },
  {
   "cell_type": "code",
   "execution_count": 10,
   "metadata": {},
   "outputs": [
    {
     "data": {
      "image/png": "[encoded data removed]",
      "text/plain": [
       "<Figure size 1080x576 with 1 Axes>"
      ]
     },
     "metadata": {
      "needs_background": "light"
     },
     "output_type": "display_data"
    }
   ],
   "source": [
    "plot(results)"
   ]
  },
  {
   "cell_type": "code",
   "execution_count": 11,
   "metadata": {},
   "outputs": [],
   "source": [
    "solver = SSACSolver(model, variable=True)"
   ]
  },
  {
   "cell_type": "markdown",
   "metadata": {},
   "source": [
    "## Configure Solver Widgets"
   ]
  },
  {
   "cell_type": "code",
   "execution_count": 12,
   "metadata": {},
   "outputs": [],
   "source": [
    "def display_details():\n",
    "    width = 112\n",
    "    d_width = width - 4\n",
    "    h_width = int(d_width/2)\n",
    "    pad = \"    \"\n",
    "    pnt_els = ['='*width]\n",
    "    \n",
    "    # Changes to parameters\n",
    "    pnt_els.append(\" \".join(['|', 'Input Parameters:'.ljust(d_width), '|']))\n",
    "    date = dates[442 + int(variables[\"vaccine_time\"])]\n",
    "    vt_line = f'{pad}Vaccination Program Start: {variables[\"vaccine_time\"]} ({date})'\n",
    "    if variables[\"vaccine_time\"] != variables_orig[\"vaccine_time\"]:\n",
    "        prev_date = dates[442 + int(variables_orig[\"vaccine_time\"])]\n",
    "        vt_line += f'{pad}(was {variables_orig[\"vaccine_time\"]} ({prev_date}))'\n",
    "    pnt_els.append(\" \".join(['|', vt_line.ljust(d_width), '|']))\n",
    "    \n",
    "    plvf_line = f'{pad}Progam Length (years): {variables[\"program_length\"]}'\n",
    "    if variables[\"program_length\"] != variables_orig[\"program_length\"]:\n",
    "        plvf_line += f'{pad}(was {variables_orig[\"program_length\"]})'\n",
    "    plvf_line = plvf_line.ljust(h_width)\n",
    "    plvf_line += f'{pad}Vaccine Frequency (per year): {variables[\"vaccine_frequency\"]}'\n",
    "    if variables[\"vaccine_frequency\"] != variables_orig[\"vaccine_frequency\"]:\n",
    "        plvf_line += f'{pad}(was {variables_orig[\"vaccine_frequency\"]})'\n",
    "    pnt_els.append(\" \".join(['|', plvf_line.ljust(d_width), '|']))\n",
    "    \n",
    "    vpvi_line = f'{pad}Vaccination Proportion: {variables[\"vaccination_proportion\"]}'\n",
    "    if variables[\"vaccination_proportion\"] != variables_orig[\"vaccination_proportion\"]:\n",
    "        vpvi_line += f'{pad}(was {variables_orig[\"vaccination_proportion\"]})'\n",
    "    vpvi_line = vpvi_line.ljust(h_width)\n",
    "    vpvi_line += f'{pad}Vaccinated Infection Rate: {variables[\"vaccinated_infection_rate\"]}'\n",
    "    if variables[\"vaccinated_infection_rate\"] != variables_orig[\"vaccinated_infection_rate\"]:\n",
    "        vpvi_line += f'{pad}(was {variables_orig[\"vaccinated_infection_rate\"]})'\n",
    "    pnt_els.append(\" \".join(['|', vpvi_line.ljust(d_width), '|']))\n",
    "    pnt_els.append('='*width)\n",
    "    \n",
    "    print(\"\\n\".join(pnt_els))"
   ]
  },
  {
   "cell_type": "code",
   "execution_count": 13,
   "metadata": {},
   "outputs": [],
   "source": [
    "def configure(vaccinated_infection_rate, vaccination_proportion, start,\n",
    "              vaccine_frequency, vaccine_time, program_length, end_sim):\n",
    "    \n",
    "    variables['vaccinated_infection_rate'] = str(vaccinated_infection_rate)\n",
    "    variables['vaccination_proportion'] = str(vaccination_proportion)\n",
    "    variables['vaccine_frequency'] = str(vaccine_frequency)\n",
    "    variables['vaccine_time'] = str(vaccine_time)\n",
    "    variables['program_length'] = str(program_length)\n",
    "    variables['end_sim'] = end_sim\n",
    "    \n",
    "    model.timespan(np.arange(0, end_sim + 1, 1))\n",
    "    \n",
    "    display_details()\n",
    "    \n",
    "    variable = {\n",
    "        \"vaccinated_infection_rate\": vaccinated_infection_rate,\n",
    "        \"vaccination_proportion\": vaccination_proportion,\n",
    "        \"vaccine_frequency\": vaccine_frequency,\n",
    "        \"vaccine_time\": vaccine_time,\n",
    "        \"program_length\": program_length\n",
    "    }\n",
    "    results = model.run(with_pr=True, solver=solver, variables=variable)\n",
    "    \n",
    "    plot(results, start=start)"
   ]
  },
  {
   "cell_type": "markdown",
   "metadata": {},
   "source": [
    "## Create Widgets"
   ]
  },
  {
   "cell_type": "code",
   "execution_count": 14,
   "metadata": {},
   "outputs": [],
   "source": [
    "s1 = widgets.IntSlider(\n",
    "    min=430, max=700, step=1, value=variables['end_sim'], description=\"Sim. End\"\n",
    ")\n",
    "s2 = widgets.IntSlider(\n",
    "    min=0, max=200, step=1, value=variables['vaccine_time'], description=\"Vaccine Start\"\n",
    ")\n",
    "s3 = widgets.IntSlider(\n",
    "    min=1, max=30, step=1, value=variables['program_length'], description=\"Prog. Len.\"\n",
    ")\n",
    "s4 = widgets.IntSlider(\n",
    "    min=1, max=12, step=1, value=variables['vaccine_frequency'], description=\"Vaccine Freq.\"\n",
    ")\n",
    "s5 = widgets.FloatSlider(\n",
    "    min=0.01, max=1, step=0.01, value=variables['vaccination_proportion'], description=\"Vacc. Prop.\"\n",
    ")\n",
    "s6 = widgets.FloatSlider(\n",
    "    min=0.01, max=1, step=0.01, value=variables['vaccinated_infection_rate'], description=\"Vacc. Inf. R.\"\n",
    ")\n",
    "s7 = widgets.IntSlider(\n",
    "    min=0, max=419, step=12, value=0, description=\"Start\"\n",
    ")\n",
    "ai_widgets = {'end_sim': s1, 'vaccine_time': s2, 'program_length': s3,\n",
    "              'vaccine_frequency': s4, 'vaccination_proportion': s5,\n",
    "              'vaccinated_infection_rate': s6, \"start\": s7\n",
    "             }"
   ]
  },
  {
   "cell_type": "code",
   "execution_count": 15,
   "metadata": {},
   "outputs": [],
   "source": [
    "def get_layout(vertical=False):\n",
    "    kwargs = {\n",
    "        \"margin\": '0px 10px 10px 0px',\n",
    "        \"padding\": '5px 5px 5px 5px'\n",
    "    }\n",
    "    if not vertical:\n",
    "        kwargs['border'] = 'solid 1px red'\n",
    "    return widgets.Layout(**kwargs)\n",
    "\n",
    "hb1 = widgets.HBox([s7, s1, s2], layout=get_layout())\n",
    "hb2 = widgets.HBox([s3, s4], layout=get_layout())\n",
    "hb3 = widgets.HBox([s5, s6], layout=get_layout())\n",
    "\n",
    "ui = widgets.VBox([hb1, hb2, hb3])"
   ]
  },
  {
   "cell_type": "markdown",
   "metadata": {},
   "source": [
    "## Run widgets and attempt to calibrate model"
   ]
  },
  {
   "cell_type": "code",
   "execution_count": 16,
   "metadata": {
    "scrolled": false
   },
   "outputs": [
    {
     "data": {
      "application/vnd.jupyter.widget-view+json": {
       "model_id": "031f39c71b7d485cbd71dbd382282a9a",
       "version_major": 2,
       "version_minor": 0
      },
      "text/plain": [
       "Output()"
      ]
     },
     "metadata": {},
     "output_type": "display_data"
    },
    {
     "data": {
      "application/vnd.jupyter.widget-view+json": {
       "model_id": "f8e83500f2814cfa9a0f653ecd3c62fc",
       "version_major": 2,
       "version_minor": 0
      },
      "text/plain": [
       "VBox(children=(HBox(children=(IntSlider(value=0, description='Start', max=419, step=12), IntSlider(value=600, …"
      ]
     },
     "metadata": {},
     "output_type": "display_data"
    }
   ],
   "source": [
    "out = interactive_output(configure, ai_widgets)\n",
    "display(out, ui)"
   ]
  }
 ],
 "metadata": {
  "kernelspec": {
   "display_name": "Python 3 (ipykernel)",
   "language": "python",
   "name": "python3"
  },
  "language_info": {
   "codemirror_mode": {
    "name": "ipython",
    "version": 3
   },
   "file_extension": ".py",
   "mimetype": "text/x-python",
   "name": "python",
   "nbconvert_exporter": "python",
   "pygments_lexer": "ipython3",
   "version": "3.9.7"
  }
 },
 "nbformat": 4,
 "nbformat_minor": 4
}
