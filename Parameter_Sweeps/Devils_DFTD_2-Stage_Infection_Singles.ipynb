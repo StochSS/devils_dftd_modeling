{
 "cells": [
  {
   "cell_type": "markdown",
   "metadata": {},
   "source": [
    "# Devils DFTD 2-Stage Infection"
   ]
  },
  {
   "cell_type": "code",
   "execution_count": 1,
   "metadata": {},
   "outputs": [],
   "source": [
    "import os\n",
    "import sys\n",
    "sys.path.insert(1, os.path.abspath(os.path.join(os.getcwd(), '../../GillesPy2')))"
   ]
  },
  {
   "cell_type": "code",
   "execution_count": 2,
   "metadata": {},
   "outputs": [],
   "source": [
    "import time\n",
    "import json\n",
    "import pickle"
   ]
  },
  {
   "cell_type": "code",
   "execution_count": 3,
   "metadata": {},
   "outputs": [],
   "source": [
    "from gillespy2 import TauHybridCSolver"
   ]
  },
  {
   "cell_type": "code",
   "execution_count": 4,
   "metadata": {},
   "outputs": [],
   "source": [
    "from dask.distributed import Client\n",
    "from dask import delayed"
   ]
  },
  {
   "cell_type": "code",
   "execution_count": 5,
   "metadata": {
    "execution": {
     "iopub.execute_input": "2022-01-25T15:50:15.923128Z",
     "iopub.status.busy": "2022-01-25T15:50:15.922514Z",
     "iopub.status.idle": "2022-01-25T15:50:15.925110Z",
     "shell.execute_reply": "2022-01-25T15:50:15.924503Z"
    }
   },
   "outputs": [],
   "source": [
    "from Devils_DFTD_2_Stage_Infection import DevilsDFTD2StageInfection\n",
    "DevilsDFTD2StageInfectionWithVaccination = DevilsDFTD2StageInfection\n",
    "DevilsDFTD2StageInfectionWithImmunity = DevilsDFTD2StageInfection\n",
    "DevilsDFTD2StageInfectionWithCulling = DevilsDFTD2StageInfection\n",
    "\n",
    "from Simulation import Simulation, devil_pop\n",
    "from ParameterSweep import ParameterSweep"
   ]
  },
  {
   "cell_type": "code",
   "execution_count": 6,
   "metadata": {},
   "outputs": [],
   "source": [
    "c = Client(n_workers=8, threads_per_worker=1)\n",
    "# c = Client(\"james.cs.unca.edu:12345\")"
   ]
  },
  {
   "cell_type": "markdown",
   "metadata": {},
   "source": [
    "## With Immunity Intervention\n",
    "### Load existing state"
   ]
  },
  {
   "cell_type": "code",
   "execution_count": null,
   "metadata": {},
   "outputs": [],
   "source": [
    "immun_state_path = \"./DevilsDFTD2StageInfectionWithImmunityState.p\"\n",
    "if os.path.exists(immun_state_path):\n",
    "    with open(immun_state_path, \"rb\") as immun_state_file:\n",
    "        immun_state = pickle.load(immun_state_file)\n",
    "    \n",
    "    # Model\n",
    "    immun_model = immun_state['model']\n",
    "    # Simulation\n",
    "    immun_sim = Simulation.load_state(immun_state['sim'])\n",
    "    # Parameter Sweep Job\n",
    "    immun_job = ParameterSweep.load_state(immun_state['job'])\n",
    "else:\n",
    "    immun_state = None\n",
    "    print(\"No existing immunity state found.\")\n",
    "    \n",
    "    # Model\n",
    "    immun_model = DevilsDFTD2StageInfection(devil_pop, interventions=\"immunity\")\n",
    "    # Simulation\n",
    "    immun_sim = Simulation(model=immun_model)\n",
    "    # Parameter Sweep Job\n",
    "    immun_job = ParameterSweep(model=immun_model)"
   ]
  },
  {
   "cell_type": "markdown",
   "metadata": {},
   "source": [
    "### Solver"
   ]
  },
  {
   "cell_type": "code",
   "execution_count": null,
   "metadata": {},
   "outputs": [],
   "source": [
    "immun_sol = delayed(TauHybridCSolver)(model=immun_model, variable=True)"
   ]
  },
  {
   "cell_type": "markdown",
   "metadata": {},
   "source": [
    "### Simulation"
   ]
  },
  {
   "cell_type": "code",
   "execution_count": null,
   "metadata": {},
   "outputs": [],
   "source": [
    "immun_sim.configure(solver=immun_sol)\n",
    "%time _ = immun_sim.run(use_existing_results=True)"
   ]
  },
  {
   "cell_type": "code",
   "execution_count": null,
   "metadata": {},
   "outputs": [],
   "source": [
    "immun_sim.output_dftd_devils_probs(print_props=True)"
   ]
  },
  {
   "cell_type": "markdown",
   "metadata": {},
   "source": [
    "### Visualize Simulation Results"
   ]
  },
  {
   "cell_type": "code",
   "execution_count": null,
   "metadata": {},
   "outputs": [],
   "source": [
    "immun_sim.plot()"
   ]
  },
  {
   "cell_type": "markdown",
   "metadata": {},
   "source": [
    "### Parameter Sweep"
   ]
  },
  {
   "cell_type": "code",
   "execution_count": null,
   "metadata": {},
   "outputs": [],
   "source": [
    "immun_params = [\n",
    "    {\"parameter\": \"immunity_growth_rate\", \"range\": [0.005, 0.0075, 0.01]},\n",
    "#     {\"parameter\": \"immunity_growth_rate\", \"range\": [0.0075, 0.01, 0.0125]},\n",
    "#     {\"parameter\": \"immunity_max_level\", \"range\": [50, 75, 100]},\n",
    "    {\"parameter\": \"immunity_start\", \"range\": [384, 444, 504]}\n",
    "]"
   ]
  },
  {
   "cell_type": "code",
   "execution_count": null,
   "metadata": {},
   "outputs": [],
   "source": [
    "new_params = immun_job.params != immun_params\n",
    "%time immun_job.run(solver=immun_sol, params=immun_params)"
   ]
  },
  {
   "cell_type": "code",
   "execution_count": null,
   "metadata": {},
   "outputs": [],
   "source": [
    "# if immun_state is None or new_params:\n",
    "#     tic=time.time()\n",
    "#     immun_job.load_data()\n",
    "#     print(f\"loading immunity parameter sweep data completed in {time.time()-tic:.2f}s\")"
   ]
  },
  {
   "cell_type": "markdown",
   "metadata": {},
   "source": [
    "### Visualize Parameter Sweep Results"
   ]
  },
  {
   "cell_type": "code",
   "execution_count": null,
   "metadata": {},
   "outputs": [],
   "source": [
    "# res_sub_keys = [\"immunity_max_level:100\", \"immunity_growth_rate:0.01\"]\n",
    "res_sub_keys = [\"immunity_growth_rate:0.01\"]\n",
    "immun_job.plot_devil_dftd_extinction_over_param(\n",
    "    res_sub_keys=res_sub_keys, key=\"immunity_start\", param_label=\"Immunity Start\", units=\"month\"\n",
    ")"
   ]
  },
  {
   "cell_type": "code",
   "execution_count": null,
   "metadata": {},
   "outputs": [],
   "source": [
    "immun_job.explore_results()"
   ]
  },
  {
   "cell_type": "markdown",
   "metadata": {},
   "source": [
    "### Store Immunity State"
   ]
  },
  {
   "cell_type": "code",
   "execution_count": null,
   "metadata": {},
   "outputs": [],
   "source": [
    "# immun_state = {\"model\": immun_model, \"sim\":immun_sim, \"job\":immun_job}\n",
    "# with open(immun_state_path, \"wb\") as immun_state_file:\n",
    "#     pickle.dump(immun_state, immun_state_file)"
   ]
  },
  {
   "cell_type": "markdown",
   "metadata": {},
   "source": [
    "## With Vaccination Intervention\n",
    "### Load existing state"
   ]
  },
  {
   "cell_type": "code",
   "execution_count": 7,
   "metadata": {
    "execution": {
     "iopub.execute_input": "2022-01-25T15:50:16.021794Z",
     "iopub.status.busy": "2022-01-25T15:50:16.020730Z",
     "iopub.status.idle": "2022-01-25T15:50:16.072731Z",
     "shell.execute_reply": "2022-01-25T15:50:16.071818Z"
    }
   },
   "outputs": [],
   "source": [
    "vacc_state_path = \"./DevilsDFTD2StageInfectionWithVaccinationState.p\"\n",
    "if os.path.exists(vacc_state_path):\n",
    "    with open(vacc_state_path, \"rb\") as vacc_state_file:\n",
    "        vacc_state = pickle.load(vacc_state_file)\n",
    "        \n",
    "#     # Model\n",
    "    vacc_model = vacc_state['model']\n",
    "#     # Simulation\n",
    "#     vacc_sim = Simulation.load_state(vacc_state['sim'])\n",
    "#     # Parameter Sweep Job\n",
    "#     vacc_job = ParameterSweep.load_state(vacc_state['job'])\n",
    "# else:\n",
    "#     vacc_state = None\n",
    "#     print(\"No existing vaccination state found.\")\n",
    "\n",
    "#     # Model\n",
    "#     vacc_model = DevilsDFTD2StageInfection(devil_pop, interventions=\"vaccination\")\n",
    "#     # Simulation\n",
    "#     vacc_sim = Simulation(model=vacc_model)\n",
    "#     # Parameter Sweep Job\n",
    "#     vacc_job = ParameterSweep(model=vacc_model)\n",
    "    \n",
    "# vacc_state = None\n",
    "# vacc_model = DevilsDFTD2StageInfection(devil_pop, interventions=\"vaccination\")\n",
    "vacc_sim = Simulation(model=vacc_model)\n",
    "vacc_job = ParameterSweep(model=vacc_model)"
   ]
  },
  {
   "cell_type": "markdown",
   "metadata": {},
   "source": [
    "### Solver"
   ]
  },
  {
   "cell_type": "code",
   "execution_count": 8,
   "metadata": {},
   "outputs": [],
   "source": [
    "vacc_sol = delayed(TauHybridCSolver)(model=vacc_model, variable=True)"
   ]
  },
  {
   "cell_type": "markdown",
   "metadata": {},
   "source": [
    "### Simulation"
   ]
  },
  {
   "cell_type": "code",
   "execution_count": null,
   "metadata": {
    "execution": {
     "iopub.execute_input": "2022-01-25T15:50:16.095185Z",
     "iopub.status.busy": "2022-01-25T15:50:16.094809Z",
     "iopub.status.idle": "2022-01-25T15:50:59.757246Z",
     "shell.execute_reply": "2022-01-25T15:50:59.758900Z"
    },
    "scrolled": false
   },
   "outputs": [],
   "source": [
    "vacc_sim.configure(solver=vacc_sol)\n",
    "%time _ = vacc_sim.run(use_existing_results=True, verbose=True)"
   ]
  },
  {
   "cell_type": "code",
   "execution_count": null,
   "metadata": {
    "execution": {
     "iopub.execute_input": "2022-01-25T15:51:00.134781Z",
     "iopub.status.busy": "2022-01-25T15:51:00.133839Z",
     "iopub.status.idle": "2022-01-25T15:51:00.137089Z",
     "shell.execute_reply": "2022-01-25T15:51:00.137667Z"
    },
    "scrolled": false
   },
   "outputs": [],
   "source": [
    "vacc_sim.output_dftd_devils_props(print_probs=True)"
   ]
  },
  {
   "cell_type": "markdown",
   "metadata": {},
   "source": [
    "### Visualize Simulation Results"
   ]
  },
  {
   "cell_type": "code",
   "execution_count": null,
   "metadata": {
    "execution": {
     "iopub.execute_input": "2022-01-25T15:50:59.779153Z",
     "iopub.status.busy": "2022-01-25T15:50:59.764261Z",
     "iopub.status.idle": "2022-01-25T15:51:00.128159Z",
     "shell.execute_reply": "2022-01-25T15:51:00.128962Z"
    },
    "scrolled": false
   },
   "outputs": [],
   "source": [
    "vacc_sim.plot()"
   ]
  },
  {
   "cell_type": "markdown",
   "metadata": {},
   "source": [
    "### Parameter Sweep"
   ]
  },
  {
   "cell_type": "code",
   "execution_count": null,
   "metadata": {},
   "outputs": [],
   "source": [
    "params = [\n",
    "        {\"parameter\": \"vaccinated_infection_rate\", \"range\": [0.1, 0.2, 0.4, 0.6]},\n",
    "        {\"parameter\": \"vaccination_proportion\", \"range\": [0.6, 0.8, 1.0]},\n",
    "        {\"parameter\": \"vacc_program_length\", \"range\": [3, 5, 10]},\n",
    "        {\"parameter\": \"vaccine_frequency\", \"range\": [2, 4, 6]}\n",
    "    ]"
   ]
  },
  {
   "cell_type": "code",
   "execution_count": null,
   "metadata": {
    "execution": {
     "iopub.execute_input": "2022-01-25T15:51:00.148415Z",
     "iopub.status.busy": "2022-01-25T15:51:00.148061Z",
     "iopub.status.idle": "2022-01-25T15:51:00.150330Z",
     "shell.execute_reply": "2022-01-25T15:51:00.150741Z"
    },
    "scrolled": false
   },
   "outputs": [],
   "source": [
    "new_params = vacc_job.params != params\n",
    "%time vacc_job.run(solver=vacc_sol, params=params, verbose=True)"
   ]
  },
  {
   "cell_type": "code",
   "execution_count": null,
   "metadata": {
    "execution": {
     "iopub.execute_input": "2022-01-25T15:51:00.155577Z",
     "iopub.status.busy": "2022-01-25T15:51:00.155067Z",
     "iopub.status.idle": "2022-01-25T15:51:00.157028Z",
     "shell.execute_reply": "2022-01-25T15:51:00.157440Z"
    }
   },
   "outputs": [],
   "source": [
    "# if vacc_state is None or new_params:\n",
    "#     tic=time.time()\n",
    "#     vacc_job.load_data()\n",
    "#     print(f\"loading vaccination parameter sweep data completed in {time.time()-tic:.2f}s\")"
   ]
  },
  {
   "cell_type": "code",
   "execution_count": null,
   "metadata": {},
   "outputs": [],
   "source": [
    "for sim in vacc_job.results.values():\n",
    "    print(sim.dftd_elimination, sim.devil_extinction)"
   ]
  },
  {
   "cell_type": "markdown",
   "metadata": {},
   "source": [
    "### Visualize Parameter Sweep Results"
   ]
  },
  {
   "cell_type": "code",
   "execution_count": null,
   "metadata": {
    "execution": {
     "iopub.execute_input": "2022-01-25T15:51:00.208395Z",
     "iopub.status.busy": "2022-01-25T15:51:00.201782Z",
     "iopub.status.idle": "2022-01-25T15:51:00.373858Z",
     "shell.execute_reply": "2022-01-25T15:51:00.374713Z"
    },
    "scrolled": false
   },
   "outputs": [],
   "source": [
    "res_sub_keys=[\"vaccine_frequency:6\", \"vaccination_proportion:0.8\", \"vaccinated_infection_rate:0.6\"]\n",
    "vacc_job.plot_devil_dftd_extinction_over_param(\n",
    "    res_sub_keys=res_sub_keys, key=\"vacc_program_length\", param_label=\"Vaccine Program Length\", units=\"years\"\n",
    ")"
   ]
  },
  {
   "cell_type": "code",
   "execution_count": null,
   "metadata": {
    "execution": {
     "iopub.execute_input": "2022-01-25T15:51:00.382630Z",
     "iopub.status.busy": "2022-01-25T15:51:00.379125Z",
     "iopub.status.idle": "2022-01-25T15:51:00.391089Z",
     "shell.execute_reply": "2022-01-25T15:51:00.390694Z"
    },
    "scrolled": false
   },
   "outputs": [],
   "source": [
    "vacc_job.explore_results()"
   ]
  },
  {
   "cell_type": "markdown",
   "metadata": {},
   "source": [
    "### Store Vaccination State"
   ]
  },
  {
   "cell_type": "code",
   "execution_count": null,
   "metadata": {
    "execution": {
     "iopub.execute_input": "2022-01-25T15:51:00.394811Z",
     "iopub.status.busy": "2022-01-25T15:51:00.394141Z",
     "iopub.status.idle": "2022-01-25T15:51:00.448625Z",
     "shell.execute_reply": "2022-01-25T15:51:00.447994Z"
    }
   },
   "outputs": [],
   "source": [
    "# vacc_state = {\"model\": vacc_model, \"sim\":vacc_sim, \"job\":vacc_job}\n",
    "# with open(vacc_state_path, \"wb\") as vacc_state_file:\n",
    "#     pickle.dump(vacc_state, vacc_state_file)"
   ]
  },
  {
   "cell_type": "markdown",
   "metadata": {},
   "source": [
    "## With Culling Intervention\n",
    "### Load existing state"
   ]
  },
  {
   "cell_type": "code",
   "execution_count": null,
   "metadata": {},
   "outputs": [],
   "source": [
    "cull_state_path = \"./DevilsDFTD2StageInfectionWithCullingState.p\"\n",
    "if os.path.exists(cull_state_path):\n",
    "    with open(cull_state_path, \"rb\") as cull_state_file:\n",
    "        cull_state = pickle.load(cull_state_file)\n",
    "        \n",
    "    # Model\n",
    "    cull_model = cull_state['model']\n",
    "    # Simulation\n",
    "    cull_sim = Simulation.load_state(cull_state['sim'])\n",
    "    # Parameter Sweep Job\n",
    "    cull_job = ParameterSweep.load_state(cull_state['job'])\n",
    "else:\n",
    "    cull_state = None\n",
    "    print(\"No existing vaccination state found.\")\n",
    "\n",
    "    # Model\n",
    "    cull_model = DevilsDFTD2StageInfection(devil_pop, interventions=\"culling\")\n",
    "    # Simulation\n",
    "    cull_sim = Simulation(model=cull_model)\n",
    "    # Parameter Sweep Job\n",
    "    cull_job = ParameterSweep(model=cull_model)"
   ]
  },
  {
   "cell_type": "markdown",
   "metadata": {},
   "source": [
    "### Solver"
   ]
  },
  {
   "cell_type": "code",
   "execution_count": null,
   "metadata": {},
   "outputs": [],
   "source": [
    "cull_sol = delayed(TauHybridCSolver)(model=cull_model, variable=True)"
   ]
  },
  {
   "cell_type": "markdown",
   "metadata": {},
   "source": [
    "### Simulation"
   ]
  },
  {
   "cell_type": "code",
   "execution_count": null,
   "metadata": {},
   "outputs": [],
   "source": [
    "cull_sim.configure(solver=cull_sol)\n",
    "%time _ = cull_sim.run(use_existing_results=True)"
   ]
  },
  {
   "cell_type": "code",
   "execution_count": null,
   "metadata": {},
   "outputs": [],
   "source": [
    "cull_sim.output_dftd_devils_probs(print_props=True)"
   ]
  },
  {
   "cell_type": "markdown",
   "metadata": {},
   "source": [
    "### Visualize Simulation Results"
   ]
  },
  {
   "cell_type": "code",
   "execution_count": null,
   "metadata": {},
   "outputs": [],
   "source": [
    "cull_sim.plot()"
   ]
  },
  {
   "cell_type": "markdown",
   "metadata": {},
   "source": [
    "### Parameter Sweep"
   ]
  },
  {
   "cell_type": "code",
   "execution_count": null,
   "metadata": {},
   "outputs": [],
   "source": [
    "params = [\n",
    "    {\"parameter\": \"cull_rate_diseased\", \"range\": [0.25, 0.5, 0.75]},\n",
    "    {\"parameter\": \"cull_program_length\", \"range\": [3, 5, 10]}\n",
    "]"
   ]
  },
  {
   "cell_type": "code",
   "execution_count": null,
   "metadata": {},
   "outputs": [],
   "source": [
    "new_params = cull_job.params != params\n",
    "%time cull_job.run(solver=cull_sol, params=params, verbose=True)"
   ]
  },
  {
   "cell_type": "code",
   "execution_count": null,
   "metadata": {},
   "outputs": [],
   "source": [
    "# if cull_state is None or new_params:\n",
    "#     tic=time.time()\n",
    "#     cull_job.load_data()\n",
    "#     print(f\"loading culling parameter sweep data completed in {time.time()-tic:.2f}s\")"
   ]
  },
  {
   "cell_type": "markdown",
   "metadata": {},
   "source": [
    "### Visualize Parameter Sweep Results"
   ]
  },
  {
   "cell_type": "code",
   "execution_count": null,
   "metadata": {},
   "outputs": [],
   "source": [
    "res_sub_keys = [\"cull_rate_diseased:0.5\"]\n",
    "cull_job.plot_devil_dftd_extinction_over_param(\n",
    "    res_sub_keys=res_sub_keys, key=\"cull_program_length\", param_label=\"Culling Program Length\", units=\"years\"\n",
    ")"
   ]
  },
  {
   "cell_type": "code",
   "execution_count": null,
   "metadata": {},
   "outputs": [],
   "source": [
    "cull_job.explore_results()"
   ]
  },
  {
   "cell_type": "markdown",
   "metadata": {},
   "source": [
    "### Store Culling State"
   ]
  },
  {
   "cell_type": "code",
   "execution_count": null,
   "metadata": {},
   "outputs": [],
   "source": [
    "# cull_state = {\"model\": cull_model, \"sim\":cull_sim, \"job\":cull_job}\n",
    "# with open(cull_state_path, \"wb\") as cull_state_file:\n",
    "#     pickle.dump(cull_state, cull_state_file)"
   ]
  }
 ],
 "metadata": {
  "kernelspec": {
   "display_name": "Python 3 (ipykernel)",
   "language": "python",
   "name": "python3"
  },
  "language_info": {
   "codemirror_mode": {
    "name": "ipython",
    "version": 3
   },
   "file_extension": ".py",
   "mimetype": "text/x-python",
   "name": "python",
   "nbconvert_exporter": "python",
   "pygments_lexer": "ipython3",
   "version": "3.9.9"
  }
 },
 "nbformat": 4,
 "nbformat_minor": 4
}
