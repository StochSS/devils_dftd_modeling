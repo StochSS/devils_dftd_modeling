{
 "cells": [
  {
   "cell_type": "code",
   "execution_count": 1,
   "metadata": {
    "execution": {
     "iopub.execute_input": "2022-01-25T15:50:15.077712Z",
     "iopub.status.busy": "2022-01-25T15:50:15.077179Z",
     "iopub.status.idle": "2022-01-25T15:50:15.881162Z",
     "shell.execute_reply": "2022-01-25T15:50:15.881502Z"
    }
   },
   "outputs": [],
   "source": [
    "import os\n",
    "import time\n",
    "import json\n",
    "import copy\n",
    "import pickle\n",
    "import numpy as np\n",
    "import pandas as pd\n",
    "\n",
    "import sys\n",
    "sys.path.insert(1, '../../GillesPy2/')\n",
    "import gillespy2\n",
    "from gillespy2 import Model, Species, Parameter, Reaction, Event, \\\n",
    "                      EventTrigger, EventAssignment, export_StochSS\n",
    "from gillespy2 import TauHybridCSolver\n",
    "\n",
    "import matplotlib.pyplot as plt\n",
    "\n",
    "from __future__ import print_function\n",
    "from ipywidgets import interact, interactive, fixed, interact_manual, interactive_output\n",
    "import ipywidgets as widgets\n",
    "from IPython.display import display\n",
    "\n",
    "from dask.distributed import Client\n",
    "from dask import delayed, compute"
   ]
  },
  {
   "cell_type": "code",
   "execution_count": 2,
   "metadata": {},
   "outputs": [],
   "source": [
    "c = Client(n_workers=2, threads_per_worker=4)"
   ]
  },
  {
   "cell_type": "markdown",
   "metadata": {},
   "source": [
    "# Devils DFTD 2-Stage Infection with Vaccination"
   ]
  },
  {
   "cell_type": "markdown",
   "metadata": {},
   "source": [
    "## Read in observed data"
   ]
  },
  {
   "cell_type": "code",
   "execution_count": 3,
   "metadata": {
    "execution": {
     "iopub.execute_input": "2022-01-25T15:50:15.885669Z",
     "iopub.status.busy": "2022-01-25T15:50:15.885083Z",
     "iopub.status.idle": "2022-01-25T15:50:15.889316Z",
     "shell.execute_reply": "2022-01-25T15:50:15.889766Z"
    }
   },
   "outputs": [],
   "source": [
    "# pop_data = pd.read_csv('../year_data/devil_data_v2.csv')\n",
    "pop_data = pd.read_csv('../month_data/Devils_Dataset__Population_1985-2020.csv')\n",
    "\n",
    "devil_pop = np.array(pop_data['Population'].iloc[:].values)\n",
    "\n",
    "obs = np.vstack([devil_pop]).reshape(1, 1, -1)"
   ]
  },
  {
   "cell_type": "code",
   "execution_count": 4,
   "metadata": {
    "execution": {
     "iopub.execute_input": "2022-01-25T15:50:15.894203Z",
     "iopub.status.busy": "2022-01-25T15:50:15.893593Z",
     "iopub.status.idle": "2022-01-25T15:50:15.895075Z",
     "shell.execute_reply": "2022-01-25T15:50:15.895585Z"
    }
   },
   "outputs": [],
   "source": [
    "dates = []\n",
    "year = 1985\n",
    "while len(dates) < 1001:\n",
    "    for month in [\"Jan\", \"Feb\", \"Mar\", \"Apr\", \"May\", \"Jun\", \"Jul\", \"Aug\", \"Sept\", \"Oct\", \"Nov\", \"Dec\"]:\n",
    "        dates.append(f\"{month} {year}\")\n",
    "    year += 1"
   ]
  },
  {
   "cell_type": "code",
   "execution_count": 5,
   "metadata": {
    "execution": {
     "iopub.execute_input": "2022-01-25T15:50:15.899122Z",
     "iopub.status.busy": "2022-01-25T15:50:15.898512Z",
     "iopub.status.idle": "2022-01-25T15:50:15.900390Z",
     "shell.execute_reply": "2022-01-25T15:50:15.900889Z"
    }
   },
   "outputs": [],
   "source": [
    "with open(\"./units_labels.json\", \"r\") as ul_file:\n",
    "    units_labels = json.load(ul_file)"
   ]
  },
  {
   "cell_type": "markdown",
   "metadata": {},
   "source": [
    "## Model"
   ]
  },
  {
   "cell_type": "code",
   "execution_count": 6,
   "metadata": {
    "execution": {
     "iopub.execute_input": "2022-01-25T15:50:15.923128Z",
     "iopub.status.busy": "2022-01-25T15:50:15.922514Z",
     "iopub.status.idle": "2022-01-25T15:50:15.925110Z",
     "shell.execute_reply": "2022-01-25T15:50:15.924503Z"
    }
   },
   "outputs": [],
   "source": [
    "class DevilsDFTD2StageInfectionWithVaccination(Model):\n",
    "    def __init__(self, values=None):\n",
    "        Model.__init__(self, name=\"Devils DFTD 2-Stage Infection with Vaccination\")\n",
    "        self.volume = 1\n",
    "\n",
    "        # Parameters (Pre-Vaccination)\n",
    "        birth_rate = Parameter(name=\"birth_rate\", expression=\"0.055\")\n",
    "        death_rate_diseased = Parameter(name=\"death_rate_diseased\", expression=\"0.29134996217062514\")\n",
    "        death_rate_infected = Parameter(name=\"death_rate_infected\", expression=\"0.01966\")\n",
    "        death_rate_juvenile = Parameter(name=\"death_rate_juvenile\", expression=\"0.006\")\n",
    "        death_rate_over_population = Parameter(name=\"death_rate_over_population\", expression=\"2.3e-07\")\n",
    "        death_rate_susceptible = Parameter(name=\"death_rate_susceptible\", expression=\"0.02335\")\n",
    "        incubation = Parameter(name=\"incubation\", expression=\"10.0\")\n",
    "        infection_rate_diseased = Parameter(name=\"infection_rate_diseased\", expression=\"3.2e-05\")\n",
    "        infection_rate_infected = Parameter(name=\"infection_rate_infected\", expression=\"1.1e-05\")\n",
    "        maturity_rate = Parameter(name=\"maturity_rate\", expression=\"0.04167\")\n",
    "        progression = Parameter(name=\"progression\", expression=\"10.746230534983676\")\n",
    "        DFTD_introduction = Parameter(name=\"DFTD_introduction\", expression=\"97\")\n",
    "        self.add_parameter([\n",
    "            birth_rate, death_rate_diseased, death_rate_infected, death_rate_juvenile, death_rate_over_population,\n",
    "            death_rate_susceptible, incubation, infection_rate_diseased, infection_rate_infected,\n",
    "            maturity_rate, progression, DFTD_introduction\n",
    "        ])\n",
    "        \n",
    "        # Parameters (Vaccination)\n",
    "        vaccinated_infection_rate = Parameter(\n",
    "            name=\"vaccinated_infection_rate\", expression=\"0.6\"\n",
    "        )\n",
    "        vaccination_proportion = Parameter(name=\"vaccination_proportion\", expression=\"0.8\")\n",
    "        vaccine_frequency = Parameter(name=\"vaccine_frequency\", expression=\"2\")\n",
    "        vaccine_start = Parameter(name=\"vaccine_start\", expression=\"444\")\n",
    "        vaccine_time = Parameter(name=\"vaccine_time\", expression=\"0\")\n",
    "        vacc_program_length = Parameter(name=\"vacc_program_length\", expression=\"5\")\n",
    "        vacc_program_countdown = Parameter(name=\"vacc_program_countdown\", expression=\"0\")\n",
    "        self.add_parameter([\n",
    "            vaccinated_infection_rate, vaccination_proportion, vaccine_frequency, vaccine_start,\n",
    "            vaccine_time, vacc_program_length, vacc_program_countdown\n",
    "        ])\n",
    "        \n",
    "        # Variables (Pre-Vaccination)\n",
    "        init_Devils_pop = round(devil_pop[0])\n",
    "        init_J_pop = round(devil_pop[0] * 0.467)\n",
    "        init_S_pop = round(devil_pop[0] - init_J_pop)\n",
    "        \n",
    "        Devils = Species(name=\"Devils\", initial_value=init_Devils_pop, mode=\"discrete\")\n",
    "        Diseased = Species(name=\"Diseased\", initial_value=0, mode=\"discrete\")\n",
    "        Exposed = Species(name=\"Exposed\", initial_value=0, mode=\"discrete\")\n",
    "        Infected = Species(name=\"Infected\", initial_value=0, mode=\"discrete\")\n",
    "        Juvenile = Species(name=\"Juvenile\", initial_value=init_S_pop, mode=\"discrete\")\n",
    "        Susceptible = Species(name=\"Susceptible\", initial_value=init_J_pop, mode=\"discrete\")\n",
    "        self.add_species([Devils, Diseased, Exposed, Infected, Juvenile, Susceptible])\n",
    "        \n",
    "        # Variables (Vaccination)\n",
    "        Vaccinated = Species(name=\"Vaccinated\", initial_value=0, mode=\"discrete\")\n",
    "        self.add_species(Vaccinated)\n",
    "        \n",
    "        # Reactions (Pre-Vaccination)\n",
    "        Birth = Reaction(name=\"Birth\",\n",
    "            reactants={}, products={'Juvenile': 1, 'Devils': 1},\n",
    "            propensity_function=\"birth_rate * (Susceptible + Exposed + Infected + Vaccinated)\"\n",
    "        )\n",
    "        Mature = Reaction(name=\"Mature\",\n",
    "            reactants={'Juvenile': 1}, products={'Susceptible': 1},\n",
    "            propensity_function=\"Juvenile * maturity_rate\"\n",
    "        )\n",
    "        Death_Diseased = Reaction(name=\"Death_Diseased\",\n",
    "            reactants={'Diseased': 1, 'Devils': 1}, products={},\n",
    "            propensity_function=\"death_rate_diseased * Diseased\"\n",
    "        )\n",
    "        Death_Diseased2 = Reaction(name=\"Death_Diseased2\",\n",
    "            reactants={'Diseased': 1, 'Devils': 1}, products={},\n",
    "            propensity_function=\"death_rate_over_population * Diseased * (Devils - 1)\"\n",
    "        )\n",
    "        Death_Exposed = Reaction(name=\"Death_Exposed\",\n",
    "            reactants={'Devils': 1, 'Exposed': 1}, products={},\n",
    "            propensity_function=\"death_rate_susceptible * Exposed\"\n",
    "        )\n",
    "        Death_Exposed2 = Reaction(name=\"Death_Exposed2\",\n",
    "            reactants={'Devils': 1, 'Exposed': 1}, products={},\n",
    "            propensity_function=\"death_rate_over_population * Exposed * (Devils - 1)\"\n",
    "        )\n",
    "        Death_Infected = Reaction(name=\"Death_Infected\",\n",
    "            reactants={'Infected': 1, 'Devils': 1}, products={},\n",
    "            propensity_function=\"death_rate_infected * Infected\"\n",
    "        )\n",
    "        Death_Infected2 = Reaction(name=\"Death_Infected2\",\n",
    "            reactants={'Infected': 1, 'Devils': 1}, products={},\n",
    "            propensity_function=\"death_rate_over_population * Infected * (Devils-1)\"\n",
    "        )\n",
    "        Death_Juvenile = Reaction(name=\"Death_Juvenile\",\n",
    "            reactants={'Juvenile': 1, 'Devils': 1}, products={},\n",
    "            propensity_function=\"death_rate_juvenile * Juvenile\"\n",
    "        )\n",
    "        Death_Juvenile2 = Reaction(name=\"Death_Juvenile2\",\n",
    "            reactants={'Juvenile': 1, 'Devils': 1}, products={},\n",
    "            propensity_function=\"death_rate_over_population * Juvenile * (Devils-1)\"\n",
    "        )\n",
    "        Death_Susceptible = Reaction(name=\"Death_Susceptible\",\n",
    "            reactants={'Susceptible': 1, 'Devils': 1}, products={},\n",
    "            propensity_function=\"death_rate_susceptible * Susceptible\"\n",
    "        )\n",
    "        Death_Susceptible2 = Reaction(name=\"Death_Susceptible2\",\n",
    "            reactants={'Susceptible': 1, 'Devils': 1}, products={},\n",
    "            propensity_function=\"death_rate_over_population * Susceptible * (Devils-1)\"\n",
    "        )\n",
    "        DFTD_Stage1 = Reaction(name=\"DFTD_Stage1\",\n",
    "            reactants={'Exposed': 1}, products={'Infected': 1},\n",
    "            propensity_function=\"Exposed / incubation\"\n",
    "        )\n",
    "        DFTD_Stage2 = Reaction(name=\"DFTD_Stage2\",\n",
    "            reactants={'Infected': 1}, products={'Diseased': 1},\n",
    "            propensity_function=\"Infected / progression\"\n",
    "        )\n",
    "        TransmissionD = Reaction(name=\"TransmissionD\",\n",
    "            reactants={'Susceptible': 1, 'Diseased': 1}, products={'Exposed': 1, 'Diseased': 1},\n",
    "            propensity_function=\"infection_rate_diseased * Susceptible * Diseased\"\n",
    "        )\n",
    "        TransmissionI = Reaction(name=\"TransmissionI\",\n",
    "            reactants={'Susceptible': 1, 'Infected': 1}, products={'Exposed': 1, 'Infected': 1},\n",
    "            propensity_function=\"infection_rate_infected * Susceptible * Infected\"\n",
    "        )\n",
    "        self.add_reaction([\n",
    "            Birth, Mature, Death_Diseased, Death_Diseased2, Death_Exposed, Death_Exposed2, Death_Infected,\n",
    "            Death_Infected2, Death_Juvenile, Death_Juvenile2, Death_Susceptible, Death_Susceptible2,\n",
    "            DFTD_Stage1, DFTD_Stage2, TransmissionD, TransmissionI\n",
    "        ])\n",
    "        \n",
    "        # Reactions (Vaccination)\n",
    "        Vaccine_Failure_I = Reaction(name=\"Vaccine_Failure_I\",\n",
    "            reactants={'Vaccinated': 1, 'Infected': 1}, products={'Exposed': 1, 'Infected': 1},\n",
    "            propensity_function=\"infection_rate_infected * vaccinated_infection_rate * Vaccinated * Infected / \\\n",
    "                                        (Susceptible + Exposed + Infected + Vaccinated + Diseased + Juvenile)\"\n",
    "        )\n",
    "        Vaccine_Failure_D = Reaction(name=\"Vaccine_Failure_D\",\n",
    "            reactants={'Vaccinated': 1, 'Diseased': 1}, products={'Exposed': 1, 'Diseased': 1},\n",
    "            propensity_function=\"infection_rate_diseased * vaccinated_infection_rate * Vaccinated * Diseased / \\\n",
    "                                        (Susceptible + Exposed + Infected + Vaccinated + Diseased + Juvenile)\"\n",
    "        )\n",
    "        Death_Vaccinated = Reaction(name=\"Death_Vaccinated\",\n",
    "            reactants={'Devils': 1, 'Vaccinated': 1}, products={},\n",
    "            propensity_function=\"death_rate_susceptible * Vaccinated\"\n",
    "        )\n",
    "        Death_Vaccinated2 = Reaction(name=\"Death_Vaccinated2\",\n",
    "            reactants={'Devils': 1, 'Vaccinated': 1}, products={},\n",
    "            propensity_function=\"death_rate_over_population * Vaccinated * (Devils - 1)\"\n",
    "        )\n",
    "        self.add_reaction([Vaccine_Failure_I, Vaccine_Failure_D, Death_Vaccinated, Death_Vaccinated2])\n",
    "        \n",
    "        # Event Triggers\n",
    "        DFTD_Introduction_trig = EventTrigger(\n",
    "            expression=\"t >= DFTD_introduction\",initial_value=False, persistent=False\n",
    "        )\n",
    "        Vaccination_Start_trig = EventTrigger(\n",
    "            expression=\"t >= vaccine_start and vacc_program_length > 0\", initial_value=False, persistent=True\n",
    "        )\n",
    "        Vaccination_trig = EventTrigger(\n",
    "            expression=\"t >= vaccine_time and vacc_program_countdown > 0\", initial_value=False, persistent=True\n",
    "        )\n",
    "\n",
    "        # Event Assignments\n",
    "        DFTD_Introduction_assign_1 = EventAssignment(variable=\"Infected\", expression=\"1\")\n",
    "        DFTD_Introduction_assign_2 = EventAssignment(variable=\"Susceptible\", expression=\"Susceptible - 1\")\n",
    "        Vaccination_Start_assign_1 = EventAssignment(\n",
    "            variable=\"vaccine_time\", expression=\"vaccine_start + 12 / vaccine_frequency\"\n",
    "        )\n",
    "        Vaccination_Start_assign_2 = EventAssignment(\n",
    "            variable=\"vacc_program_countdown\",\n",
    "            expression=\"(12 * vacc_program_length) - (12 / vaccine_frequency)\"\n",
    "        )\n",
    "        Vaccination_assign_1 = EventAssignment(\n",
    "            variable=\"vaccine_time\", expression=\"vaccine_time + 12 / vaccine_frequency\"\n",
    "        )\n",
    "        Vaccination_assign_2 = EventAssignment(\n",
    "            variable=\"vacc_program_countdown\", expression=\"vacc_program_countdown - (12 / vaccine_frequency)\"\n",
    "        )\n",
    "        Vaccination_assign_3 = EventAssignment(\n",
    "            variable=\"Vaccinated\", expression=\"Vaccinated + round(Susceptible * vaccination_proportion)\"\n",
    "        )\n",
    "        Vaccination_assign_4 = EventAssignment(\n",
    "            variable=\"Susceptible\", expression=\"round(Susceptible * (1 - vaccination_proportion))\"\n",
    "        )\n",
    "\n",
    "        # Events\n",
    "        DFTD_Introduction = Event(\n",
    "            name=\"DFTD_Introduction\", trigger=DFTD_Introduction_trig, use_values_from_trigger_time=False,\n",
    "            assignments=[DFTD_Introduction_assign_1, DFTD_Introduction_assign_2], delay=None, priority=\"0\"\n",
    "        )\n",
    "        Vaccination_Start = Event(\n",
    "            name=\"Vaccination_Start\", trigger=Vaccination_Start_trig, delay=None, priority=\"1\", \n",
    "            use_values_from_trigger_time=True,\n",
    "            assignments=[Vaccination_Start_assign_1, Vaccination_Start_assign_2,\n",
    "                         Vaccination_assign_3, Vaccination_assign_4]\n",
    "        )\n",
    "        Vaccination_Program = Event(\n",
    "            name=\"Vaccination_Event\", trigger=Vaccination_trig, delay=None, priority=\"2\", \n",
    "            use_values_from_trigger_time=True, assignments=[\n",
    "                Vaccination_assign_1, Vaccination_assign_2, Vaccination_assign_3, Vaccination_assign_4\n",
    "            ]\n",
    "        )\n",
    "        self.add_event(DFTD_Introduction)\n",
    "        self.add_event(Vaccination_Start)\n",
    "        self.add_event(Vaccination_Program)\n",
    "\n",
    "        # Timespan\n",
    "        self.timespan(np.arange(0, 1001, 1))\n",
    "        \n",
    "    def run(self, **kwargs):\n",
    "        results = super().run(**kwargs)\n",
    "        attempts = 0\n",
    "        Dftd = results['Infected'][-1] + results['Exposed'][-1] + results['Diseased'][-1]\n",
    "        devils = Dftd + results['Juvenile'][-1] + results['Susceptible'][-1] + results['Vaccinated'][-1]\n",
    "        while results['Infected'][300] <= 0 or devils <= 0:\n",
    "            results = super().run(**kwargs)\n",
    "            Dftd = results['Infected'][-1] + results['Exposed'][-1] + results['Diseased'][-1]\n",
    "            devils = Dftd + results['Juvenile'][-1] + results['Susceptible'][-1] + results['Vaccinated'][-1]\n",
    "            attempts += 1\n",
    "        return results, attempts"
   ]
  },
  {
   "cell_type": "markdown",
   "metadata": {},
   "source": [
    "## Simulation"
   ]
  },
  {
   "cell_type": "code",
   "execution_count": 7,
   "metadata": {
    "execution": {
     "iopub.execute_input": "2022-01-25T15:50:15.943904Z",
     "iopub.status.busy": "2022-01-25T15:50:15.943081Z",
     "iopub.status.idle": "2022-01-25T15:50:15.945790Z",
     "shell.execute_reply": "2022-01-25T15:50:15.944974Z"
    }
   },
   "outputs": [],
   "source": [
    "class Simulation:\n",
    "    def __init__(self, model, kwargs=None, variables=None):\n",
    "        self.result = None\n",
    "        self.variables = variables\n",
    "        self.model = model\n",
    "        self.kwagrs = kwargs\n",
    "        self.dftd_elimination = None\n",
    "        self.devil_extinction = None\n",
    "    \n",
    "    def __compute_dftd_prob(self, result):\n",
    "        Dftd = result['Infected'] + result['Exposed'] + result['Diseased']\n",
    "        if min(Dftd[400:]) == 0.0:\n",
    "            self.dftd_elimination += 1\n",
    "        return Dftd\n",
    "    \n",
    "    def __compute_devil_prob(self, result, Dftd):\n",
    "        Devils = Dftd + result['Juvenile'] + result['Susceptible'] + result['Vaccinated']\n",
    "        if min(Devils[400:]) == 0.0:\n",
    "            self.devil_extinction += 1\n",
    "    \n",
    "    def __load_prob_sims(self, sim_count):\n",
    "        if self.kwargs is None:\n",
    "            self.configure()\n",
    "        prob_sims = []\n",
    "        for _ in range(sim_count):\n",
    "            sim_thread = delayed(self.model.run)(**self.kwargs)\n",
    "            prob_sims.append(sim_thread)\n",
    "        return prob_sims\n",
    "    \n",
    "    def __run_vaccine_period(self, resume, t, args):\n",
    "        if 'vaccination_proportion' in args['variables']:\n",
    "            vaccination_proportion = args['variables']['vaccination_proportion']\n",
    "        else:\n",
    "            vaccination_proportion = self.model.listOfParameters['vaccination_proportion'].value\n",
    "        sus_pop = resume[0]['Susceptible'][-1]\n",
    "        vacc_pop = resume[0]['Vaccinated'][-1]\n",
    "        new_vacc_pop = int(sus_pop * vaccination_proportion)\n",
    "        args['variables']['Vaccinated'] = int(vacc_pop + new_vacc_pop)\n",
    "        args['variables']['Susceptible'] = int(sus_pop - new_vacc_pop)\n",
    "        return self.model.run(resume=resume, t=t, **args)\n",
    "    \n",
    "    def compute_dftd_devils_probs(self, verbose=True, return_probs=False):\n",
    "        if verbose: print(self.variables)\n",
    "        if self.dftd_elimination is not None and self.devil_extinction is not None:\n",
    "            if return_probs:\n",
    "                return self.dftd_elimination, self.devil_extinction\n",
    "            print(f\"DFTD elimination: {self.dftd_elimination}%\")\n",
    "            print(f\"Devil extinction: {self.devil_extinction}%\")\n",
    "            return\n",
    "        sim_count = 100\n",
    "        self.dftd_elimination = 0\n",
    "        self.devil_extinction = 0\n",
    "        if self.result is not None:\n",
    "            sim_count -= 1\n",
    "            Dftd = self.__compute_dftd_prob(self.result)\n",
    "            self.__compute_devil_prob(self.result, Dftd)\n",
    "        prob_sims = self.__load_prob_sims(sim_count)\n",
    "        prob_results = compute(*prob_sims, schedular=\"threads\")\n",
    "        failed_attempts = 0\n",
    "        for (result, attempts) in prob_results:\n",
    "            if verbose: print(\".\", end='')\n",
    "            Dftd = self.__compute_dftd_prob(result)\n",
    "            self.__compute_devil_prob(result, Dftd)\n",
    "            failed_attempts += attempts\n",
    "        if verbose: print(f\"'nFailed Attempts: {failed_attempts}\")\n",
    "        if return_probs:\n",
    "            return self.dftd_elimination, self.devil_extinction\n",
    "        print(f\"DFTD elimination: {self.dftd_elimination}%\")\n",
    "        print(f\"Devil extinction: {self.devil_extinction}%\")\n",
    "    \n",
    "    def configure(self):\n",
    "        self.kwargs = {\n",
    "            \"solver\": solver,\n",
    "            \"number_of_trajectories\": 1,\n",
    "        }\n",
    "    \n",
    "    def plot(self, start=0, alpha=0.3, plot_observed=False):\n",
    "        carry_cap = int(max(devil_pop)*1.16)\n",
    "        dftd_start = int(self.result.model.listOfParameters['DFTD_introduction'].value)\n",
    "        if self.variables is not None and \"vaccine_start\" in self.variables.keys():\n",
    "            vaccine_start = self.variables['vaccine_start']\n",
    "        else:\n",
    "            vaccine_start = int(self.result.model.listOfParameters['vaccine_start'].value)\n",
    "            \n",
    "        if self.variables is None or 'vacc_program_length' not in self.variables:\n",
    "            vacc_program_length = self.result.model.listOfParameters['vacc_program_length'].value\n",
    "            vaccine_end = vaccine_start + 12 * int(vacc_program_length)\n",
    "        else:\n",
    "            vaccine_end = vaccine_start + 12 * int(self.variables['vacc_program_length'])\n",
    "\n",
    "        spec_list = [self.result['Juvenile'], self.result['Susceptible'], self.result['Exposed'],\n",
    "                     self.result['Infected'], self.result['Diseased'], self.result['Vaccinated']]\n",
    "        total_devils = np.add.reduce(spec_list)\n",
    "        x = self.result['time'][start:]\n",
    "        text_offset = (self.result['time'].size - start) / 601\n",
    "        \n",
    "        fig, ax1 = plt.subplots(figsize=[15, 8])\n",
    "        plt.title(\"Tasmanian Devil Population with DFTD: Vaccination Program\", fontsize=18)\n",
    "        ax1.set_xlabel(f\"Time (months) since {dates[start]}\", fontsize=14)\n",
    "        ax1.set_ylabel(\"Population of Tasmanian Devils\", fontsize=14)\n",
    "        ax1.plot(x, total_devils[start:], color='blue', label='Total Devils')\n",
    "        ax1.plot(x, self.result['Juvenile'][start:], color='purple', alpha=alpha, label='Juvenile')\n",
    "        ax1.plot(x, self.result['Susceptible'][start:], color='green', alpha=alpha, label='Susceptible')\n",
    "        ax1.plot(x, self.result['Exposed'][start:], color='magenta', alpha=alpha, label='Exposed')\n",
    "        ax1.plot(x, self.result['Infected'][start:], color='red', alpha=alpha, label='Infected')\n",
    "        ax1.plot(x, self.result['Diseased'][start:], color='brown', alpha=alpha, label='Diseased')\n",
    "        \n",
    "        if plot_observed:\n",
    "            ax1.plot(range(len(devil_pop)), devil_pop, '--k', label='Observed')\n",
    "        \n",
    "        # DFTD Introduction\n",
    "        if start <= dftd_start:\n",
    "            ax1.plot([dftd_start, dftd_start], [-3000, carry_cap], '--k', alpha=0.3)\n",
    "            ax1.text(dftd_start - 10 * text_offset, 45000, \"DFTD Introduced\",\n",
    "                     rotation=\"vertical\", color=\"black\", fontsize=12)\n",
    "            ax1.text(dftd_start + 3 * text_offset, 48000, dates[dftd_start],\n",
    "                     rotation=\"vertical\", color=\"black\", fontsize=12)\n",
    "        \n",
    "        # Vaccination\n",
    "        if vaccine_start < vaccine_end:\n",
    "            ax1.plot(x, self.result['Vaccinated'][start:], color='cyan', alpha=alpha, label='Vaccinated')\n",
    "            ax1.plot([vaccine_start, vaccine_start], [-3000, carry_cap - 3000], '--k', alpha=0.3)\n",
    "            ax1.plot([vaccine_end, vaccine_end], [-3000, carry_cap - 3000], '--k', alpha=0.3)\n",
    "            ax1.plot([vaccine_start, vaccine_end], [carry_cap - 3000, carry_cap - 3000], '--k', alpha=0.3)\n",
    "            ax1.text(vaccine_start, carry_cap - 2300, f\"Vaccine: {dates[vaccine_start]} - {dates[vaccine_end]}\",\n",
    "                     color=\"black\", fontsize=12)\n",
    "            \n",
    "        ax1.set_ylim(-3000, carry_cap)\n",
    "        ax1.set_xlim(-5, 1005)\n",
    "        ax1.tick_params(axis='x', labelsize=12)\n",
    "        ax1.tick_params(axis='y',labelsize=12, labelrotation=90)\n",
    "        ax1.legend(loc='upper right', fontsize=12)\n",
    "        fig.tight_layout()\n",
    "    \n",
    "    def run(self, return_results=False, use_existing_results=False, verbose=False):\n",
    "        if self.result is not None and use_existing_results:\n",
    "            return\n",
    "                \n",
    "        result, attempts = self.model.run(**self.kwargs)\n",
    "        if verbose: print(f\"Failed Attempts: {attempts}\")\n",
    "        if return_results:\n",
    "            return result\n",
    "        else:\n",
    "            self.result = result\n",
    "            return self\n",
    "#         run_args = copy.deepcopy(self.kwargs)\n",
    "#         if \"variables\" not in run_args:\n",
    "#             orig_vars = {}\n",
    "#             run_args['variables'] = {}\n",
    "#         else:\n",
    "#             orig_vars = copy.deepcopy(run_args['variables'])\n",
    "\n",
    "#         # Run Pre-infection Period\n",
    "#         self.model.resolve_parameters()\n",
    "#         if 'DFTD_introduction' in run_args['variables']:\n",
    "#             dfdt_intro = run_args['variables']['DFTD_introduction']\n",
    "#         else:\n",
    "#             dfdt_intro = self.model.listOfParameters['DFTD_introduction'].value\n",
    "#         res1 = self.model.run(**run_args, t=dfdt_intro - 1)\n",
    "\n",
    "#         # Configure Infection Period\n",
    "#         run_args['variables']['Infected'] = \"1\"\n",
    "#         run_args['variables']['Susceptible'] = f\"{int(res1[0]['Susceptible'][-1] - 1)}\"\n",
    "#         if 'vaccine_time' in run_args['variables']:\n",
    "#             vaccine_time = run_args['variables']['vaccine_time']\n",
    "#         else:\n",
    "#             vaccine_time = self.model.listOfParameters['vaccine_time'].value\n",
    "\n",
    "#         # Run Infection Period\n",
    "#         prog_start = 444 + vaccine_time\n",
    "#         result = self.model.run(resume=res1, t=prog_start, **run_args)\n",
    "#         while result['Infected'][-1] <= 0:\n",
    "#             result = self.model.run(resume=res1, t=prog_start - 1, **run_args)\n",
    "\n",
    "#         # Configure Vaccination Period\n",
    "#         if 'vaccine_frequency' in run_args['variables']:\n",
    "#             vaccine_frequency = run_args['variables']['vaccine_frequency']\n",
    "#         else:\n",
    "#             vaccine_frequency = self.model.listOfParameters['vaccine_frequency'].value\n",
    "#         if 'program_length' in run_args['variables']:\n",
    "#             program_length = run_args['variables']['program_length']\n",
    "#         else:\n",
    "#             program_length = self.model.listOfParameters['program_length'].value\n",
    "\n",
    "#         # Run Vaccination Period\n",
    "#         prog_inter = 12 / vaccine_frequency\n",
    "#         prog_end = prog_start + program_length * 12\n",
    "#         t = prog_start\n",
    "#         while t < prog_end:\n",
    "#             t += prog_inter\n",
    "#             run_args['variables'] = orig_vars\n",
    "#             result = self.__run_vaccine_period(result, t - 1, run_args)\n",
    "#             if \"Vaccinated\" in orig_vars:\n",
    "#                 del orig_vars['Vaccinated']\n",
    "#                 del orig_vars['Susceptible']\n",
    "\n",
    "#         run_args['variables'] = orig_vars\n",
    "#         res4 = self.model.run(resume=result, **run_args)\n",
    "#         if return_results:\n",
    "#             return res4\n",
    "#         else:\n",
    "#             self.result = res4"
   ]
  },
  {
   "cell_type": "markdown",
   "metadata": {},
   "source": [
    "## Parameter Sweep Job"
   ]
  },
  {
   "cell_type": "code",
   "execution_count": 8,
   "metadata": {
    "execution": {
     "iopub.execute_input": "2022-01-25T15:50:16.014143Z",
     "iopub.status.busy": "2022-01-25T15:50:16.012201Z",
     "iopub.status.idle": "2022-01-25T15:50:16.015480Z",
     "shell.execute_reply": "2022-01-25T15:50:16.016312Z"
    }
   },
   "outputs": [],
   "source": [
    "class ParameterSweep():\n",
    "    def __init__(self, model, params):\n",
    "        self.model = model\n",
    "        self.params = params\n",
    "        self.results = {}\n",
    "        \n",
    "        self.result_keys = []\n",
    "        self.simulations = []\n",
    "\n",
    "    def __get_result_key(self, variables):\n",
    "        elements = []\n",
    "        for name, value in variables.items():\n",
    "            elements.append(f\"{name}:{value}\")\n",
    "        return \",\".join(elements)\n",
    "\n",
    "    def __load(self, index, variables, verbose):\n",
    "        if index < len(self.params):\n",
    "            param = self.params[index]\n",
    "            index += 1\n",
    "            for val in param['range']:\n",
    "                variables[param['parameter']] = val\n",
    "                self.__load(index=index, variables=variables, verbose=verbose)\n",
    "        else:\n",
    "            result_key = self.__get_result_key(variables=variables)\n",
    "            if verbose:\n",
    "                message = f'running: {result_key.replace(\":\", \"=\").replace(\",\", \", \")}'\n",
    "                print(message)\n",
    "            tmp_sim = Simulation(model=self.model, variables=copy.deepcopy(variables))\n",
    "            tmp_sim.configure()\n",
    "            tmp_sim.kwargs['variables'] = variables.copy()\n",
    "            sim_thread = delayed(tmp_sim.run)(verbose=verbose)\n",
    "            self.simulations.append(sim_thread)\n",
    "            self.result_keys.append(result_key)\n",
    "\n",
    "    def __run(self):\n",
    "        self.results = dict(zip(self.result_keys, compute(*self.simulations, scheduler=\"threads\")))\n",
    "\n",
    "    def build_layout(self, ai_widgets):\n",
    "        ai_widgets = list(ai_widgets.values())\n",
    "        hbs = []\n",
    "        for i in range(0, len(ai_widgets), 4):\n",
    "            hb_list = [ai_widgets[i], ai_widgets[i+1]]\n",
    "            if len(ai_widgets) >= i+3:\n",
    "                hb_list.extend([ai_widgets[i+2], ai_widgets[i+3]])\n",
    "            hbs.append(widgets.HBox(hb_list, layout=self.get_layout()))\n",
    "        return widgets.VBox(hbs, layout=self.get_layout(vertical=True))\n",
    "    \n",
    "    def build_widgets(self):\n",
    "        param_names = units_labels['w_labels']\n",
    "        ai_widgets = {}\n",
    "        for i, param in enumerate(self.params):\n",
    "            fs = widgets.SelectionSlider(\n",
    "                options=param['range'], value=param['range'][0], description=param_names[param['parameter']]\n",
    "            )\n",
    "            ai_widgets[f'fs{i}'] = fs\n",
    "            cs = widgets.Checkbox(value=False, description='Fixed')\n",
    "            ai_widgets[f'cs{i}'] = cs\n",
    "        return ai_widgets\n",
    "    \n",
    "    def configure(self, **widget_args):\n",
    "        sim_key = []\n",
    "        for i in range(0, len(widget_args), 2):\n",
    "            param_key = int(i/2)\n",
    "            sim_key.append(f\"{self.params[param_key]['parameter']}:{list(widget_args.values())[i]}\")\n",
    "        sim_key = \",\".join(sim_key)\n",
    "        \n",
    "        self.results[sim_key].plot(plot_observed=self.plot_observed)\n",
    "        \n",
    "        params, fixed = self.display_details(widget_args)\n",
    "\n",
    "        if len(params) < 1:\n",
    "            print(\"At least 1 fixed parameters are required\")\n",
    "        elif len(params) > 2:\n",
    "            print(\"There are too many fixed parameters\")\n",
    "        elif len(params) == 2:\n",
    "            base_key = self.get_base_key(list(widget_args.values())[::2], params)\n",
    "            dftd, devils = self.get_plot_data(params, base_key)\n",
    "            self.display_plots(params, dftd, devils)\n",
    "        else:\n",
    "            labels = units_labels['labels']\n",
    "            units = units_labels['units']\n",
    "            param = params[0]\n",
    "            self.plot_devil_dftd_extinction_over_param(\n",
    "                res_sub_keys=fixed, key=param['parameter'], param_label=labels[param['parameter']],\n",
    "                units=units[param['parameter']]\n",
    "            )\n",
    "    \n",
    "    def display_details(self, args, verbose=False):\n",
    "        params = []\n",
    "        fixed = []\n",
    "        values = list(args.values())\n",
    "        for i in range(0, len(values), 2):\n",
    "            index = int(i/2)\n",
    "            if values[i + 1]:\n",
    "                fixed.append(f\"{self.params[index]['parameter']}: {values[i]}\")\n",
    "            else:\n",
    "                params.append(self.params[index])\n",
    "        if fixed and verbose:\n",
    "            print(\", \".join(fixed))\n",
    "        return params, [param.replace(\": \", \":\") for param in fixed]\n",
    "    \n",
    "    def display_plots(self, params, dftd, devils):\n",
    "        labels = units_labels['labels']\n",
    "        units = units_labels['units']\n",
    "        x_units = units[params[0]['parameter']]\n",
    "        if x_units:\n",
    "            x_units = f\" ({x_units})\"\n",
    "        y_units = units[params[1]['parameter']]\n",
    "        if y_units:\n",
    "            y_units = f\" ({y_units})\"\n",
    "        x_label = f\"{labels[params[0]['parameter']]}{x_units}\"\n",
    "        y_label = f\"{labels[params[1]['parameter']]}{y_units}\"\n",
    "        dftd = np.flip(dftd, 0)\n",
    "        devils = np.flip(devils, 0)\n",
    "\n",
    "        fig, (ax1, ax2) = plt.subplots(1, 2, figsize=[16, 6])\n",
    "\n",
    "        im1 = ax1.imshow(dftd)\n",
    "        ax1.set_xticks(np.arange(len(dftd[0])))\n",
    "        ax1.set_xticklabels(labels=params[0]['range'])\n",
    "        ax1.set_yticks(np.arange(len(dftd)))\n",
    "        ax1.set_yticklabels(labels=np.flip(params[1]['range']))\n",
    "        ax1.set_xlabel(x_label, fontsize=14)\n",
    "        ax1.set_ylabel(y_label, fontsize=14)\n",
    "        ax1.tick_params(axis=\"x\", labelsize=12, labelrotation=90)\n",
    "        ax1.tick_params(axis=\"y\", labelsize=12)\n",
    "        ax1.set_title('Probability of DFTD Elimination', fontsize=14)\n",
    "        ax1.figure.colorbar(im1, ax=ax1)\n",
    "        for i in range(len(dftd)):\n",
    "            for j in range(len(dftd[0])):\n",
    "                _ = ax1.text(j, i, f\"{dftd[i, j]}%\", ha=\"center\", va=\"center\", color=\"w\", fontsize=12)\n",
    "\n",
    "        im2 = ax2.imshow(devils)\n",
    "        ax2.set_xticks(np.arange(len(devils[0])))\n",
    "        ax2.set_xticklabels(labels=params[0]['range'])\n",
    "        ax2.set_yticks(np.arange(len(devils)))\n",
    "        ax2.set_yticklabels(labels=np.flip(params[1]['range']))\n",
    "        ax2.set_xlabel(x_label, fontsize=14)\n",
    "        ax2.set_ylabel(y_label, fontsize=14)\n",
    "        ax2.tick_params(axis=\"x\", labelsize=12, labelrotation=90)\n",
    "        ax2.tick_params(axis=\"y\", labelsize=12)\n",
    "        ax2.set_title('Probability of Devil Extinction', fontsize=14)\n",
    "        ax2.figure.colorbar(im2, ax=ax2)\n",
    "        for i in range(len(devils)):\n",
    "            for j in range(len(devils[0])):\n",
    "                _ = ax2.text(j, i, f\"{devils[i, j]}%\", ha=\"center\", va=\"center\", color=\"w\", fontsize=12)\n",
    "    \n",
    "    def explore_results(self, plot_observed=False):\n",
    "        self.plot_observed = plot_observed\n",
    "        ai_widgets = self.build_widgets()\n",
    "        ui = self.build_layout(ai_widgets)\n",
    "        out = interactive_output(self.configure, ai_widgets)\n",
    "        display(ui, out)\n",
    "    \n",
    "    def get_base_key(self, values, params):\n",
    "        base_key = []\n",
    "        for i, param in enumerate(self.params):\n",
    "            if param in params:\n",
    "                base_key.append(\"__param2__\" if \"__param1__\" in base_key else \"__param1__\")\n",
    "            else:\n",
    "                base_key.append(f\"{param['parameter']}:{values[i]}\")\n",
    "        return \",\".join(base_key)\n",
    "    \n",
    "    def get_layout(self, vertical=False):\n",
    "        kwargs = {\n",
    "            \"margin\": '0px 10px 10px 0px',\n",
    "            \"padding\": '5px 5px 5px 5px'\n",
    "        }\n",
    "        if vertical:\n",
    "            kwargs['border'] = 'solid 1px red'\n",
    "        return widgets.Layout(**kwargs)\n",
    "    \n",
    "    def get_plot_data(self, params, base_key):\n",
    "        dftd = []\n",
    "        devils = []\n",
    "        for value1 in params[1]['range']:\n",
    "            _key = base_key.replace(\"__param2__\", f\"{params[1]['parameter']}:{value1}\")\n",
    "            inner_dftd = []\n",
    "            inner_devils = []\n",
    "            for value2 in params[0]['range']:\n",
    "                key = _key.replace(\"__param1__\", \"{0}:{1}\".format(params[0]['parameter'], value2))\n",
    "                dftd_prob, devil_prob = self.results[key].compute_dftd_devils_probs(verbose=False,\n",
    "                                                                                    return_probs=True)\n",
    "                inner_dftd.append(dftd_prob)\n",
    "                inner_devils.append(devil_prob)\n",
    "            dftd.append(inner_dftd)\n",
    "            devils.append(inner_devils)\n",
    "        return np.array(dftd), np.array(devils)\n",
    "    \n",
    "    def plot_devil_dftd_extinction_over_param(self, res_sub_keys=[], no_plot=False, key=\"vacc_program_length\",\n",
    "                                              param_label=\"Vaccine Program Length\", units=\"years\", verbose=False):\n",
    "        if len(self.params) < 2:\n",
    "            sims = self.results.values()\n",
    "        elif (len(self.params) - len(res_sub_keys)) != 1:\n",
    "            raise Exception(f\"res_sub_keys[{len(self.params)}] must be set.\")\n",
    "        else:\n",
    "            _keys = list(self.results.keys())\n",
    "            for sub_key in res_sub_keys:\n",
    "                keys = []\n",
    "                for res_key in _keys:\n",
    "                    if sub_key in res_key.split(\",\"):\n",
    "                        keys.append(res_key)\n",
    "                _keys = keys\n",
    "            sims = [self.results[key] for key in keys]\n",
    "            \n",
    "        pl_values = []\n",
    "        pl_ext_rate = []\n",
    "        pl_erd_rate = []\n",
    "        for sim in sims:\n",
    "            pl_values.append(sim.variables[key])\n",
    "            dftd_prob, devil_prob = sim.compute_dftd_devils_probs(verbose=verbose, return_probs=True)\n",
    "            pl_ext_rate.append(devil_prob)\n",
    "            pl_erd_rate.append(dftd_prob)\n",
    "            \n",
    "        if no_plot:\n",
    "            return\n",
    "        units = \"\" if units is None else f\" ({units})\"\n",
    "        fig, (ax1, ax2) = plt.subplots(1, 2, figsize=[16, 6])\n",
    "        \n",
    "        im1 = ax1.plot(pl_values, pl_erd_rate)\n",
    "        ax1.set_title(f'Dftd elimination vs. {param_label}', fontsize=14)\n",
    "        ax1.set_ylim(ymin=-1,ymax=100)\n",
    "        ax1.tick_params(axis=\"x\", labelsize=12)\n",
    "        ax1.tick_params(axis=\"y\", labelsize=12)\n",
    "        ax1.set_xlabel(f\"{param_label}{units}\", fontsize=14)\n",
    "        ax1.set_ylabel(\"DFTD elimination probability\", fontsize=14)\n",
    "        \n",
    "        im2 = ax2.plot(pl_values, pl_ext_rate)\n",
    "        ax2.set_title(f'Devil extinction vs. {param_label}', fontsize=14)\n",
    "        ax2.set_ylim(ymin=-1,ymax=100)\n",
    "        ax2.tick_params(axis=\"x\", labelsize=12)\n",
    "        ax2.tick_params(axis=\"y\", labelsize=12)\n",
    "        ax2.set_xlabel(f\"{param_label}{units}\", fontsize=14)\n",
    "        ax2.set_ylabel(\"Devil extinction probability\", fontsize=14)\n",
    "\n",
    "    def run(self, verbose=False, use_existing_results=False):\n",
    "        if self.results and use_existing_results:\n",
    "            return\n",
    "        index = 0\n",
    "        variables = {}\n",
    "        self.__load(index=index, variables=variables, verbose=verbose)\n",
    "        self.__run()"
   ]
  },
  {
   "cell_type": "markdown",
   "metadata": {},
   "source": [
    "## Load existing state"
   ]
  },
  {
   "cell_type": "code",
   "execution_count": 9,
   "metadata": {
    "execution": {
     "iopub.execute_input": "2022-01-25T15:50:16.021794Z",
     "iopub.status.busy": "2022-01-25T15:50:16.020730Z",
     "iopub.status.idle": "2022-01-25T15:50:16.072731Z",
     "shell.execute_reply": "2022-01-25T15:50:16.071818Z"
    }
   },
   "outputs": [],
   "source": [
    "state_path = \"./DevilsDFTD2StageInfectionWithVaccinationState.p\"\n",
    "if os.path.exists(state_path):\n",
    "    with open(state_path, \"rb\") as state_file:\n",
    "        nb_state = pickle.load(state_file)\n",
    "else:\n",
    "    nb_state = None\n",
    "    print(\"No existing state found.\")"
   ]
  },
  {
   "cell_type": "markdown",
   "metadata": {},
   "source": [
    "## Run Simulation with default parameters"
   ]
  },
  {
   "cell_type": "code",
   "execution_count": 10,
   "metadata": {
    "execution": {
     "iopub.execute_input": "2022-01-25T15:50:16.078001Z",
     "iopub.status.busy": "2022-01-25T15:50:16.076860Z",
     "iopub.status.idle": "2022-01-25T15:50:16.079277Z",
     "shell.execute_reply": "2022-01-25T15:50:16.080215Z"
    }
   },
   "outputs": [],
   "source": [
    "if nb_state is None:\n",
    "    model = DevilsDFTD2StageInfectionWithVaccination()\n",
    "else:\n",
    "    model = nb_state['model']"
   ]
  },
  {
   "cell_type": "code",
   "execution_count": 11,
   "metadata": {
    "execution": {
     "iopub.execute_input": "2022-01-25T15:50:16.085541Z",
     "iopub.status.busy": "2022-01-25T15:50:16.084393Z",
     "iopub.status.idle": "2022-01-25T15:50:16.086222Z",
     "shell.execute_reply": "2022-01-25T15:50:16.085920Z"
    }
   },
   "outputs": [],
   "source": [
    "if nb_state is None:\n",
    "    sim = Simulation(model=model)\n",
    "else:\n",
    "    sim = nb_state['sim']"
   ]
  },
  {
   "cell_type": "code",
   "execution_count": 12,
   "metadata": {
    "execution": {
     "iopub.execute_input": "2022-01-25T15:50:16.095185Z",
     "iopub.status.busy": "2022-01-25T15:50:16.094809Z",
     "iopub.status.idle": "2022-01-25T15:50:59.757246Z",
     "shell.execute_reply": "2022-01-25T15:50:59.758900Z"
    },
    "scrolled": true
   },
   "outputs": [
    {
     "name": "stdout",
     "output_type": "stream",
     "text": [
      "CPU times: user 2 µs, sys: 7 µs, total: 9 µs\n",
      "Wall time: 10 µs\n"
     ]
    }
   ],
   "source": [
    "solver = TauHybridCSolver(model=model, variable=True)\n",
    "sim.configure()\n",
    "%time _ = sim.run(use_existing_results=True)"
   ]
  },
  {
   "cell_type": "markdown",
   "metadata": {},
   "source": [
    "## Visualization"
   ]
  },
  {
   "cell_type": "code",
   "execution_count": 13,
   "metadata": {
    "execution": {
     "iopub.execute_input": "2022-01-25T15:50:59.779153Z",
     "iopub.status.busy": "2022-01-25T15:50:59.764261Z",
     "iopub.status.idle": "2022-01-25T15:51:00.128159Z",
     "shell.execute_reply": "2022-01-25T15:51:00.128962Z"
    },
    "scrolled": false
   },
   "outputs": [
    {
     "data": {
      "image/png": "[encoded data removed]",
      "text/plain": [
       "<Figure size 1080x576 with 1 Axes>"
      ]
     },
     "metadata": {
      "needs_background": "light"
     },
     "output_type": "display_data"
    }
   ],
   "source": [
    "sim.plot()"
   ]
  },
  {
   "cell_type": "code",
   "execution_count": 14,
   "metadata": {
    "execution": {
     "iopub.execute_input": "2022-01-25T15:51:00.134781Z",
     "iopub.status.busy": "2022-01-25T15:51:00.133839Z",
     "iopub.status.idle": "2022-01-25T15:51:00.137089Z",
     "shell.execute_reply": "2022-01-25T15:51:00.137667Z"
    },
    "scrolled": true
   },
   "outputs": [
    {
     "name": "stdout",
     "output_type": "stream",
     "text": [
      "DFTD elimination: 0%\n",
      "Devil extinction: 0%\n",
      "CPU times: user 42 µs, sys: 38 µs, total: 80 µs\n",
      "Wall time: 93.9 µs\n"
     ]
    }
   ],
   "source": [
    "solver = TauHybridCSolver(model=model, variable=True)\n",
    "%time sim.compute_dftd_devils_probs(verbose=False)"
   ]
  },
  {
   "cell_type": "markdown",
   "metadata": {},
   "source": [
    "## Run Parameter Sweep Job"
   ]
  },
  {
   "cell_type": "code",
   "execution_count": 15,
   "metadata": {
    "execution": {
     "iopub.execute_input": "2022-01-25T15:51:00.142758Z",
     "iopub.status.busy": "2022-01-25T15:51:00.142415Z",
     "iopub.status.idle": "2022-01-25T15:51:00.144518Z",
     "shell.execute_reply": "2022-01-25T15:51:00.144775Z"
    }
   },
   "outputs": [],
   "source": [
    "if nb_state is None:\n",
    "    params = [\n",
    "        {\"parameter\": \"vaccinated_infection_rate\", \"range\": [0.1, 0.2, 0.4, 0.6]},\n",
    "        {\"parameter\": \"vaccination_proportion\", \"range\": [0.6, 0.8, 1.0]},\n",
    "        {\"parameter\": \"vacc_program_length\", \"range\": [3, 5, 10]},\n",
    "        {\"parameter\": \"vaccine_frequency\", \"range\": [2, 4, 6]}\n",
    "    ]\n",
    "    job = ParameterSweep(model=model, params=params)\n",
    "else:\n",
    "    job = nb_state['job']"
   ]
  },
  {
   "cell_type": "code",
   "execution_count": 16,
   "metadata": {
    "execution": {
     "iopub.execute_input": "2022-01-25T15:51:00.148415Z",
     "iopub.status.busy": "2022-01-25T15:51:00.148061Z",
     "iopub.status.idle": "2022-01-25T15:51:00.150330Z",
     "shell.execute_reply": "2022-01-25T15:51:00.150741Z"
    },
    "scrolled": true
   },
   "outputs": [
    {
     "name": "stdout",
     "output_type": "stream",
     "text": [
      "CPU times: user 3 µs, sys: 2 µs, total: 5 µs\n",
      "Wall time: 5.72 µs\n"
     ]
    }
   ],
   "source": [
    "%time job.run(use_existing_results=True)"
   ]
  },
  {
   "cell_type": "markdown",
   "metadata": {},
   "source": [
    "## Visualization"
   ]
  },
  {
   "cell_type": "code",
   "execution_count": 17,
   "metadata": {
    "execution": {
     "iopub.execute_input": "2022-01-25T15:51:00.155577Z",
     "iopub.status.busy": "2022-01-25T15:51:00.155067Z",
     "iopub.status.idle": "2022-01-25T15:51:00.157028Z",
     "shell.execute_reply": "2022-01-25T15:51:00.157440Z"
    }
   },
   "outputs": [],
   "source": [
    "if nb_state is None:\n",
    "    tic=time.time()\n",
    "    for vir in params[0]['range']:\n",
    "        vir_key = f\"vaccinated_infection_rate:{vir}\"\n",
    "        for vp in params[1]['range']:\n",
    "            vp_key = f\"vaccination_proportion:{vp}\"\n",
    "            for vpl in params[2]['range']:\n",
    "                res_sub_keys = [vir_key, vp_key, f\"vacc_program_length:{vpl}\"]\n",
    "                job.plot_devil_dftd_extinction_over_param(res_sub_keys=res_sub_keys, no_plot=True)\n",
    "                print(\".\", end=\"\")\n",
    "    print(f\"simulation complete in {time.time()-tic:.2f}s\")"
   ]
  },
  {
   "cell_type": "code",
   "execution_count": 18,
   "metadata": {
    "execution": {
     "iopub.execute_input": "2022-01-25T15:51:00.208395Z",
     "iopub.status.busy": "2022-01-25T15:51:00.201782Z",
     "iopub.status.idle": "2022-01-25T15:51:00.373858Z",
     "shell.execute_reply": "2022-01-25T15:51:00.374713Z"
    },
    "scrolled": false
   },
   "outputs": [
    {
     "name": "stdout",
     "output_type": "stream",
     "text": [
      "CPU times: user 14.3 ms, sys: 2.16 ms, total: 16.5 ms\n",
      "Wall time: 15.7 ms\n"
     ]
    },
    {
     "data": {
      "image/png": "[encoded data removed]",
      "text/plain": [
       "<Figure size 1152x432 with 2 Axes>"
      ]
     },
     "metadata": {
      "needs_background": "light"
     },
     "output_type": "display_data"
    }
   ],
   "source": [
    "res_sub_keys=[\"vaccine_frequency:6\", \"vaccination_proportion:0.8\", \"vaccinated_infection_rate:0.6\"]\n",
    "%time job.plot_devil_dftd_extinction_over_param(res_sub_keys=res_sub_keys)"
   ]
  },
  {
   "cell_type": "code",
   "execution_count": 19,
   "metadata": {
    "execution": {
     "iopub.execute_input": "2022-01-25T15:51:00.382630Z",
     "iopub.status.busy": "2022-01-25T15:51:00.379125Z",
     "iopub.status.idle": "2022-01-25T15:51:00.391089Z",
     "shell.execute_reply": "2022-01-25T15:51:00.390694Z"
    },
    "scrolled": false
   },
   "outputs": [
    {
     "data": {
      "application/vnd.jupyter.widget-view+json": {
       "model_id": "d6119972fb014ca6b31371d7938e3d08",
       "version_major": 2,
       "version_minor": 0
      },
      "text/plain": [
       "VBox(children=(HBox(children=(SelectionSlider(description='Vacc. Inf. R.', options=(0.1, 0.2, 0.4, 0.6), value…"
      ]
     },
     "metadata": {},
     "output_type": "display_data"
    },
    {
     "data": {
      "application/vnd.jupyter.widget-view+json": {
       "model_id": "f09293277e814e5db516ab414c659245",
       "version_major": 2,
       "version_minor": 0
      },
      "text/plain": [
       "Output()"
      ]
     },
     "metadata": {},
     "output_type": "display_data"
    },
    {
     "name": "stdout",
     "output_type": "stream",
     "text": [
      "CPU times: user 523 ms, sys: 288 ms, total: 810 ms\n",
      "Wall time: 209 ms\n"
     ]
    }
   ],
   "source": [
    "%time job.explore_results()"
   ]
  },
  {
   "cell_type": "markdown",
   "metadata": {},
   "source": [
    "## Store notebook state"
   ]
  },
  {
   "cell_type": "code",
   "execution_count": 20,
   "metadata": {
    "execution": {
     "iopub.execute_input": "2022-01-25T15:51:00.394811Z",
     "iopub.status.busy": "2022-01-25T15:51:00.394141Z",
     "iopub.status.idle": "2022-01-25T15:51:00.448625Z",
     "shell.execute_reply": "2022-01-25T15:51:00.447994Z"
    }
   },
   "outputs": [],
   "source": [
    "nb_state = {\"model\": model, \"sim\":sim, \"job\":job}\n",
    "with open(state_path, \"wb\") as state_file:\n",
    "    pickle.dump(nb_state, state_file)"
   ]
  }
 ],
 "metadata": {
  "kernelspec": {
   "display_name": "Python 3 (ipykernel)",
   "language": "python",
   "name": "python3"
  },
  "language_info": {
   "codemirror_mode": {
    "name": "ipython",
    "version": 3
   },
   "file_extension": ".py",
   "mimetype": "text/x-python",
   "name": "python",
   "nbconvert_exporter": "python",
   "pygments_lexer": "ipython3",
   "version": "3.9.9"
  }
 },
 "nbformat": 4,
 "nbformat_minor": 4
}
