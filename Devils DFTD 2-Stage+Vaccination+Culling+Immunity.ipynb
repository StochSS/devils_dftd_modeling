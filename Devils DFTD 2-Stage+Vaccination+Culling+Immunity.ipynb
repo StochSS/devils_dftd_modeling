{
 "cells": [
  {
   "cell_type": "markdown",
   "metadata": {},
   "source": [
    "# Devils DFTD 2-Stage Infection Parameter Approximation + Immunity"
   ]
  },
  {
   "cell_type": "code",
   "execution_count": 1,
   "metadata": {},
   "outputs": [],
   "source": [
    "import json\n",
    "import numpy as np\n",
    "import pandas as pd\n",
    "\n",
    "import sys\n",
    "sys.path.append('../GillesPy2/')\n",
    "import gillespy2\n",
    "from gillespy2 import Model, Species, Parameter, Reaction, Event, \\\n",
    "                    EventTrigger, EventAssignment, export_StochSS, \\\n",
    "                    RateRule\n",
    "from gillespy2 import ODECSolver, ODESolver, SSACSolver, \\\n",
    "                        TauHybridCSolver\n",
    "\n",
    "import matplotlib.pyplot as plt\n",
    "\n",
    "from __future__ import print_function\n",
    "from ipywidgets import interact, interactive, fixed, \\\n",
    "                    interact_manual, interactive_output\n",
    "import ipywidgets as widgets\n",
    "from IPython.display import display"
   ]
  },
  {
   "cell_type": "markdown",
   "metadata": {},
   "source": [
    "## Read in observed data"
   ]
  },
  {
   "cell_type": "code",
   "execution_count": 2,
   "metadata": {},
   "outputs": [],
   "source": [
    "# pop_data = pd.read_csv('../year_data/devil_data_v2.csv')\n",
    "pop_data = pd.read_csv('month_data/Devils_Dataset__Population_1985-2020.csv')\n",
    "\n",
    "devil_pop = np.array(pop_data['Population'].iloc[:].values)\n",
    "\n",
    "obs = np.vstack([devil_pop]).reshape(1, 1, -1)"
   ]
  },
  {
   "cell_type": "markdown",
   "metadata": {},
   "source": [
    "# Devils DFTD 2-Stage Infection with Vaccination and Culling"
   ]
  },
  {
   "cell_type": "code",
   "execution_count": 3,
   "metadata": {},
   "outputs": [],
   "source": [
    "variables = {\n",
    "    \"vaccinated_infection_rate\": 0.25, # % of \"break-through\" cases\n",
    "    \"vaccination_proportion\": 0.6,  # % of devil population that get vaccinated\n",
    "    \"vaccine_frequency\": 3, #times per year we drop bait\n",
    "    \"vaccine_start\": 0, # number of months after current date (0==Jan 2022)\n",
    "    \"program_length\": 3, # number of years\n",
    "    \"end_sim\": 1000,\n",
    "    \"cull_rate_infected\": 0.00,\n",
    "    \"cull_rate_diseased\": 0.2,\n",
    "    \"immunity_growth_rate\": 0,\n",
    "    \"immunity_max_level\": 0.5,\n",
    "    \"immunity_start\": 200\n",
    "}\n",
    "variables_orig = variables.copy()"
   ]
  },
  {
   "cell_type": "code",
   "execution_count": 4,
   "metadata": {},
   "outputs": [],
   "source": [
    "dates = []\n",
    "year = 1985\n",
    "while len(dates) < variables['end_sim'] + 1:\n",
    "    for month in [\"Jan\", \"Feb\", \"Mar\", \"Apr\", \"May\", \"Jun\", \"Jul\", \"Aug\", \"Sept\", \"Oct\", \"Nov\", \"Dec\"]:\n",
    "        dates.append(f\"{month} {year}\")\n",
    "    year += 1"
   ]
  },
  {
   "cell_type": "code",
   "execution_count": 15,
   "metadata": {},
   "outputs": [],
   "source": [
    "class DevilsDFTD2StageInfectionWithVaccination(Model):\n",
    "    def __init__(self, values=variables):\n",
    "        Model.__init__(self, name=\"Devils DFTD 2-Stage Infection with Vaccination\")\n",
    "        self.volume = 1\n",
    "\n",
    "        # Parameters (Pre-Vaccination)\n",
    "        birth_rate = Parameter(name=\"birth_rate\", expression=\"0.055\")\n",
    "        death_rate_diseased = Parameter(name=\"death_rate_diseased\", expression=\"0.048\")\n",
    "        death_rate_infected = Parameter(name=\"death_rate_infected\", expression=\"0.03\")\n",
    "        death_rate_juvenile = Parameter(name=\"death_rate_juvenile\", expression=\"0.006\")\n",
    "        death_rate_over_population = Parameter(name=\"death_rate_over_population\", expression=\"2.3e-07\")\n",
    "        death_rate_susceptible = Parameter(name=\"death_rate_susceptible\", expression=\"0.02335\")\n",
    "        incubation = Parameter(name=\"incubation\", expression=\"22.6\")\n",
    "        infection_rate_diseased = Parameter(name=\"infection_rate_diseased\", expression=\"3e-05\")\n",
    "        infection_rate_infected = Parameter(name=\"infection_rate_infected\", expression=\"2e-05\")\n",
    "        maturity_rate = Parameter(name=\"maturity_rate\", expression=\"0.04267\")\n",
    "        progression = Parameter(name=\"progression\", expression=\"12\")\n",
    "        DFTD_introduction = Parameter(name=\"DFTD_introduction\", expression=\"40\")\n",
    "        self.add_parameter([\n",
    "            birth_rate, death_rate_diseased, death_rate_infected, death_rate_juvenile, death_rate_over_population,\n",
    "            death_rate_susceptible, incubation, infection_rate_diseased, infection_rate_infected,\n",
    "            maturity_rate, progression, DFTD_introduction\n",
    "        ])\n",
    "        \n",
    "        # Parameters (Vaccination)\n",
    "        vaccinated_infection_rate = Parameter(\n",
    "            name=\"vaccinated_infection_rate\", expression=values['vaccinated_infection_rate']\n",
    "        )\n",
    "        vaccination_proportion = Parameter(name=\"vaccination_proportion\", expression=values['vaccination_proportion'])\n",
    "        vaccine_frequency = Parameter(name=\"vaccine_frequency\", expression=values['vaccine_frequency'])\n",
    "        vaccine_start = Parameter(name=\"vaccine_start\", expression=values['vaccine_start'])\n",
    "        program_length = Parameter(name=\"program_length\", expression=values['program_length'])\n",
    "        self.add_parameter([\n",
    "            vaccinated_infection_rate, vaccination_proportion, vaccine_frequency, vaccine_start, program_length\n",
    "        ])\n",
    "        \n",
    "        # Parameter (Culling)\n",
    "        cull_rate_diseased = Parameter(name=\"cull_rate_diseased\", expression=0)\n",
    "        cull_rate_infected = Parameter(name=\"cull_rate_infected\", expression=0)\n",
    "        self.add_parameter([\n",
    "            cull_rate_diseased, cull_rate_infected, \n",
    "        ])\n",
    "        \n",
    "        # Parameters (Immunity)\n",
    "        immunity_level = Species(name=\"immunity_level\", initial_value=0, mode=\"continuous\")\n",
    "        self.add_species([immunity_level])\n",
    "        immunity_growth_rate = Parameter(name=\"immunity_growth_rate\", expression=values['immunity_growth_rate'])\n",
    "        immunity_max_level = Parameter(name=\"immunity_max_level\", expression=values['immunity_max_level'])\n",
    "        immunity_start = Parameter(name=\"immunity_start\", expression=values['immunity_start'])\n",
    "        self.add_parameter([immunity_growth_rate, immunity_max_level, immunity_start])\n",
    "        \n",
    "        # Variables (Pre-Vaccination)\n",
    "        init_Devils_pop = round(devil_pop[0])\n",
    "        init_J_pop = round(devil_pop[0] * 0.467)\n",
    "        init_S_pop = round(devil_pop[0] - init_J_pop)\n",
    "        \n",
    "        Devils = Species(name=\"Devils\", initial_value=init_Devils_pop, mode=\"discrete\")\n",
    "        Diseased = Species(name=\"Diseased\", initial_value=0, mode=\"discrete\")\n",
    "        Exposed = Species(name=\"Exposed\", initial_value=0, mode=\"discrete\")\n",
    "        Infected = Species(name=\"Infected\", initial_value=0, mode=\"discrete\")\n",
    "        Juvenile = Species(name=\"Juvenile\", initial_value=init_S_pop, mode=\"discrete\")\n",
    "        Susceptible = Species(name=\"Susceptible\", initial_value=init_J_pop, mode=\"discrete\")\n",
    "        self.add_species([Devils, Diseased, Exposed, Infected, Juvenile, Susceptible])\n",
    "        \n",
    "        # Variables (Vaccination)\n",
    "        Vaccinated = Species(name=\"Vaccinated\", initial_value=0, mode=\"discrete\")\n",
    "        self.add_species(Vaccinated)\n",
    "        \n",
    "        # Reactions (Pre-Vaccination)\n",
    "        Birth = Reaction(name=\"Birth\",\n",
    "            reactants={}, products={'Juvenile': 1, 'Devils': 1},\n",
    "            propensity_function=\"birth_rate * (Susceptible + Exposed + Infected + Vaccinated)\"\n",
    "        )\n",
    "        Mature = Reaction(name=\"Mature\",\n",
    "            reactants={'Juvenile': 1}, products={'Susceptible': 1},\n",
    "            propensity_function=\"Juvenile * maturity_rate\"\n",
    "        )\n",
    "        Death_Diseased = Reaction(name=\"Death_Diseased\",\n",
    "            reactants={'Diseased': 1, 'Devils': 1}, products={},\n",
    "            propensity_function=\"death_rate_diseased * Diseased\"\n",
    "        )\n",
    "        Death_Diseased2 = Reaction(name=\"Death_Diseased2\",\n",
    "            reactants={'Diseased': 1, 'Devils': 1}, products={},\n",
    "            propensity_function=\"death_rate_over_population * Diseased * (Devils - 1)\"\n",
    "        )\n",
    "        Death_Exposed = Reaction(name=\"Death_Exposed\",\n",
    "            reactants={'Devils': 1, 'Exposed': 1}, products={},\n",
    "            propensity_function=\"death_rate_susceptible * Exposed\"\n",
    "        )\n",
    "        Death_Exposed2 = Reaction(name=\"Death_Exposed2\",\n",
    "            reactants={'Devils': 1, 'Exposed': 1}, products={},\n",
    "            propensity_function=\"death_rate_over_population * Exposed * (Devils - 1)\"\n",
    "        )\n",
    "        Death_Infected = Reaction(name=\"Death_Infected\",\n",
    "            reactants={'Infected': 1, 'Devils': 1}, products={},\n",
    "            propensity_function=\"death_rate_infected * Infected\"\n",
    "        )\n",
    "        Death_Infected2 = Reaction(name=\"Death_Infected2\",\n",
    "            reactants={'Infected': 1, 'Devils': 1}, products={},\n",
    "            propensity_function=\"death_rate_over_population * Infected * (Devils-1)\"\n",
    "        )\n",
    "        Death_Juvenile = Reaction(name=\"Death_Juvenile\",\n",
    "            reactants={'Juvenile': 1, 'Devils': 1}, products={},\n",
    "            propensity_function=\"death_rate_juvenile * Juvenile\"\n",
    "        )\n",
    "        Death_Juvenile2 = Reaction(name=\"Death_Juvenile2\",\n",
    "            reactants={'Juvenile': 1, 'Devils': 1}, products={},\n",
    "            propensity_function=\"death_rate_over_population * Juvenile * (Devils-1)\"\n",
    "        )\n",
    "        Death_Susceptible = Reaction(name=\"Death_Susceptible\",\n",
    "            reactants={'Susceptible': 1, 'Devils': 1}, products={},\n",
    "            propensity_function=\"death_rate_susceptible * Susceptible\"\n",
    "        )\n",
    "        Death_Susceptible2 = Reaction(name=\"Death_Susceptible2\",\n",
    "            reactants={'Susceptible': 1, 'Devils': 1}, products={},\n",
    "            propensity_function=\"death_rate_over_population * Susceptible * (Devils-1)\"\n",
    "        )\n",
    "        DFTD_Stage1 = Reaction(name=\"DFTD_Stage1\",\n",
    "            reactants={'Exposed': 1}, products={'Infected': 1},\n",
    "            propensity_function=\"Exposed / incubation\"\n",
    "        )\n",
    "        DFTD_Stage2 = Reaction(name=\"DFTD_Stage2\",\n",
    "            reactants={'Infected': 1}, products={'Diseased': 1},\n",
    "            propensity_function=\"Infected / progression\"\n",
    "        )\n",
    "        TransmissionD = Reaction(name=\"TransmissionD\",\n",
    "            reactants={'Susceptible': 1, 'Diseased': 1}, products={'Exposed': 1, 'Diseased': 1},\n",
    "            propensity_function=\"infection_rate_diseased * Susceptible * Diseased * (1.0-immunity_level)\"\n",
    "        )\n",
    "        TransmissionI = Reaction(name=\"TransmissionI\",\n",
    "            reactants={'Susceptible': 1, 'Infected': 1}, products={'Exposed': 1, 'Infected': 1},\n",
    "            propensity_function=\"infection_rate_infected * Susceptible * Infected * (1.0-immunity_level)\"\n",
    "        )\n",
    "        self.add_reaction([\n",
    "            Birth, Mature, Death_Diseased, Death_Diseased2, Death_Exposed, Death_Exposed2, Death_Infected,\n",
    "            Death_Infected2, Death_Juvenile, Death_Juvenile2, Death_Susceptible, Death_Susceptible2,\n",
    "            DFTD_Stage1, DFTD_Stage2, TransmissionD, TransmissionI\n",
    "        ])\n",
    "        \n",
    "        # Reactions (Vaccination)\n",
    "        Vaccine_Failure_I = Reaction(name=\"Vaccine_Failure_I\",\n",
    "            reactants={'Vaccinated': 1, 'Infected': 1}, products={'Exposed': 1, 'Infected': 1},\n",
    "            propensity_function=\"infection_rate_infected * vaccinated_infection_rate * Vaccinated * Infected / \\\n",
    "                                            (Susceptible + Exposed + Infected + Vaccinated + Diseased + Juvenile)\"\n",
    "        )\n",
    "        Vaccine_Failure_D = Reaction(name=\"Vaccine_Failure_D\",\n",
    "            reactants={'Vaccinated': 1, 'Diseased': 1}, products={'Exposed': 1, 'Diseased': 1},\n",
    "            propensity_function=\"infection_rate_diseased * vaccinated_infection_rate * Vaccinated * Diseased / \\\n",
    "                                            (Susceptible + Exposed + Infected + Vaccinated + Diseased + Juvenile)\"\n",
    "        )\n",
    "        Death_Vaccinated = Reaction(name=\"Death_Vaccinated\",\n",
    "            reactants={'Devils': 1, 'Vaccinated': 1}, products={},\n",
    "            propensity_function=\"death_rate_susceptible * Vaccinated\"\n",
    "        )\n",
    "        Death_Vaccinated2 = Reaction(name=\"Death_Vaccinated2\",\n",
    "            reactants={'Devils': 1, 'Vaccinated': 1}, products={},\n",
    "            propensity_function=\"death_rate_over_population * Vaccinated * (Devils - 1)\"\n",
    "        )\n",
    "        self.add_reaction([Vaccine_Failure_I, Vaccine_Failure_D, Death_Vaccinated, Death_Vaccinated2])\n",
    "\n",
    "\n",
    "        \n",
    "        # Reactions (Culling)\n",
    "        Death_Cull_Infected = Reaction(name=\"Death_Cull_Infected\",\n",
    "            reactants={'Devils': 1, 'Infected': 1}, products={},\n",
    "            propensity_function=\"cull_rate_infected * Infected\"\n",
    "        )\n",
    "        Death_Cull_Diseased = Reaction(name=\"Death_Cull_Diseased\",\n",
    "            reactants={'Devils': 1, 'Diseased': 1}, products={},\n",
    "            propensity_function=\"cull_rate_diseased * Diseased\"\n",
    "        )\n",
    "        self.add_reaction([Death_Cull_Infected, Death_Cull_Diseased])\n",
    "        \n",
    "        # Assignment Rules\n",
    "        #self.add_rate_rule(RateRule(name=\"ImmunityGrowth\", \n",
    "        #             formula=\"immunity_growth_rate*(immunity_max_level-immunity_level)*(t>immunity_start)\", variable=\"immunity_level\"))\n",
    "\n",
    "\n",
    "        # Timespan\n",
    "        self.timespan(np.arange(0, values['end_sim'] + 1, 1))\n",
    "        \n",
    "    def __fix_shape(self, result):\n",
    "        if result['time'].size < result['Devils'].size:\n",
    "            for species in self.listOfSpecies.keys():\n",
    "                result[0][species] = result[0][species][:-1]\n",
    "        return result\n",
    "    \n",
    "    def __run_vaccine_period(self, resume, t, kwargs):\n",
    "        vaccination_proportion = float(variables['vaccination_proportion'])\n",
    "        susceptible_pop = int(resume[0]['Susceptible'][-1] * (1 - vaccination_proportion))\n",
    "        vaccinated_pop = int(resume[0]['Vaccinated'][-1] + resume[0]['Susceptible'][-1] * vaccination_proportion)\n",
    "        kwargs['variables']['Susceptible'] = susceptible_pop\n",
    "        kwargs['variables']['Vaccinated'] = vaccinated_pop\n",
    "        return self.__fix_shape(super().run(resume=resume, t=t, **kwargs))\n",
    "    \n",
    "    def run(self, with_pr=False, **kwargs):\n",
    "        \n",
    "        solver_args = kwargs.copy()\n",
    "        \n",
    "        #solver_args['solver'] = TauHybridCSolver\n",
    "        solver_args['solver'] = SSACSolver\n",
    "        if not with_pr:\n",
    "            return super().run(**solver_args)\n",
    "                \n",
    "        self.resolve_parameters()\n",
    "        if not \"variables\" in solver_args.keys():\n",
    "            solver_args['variables'] = {}\n",
    "            cull_rate_infected = 0\n",
    "            cull_rate_diseased = 0\n",
    "        else:\n",
    "            cull_rate_infected = solver_args['variables']['cull_rate_infected']\n",
    "            cull_rate_diseased = solver_args['variables']['cull_rate_diseased']\n",
    "        # set cull rate to zero\n",
    "        solver_args['variables']['cull_rate_infected'] = 0\n",
    "        solver_args['variables']['cull_rate_diseased'] = 0\n",
    "\n",
    "        # Run Pre-infection Period\n",
    "        t = int(self.listOfParameters['DFTD_introduction'].value)\n",
    "        res1 = super().run(**solver_args, t=t)\n",
    "        \n",
    "        \n",
    "        # Configure Infection Period\n",
    "        solver_args['variables']['Infected'] = \"1\"\n",
    "        solver_args['variables']['Susceptible'] = f\"{int(res1[0]['Susceptible'][-1] - 1)}\"\n",
    "        \n",
    "        # Run Infection Period\n",
    "        t = 444 + int(variables['vaccine_start'])\n",
    "        result = self.__fix_shape(super().run(resume=res1, t=t, **solver_args))\n",
    "        while result['Infected'][-1] <= 0:\n",
    "            result = self.__fix_shape(super().run(resume=res1, t=t, **solver_args))\n",
    "                    \n",
    "        # Configure Vaccination Period\n",
    "        del solver_args['variables']['Infected']\n",
    "        vaccine_frequency = int(variables['vaccine_frequency'])\n",
    "        program_length = int(variables['program_length'])\n",
    "        time_diff = 12 / vaccine_frequency\n",
    "        program_end = t + (time_diff * (vaccine_frequency * program_length))\n",
    "        \n",
    "        # Run Vaccination Period\n",
    "        while t < program_end:\n",
    "            t += time_diff\n",
    "            if(t >= int(solver_args['variables']['vaccine_start'])  and t <= int(solver_args['variables']['vaccine_start'])+(12*int(solver_args['variables']['program_length']))):\n",
    "                solver_args['variables']['cull_rate_infected'] = cull_rate_infected\n",
    "                solver_args['variables']['cull_rate_diseased'] = cull_rate_diseased\n",
    "            else:\n",
    "                solver_args['variables']['cull_rate_infected'] = 0\n",
    "                solver_args['variables']['cull_rate_diseased'] = 0\n",
    "            \n",
    "            result = self.__run_vaccine_period(resume=result, t=t, kwargs=solver_args)\n",
    "            \n",
    "        del solver_args['variables']['Susceptible']\n",
    "        if 'Vaccinated' in solver_args['variables']: del solver_args['variables']['Vaccinated']\n",
    "        return self.__fix_shape(super().run(resume=result, **solver_args))"
   ]
  },
  {
   "cell_type": "code",
   "execution_count": 16,
   "metadata": {},
   "outputs": [],
   "source": [
    "model = DevilsDFTD2StageInfectionWithVaccination()"
   ]
  },
  {
   "cell_type": "markdown",
   "metadata": {},
   "source": [
    "# Simulation Parameters"
   ]
  },
  {
   "cell_type": "code",
   "execution_count": null,
   "metadata": {},
   "outputs": [],
   "source": [
    "%time results = model.run(with_pr=True)"
   ]
  },
  {
   "cell_type": "markdown",
   "metadata": {},
   "source": [
    "# Visualization"
   ]
  },
  {
   "cell_type": "code",
   "execution_count": null,
   "metadata": {},
   "outputs": [],
   "source": [
    "def plot(results, start=0, alpha=0.3):\n",
    "    carry_cap = int(max(devil_pop)*1.16)\n",
    "    dftd_start = int(results.model.listOfParameters['DFTD_introduction'].value)\n",
    "    vaccine_start = 444 + int(variables['vaccine_start'])\n",
    "    cull_start = 444+ int(variables['vaccine_start'])\n",
    "    \n",
    "    program_end = vaccine_start + 12*int(variables['program_length'])\n",
    "    \n",
    "    spec_list = [results['Juvenile'], results['Susceptible'], results['Exposed'],\n",
    "                 results['Infected'], results['Diseased'], results['Vaccinated']]\n",
    "    total_devils = np.add.reduce(spec_list)\n",
    "    x = results['time'][start:]\n",
    "    text_offset = (results['time'].size - start) / 601\n",
    "    \n",
    "    plt.figure(figsize=[15, 8])\n",
    "    plt.title(\"Tasmanian Devil Population with DFTD: Vaccination+Cull Program\", fontsize=18)\n",
    "    plt.xlabel(f\"Time (months) since {dates[start]}\", fontsize=14)\n",
    "    plt.ylabel(\"Population of Tasmanian Devils\", fontsize=14)\n",
    "    plt.plot(x, total_devils[start:], color='blue', label='Total Devils')\n",
    "    plt.plot(x, results['Juvenile'][start:], color='purple', alpha=alpha, label='Juvenile')\n",
    "    plt.plot(x, results['Susceptible'][start:], color='green', alpha=alpha, label='Susceptible')\n",
    "    plt.plot(x, results['Exposed'][start:], color='magenta', alpha=alpha, label='Exposed')\n",
    "    plt.plot(x, results['Infected'][start:], color='red', alpha=alpha, label='Infected')\n",
    "    plt.plot(x, results['Diseased'][start:], color='brown', alpha=alpha, label='Diseased')\n",
    "    plt.plot(x, results['Vaccinated'][start:], color='cyan', alpha=alpha, label='Vaccinated')\n",
    "    plt.ylim([-3000, carry_cap])\n",
    "    if start <= dftd_start:\n",
    "        plt.plot([dftd_start, dftd_start], [-3000, carry_cap], '--k', alpha=0.3)\n",
    "        plt.text(dftd_start-10*text_offset, 45000, \"DFTD Introduced\", rotation=\"vertical\", color=\"black\", fontsize=12)\n",
    "        plt.text(dftd_start+3*text_offset, 48000, dates[dftd_start], rotation=\"vertical\", color=\"black\", fontsize=12)\n",
    "    # red vertical line: vax start\n",
    "    plt.plot([vaccine_start, vaccine_start], [-3000, carry_cap], '--k', alpha=0.3)\n",
    "    plt.text(vaccine_start-10*text_offset, 39000,\n",
    "             \"Start Program: \"+dates[vaccine_start], rotation=\"vertical\", color=\"black\", fontsize=12)\n",
    "    #plt.text(vaccine_start+3*text_offset, 37000,\n",
    "    #         dates[vaccine_start], rotation=\"vertical\", color=\"red\", fontsize=12)\n",
    "    #plt.text(cull_start+3*text_offset, 37000,\n",
    "    #         dates[cull_start], rotation=\"vertical\", color=\"red\", fontsize=12)\n",
    "    # red vertical line: end program\n",
    "    plt.plot([program_end, program_end], [-3000, carry_cap], '--k', alpha=0.3)\n",
    "    plt.text(program_end-10*text_offset, 39000,\n",
    "             \"End Program: \"+dates[program_end], rotation=\"vertical\", color=\"black\", fontsize=12)\n",
    "    #plt.text(program_end+3*text_offset, 37000,\n",
    "    #         dates[program_end], rotation=\"vertical\", color=\"red\", fontsize=12)\n",
    "\n",
    "    #plt.text(program_end+3*text_offset, 37000,\n",
    "    #         dates[program_end], rotation=\"vertical\", color=\"red\", fontsize=12)\n",
    "    \n",
    "    \n",
    "    plt.xticks(fontsize=12)\n",
    "    plt.yticks(fontsize=12, rotation=\"vertical\", va=\"center\")\n",
    "    plt.legend(loc='upper right', fontsize=12)"
   ]
  },
  {
   "cell_type": "code",
   "execution_count": null,
   "metadata": {},
   "outputs": [],
   "source": [
    "plot(results)"
   ]
  },
  {
   "cell_type": "code",
   "execution_count": null,
   "metadata": {},
   "outputs": [],
   "source": [
    "solver = SSACSolver(model, variable=True)"
   ]
  },
  {
   "cell_type": "markdown",
   "metadata": {},
   "source": [
    "## Configure Solver Widgets"
   ]
  },
  {
   "cell_type": "code",
   "execution_count": null,
   "metadata": {},
   "outputs": [],
   "source": [
    "def display_details():\n",
    "    width = 112\n",
    "    d_width = width - 4\n",
    "    h_width = int(d_width/2)\n",
    "    pad = \"    \"\n",
    "    pnt_els = ['='*width]\n",
    "    \n",
    "    # Changes to parameters\n",
    "    pnt_els.append(\" \".join(['|', 'Input Parameters:'.ljust(d_width), '|']))\n",
    "    \n",
    "    last_half_length=0\n",
    "    first_half_line = \"\"\n",
    "    for n,param_name in enumerate(variables.keys()):\n",
    "        vt_line = f'{pad}{param_name}: {variables[param_name]} '\n",
    "        if variables[param_name] != variables_orig[param_name]:\n",
    "            vt_line += f'{pad}(was {variables_orig[param_name]}) '\n",
    "        if n%2==1:\n",
    "            vt_line = first_half_line + \" \"*(60-last_half_length) + vt_line\n",
    "            half_line = \" \".join(['|', vt_line.ljust(d_width), '|'])\n",
    "            pnt_els.append(half_line)\n",
    "        else:\n",
    "            first_half_line = vt_line        \n",
    "            last_half_length = len(vt_line)\n",
    "        \n",
    "    \n",
    "#     date = dates[444 + int(variables[\"vaccine_start\"])]\n",
    "#     vt_line = f'{pad}Vaccination Program Start: {variables[\"vaccine_start\"]} ({date})'\n",
    "#     if variables[\"vaccine_start\"] != variables_orig[\"vaccine_start\"]:\n",
    "#         prev_date = dates[444 + int(variables_orig[\"vaccine_start\"])]\n",
    "#         vt_line += f'{pad}(was {variables_orig[\"vaccine_start\"]} ({prev_date}))'\n",
    "#     pnt_els.append(\" \".join(['|', vt_line.ljust(d_width), '|']))\n",
    "    \n",
    "#     plvf_line = f'{pad}Program Length (years): {variables[\"program_length\"]}'\n",
    "#     if variables[\"program_length\"] != variables_orig[\"program_length\"]:\n",
    "#         plvf_line += f'{pad}(was {variables_orig[\"program_length\"]})'\n",
    "#     plvf_line = plvf_line.ljust(h_width)\n",
    "#     plvf_line += f'{pad}Vaccine Frequency (per year): {variables[\"vaccine_frequency\"]}'\n",
    "#     if variables[\"vaccine_frequency\"] != variables_orig[\"vaccine_frequency\"]:\n",
    "#         plvf_line += f'{pad}(was {variables_orig[\"vaccine_frequency\"]})'\n",
    "#     pnt_els.append(\" \".join(['|', plvf_line.ljust(d_width), '|']))\n",
    "    \n",
    "#     vpvi_line = f'{pad}Vaccination Proportion: {variables[\"vaccination_proportion\"]}'\n",
    "#     if variables[\"vaccination_proportion\"] != variables_orig[\"vaccination_proportion\"]:\n",
    "#         vpvi_line += f'{pad}(was {variables_orig[\"vaccination_proportion\"]})'\n",
    "#     vpvi_line = vpvi_line.ljust(h_width)\n",
    "#     vpvi_line += f'{pad}Vaccinated Infection Rate: {variables[\"vaccinated_infection_rate\"]}'\n",
    "#     if variables[\"vaccinated_infection_rate\"] != variables_orig[\"vaccinated_infection_rate\"]:\n",
    "#         vpvi_line += f'{pad}(was {variables_orig[\"vaccinated_infection_rate\"]})'\n",
    "#     pnt_els.append(\" \".join(['|', vpvi_line.ljust(d_width), '|']))\n",
    "    pnt_els.append('='*width)\n",
    "    \n",
    "    print(\"\\n\".join(pnt_els))\n",
    "    return pnt_els"
   ]
  },
  {
   "cell_type": "code",
   "execution_count": null,
   "metadata": {},
   "outputs": [],
   "source": [
    "x = display_details()"
   ]
  },
  {
   "cell_type": "code",
   "execution_count": null,
   "metadata": {},
   "outputs": [],
   "source": [
    "variables"
   ]
  },
  {
   "cell_type": "code",
   "execution_count": null,
   "metadata": {},
   "outputs": [],
   "source": [
    "Saved_Results = None\n",
    "def configure(vaccinated_infection_rate, vaccination_proportion, start,\n",
    "              vaccine_frequency, vaccine_start, program_length, end_sim,\n",
    "              cull_rate_infected, cull_rate_diseased):\n",
    "    global Saved_Results\n",
    "    \n",
    "    variables['vaccinated_infection_rate'] = vaccinated_infection_rate\n",
    "    variables['vaccination_proportion'] = vaccination_proportion\n",
    "    variables['vaccine_frequency'] = vaccine_frequency\n",
    "    variables['vaccine_start'] = vaccine_start\n",
    "    variables['program_length'] = program_length\n",
    "    variables['end_sim'] = end_sim\n",
    "    variables['cull_rate_infected'] = cull_rate_infected\n",
    "    variables['cull_rate_diseased'] = cull_rate_diseased\n",
    "    \n",
    "    model.timespan(np.arange(0, end_sim + 1, 1))\n",
    "    \n",
    "    display_details()\n",
    "    \n",
    "    variable = {\n",
    "        \"vaccinated_infection_rate\": vaccinated_infection_rate,\n",
    "        \"vaccination_proportion\": vaccination_proportion,\n",
    "        \"vaccine_frequency\": vaccine_frequency,\n",
    "        \"vaccine_start\": vaccine_start,\n",
    "        \"program_length\": program_length,\n",
    "        \"cull_rate_infected\": cull_rate_infected,\n",
    "        \"cull_rate_diseased\": cull_rate_diseased,\n",
    "    }\n",
    "    results = model.run(with_pr=True, solver=solver, variables=variable)\n",
    "    Saved_Results = results\n",
    "    plot(results, start=start)"
   ]
  },
  {
   "cell_type": "markdown",
   "metadata": {},
   "source": [
    "## Create Widgets"
   ]
  },
  {
   "cell_type": "code",
   "execution_count": null,
   "metadata": {},
   "outputs": [],
   "source": [
    "s1 = widgets.IntSlider(\n",
    "    min=430, max=1000, step=1, value=variables['end_sim'], description=\"Sim. End\"\n",
    ")\n",
    "s2 = widgets.IntSlider(\n",
    "    min=0, max=200, step=1, value=variables['vaccine_start'], description=\"Vaccine Start\"\n",
    ")\n",
    "s3 = widgets.IntSlider(\n",
    "    min=0, max=30, step=1, value=variables['program_length'], description=\"Vac. Len.\"\n",
    ")\n",
    "s4 = widgets.IntSlider(\n",
    "    min=1, max=12, step=1, value=variables['vaccine_frequency'], description=\"Vaccine Freq.\"\n",
    ")\n",
    "s5 = widgets.FloatSlider(\n",
    "    min=0.00, max=1, step=0.01, value=variables['vaccination_proportion'], description=\"Vacc. Prop.\"\n",
    ")\n",
    "s6 = widgets.FloatSlider(\n",
    "    min=0.00, max=1, step=0.01, value=variables['vaccinated_infection_rate'], description=\"Vacc. Inf. R.\"\n",
    ")\n",
    "s7 = widgets.IntSlider(\n",
    "    min=0, max=419, step=12, value=0, description=\"Start\"\n",
    ")\n",
    "s8 = widgets.FloatSlider(\n",
    "    min=0.00, max=1, step=0.01, value=variables['cull_rate_infected'], description=\"Cull. Inf. R.\"\n",
    ")\n",
    "s9 = widgets.FloatSlider(\n",
    "    min=0.00, max=1, step=0.01, value=variables['cull_rate_diseased'], description=\"Cull. Dis. R.\"\n",
    ")\n",
    "\n",
    "ai_widgets = {'end_sim': s1, 'vaccine_start': s2, 'program_length': s3,\n",
    "              'vaccine_frequency': s4, 'vaccination_proportion': s5,\n",
    "              'vaccinated_infection_rate': s6, \"start\": s7, \"cull_rate_infected\": s8,\n",
    "              \"cull_rate_diseased\": s9, \n",
    "             }"
   ]
  },
  {
   "cell_type": "code",
   "execution_count": null,
   "metadata": {},
   "outputs": [],
   "source": [
    "def get_layout(vertical=False):\n",
    "    kwargs = {\n",
    "        \"margin\": '0px 10px 10px 0px',\n",
    "        \"padding\": '5px 5px 5px 5px'\n",
    "    }\n",
    "    if not vertical:\n",
    "        kwargs['border'] = 'solid 1px red'\n",
    "    return widgets.Layout(**kwargs)\n",
    "\n",
    "hb1 = widgets.HBox([s1, s2, s3], layout=get_layout())\n",
    "hb2 = widgets.HBox([s4, s5, s6], layout=get_layout())\n",
    "hb3 = widgets.HBox([s9, ], layout=get_layout())\n",
    "\n",
    "ui = widgets.VBox([hb1, hb2, hb3])"
   ]
  },
  {
   "cell_type": "markdown",
   "metadata": {},
   "source": [
    "## Run widgets and attempt to calibrate model"
   ]
  },
  {
   "cell_type": "code",
   "execution_count": null,
   "metadata": {
    "scrolled": false
   },
   "outputs": [],
   "source": [
    "out = interactive_output(configure, ai_widgets)\n",
    "display(out, ui)"
   ]
  },
  {
   "cell_type": "code",
   "execution_count": null,
   "metadata": {},
   "outputs": [],
   "source": [
    "Saved_Results.plotplotly()"
   ]
  },
  {
   "cell_type": "code",
   "execution_count": null,
   "metadata": {},
   "outputs": [],
   "source": [
    "DoesSaved_Results.plot()"
   ]
  },
  {
   "cell_type": "code",
   "execution_count": null,
   "metadata": {},
   "outputs": [],
   "source": [
    "Dftd = Saved_Results[0]['Infected'] + Saved_Results[0]['Exposed']+ Saved_Results[0]['Diseased']"
   ]
  },
  {
   "cell_type": "code",
   "execution_count": null,
   "metadata": {},
   "outputs": [],
   "source": [
    "plt.plot(Dftd)"
   ]
  },
  {
   "cell_type": "code",
   "execution_count": null,
   "metadata": {},
   "outputs": [],
   "source": [
    "min(Dftd[150:])"
   ]
  },
  {
   "cell_type": "code",
   "execution_count": null,
   "metadata": {},
   "outputs": [],
   "source": []
  },
  {
   "cell_type": "code",
   "execution_count": null,
   "metadata": {},
   "outputs": [],
   "source": [
    "def compute_dftd_extinction_prob(verbose=True, vs=None):\n",
    "    if vs is None:\n",
    "        vs = variables.copy()\n",
    "    if verbose: print(vs)\n",
    "    ext_count = 0\n",
    "    for _ in range(100):\n",
    "        if verbose:  print(\".\", end='')\n",
    "        res = model.run(with_pr=True, solver=solver, variables=vs)\n",
    "        Dftd = res[0]['Infected'] + res[0]['Exposed']+ res[0]['Diseased']\n",
    "        if min(Dftd[150:]) == 0.0:\n",
    "            ext_count+=1\n",
    "    if verbose: print(f\" Dftd eradication {ext_count}%\")\n",
    "    return ext_count\n"
   ]
  },
  {
   "cell_type": "code",
   "execution_count": null,
   "metadata": {},
   "outputs": [],
   "source": [
    "def param_sweep___compute_dftd_extinction_prob(param_name, list_of_param_values):\n",
    "    vs = variables.copy()\n",
    "    ext_rate = []\n",
    "    for ndx,pv in enumerate(list_of_param_values):\n",
    "        vs[param_name] = pv\n",
    "        ext_rate.append(compute_dftd_extinction_prob(True,vs))\n",
    "    return ext_rate"
   ]
  },
  {
   "cell_type": "code",
   "execution_count": null,
   "metadata": {},
   "outputs": [],
   "source": [
    "raise Exception('stop... no run-all past here')"
   ]
  },
  {
   "cell_type": "code",
   "execution_count": null,
   "metadata": {},
   "outputs": [],
   "source": [
    "variables['cull_rate_diseased'] = 0.5"
   ]
  },
  {
   "cell_type": "code",
   "execution_count": null,
   "metadata": {},
   "outputs": [],
   "source": [
    "variables"
   ]
  },
  {
   "cell_type": "code",
   "execution_count": null,
   "metadata": {},
   "outputs": [],
   "source": [
    "%time print(f\"Dftd eradication {compute_dftd_extinction_prob()}%\")"
   ]
  },
  {
   "cell_type": "code",
   "execution_count": null,
   "metadata": {},
   "outputs": [],
   "source": [
    "%time print(f\"Dftd eradication {compute_dftd_extinction_prob()}%\")"
   ]
  },
  {
   "cell_type": "code",
   "execution_count": null,
   "metadata": {},
   "outputs": [],
   "source": [
    "pl_values = [5,10,15,20,25,30]\n",
    "#print(variables)\n",
    "pl_ext_rate = param_sweep___compute_dftd_extinction_prob('program_length', pl_values)\n",
    "\n",
    "plt.plot(pl_values,pl_ext_rate)\n",
    "plt.title('Dftd eradication vs. Program length')\n",
    "plt.ylim(ymin=0,ymax=100)\n",
    "plt.xlabel(\"Program length (years)\")\n",
    "_ = plt.ylabel(\"DFTD eradication probability\")"
   ]
  },
  {
   "cell_type": "code",
   "execution_count": null,
   "metadata": {},
   "outputs": [],
   "source": [
    "print(pl_ext_rate)"
   ]
  },
  {
   "cell_type": "code",
   "execution_count": null,
   "metadata": {},
   "outputs": [],
   "source": []
  },
  {
   "cell_type": "code",
   "execution_count": null,
   "metadata": {},
   "outputs": [],
   "source": []
  },
  {
   "cell_type": "code",
   "execution_count": null,
   "metadata": {},
   "outputs": [],
   "source": []
  },
  {
   "cell_type": "code",
   "execution_count": null,
   "metadata": {},
   "outputs": [],
   "source": []
  },
  {
   "cell_type": "code",
   "execution_count": null,
   "metadata": {},
   "outputs": [],
   "source": [
    "vaccination_proportion_orig = variables['vaccination_proportion']\n",
    "vp_values = [0.5, 0.6, 0.7, 0.75, 0.8, 0.9, 0.95, 0.99]\n",
    "ext_rate = []\n",
    "for ndx,vp in enumerate(vp_values):\n",
    "    variables['vaccination_proportion'] = vp\n",
    "    ext_rate.append(compute_dftd_extinction_prob(False))\n",
    "variables['vaccination_proportion'] = vaccination_proportion_orig\n"
   ]
  },
  {
   "cell_type": "code",
   "execution_count": null,
   "metadata": {},
   "outputs": [],
   "source": [
    "plt.plot(vp_values,ext_rate,'.-')\n",
    "plt.title('Dftd eradication vs. vaccination_proportion')\n",
    "plt.ylim(ymin=0,ymax=100)\n",
    "plt.ylabel(\"probability of permanent disease eradication\")\n",
    "plt.xlabel(\"Fraction of Devil population vaccinated each session\")"
   ]
  },
  {
   "cell_type": "code",
   "execution_count": null,
   "metadata": {},
   "outputs": [],
   "source": [
    "ext_rate"
   ]
  },
  {
   "cell_type": "code",
   "execution_count": null,
   "metadata": {},
   "outputs": [],
   "source": [
    "cull_rate_diseased_orig = variables['cull_rate_diseased']\n",
    "cr_values = [0.1, 0.2, 0.3, 0.4, 0.5, 0.6, 0.7]\n",
    "ext_rate2 = []\n",
    "for ndx,cr in enumerate(cr_values):\n",
    "    variables['cull_rate_diseased'] = cr\n",
    "    ext_rate2.append(compute_dftd_extinction_prob(False))\n",
    "variables['cull_rate_diseased'] = cull_rate_diseased_orig\n"
   ]
  },
  {
   "cell_type": "code",
   "execution_count": null,
   "metadata": {},
   "outputs": [],
   "source": [
    "plt.plot(cr_values,ext_rate2,'.-')\n",
    "plt.title('Dftd eradication vs. cull_rate_diseased')\n",
    "plt.ylim(ymin=0,ymax=100)\n",
    "plt.ylabel(\"probability of permanent disease eradication\")\n",
    "plt.xlabel(\"Fraction of heavily diseased Devils who are culled each month\")"
   ]
  },
  {
   "cell_type": "code",
   "execution_count": null,
   "metadata": {},
   "outputs": [],
   "source": [
    "ext_rate2"
   ]
  },
  {
   "cell_type": "code",
   "execution_count": null,
   "metadata": {},
   "outputs": [],
   "source": []
  },
  {
   "cell_type": "code",
   "execution_count": null,
   "metadata": {},
   "outputs": [],
   "source": []
  },
  {
   "cell_type": "code",
   "execution_count": null,
   "metadata": {},
   "outputs": [],
   "source": []
  }
 ],
 "metadata": {
  "kernelspec": {
   "display_name": "Python 3",
   "language": "python",
   "name": "python3"
  },
  "language_info": {
   "codemirror_mode": {
    "name": "ipython",
    "version": 3
   },
   "file_extension": ".py",
   "mimetype": "text/x-python",
   "name": "python",
   "nbconvert_exporter": "python",
   "pygments_lexer": "ipython3",
   "version": "3.8.10"
  }
 },
 "nbformat": 4,
 "nbformat_minor": 4
}
