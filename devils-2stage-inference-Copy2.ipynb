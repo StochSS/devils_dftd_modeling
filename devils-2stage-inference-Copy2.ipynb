{
 "cells": [
  {
   "cell_type": "code",
   "execution_count": 1,
   "metadata": {},
   "outputs": [],
   "source": [
    "# !pip install git+git://github.com/StochSS/sciope.git@master\n",
    "import numpy as np\n",
    "import sys\n",
    "sys.path.insert(1, '../sciope')\n",
    "sys.path.insert(1, '../GillesPy2')\n",
    "import sciope\n",
    "import gillespy2\n",
    "from gillespy2 import Model, Species, Parameter, Reaction, Event, \\\n",
    "                      EventTrigger, EventAssignment\n",
    "from gillespy2 import ODECSolver, ODESolver, SSACSolver\n",
    "\n",
    "import matplotlib.pyplot as plt"
   ]
  },
  {
   "cell_type": "markdown",
   "metadata": {},
   "source": [
    "# devils_2stage_inference"
   ]
  },
  {
   "cell_type": "code",
   "execution_count": 2,
   "metadata": {},
   "outputs": [],
   "source": [
    "variables = {\n",
    "    \"juvenile_concentration\": 0.467,\n",
    "    \"infected_concentration\": 5e-5,\n",
    "    \"birth_rate\": 0.055,\n",
    "    \"maturity_rate\": 0.04267,\n",
    "    \"infection_rate_infected\": 2e-05,\n",
    "    \"infection_rate_diseased\": 3e-05,\n",
    "    \"incubation\": 22.6,\n",
    "    \"progression\": 12,\n",
    "    \"death_rate_juvenile\": 0.006,\n",
    "    \"death_rate_susceptible\": 0.02335,\n",
    "    \"death_rate_over_population\": 2.3e-7,\n",
    "    \"death_rate_infected\": 0.03,\n",
    "    \"death_rate_diseased\": 0.048,\n",
    "    \"DFTD_start\": 40\n",
    "}\n",
    "variables_orig = variables.copy()"
   ]
  },
  {
   "cell_type": "code",
   "execution_count": 3,
   "metadata": {
    "scrolled": false
   },
   "outputs": [
    {
     "name": "stdout",
     "output_type": "stream",
     "text": [
      "[[[34615.70418 34615.70418 34741.36901 34867.03384 35055.53109\n",
      "   35244.02834 35432.52558 35621.02283 35872.35249 35998.01732\n",
      "   36186.51457 36375.01181 36563.50906 36752.0063  36877.67114\n",
      "   37129.0008  37254.66563 37443.16287 37631.66012 37945.8222\n",
      "   38134.31944 38259.98427 38448.48152 38636.97877 38888.30843\n",
      "   39076.80567 39265.30292 39453.80017 39705.12983 39956.45949\n",
      "   40333.45398 40459.11881 40773.28089 40961.77814 41150.27538\n",
      "   41338.77263 41590.10229 41841.43195 41967.09678 42155.59403\n",
      "   42281.25886 42721.08577 42909.58301 43035.24784 43286.57751\n",
      "   43412.24234 43663.572   43789.23683 43977.73407 44040.56649\n",
      "   44166.23132 44229.06374 44354.72857 44417.56098 44480.3934\n",
      "   44543.22581 44668.89064 44668.89064 44794.55547 44794.55547\n",
      "   44920.22031 44983.05272 45108.71755 45422.87963 45611.37688\n",
      "   45737.04171 45862.70654 46051.20378 46239.70103 46365.36586\n",
      "   46428.19828 46616.69552 46805.19277 46930.8576  47370.68451\n",
      "   47559.18175 47810.51141 47936.17624 48187.50591 48376.00315\n",
      "   48501.66798 48690.16523 48878.66248 49067.15972 49318.48938\n",
      "   49569.81904 49632.65146 49695.48388 49821.14871 49821.14871\n",
      "   49883.98112 49946.81354 50072.47837 50135.31078 50198.1432\n",
      "   50323.80803 50449.47286 50512.30528 50637.97011 50763.63494\n",
      "   50889.29977 51014.9646  51140.62943 51266.29426 51391.95909\n",
      "   51517.62392 51643.28875 51894.61841 51957.45083 52020.28325\n",
      "   52083.11566 52145.94808 52208.78049 52334.44532 52334.44532\n",
      "   52334.44532 52460.11015 52460.11015 52585.77498 52585.77498\n",
      "   52711.43981 52711.43981 52774.27223 52837.10465 52899.93706\n",
      "   52899.93706 52962.76948 53025.60189 53088.43431 53151.26672\n",
      "   53214.09914 53214.09914 53276.93155 53276.93155 53214.09914\n",
      "   53151.26672 53151.26672 53151.26672 53088.43431 53025.60189\n",
      "   52962.76948 52962.76948 52899.93706 52899.93706 52837.10465\n",
      "   52899.93706 52899.93706 52962.76948 53025.60189 53025.60189\n",
      "   53088.43431 53151.26672 53214.09914 53276.93155 53339.76397\n",
      "   53339.76397 53339.76397 53276.93155 53151.26672 53025.60189\n",
      "   52899.93706 52774.27223 52522.94257 52397.27774 52271.61291\n",
      "   52145.94808 52020.28325 51894.61841 51831.786   51706.12117\n",
      "   51706.12117 51643.28875 51643.28875 51580.45634 51580.45634\n",
      "   51517.62392 51517.62392 51517.62392 51454.79151 51454.79151\n",
      "   51454.79151 51391.95909 51266.29426 51203.46184 51014.9646\n",
      "   50952.13218 50826.46735 50700.80252 50700.80252 50637.97011\n",
      "   50575.13769 50449.47286 50386.64044 50386.64044 50323.80803\n",
      "   50260.97561 50198.1432  50135.31078 50135.31078 50135.31078\n",
      "   50072.47837 50072.47837 50009.64595 49946.81354 49883.98112\n",
      "   49695.48388 49381.3218  49129.99214 48878.66248 48752.99764\n",
      "   48564.5004  48376.00315 48187.50591 47936.17624 47810.51141\n",
      "   47496.34934 47245.01968 46742.36035 46491.03069 46239.70103\n",
      "   45925.53895 45611.37688 45360.04721 44983.05272 44731.72306\n",
      "   44417.56098 44103.39891 43789.23683 43098.08026 42783.91818\n",
      "   42406.92369 42029.9292  41590.10229 41150.27538 40710.44847\n",
      "   40270.62157 39893.62707 39516.63258 39076.80567 38448.48152\n",
      "   38008.65461 37694.49254 37380.33046 37066.16838 36940.50355\n",
      "   36814.83872 36249.34698 35683.85524 35621.02283 35306.86075\n",
      "   34804.20143 34552.87177 34175.87727 33861.7152  33547.55312\n",
      "   33233.39104 32919.22897 32605.06689 32353.73723 32039.57515\n",
      "   31725.41307 31097.08892 30782.92684 30531.59718 30280.26752\n",
      "   30091.77027 29903.27303 29777.6082  29651.94337 29526.27853\n",
      "   29400.6137  29274.94887 29023.61921 28897.95438 28835.12197\n",
      "   28646.62472 28520.95989 28395.29506 28332.46264 28143.9654\n",
      "   27955.46815 27829.80332 27704.13849 27389.97641 27264.31158\n",
      "   27075.81433 26887.31709 26761.65226 26698.81984 26573.15501\n",
      "   26510.3226  26321.82535 26196.16052 26133.3281  25881.99844\n",
      "   25756.33361 25630.66878 25505.00395 25505.00395 25379.33912\n",
      "   25253.67429 25128.00946 25002.34463 24876.6798  24751.01496\n",
      "   24499.6853  24374.02047 24248.35564 24122.69081 23997.02598\n",
      "   23871.36115 23745.69632 23682.8639  23557.19907 23431.53424\n",
      "   23431.53424 23305.86941 23180.20458 23180.20458 23180.20458\n",
      "   23054.53975 23054.53975 22928.87492 22866.0425  22803.21009\n",
      "   22677.54526 22677.54526 22551.88043 22551.88043 22426.2156\n",
      "   22426.2156  22363.38318 22300.55076 22174.88593 22174.88593\n",
      "   22112.05352 22049.2211  21923.55627 21797.89144 21797.89144\n",
      "   21672.22661 21546.56178 21483.72936 21358.06453 21295.23212\n",
      "   21232.3997  21106.73487 20981.07004 20981.07004 20792.57279\n",
      "   20792.57279 20792.57279 20729.74038 20666.90796 20666.90796\n",
      "   20604.07555 20604.07555 20541.24313 20478.41072 20478.41072\n",
      "   20415.5783  20352.74589 20289.91347 20289.91347 20164.24864\n",
      "   20164.24864 20101.41623 20038.58381 19912.91898 19912.91898\n",
      "   19912.91898 19787.25415 19724.42173 19661.58932 19661.58932\n",
      "   19661.58932 19661.58932 19598.7569  19535.92449 19535.92449\n",
      "   19473.09207 19473.09207 19410.25966 19347.42724 19347.42724\n",
      "   19284.59483 19221.76241 19158.92999 19158.92999 19096.09758\n",
      "   19033.26516 19033.26516 18907.60033 18781.9355  18781.9355\n",
      "   18719.10309 18656.27067 18593.43826 18530.60584 18530.60584\n",
      "   18530.60584 18404.94101 18404.94101 18279.27618 18216.44376\n",
      "   18153.61135 18153.61135 18027.94652 18027.94652 17902.28169\n",
      "   17902.28169 17776.61686 17650.95203 17588.11961 17462.45478\n",
      "   17336.78995 17211.12512 17148.2927  17022.62787 17022.62787\n",
      "   16896.96304]]]\n"
     ]
    }
   ],
   "source": [
    "import pandas as pd\n",
    "\n",
    "# pop_data = pd.read_csv('../year_data/devil_data_v2.csv')\n",
    "pop_data = pd.read_csv('month_data/Devils_Dataset__Population_1985-2020.csv')\n",
    "\n",
    "devil_pop = np.array(pop_data['Population'].iloc[:])\n",
    "init_devils_pop = devil_pop[0]\n",
    "# dftd_pop = .1*init_devils_pop\n",
    "\n",
    "# model.listOfParameters['K'].expression = max(devil_pop)*1.3\n",
    "\n",
    "# model.listOfSpecies['Devils'].initial_value = init_devils_pop\n",
    "# model.listOfSpecies['I'].initial_value = round(init_devils_pop*.001)  # This will be overwritten by variables later\n",
    "# model.listOfSpecies['S'].initial_value = round(init_devils_pop*.999)\n",
    "\n",
    "obs = np.vstack([devil_pop]).reshape(1, 1, -1)\n",
    "print(obs)"
   ]
  },
  {
   "cell_type": "code",
   "execution_count": 4,
   "metadata": {},
   "outputs": [],
   "source": [
    "class DevilsPreVaccination(Model):\n",
    "    def __init__(self, values=variables, events=None):\n",
    "        Model.__init__(self, name=\"Devils DFTD 2-Stage Infection\")\n",
    "        self.volume = 1\n",
    "\n",
    "        # Parameters\n",
    "        birth_rate = Parameter(name=\"birth_rate\", expression=values['birth_rate'])\n",
    "        death_rate_juvenile = Parameter(name=\"death_rate_juvenile\", expression=values['death_rate_juvenile'])\n",
    "        maturity_rate = Parameter(name=\"maturity_rate\", expression=values['maturity_rate'])\n",
    "        death_rate_susceptible = Parameter(\n",
    "            name=\"death_rate_susceptible\", expression=values['death_rate_susceptible']\n",
    "        )\n",
    "        death_rate_over_population = Parameter(\n",
    "            name=\"death_rate_over_population\", expression=values['death_rate_over_population']\n",
    "        )\n",
    "        infection_rate_infected = Parameter(\n",
    "            name=\"infection_rate_infected\", expression=values['infection_rate_infected']\n",
    "        )\n",
    "        infection_rate_diseased = Parameter(\n",
    "            name=\"infection_rate_diseased\", expression=values['infection_rate_diseased']\n",
    "        )\n",
    "        incubation = Parameter(name=\"incubation\", expression=values['incubation'])\n",
    "        death_rate_infected = Parameter(name=\"death_rate_infected\", expression=values['death_rate_infected'])\n",
    "        progression = Parameter(name=\"progression\", expression=values['progression'])\n",
    "        death_rate_diseased = Parameter(name=\"death_rate_diseased\", expression=values['death_rate_diseased'])\n",
    "        DFTD_start = Parameter(name=\"DFTD_start\", expression=values['DFTD_start'])\n",
    "        self.add_parameter([birth_rate, death_rate_juvenile, maturity_rate, death_rate_susceptible,\n",
    "                            death_rate_over_population, infection_rate_infected, infection_rate_diseased,\n",
    "                            incubation, death_rate_infected, progression, death_rate_diseased, DFTD_start])\n",
    "\n",
    "        # Variables (initial values adjusted to observed data)\n",
    "        initial_devil_population  = int(devil_pop[0])\n",
    "        \n",
    "        Juvenile = Species(\n",
    "            name=\"Juvenile\", mode=\"discrete\",\n",
    "            initial_value=round(initial_devil_population * values['juvenile_concentration'])\n",
    "        )\n",
    "        Susceptible = Species(\n",
    "            name=\"Susceptible\", mode=\"discrete\",\n",
    "            initial_value=round(initial_devil_population * (1 - values['juvenile_concentration']))\n",
    "        )\n",
    "        Exposed = Species(name=\"Exposed\", initial_value=0, mode=\"discrete\")\n",
    "        Infected = Species(name=\"Infected\", initial_value=0, mode=\"discrete\")\n",
    "        Diseased = Species(name=\"Diseased\", initial_value=0, mode=\"discrete\")\n",
    "        Devils = Species(name=\"Devils\", initial_value=initial_devil_population, mode=\"discrete\")\n",
    "        self.add_species([Juvenile, Susceptible, Exposed, Infected, Diseased, Devils])\n",
    "\n",
    "        # Reactions\n",
    "        Birth = Reaction(name=\"Birth\",\n",
    "            reactants={}, products={'Juvenile': 1, 'Devils': 1},\n",
    "            propensity_function=\"birth_rate * (Susceptible + Exposed + Infected)\"\n",
    "        )\n",
    "        Mature = Reaction(name=\"Mature\",\n",
    "            reactants={'Juvenile': 1}, products={'Susceptible': 1},\n",
    "            propensity_function=\"Juvenile * maturity_rate\"\n",
    "        )\n",
    "        self.add_reaction([Birth, Mature])\n",
    "        \n",
    "        Death_Juvenile = Reaction(name=\"Death_Juvenile\",\n",
    "            reactants={'Juvenile': 1, 'Devils': 1}, products={},\n",
    "            propensity_function=\"death_rate_juvenile * Juvenile\"\n",
    "        )\n",
    "        Death_Juvenile2 = Reaction(name=\"Death_Juvenile2\",\n",
    "            reactants={'Juvenile': 1, 'Devils': 1}, products={},\n",
    "            propensity_function=\"death_rate_over_population * Juvenile * (Devils-1)\"\n",
    "        )\n",
    "        Death_Susceptible = Reaction(name=\"Death_Susceptible\",\n",
    "            reactants={'Susceptible': 1, 'Devils': 1}, products={},\n",
    "            propensity_function=\"death_rate_susceptible * Susceptible\"\n",
    "        )\n",
    "        Death_Susceptible2 = Reaction(name=\"Death_Susceptible2\",\n",
    "            reactants={'Susceptible': 1, 'Devils': 1}, products={},\n",
    "            propensity_function=\"death_rate_over_population * Susceptible * (Devils-1)\"\n",
    "        )\n",
    "        Death_Infected = Reaction(name=\"Death_Infected\",\n",
    "            reactants={'Infected': 1, 'Devils': 1}, products={},\n",
    "            propensity_function=\"death_rate_infected * Infected\"\n",
    "        )\n",
    "        Death_Infected2 = Reaction(name=\"Death_Infected2\",\n",
    "            reactants={'Infected': 1, 'Devils': 1}, products={},\n",
    "            propensity_function=\"death_rate_over_population * Infected * (Devils-1)\"\n",
    "        )\n",
    "        Death_Exposed = Reaction(name=\"Death_Exposed\",\n",
    "            reactants={'Devils': 1, 'Exposed': 1}, products={},\n",
    "            propensity_function=\"death_rate_susceptible * Exposed\"\n",
    "        )\n",
    "        Death_Exposed2 = Reaction(name=\"Death_Exposed2\",\n",
    "            reactants={'Devils': 1, 'Exposed': 1}, products={},\n",
    "            propensity_function=\"death_rate_over_population * Exposed * (Devils - 1)\"\n",
    "        )\n",
    "        Death_Diseased = Reaction(name=\"Death_Diseased\",\n",
    "            reactants={'Diseased': 1, 'Devils': 1}, products={},\n",
    "            propensity_function=\"death_rate_diseased * Diseased\"\n",
    "        )\n",
    "        Death_Diseased2 = Reaction(name=\"Death_Diseased2\",\n",
    "            reactants={'Diseased': 1, 'Devils': 1}, products={},\n",
    "            propensity_function=\"death_rate_over_population * Diseased * (Devils - 1)\"\n",
    "        )\n",
    "        self.add_reaction([Death_Juvenile, Death_Susceptible, Death_Exposed, Death_Infected, Death_Diseased,\n",
    "                           Death_Juvenile2, Death_Susceptible2, Death_Exposed2, Death_Infected2, Death_Diseased2])\n",
    "        \n",
    "        \n",
    "        TransmissionI = Reaction(name=\"TransmissionI\",\n",
    "            reactants={'Susceptible': 1, 'Infected': 1}, products={'Exposed': 1, 'Infected':1},\n",
    "            propensity_function=\"infection_rate_infected * Susceptible * Infected\"\n",
    "        )\n",
    "        TransmissionD = Reaction(name=\"TransmissionD\",\n",
    "            reactants={'Susceptible': 1, 'Diseased': 1}, products={'Exposed': 1, 'Diseased':1},\n",
    "            propensity_function=\"infection_rate_diseased * Susceptible * Diseased\"\n",
    "        )\n",
    "        DFTD_Stage1 = Reaction(name=\"DFTD_Stage1\",\n",
    "            reactants={'Exposed': 1}, products={'Infected': 1},\n",
    "            propensity_function=\"Exposed / incubation\"\n",
    "        )\n",
    "        DFTD_Stage2 = Reaction(name=\"DFTD_Stage2\",\n",
    "            reactants={'Infected': 1}, products={'Diseased': 1},\n",
    "            propensity_function=\"Infected / progression\"\n",
    "        )\n",
    "        self.add_reaction([TransmissionI, TransmissionD, DFTD_Stage1, DFTD_Stage2])\n",
    "\n",
    "        # Events\n",
    "        if events is not None:\n",
    "            self.add_event(events)\n",
    "\n",
    "        # Timespan\n",
    "        self.timespan(np.arange(0, 421, 1)) # month data tspan\n",
    "        \n",
    "    def run(self, with_pr=True, **kwargs):\n",
    "        if not with_pr:\n",
    "            return super().run(**kwargs)\n",
    "        \n",
    "        self.resolve_parameters()\n",
    "        t = int(self.listOfParameters['DFTD_start'].value)\n",
    "        res1 = super().run(**kwargs, t=t)\n",
    "        \n",
    "        if not \"variables\" in kwargs.keys():\n",
    "            kwargs['variables'] = {}\n",
    "        kwargs['variables']['Infected'] = \"1\"\n",
    "        kwargs['variables']['Susceptible'] = f\"{int(res1[0]['Susceptible'][-1] - 1)}\"\n",
    "        \n",
    "        res2 = super().run(resume=res1, **kwargs)\n",
    "        for species in self.listOfSpecies.keys():\n",
    "            res2[0][species] = res2[0][species][:-1]\n",
    "        \n",
    "        return res2"
   ]
  },
  {
   "cell_type": "code",
   "execution_count": 5,
   "metadata": {},
   "outputs": [
    {
     "name": "stdout",
     "output_type": "stream",
     "text": [
      "Devils DFTD 2-Stage Infection\n",
      "\n",
      "**********\n",
      "Species\n",
      "**********\n",
      "\n",
      "Devils: 34615\n",
      "Diseased: 0\n",
      "Exposed: 0\n",
      "Infected: 0\n",
      "Juvenile: 16165\n",
      "Susceptible: 18450\n",
      "\n",
      "**********\n",
      "Parameters\n",
      "**********\n",
      "\n",
      "DFTD_start: 40\n",
      "birth_rate: 0.055\n",
      "death_rate_diseased: 0.048\n",
      "death_rate_infected: 0.03\n",
      "death_rate_juvenile: 0.006\n",
      "death_rate_over_population: 2.3e-07\n",
      "death_rate_susceptible: 0.02335\n",
      "incubation: 22.6\n",
      "infection_rate_diseased: 3e-05\n",
      "infection_rate_infected: 2e-05\n",
      "maturity_rate: 0.04267\n",
      "progression: 12\n",
      "\n",
      "**********\n",
      "Reactions\n",
      "**********\n",
      "\n",
      "Birth\n",
      "\tProducts\n",
      "\t\tJuvenile: 1\n",
      "\t\tDevils: 1\n",
      "\tPropensity Function: (birth_rate*((Susceptible+Exposed)+Infected))\n",
      "DFTD_Stage1\n",
      "\tReactants\n",
      "\t\tExposed: 1\n",
      "\tProducts\n",
      "\t\tInfected: 1\n",
      "\tPropensity Function: (Exposed/incubation)\n",
      "DFTD_Stage2\n",
      "\tReactants\n",
      "\t\tInfected: 1\n",
      "\tProducts\n",
      "\t\tDiseased: 1\n",
      "\tPropensity Function: (Infected/progression)\n",
      "Death_Diseased\n",
      "\tReactants\n",
      "\t\tDiseased: 1\n",
      "\t\tDevils: 1\n",
      "\tPropensity Function: (death_rate_diseased*Diseased)\n",
      "Death_Diseased2\n",
      "\tReactants\n",
      "\t\tDiseased: 1\n",
      "\t\tDevils: 1\n",
      "\tPropensity Function: ((death_rate_over_population*Diseased)*(Devils-1))\n",
      "Death_Exposed\n",
      "\tReactants\n",
      "\t\tDevils: 1\n",
      "\t\tExposed: 1\n",
      "\tPropensity Function: (death_rate_susceptible*Exposed)\n",
      "Death_Exposed2\n",
      "\tReactants\n",
      "\t\tDevils: 1\n",
      "\t\tExposed: 1\n",
      "\tPropensity Function: ((death_rate_over_population*Exposed)*(Devils-1))\n",
      "Death_Infected\n",
      "\tReactants\n",
      "\t\tInfected: 1\n",
      "\t\tDevils: 1\n",
      "\tPropensity Function: (death_rate_infected*Infected)\n",
      "Death_Infected2\n",
      "\tReactants\n",
      "\t\tInfected: 1\n",
      "\t\tDevils: 1\n",
      "\tPropensity Function: ((death_rate_over_population*Infected)*(Devils-1))\n",
      "Death_Juvenile\n",
      "\tReactants\n",
      "\t\tJuvenile: 1\n",
      "\t\tDevils: 1\n",
      "\tPropensity Function: (death_rate_juvenile*Juvenile)\n",
      "Death_Juvenile2\n",
      "\tReactants\n",
      "\t\tJuvenile: 1\n",
      "\t\tDevils: 1\n",
      "\tPropensity Function: ((death_rate_over_population*Juvenile)*(Devils-1))\n",
      "Death_Susceptible\n",
      "\tReactants\n",
      "\t\tSusceptible: 1\n",
      "\t\tDevils: 1\n",
      "\tPropensity Function: (death_rate_susceptible*Susceptible)\n",
      "Death_Susceptible2\n",
      "\tReactants\n",
      "\t\tSusceptible: 1\n",
      "\t\tDevils: 1\n",
      "\tPropensity Function: ((death_rate_over_population*Susceptible)*(Devils-1))\n",
      "Mature\n",
      "\tReactants\n",
      "\t\tJuvenile: 1\n",
      "\tProducts\n",
      "\t\tSusceptible: 1\n",
      "\tPropensity Function: (Juvenile*maturity_rate)\n",
      "TransmissionD\n",
      "\tReactants\n",
      "\t\tSusceptible: 1\n",
      "\t\tDiseased: 1\n",
      "\tProducts\n",
      "\t\tExposed: 1\n",
      "\t\tDiseased: 1\n",
      "\tPropensity Function: ((infection_rate_diseased*Susceptible)*Diseased)\n",
      "TransmissionI\n",
      "\tReactants\n",
      "\t\tSusceptible: 1\n",
      "\t\tInfected: 1\n",
      "\tProducts\n",
      "\t\tExposed: 1\n",
      "\t\tInfected: 1\n",
      "\tPropensity Function: ((infection_rate_infected*Susceptible)*Infected)\n"
     ]
    }
   ],
   "source": [
    "model = DevilsPreVaccination()\n",
    "print(model)"
   ]
  },
  {
   "cell_type": "markdown",
   "metadata": {},
   "source": [
    "# Model Inference"
   ]
  },
  {
   "cell_type": "code",
   "execution_count": 6,
   "metadata": {},
   "outputs": [
    {
     "ename": "ModuleNotFoundError",
     "evalue": "No module named 'tsfresh'",
     "output_type": "error",
     "traceback": [
      "\u001b[0;31m---------------------------------------------------------------------------\u001b[0m",
      "\u001b[0;31mModuleNotFoundError\u001b[0m                       Traceback (most recent call last)",
      "\u001b[0;32m<ipython-input-6-c2b68df91521>\u001b[0m in \u001b[0;36m<module>\u001b[0;34m\u001b[0m\n\u001b[1;32m      2\u001b[0m \u001b[0mget_ipython\u001b[0m\u001b[0;34m(\u001b[0m\u001b[0;34m)\u001b[0m\u001b[0;34m.\u001b[0m\u001b[0mrun_line_magic\u001b[0m\u001b[0;34m(\u001b[0m\u001b[0;34m'autoreload'\u001b[0m\u001b[0;34m,\u001b[0m \u001b[0;34m'2'\u001b[0m\u001b[0;34m)\u001b[0m\u001b[0;34m\u001b[0m\u001b[0;34m\u001b[0m\u001b[0m\n\u001b[1;32m      3\u001b[0m \u001b[0;34m\u001b[0m\u001b[0m\n\u001b[0;32m----> 4\u001b[0;31m \u001b[0;32mfrom\u001b[0m \u001b[0mtsfresh\u001b[0m\u001b[0;34m.\u001b[0m\u001b[0mfeature_extraction\u001b[0m\u001b[0;34m.\u001b[0m\u001b[0msettings\u001b[0m \u001b[0;32mimport\u001b[0m \u001b[0mMinimalFCParameters\u001b[0m\u001b[0;34m\u001b[0m\u001b[0;34m\u001b[0m\u001b[0m\n\u001b[0m\u001b[1;32m      5\u001b[0m \u001b[0;32mfrom\u001b[0m \u001b[0msciope\u001b[0m\u001b[0;34m.\u001b[0m\u001b[0mutilities\u001b[0m\u001b[0;34m.\u001b[0m\u001b[0mpriors\u001b[0m \u001b[0;32mimport\u001b[0m \u001b[0muniform_prior\u001b[0m\u001b[0;34m\u001b[0m\u001b[0;34m\u001b[0m\u001b[0m\n\u001b[1;32m      6\u001b[0m \u001b[0;32mfrom\u001b[0m \u001b[0msciope\u001b[0m\u001b[0;34m.\u001b[0m\u001b[0mutilities\u001b[0m\u001b[0;34m.\u001b[0m\u001b[0msummarystats\u001b[0m \u001b[0;32mimport\u001b[0m \u001b[0mauto_tsfresh\u001b[0m\u001b[0;34m\u001b[0m\u001b[0;34m\u001b[0m\u001b[0m\n",
      "\u001b[0;31mModuleNotFoundError\u001b[0m: No module named 'tsfresh'"
     ]
    }
   ],
   "source": [
    "%load_ext autoreload\n",
    "%autoreload 2\n",
    "\n",
    "from tsfresh.feature_extraction.settings import MinimalFCParameters\n",
    "from sciope.utilities.priors import uniform_prior\n",
    "from sciope.utilities.summarystats import auto_tsfresh\n",
    "from sciope.utilities.distancefunctions import naive_squared, euclidean, manhattan\n",
    "from sciope.inference.abc_inference import ABC\n",
    "from sciope.inference.smc_abc import SMCABC\n",
    "from sciope.utilities.epsilonselectors import RelativeEpsilonSelector\n",
    "from sklearn.metrics import mean_absolute_error\n",
    "import dask\n",
    "from dask.distributed import Client"
   ]
  },
  {
   "cell_type": "markdown",
   "metadata": {},
   "source": [
    "## Generate some fixed(observed) data based on default parameters of the model"
   ]
  },
  {
   "cell_type": "code",
   "execution_count": null,
   "metadata": {},
   "outputs": [],
   "source": [
    "def configure_simulation():\n",
    "    solver = SSACSolver(model=model, variable=True)\n",
    "    kwargs = {\n",
    "        \"solver\":solver,\n",
    "#         \"number_of_trajectories\":100,\n",
    "#         \"seed\":None,\n",
    "#         \"tau_tol\":0.03,\n",
    "#         \"integrator_options\":{'rtol': 0.001, 'atol': 1e-06}\n",
    "    }\n",
    "    return kwargs"
   ]
  },
  {
   "cell_type": "code",
   "execution_count": null,
   "metadata": {},
   "outputs": [],
   "source": [
    "kwargs = configure_simulation()"
   ]
  },
  {
   "cell_type": "code",
   "execution_count": null,
   "metadata": {},
   "outputs": [],
   "source": [
    "plt.plot(model.tspan, devil_pop)\n",
    "# plt.plot(model.tspan, dfdt_pop)"
   ]
  },
  {
   "cell_type": "code",
   "execution_count": null,
   "metadata": {},
   "outputs": [],
   "source": [
    "solver = SSACSolver(model, variable=True)"
   ]
  },
  {
   "cell_type": "code",
   "execution_count": null,
   "metadata": {},
   "outputs": [],
   "source": [
    "results = model.run(solver=solver)\n",
    "results.plotplotly()"
   ]
  },
  {
   "cell_type": "markdown",
   "metadata": {},
   "source": [
    "## Define prior distribution"
   ]
  },
  {
   "cell_type": "code",
   "execution_count": null,
   "metadata": {},
   "outputs": [],
   "source": [
    "# take default from mode 1 as reference\n",
    "default_param = np.array(list(model.listOfParameters.items()))[:, 1]\n",
    "\n",
    "print(default_param)\n",
    "\n",
    "parameter_names = []\n",
    "bound = []\n",
    "for exp in default_param:\n",
    "    bound.append(float(exp.expression))\n",
    "    parameter_names.append(exp.name)\n",
    "\n",
    "print(parameter_names)\n",
    "print(bound)\n",
    "# bound = np.log(bound)\n",
    "# Set the bounds\n",
    "bound = np.array(bound)\n",
    "dmin = np.log(bound * 0.5)\n",
    "dmax = np.log(bound * 5.0)\n",
    "# dmin = bound * 0.5\n",
    "# dmax = bound * 5.0\n",
    "\n",
    "print(dmin)\n",
    "print(dmax)\n",
    "# Here we use uniform prior\n",
    "uni_prior = uniform_prior.UniformPrior(dmin, dmax)"
   ]
  },
  {
   "cell_type": "code",
   "execution_count": null,
   "metadata": {},
   "outputs": [],
   "source": [
    "# parameter_names = ['r',    'K',   'L',   'k0']\n",
    "# lower_bounds =    [.002,   45000, .003,  .06]\n",
    "# upper_bounds =    [.04,    75000, .04,   .7]\n",
    "# uni_prior = uniform_prior.UniformPrior(np.array(lower_bounds), np.array(upper_bounds))"
   ]
  },
  {
   "cell_type": "markdown",
   "metadata": {},
   "source": [
    "## Define simulator"
   ]
  },
  {
   "cell_type": "code",
   "execution_count": null,
   "metadata": {},
   "outputs": [],
   "source": [
    "def run_pre_infection():\n",
    "    \n",
    "    variables['Infected'] = 0\n",
    "    results = solver.run(model=model, variables=variables, t=variables['DFTD_start'])\n",
    "    total_devils = np.add(np.add(\n",
    "        np.add(results['Juvenile'], results['Susceptible']), np.add(results['Exposed'], results['Infected'])\n",
    "    ), results['Diseased'])\n",
    "    return (results, total_devils)"
   ]
  },
  {
   "cell_type": "code",
   "execution_count": null,
   "metadata": {},
   "outputs": [],
   "source": [
    "def run_post_infection(pre_result):\n",
    "    variables['Infected'] = 5\n",
    "    variables['Susceptible'] = pre_result['Susceptible'][-1]-5\n",
    "    variables['Juvenile'] = pre_result['Juvenile'][-1]\n",
    "    \n",
    "    results = solver.run(model=model, results=pre_result, variables=variables, **kwargs, t=420)\n",
    "    total_devils = np.add(np.add(\n",
    "        np.add(results['Juvenile'], results['Susceptible']), np.add(results['Exposed'], results['Infected'])\n",
    "    ), results['Diseased'])\n",
    "    return (results, total_devils)"
   ]
  },
  {
   "cell_type": "code",
   "execution_count": null,
   "metadata": {},
   "outputs": [],
   "source": [
    "def set_model_parameters(params):\n",
    "    # params - array, need to have the same order as model.listOfParameters\n",
    "    variables = dict(zip(parameter_names, params))\n",
    "    return variables\n",
    "\n",
    "# Here we use the GillesPy2 Solver\n",
    "def simulator(params, model):\n",
    "    print('testing params:\\n', params)\n",
    "    params = np.exp(params)\n",
    "    variables = set_model_parameters(params)\n",
    "#     model_update = set_model_parameters(params, model)\n",
    "\n",
    "#     pre_res, _ = run_pre_infection()\n",
    "#     res, _ = run_post_infection(pre_res)\n",
    "    solver = gillespy2.SSACSolver(variable=True, model=model)\n",
    "    res = model.run(solver=solver, variables=variables)\n",
    "#     res = res.to_array()\n",
    "#     tot_res = np.asarray([x.T for x in res]) # reshape to (N, S, T)\n",
    "#     # should not contain timepoints\n",
    "#     tot_res = tot_res[:, 1:, :]\n",
    "    devils = res['Devils']\n",
    "#     infected = res['I']\n",
    "\n",
    "    return np.vstack([devils]).reshape(1, 1, -1)\n",
    "#     return tot_res\n",
    "\n",
    "# Wrapper, simulator function to abc should should only take one argument (the parameter point)\n",
    "def simulator2(x):\n",
    "    return simulator(x, model=model)"
   ]
  },
  {
   "cell_type": "markdown",
   "metadata": {},
   "source": [
    "## Define summary statistics and distance function"
   ]
  },
  {
   "cell_type": "code",
   "execution_count": null,
   "metadata": {},
   "outputs": [],
   "source": [
    "# Function to generate summary statistics\n",
    "summ_func = auto_tsfresh.SummariesTSFRESH()\n",
    "\n",
    "# Distance\n",
    "ed = euclidean.EuclideanDistance()\n",
    "mh = manhattan.ManhattanDistance()"
   ]
  },
  {
   "cell_type": "markdown",
   "metadata": {},
   "source": [
    "## Start local cluster using dask client"
   ]
  },
  {
   "cell_type": "code",
   "execution_count": null,
   "metadata": {
    "scrolled": true
   },
   "outputs": [],
   "source": [
    "c = Client()"
   ]
  },
  {
   "cell_type": "markdown",
   "metadata": {},
   "source": [
    "## Start abc instance"
   ]
  },
  {
   "cell_type": "code",
   "execution_count": null,
   "metadata": {},
   "outputs": [],
   "source": [
    "abc = SMCABC(obs,\n",
    "                          sim=simulator2,\n",
    "                          prior_function=uni_prior,\n",
    "                          summaries_function=summ_func.compute,\n",
    "                          distance_function=ed\n",
    "                         )\n",
    "# abc.compute_fixed_mean(1)"
   ]
  },
  {
   "cell_type": "code",
   "execution_count": null,
   "metadata": {},
   "outputs": [],
   "source": [
    "# First compute the fixed(observed) mean\n",
    "# abc.compute_fixed_mean(chunk_size=2)"
   ]
  },
  {
   "cell_type": "code",
   "execution_count": null,
   "metadata": {
    "scrolled": true
   },
   "outputs": [],
   "source": [
    "max_rounds = 6\n",
    "eps_selector = RelativeEpsilonSelector(20, max_rounds)\n",
    "with dask.config.set(schedular=\"processes\", workers=20):\n",
    "    print(c)\n",
    "    res = abc.infer(num_samples=100, batch_size=10, chunk_size=1, eps_selector=eps_selector)"
   ]
  },
  {
   "cell_type": "code",
   "execution_count": null,
   "metadata": {
    "scrolled": true
   },
   "outputs": [],
   "source": [
    "# mae_inference = mean_absolute_error(bound, abc.results['inferred_parameters'])\n",
    "res[0]"
   ]
  },
  {
   "cell_type": "markdown",
   "metadata": {},
   "source": [
    "## Analysis"
   ]
  },
  {
   "cell_type": "code",
   "execution_count": null,
   "metadata": {},
   "outputs": [],
   "source": [
    "posterior = np.array(res[0]['accepted_samples'])"
   ]
  },
  {
   "cell_type": "code",
   "execution_count": null,
   "metadata": {
    "scrolled": false
   },
   "outputs": [],
   "source": [
    "fig, ax = plt.subplots(posterior.shape[1], posterior.shape[1])\n",
    "for i in range(posterior.shape[1]):\n",
    "    for j in range(posterior.shape[1]):\n",
    "        if i > j:\n",
    "            ax[i,j].axis('off')\n",
    "        else:\n",
    "            if i == j:\n",
    "                ax[i,j].hist(posterior[:,i], bins = 'auto')\n",
    "                ax[i,j].axvline(np.median(posterior[:,i]), color = 'C1')\n",
    "                ax[i,j].set_xlim(dmin[i], dmax[i])\n",
    "            else:\n",
    "                ax[i,j].scatter(posterior[:,j], posterior[:,i])\n",
    "                ax[i,j].set_ylim(dmin[i], dmax[i])\n",
    "                ax[i,j].set_xlim(dmin[j], dmax[j])\n",
    "    ax[i,0].set_ylabel(parameter_names[i])\n",
    "    ax[0,i].set_title(parameter_names[i])\n",
    "fig.set_size_inches(10,10)\n",
    "fig.tight_layout()"
   ]
  },
  {
   "cell_type": "code",
   "execution_count": null,
   "metadata": {},
   "outputs": [],
   "source": [
    "# for i in range(posterior.shape[0]):\n",
    "#     res = simulator2(posterior[i,:])\n",
    "#     plt.plot(res[0,:], color = 'C0', alpha = 0.02)\n",
    "# #     ax[1].plot(res[0,1,:], color = 'C0', alpha = 0.02)\n",
    "# plt.plot(obs[0,0,:], color = 'black', label = 'Observed Data')\n",
    "# # ax[1].plot(obs[0,1,:], color = 'black', label = 'Observed Data')\n",
    "# plt.title(\"Total Devil Population\")\n",
    "# # ax[1].set_title(\"Infected\")\n",
    "# plt.legend(loc='best')"
   ]
  },
  {
   "cell_type": "code",
   "execution_count": null,
   "metadata": {},
   "outputs": [],
   "source": [
    "# res = simulator2(posterior[10,:])\n",
    "# print(res)\n",
    "# plt.plot(res[0,:], color = 'C0', alpha = 0.02)\n",
    "# #     ax[1].plot(res[0,1,:], color = 'C0', alpha = 0.02)\n",
    "# plt.plot(obs[0,0,:], color = 'black', label = 'Observed Data')\n",
    "# # ax[1].plot(obs[0,1,:], color = 'black', label = 'Observed Data')\n",
    "# plt.title(\"Total Devil Population\")\n",
    "# # ax[1].set_title(\"Infected\")\n",
    "# plt.legend(loc='best')"
   ]
  },
  {
   "cell_type": "code",
   "execution_count": null,
   "metadata": {},
   "outputs": [],
   "source": [
    "best_ind = np.argmin(res[0]['distances'])"
   ]
  },
  {
   "cell_type": "code",
   "execution_count": null,
   "metadata": {},
   "outputs": [],
   "source": [
    "res[0]['distances'][best_ind]"
   ]
  },
  {
   "cell_type": "code",
   "execution_count": null,
   "metadata": {
    "scrolled": true
   },
   "outputs": [],
   "source": [
    "print(posterior[best_ind])"
   ]
  },
  {
   "cell_type": "code",
   "execution_count": null,
   "metadata": {},
   "outputs": [],
   "source": [
    "selected_vars = dict(zip(parameter_names, np.exp(posterior[best_ind])))\n",
    "print(selected_vars)\n",
    "test = model.run(variables = selected_vars)\n",
    "test.plot()\n",
    "plt.plot(model.tspan, devil_pop, '--b')"
   ]
  },
  {
   "cell_type": "code",
   "execution_count": null,
   "metadata": {},
   "outputs": [],
   "source": [
    "res3 = model.run()\n",
    "res3.plotplotly()"
   ]
  },
  {
   "cell_type": "code",
   "execution_count": null,
   "metadata": {},
   "outputs": [],
   "source": []
  },
  {
   "cell_type": "code",
   "execution_count": null,
   "metadata": {},
   "outputs": [],
   "source": []
  }
 ],
 "metadata": {
  "@webio": {
   "lastCommId": null,
   "lastKernelId": null
  },
  "kernelspec": {
   "display_name": "Python 3",
   "language": "python",
   "name": "python3"
  },
  "language_info": {
   "codemirror_mode": {
    "name": "ipython",
    "version": 3
   },
   "file_extension": ".py",
   "mimetype": "text/x-python",
   "name": "python",
   "nbconvert_exporter": "python",
   "pygments_lexer": "ipython3",
   "version": "3.8.10"
  }
 },
 "nbformat": 4,
 "nbformat_minor": 4
}
