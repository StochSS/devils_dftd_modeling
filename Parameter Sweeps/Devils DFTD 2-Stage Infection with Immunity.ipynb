{
 "cells": [
  {
   "cell_type": "code",
   "execution_count": 1,
   "metadata": {},
   "outputs": [],
   "source": [
    "import os\n",
    "import json\n",
    "import copy\n",
    "import pickle\n",
    "import numpy as np\n",
    "import pandas as pd\n",
    "\n",
    "import sys\n",
    "sys.path.append('../../GillesPy2/')\n",
    "import gillespy2\n",
    "from gillespy2 import Model, Species, Parameter, Reaction, Event, \\\n",
    "                      EventTrigger, EventAssignment, RateRule\n",
    "from gillespy2 import TauHybridCSolver\n",
    "\n",
    "import matplotlib.pyplot as plt\n",
    "\n",
    "from __future__ import print_function\n",
    "from ipywidgets import interact, interactive, fixed, interact_manual, interactive_output\n",
    "import ipywidgets as widgets\n",
    "from IPython.display import display"
   ]
  },
  {
   "cell_type": "markdown",
   "metadata": {},
   "source": [
    "# Devils DFTD 2-Stage Infection with Immunity"
   ]
  },
  {
   "cell_type": "markdown",
   "metadata": {},
   "source": [
    "## Read in observed data"
   ]
  },
  {
   "cell_type": "code",
   "execution_count": 2,
   "metadata": {},
   "outputs": [],
   "source": [
    "# pop_data = pd.read_csv('../year_data/devil_data_v2.csv')\n",
    "pop_data = pd.read_csv('../month_data/Devils_Dataset__Population_1985-2020.csv')\n",
    "\n",
    "devil_pop = np.array(pop_data['Population'].iloc[:].values)\n",
    "\n",
    "obs = np.vstack([devil_pop]).reshape(1, 1, -1)"
   ]
  },
  {
   "cell_type": "code",
   "execution_count": 3,
   "metadata": {},
   "outputs": [],
   "source": [
    "dates = []\n",
    "year = 1985\n",
    "while len(dates) < 1001:\n",
    "    for month in [\"Jan\", \"Feb\", \"Mar\", \"Apr\", \"May\", \"Jun\", \"Jul\", \"Aug\", \"Sept\", \"Oct\", \"Nov\", \"Dec\"]:\n",
    "        dates.append(f\"{month} {year}\")\n",
    "    year += 1"
   ]
  },
  {
   "cell_type": "markdown",
   "metadata": {},
   "source": [
    "## Model"
   ]
  },
  {
   "cell_type": "code",
   "execution_count": 4,
   "metadata": {},
   "outputs": [],
   "source": [
    "class DevilsDFTD2StageInfectionWithImmunity(Model):\n",
    "    def __init__(self, values=None):\n",
    "        Model.__init__(self, name=\"Devils DFTD 2-Stage Infection with Immunity\")\n",
    "        self.volume = 1\n",
    "\n",
    "        # Parameters (Pre-Culling)\n",
    "        birth_rate = Parameter(name=\"birth_rate\", expression=\"0.055\")\n",
    "        death_rate_diseased = Parameter(name=\"death_rate_diseased\", expression=\"0.048\")\n",
    "        death_rate_infected = Parameter(name=\"death_rate_infected\", expression=\"0.03\")\n",
    "        death_rate_juvenile = Parameter(name=\"death_rate_juvenile\", expression=\"0.006\")\n",
    "        death_rate_over_population = Parameter(name=\"death_rate_over_population\", expression=\"2.3e-07\")\n",
    "        death_rate_susceptible = Parameter(name=\"death_rate_susceptible\", expression=\"0.02335\")\n",
    "        incubation = Parameter(name=\"incubation\", expression=\"22.6\")\n",
    "        infection_rate_diseased = Parameter(name=\"infection_rate_diseased\", expression=\"3e-05\")\n",
    "        infection_rate_infected = Parameter(name=\"infection_rate_infected\", expression=\"2e-05\")\n",
    "        maturity_rate = Parameter(name=\"maturity_rate\", expression=\"0.04267\")\n",
    "        progression = Parameter(name=\"progression\", expression=\"12\")\n",
    "        DFTD_introduction = Parameter(name=\"DFTD_introduction\", expression=\"40\")\n",
    "        self.add_parameter([\n",
    "            birth_rate, death_rate_diseased, death_rate_infected, death_rate_juvenile, death_rate_over_population,\n",
    "            death_rate_susceptible, incubation, infection_rate_diseased, infection_rate_infected,\n",
    "            maturity_rate, progression, DFTD_introduction\n",
    "        ])\n",
    "        \n",
    "        # Parameters (Immunity)\n",
    "        immunity_level = Species(name=\"immunity_level\", initial_value=0, mode=\"continuous\")\n",
    "        self.add_species([immunity_level])\n",
    "        immunity_growth_rate = Parameter(name=\"immunity_growth_rate\", expression=0.01)\n",
    "        immunity_max_level = Parameter(name=\"immunity_max_level\", expression=1.0)\n",
    "        immunity_start = Parameter(name=\"immunity_start\", expression=0)\n",
    "        immunity_start_flag = Parameter(name=\"immunity_start_flag\", expression=0)\n",
    "        self.add_parameter([immunity_growth_rate, immunity_max_level, immunity_start, immunity_start_flag])\n",
    "        \n",
    "        \n",
    "        # Variables\n",
    "        init_Devils_pop = round(devil_pop[0])\n",
    "        init_J_pop = round(devil_pop[0] * 0.467)\n",
    "        init_S_pop = round(devil_pop[0] - init_J_pop)\n",
    "        \n",
    "        Devils = Species(name=\"Devils\", initial_value=init_Devils_pop, mode=\"discrete\")\n",
    "        Diseased = Species(name=\"Diseased\", initial_value=0, mode=\"discrete\")\n",
    "        Exposed = Species(name=\"Exposed\", initial_value=0, mode=\"discrete\")\n",
    "        Infected = Species(name=\"Infected\", initial_value=0, mode=\"discrete\")\n",
    "        Juvenile = Species(name=\"Juvenile\", initial_value=init_S_pop, mode=\"discrete\")\n",
    "        Susceptible = Species(name=\"Susceptible\", initial_value=init_J_pop, mode=\"discrete\")\n",
    "        self.add_species([Devils, Diseased, Exposed, Infected, Juvenile, Susceptible])\n",
    "        \n",
    "        # Reactions\n",
    "        Birth = Reaction(name=\"Birth\",\n",
    "            reactants={}, products={'Juvenile': 1, 'Devils': 1},\n",
    "            propensity_function=\"birth_rate * (Susceptible + Exposed + Infected)\"\n",
    "        )\n",
    "        Mature = Reaction(name=\"Mature\",\n",
    "            reactants={'Juvenile': 1}, products={'Susceptible': 1},\n",
    "            propensity_function=\"Juvenile * maturity_rate\"\n",
    "        )\n",
    "        Death_Diseased = Reaction(name=\"Death_Diseased\",\n",
    "            reactants={'Diseased': 1, 'Devils': 1}, products={},\n",
    "            propensity_function=\"death_rate_diseased * Diseased\"\n",
    "        )\n",
    "        Death_Diseased2 = Reaction(name=\"Death_Diseased2\",\n",
    "            reactants={'Diseased': 1, 'Devils': 1}, products={},\n",
    "            propensity_function=\"death_rate_over_population * Diseased * (Devils - 1)\"\n",
    "        )\n",
    "        Death_Exposed = Reaction(name=\"Death_Exposed\",\n",
    "            reactants={'Devils': 1, 'Exposed': 1}, products={},\n",
    "            propensity_function=\"death_rate_susceptible * Exposed\"\n",
    "        )\n",
    "        Death_Exposed2 = Reaction(name=\"Death_Exposed2\",\n",
    "            reactants={'Devils': 1, 'Exposed': 1}, products={},\n",
    "            propensity_function=\"death_rate_over_population * Exposed * (Devils - 1)\"\n",
    "        )\n",
    "        Death_Infected = Reaction(name=\"Death_Infected\",\n",
    "            reactants={'Infected': 1, 'Devils': 1}, products={},\n",
    "            propensity_function=\"death_rate_infected * Infected\"\n",
    "        )\n",
    "        Death_Infected2 = Reaction(name=\"Death_Infected2\",\n",
    "            reactants={'Infected': 1, 'Devils': 1}, products={},\n",
    "            propensity_function=\"death_rate_over_population * Infected * (Devils-1)\"\n",
    "        )\n",
    "        Death_Juvenile = Reaction(name=\"Death_Juvenile\",\n",
    "            reactants={'Juvenile': 1, 'Devils': 1}, products={},\n",
    "            propensity_function=\"death_rate_juvenile * Juvenile\"\n",
    "        )\n",
    "        Death_Juvenile2 = Reaction(name=\"Death_Juvenile2\",\n",
    "            reactants={'Juvenile': 1, 'Devils': 1}, products={},\n",
    "            propensity_function=\"death_rate_over_population * Juvenile * (Devils-1)\"\n",
    "        )\n",
    "        Death_Susceptible = Reaction(name=\"Death_Susceptible\",\n",
    "            reactants={'Susceptible': 1, 'Devils': 1}, products={},\n",
    "            propensity_function=\"death_rate_susceptible * Susceptible\"\n",
    "        )\n",
    "        Death_Susceptible2 = Reaction(name=\"Death_Susceptible2\",\n",
    "            reactants={'Susceptible': 1, 'Devils': 1}, products={},\n",
    "            propensity_function=\"death_rate_over_population * Susceptible * (Devils-1)\"\n",
    "        )\n",
    "        DFTD_Stage1 = Reaction(name=\"DFTD_Stage1\",\n",
    "            reactants={'Exposed': 1}, products={'Infected': 1},\n",
    "            propensity_function=\"Exposed / incubation\"\n",
    "        )\n",
    "        DFTD_Stage2 = Reaction(name=\"DFTD_Stage2\",\n",
    "            reactants={'Infected': 1}, products={'Diseased': 1},\n",
    "            propensity_function=\"Infected / progression\"\n",
    "        )\n",
    "        TransmissionD = Reaction(name=\"TransmissionD\",\n",
    "            reactants={'Susceptible': 1, 'Diseased': 1}, products={'Exposed': 1, 'Diseased': 1},\n",
    "            propensity_function=\"infection_rate_diseased * Susceptible * Diseased * (1.0-immunity_level)\"\n",
    "        )\n",
    "        TransmissionI = Reaction(name=\"TransmissionI\",\n",
    "            reactants={'Susceptible': 1, 'Infected': 1}, products={'Exposed': 1, 'Infected': 1},\n",
    "            propensity_function=\"infection_rate_infected * Susceptible * Infected * (1.0-immunity_level)\"\n",
    "        )\n",
    "        self.add_reaction([\n",
    "            Birth, Mature, Death_Diseased, Death_Diseased2, Death_Exposed, Death_Exposed2, Death_Infected,\n",
    "            Death_Infected2, Death_Juvenile, Death_Juvenile2, Death_Susceptible, Death_Susceptible2,\n",
    "            DFTD_Stage1, DFTD_Stage2, TransmissionD, TransmissionI\n",
    "        ])\n",
    "        \n",
    "        # Rate Rules\n",
    "        Immunity_Growth_Rate = RateRule(name=\"ImmunityGrowth\",  variable=\"immunity_level\",\n",
    "            formula=\"immunity_growth_rate * (immunity_max_level - immunity_level) * immunity_start_flag\"\n",
    "            #formula=\"-1 * immunity_growth_rate * ((immunity_level / immunity_max_level - 0.5) * (immunity_level / immunity_max_level - 0.5) + 1) * immunity_start_flag\"\n",
    "        )\n",
    "        self.add_rate_rule(Immunity_Growth_Rate)\n",
    "        \n",
    "        # Event Triggers\n",
    "        DFTD_Introduction_trig = EventTrigger(\n",
    "            expression=\"t >= DFTD_introduction\",initial_value=False, persistent=False\n",
    "        )\n",
    "        Start_Immunity_trig = EventTrigger(\n",
    "            expression=\"t >= (300 + immunity_start)\", initial_value=False, persistent=True\n",
    "        )\n",
    "\n",
    "        # Event Assignments\n",
    "        DFTD_Introduction_assign_1 = EventAssignment(variable=\"Infected\", expression=\"1\")\n",
    "        DFTD_Introduction_assign_2 = EventAssignment(variable=\"Susceptible\", expression=\"Susceptible - 1\")\n",
    "        Start_Immunity_Growth_assign = EventAssignment(\n",
    "            variable=\"immunity_start_flag\", expression=\"1\"\n",
    "        )\n",
    "        \n",
    "        # Events\n",
    "        DFTD_Introduction = Event(\n",
    "            name=\"DFTD_Introduction\", trigger=DFTD_Introduction_trig, use_values_from_trigger_time=False,\n",
    "            assignments=[DFTD_Introduction_assign_1, DFTD_Introduction_assign_2], delay=None, priority=\"0\"\n",
    "        )\n",
    "        Start_Immunity = Event(\n",
    "            name=\"Start_Immunity\", trigger=Start_Immunity_trig, delay=None, priority=\"4\",\n",
    "            use_values_from_trigger_time=True, assignments=[Start_Immunity_Growth_assign]\n",
    "        )\n",
    "        self.add_event(DFTD_Introduction)\n",
    "        self.add_event(Start_Immunity)\n",
    "        \n",
    "        # Timespan\n",
    "        self.timespan(np.arange(0, 1001, 1))\n",
    "        \n",
    "    def run(self, **kwargs):\n",
    "        results = super().run(**kwargs)\n",
    "        while results['Infected'][300] <= 0:\n",
    "            results = super().run(**kwargs)\n",
    "        return results"
   ]
  },
  {
   "cell_type": "markdown",
   "metadata": {},
   "source": [
    "## Simulation"
   ]
  },
  {
   "cell_type": "code",
   "execution_count": 5,
   "metadata": {},
   "outputs": [],
   "source": [
    "class Simulation:\n",
    "    def __init__(self, model, kwargs=None, variables=None):\n",
    "        self.result = None\n",
    "        self.variables = variables\n",
    "        self.model = model\n",
    "        self.kwargs = kwargs\n",
    "        self.dftd_eradiction = None\n",
    "        self.devil_extinction = None\n",
    "    \n",
    "    def compute_dftd_devils_eradication_prob(self, verbose=True, return_prob=False):\n",
    "        if verbose: print(self.variables)\n",
    "        if self.dftd_eradiction is not None and self.devil_extinction is not None:\n",
    "            if return_prob:\n",
    "                return self.dftd_eradiction, self.devil_extinction\n",
    "            else:\n",
    "                print(f\"DFTD eradication: {self.dftd_eradiction}%\")\n",
    "                print(f\"Devil extinction: {self.devil_extinction}%\")\n",
    "                return\n",
    "        ext_count = 0\n",
    "        erd_count = 0\n",
    "        for i in range(100):\n",
    "            if verbose: print(\".\", end='')\n",
    "            if self.kwargs is None:\n",
    "                self.configure()\n",
    "            result = self.run(return_results=True)\n",
    "            Dftd = result['Infected'] + result['Exposed'] + result['Diseased']\n",
    "            if min(Dftd[400:]) == 0.0:\n",
    "                erd_count += 1\n",
    "            Devils = Dftd + result['Juvenile'] + result['Susceptible']\n",
    "            if min(Devils[400:]) == 0.0:\n",
    "                ext_count += 1\n",
    "        self.dftd_eradiction = erd_count\n",
    "        self.devil_extinction = ext_count\n",
    "        if return_prob:\n",
    "            return erd_count, ext_count\n",
    "        else:\n",
    "            if verbose: print()\n",
    "            print(f\"DFTD eradication: {erd_count}%\")\n",
    "            print(f\"Devil extinction: {ext_count}%\")\n",
    "    \n",
    "    def configure(self):\n",
    "        solver = TauHybridCSolver(model=model, variable=True)\n",
    "        self.kwargs = {\n",
    "            \"solver\": solver,\n",
    "            \"number_of_trajectories\": 1,\n",
    "        }\n",
    "    \n",
    "    def plot(self, start=0, alpha=0.3):\n",
    "        carry_cap = int(max(devil_pop)*1.16)\n",
    "        dftd_start = int(self.result.model.listOfParameters['DFTD_introduction'].value)\n",
    "        immunity_start = int(300 + int(self.result.model.listOfParameters['immunity_start'].value))\n",
    "        spec_list = [self.result['Juvenile'], self.result['Susceptible'], self.result['Exposed'],\n",
    "                     self.result['Infected'], self.result['Diseased']]\n",
    "        total_devils = np.add.reduce(spec_list)\n",
    "        x = self.result['time'][start:]\n",
    "        text_offset = (self.result['time'].size - start) / 601\n",
    "\n",
    "        plt.figure(figsize=[15, 8])\n",
    "        plt.title(\"Tasmanian Devil Population with DFTD: Natural Immunity\", fontsize=18)\n",
    "        plt.xlabel(f\"Time (months) since {dates[start]}\", fontsize=14)\n",
    "        plt.ylabel(\"Population of Tasmanian Devils\", fontsize=14)\n",
    "        plt.plot(x, total_devils[start:], color='blue', label='Total Devils')\n",
    "        plt.plot(x, self.result['Juvenile'][start:], color='purple', alpha=alpha, label='Juvenile')\n",
    "        plt.plot(x, self.result['Susceptible'][start:], color='green', alpha=alpha, label='Susceptible')\n",
    "        plt.plot(x, self.result['Exposed'][start:], color='magenta', alpha=alpha, label='Exposed')\n",
    "        plt.plot(x, self.result['Infected'][start:], color='red', alpha=alpha, label='Infected')\n",
    "        plt.plot(x, self.result['Diseased'][start:], color='brown', alpha=alpha, label='Diseased')\n",
    "        plt.ylim([-3000, carry_cap])\n",
    "        if start <= dftd_start:\n",
    "            plt.plot([dftd_start, dftd_start], [-3000, carry_cap], '--k', alpha=0.3)\n",
    "            plt.text(dftd_start-10*text_offset, 45000, \"DFTD Introduced\",\n",
    "                     rotation=\"vertical\", color=\"black\", fontsize=12)\n",
    "            plt.text(dftd_start+3*text_offset, 48000, dates[dftd_start],\n",
    "                     rotation=\"vertical\", color=\"black\", fontsize=12)\n",
    "        plt.plot([immunity_start, immunity_start], [-3000, carry_cap], '--k', alpha=0.3)\n",
    "        plt.text(immunity_start-10*text_offset, 28000, f\"Start Immunity: {dates[immunity_start]}\",\n",
    "                 rotation=\"vertical\", color=\"black\", fontsize=12)\n",
    "        plt.xticks(fontsize=12)\n",
    "        plt.yticks(fontsize=12, rotation=\"vertical\", va=\"center\")\n",
    "        plt.legend(loc='best', fontsize=12)\n",
    "    \n",
    "    def run(self, return_results=False, use_existing_results=False):\n",
    "        if self.result is not None and use_existing_results:\n",
    "            return\n",
    "        \n",
    "        result = self.model.run(**self.kwargs)\n",
    "        if return_results:\n",
    "            return result\n",
    "        else:\n",
    "            self.result = result\n",
    "#         run_args = copy.deepcopy(self.kwargs)\n",
    "#         if \"variables\" not in run_args:\n",
    "#             orig_vars = {}\n",
    "#             run_args['variables'] = {}\n",
    "#         else:\n",
    "#             orig_vars = copy.deepcopy(run_args['variables'])\n",
    "\n",
    "#         # Run Pre-infection Period\n",
    "#         self.model.resolve_parameters()\n",
    "#         if 'DFTD_introduction' in run_args['variables']:\n",
    "#             dfdt_intro = run_args['variables']['DFTD_introduction']\n",
    "#         else:\n",
    "#             dfdt_intro = self.model.listOfParameters['DFTD_introduction'].value\n",
    "#         res1 = self.model.run(**run_args, t=dfdt_intro - 1)\n",
    "\n",
    "#         # Configure Infection Period\n",
    "#         run_args['variables']['Infected'] = \"2\"\n",
    "#         run_args['variables']['Susceptible'] = f\"{int(res1[0]['Susceptible'][-1] - 2)}\"\n",
    "#         if 'culling_time' in run_args['variables']:\n",
    "#             culling_time = run_args['variables']['culling_time']\n",
    "#         else:\n",
    "#             culling_time = self.model.listOfParameters['culling_time'].value\n",
    "\n",
    "#         # Run Infection Period\n",
    "#         prog_start = 444 + culling_time\n",
    "#         res2 = self.model.run(resume=res1, t=prog_start, **run_args)\n",
    "#         while res2['Infected'][-1] <= 0:\n",
    "#             res2 = self.model.run(resume=res1, t=prog_start - 1, **run_args)\n",
    "\n",
    "#         # Configure Culling Period\n",
    "#         run_args['variables'] = orig_vars\n",
    "#         run_args['variables']['culling_flag'] = 1\n",
    "#         if 'program_length' in run_args['variables']:\n",
    "#             program_length = run_args['variables']['program_length']\n",
    "#         else:\n",
    "#             program_length = self.model.listOfParameters['program_length'].value\n",
    "\n",
    "#         # Run Culling Period\n",
    "#         prog_end = prog_start + program_length * 12\n",
    "#         res3 = self.model.run(resume=res2, t=prog_start, **run_args)\n",
    "\n",
    "#         run_args['variables'] = orig_vars\n",
    "#         res4 = self.model.run(resume=res3, **run_args)\n",
    "#         if return_results:\n",
    "#             return res4\n",
    "#         else:\n",
    "#             self.result = res4"
   ]
  },
  {
   "cell_type": "markdown",
   "metadata": {},
   "source": [
    "## Parameter Sweep Job"
   ]
  },
  {
   "cell_type": "code",
   "execution_count": 6,
   "metadata": {},
   "outputs": [],
   "source": [
    "class ParameterSweep():\n",
    "    def __init__(self, model, params):\n",
    "        self.model = model\n",
    "        self.params = params\n",
    "        self.results = {}\n",
    "\n",
    "    def __get_result_key(self, variables):\n",
    "        elements = []\n",
    "        for name, value in variables.items():\n",
    "            elements.append(f\"{name}:{value}\")\n",
    "        return \",\".join(elements)\n",
    "\n",
    "    def __run(self, index, variables, verbose):\n",
    "        if index < len(self.params):\n",
    "            param = self.params[index]\n",
    "            index += 1\n",
    "            for val in param['range']:\n",
    "                variables[param['parameter']] = val\n",
    "                self.__run(index=index, variables=variables, verbose=verbose)\n",
    "        else:\n",
    "            result_key = self.__get_result_key(variables=variables)\n",
    "            if verbose:\n",
    "                message = f'running: {result_key.replace(\":\", \"=\").replace(\",\", \", \")}'\n",
    "                print(message)\n",
    "            tmp_sim = Simulation(model=self.model, variables=copy.deepcopy(variables))\n",
    "            tmp_sim.configure()\n",
    "            tmp_sim.kwargs['variables'] = variables\n",
    "            tmp_sim.run()\n",
    "            self.results[result_key] = tmp_sim\n",
    "\n",
    "    def build_layout(self, ai_widgets):\n",
    "        ai_widgets = list(ai_widgets.values())\n",
    "        hbs = []\n",
    "        for i in range(0, len(ai_widgets), 4):\n",
    "            hb_list = [ai_widgets[i], ai_widgets[i+1]]\n",
    "            if len(ai_widgets) >= i+3:\n",
    "                hb_list.extend([ai_widgets[i+2], ai_widgets[i+3]])\n",
    "            hbs.append(widgets.HBox(hb_list, layout=self.get_layout()))\n",
    "        return widgets.VBox(hbs, layout=self.get_layout(vertical=True))\n",
    "    \n",
    "    def build_widgets(self):\n",
    "        param_names = {\n",
    "            \"immunity_growth_rate\": \"Imm. Gwth. R.\", \"immunity_start\": \"Imm. Start\"\n",
    "        }\n",
    "        ai_widgets = {}\n",
    "        for i, param in enumerate(self.params):\n",
    "            fs = widgets.SelectionSlider(\n",
    "                options=param['range'], value=param['range'][0], description=param_names[param['parameter']]\n",
    "            )\n",
    "            ai_widgets[f'fs{i}'] = fs\n",
    "            cs = widgets.Checkbox(value=False, description='Fixed')\n",
    "            ai_widgets[f'cs{i}'] = cs\n",
    "        return ai_widgets\n",
    "    \n",
    "    def configure(self, **widget_args):\n",
    "        sim_key = []\n",
    "        for i in range(0, len(widget_args), 2):\n",
    "            param_key = int(i/2)\n",
    "            sim_key.append(f\"{self.params[param_key]['parameter']}:{list(widget_args.values())[i]}\")\n",
    "        sim_key = \",\".join(sim_key)\n",
    "        \n",
    "        self.results[sim_key].plot()\n",
    "        \n",
    "        params, fixed = self.display_details(widget_args)\n",
    "\n",
    "        if len(params) < 1:\n",
    "            print(\"At least 1 fixed parameters are required\")\n",
    "        elif len(params) > 2:\n",
    "            print(\"There are too many fixed parameters\")\n",
    "        elif len(params) == 2:\n",
    "            base_key = self.get_base_key(list(widget_args.values())[::2], params)\n",
    "            dftd, devils = self.get_plot_data(params, base_key)\n",
    "            self.display_plots(params, dftd, devils)\n",
    "        else:\n",
    "            labels = {\n",
    "                \"immunity_growth_rate\": \"Immunity Growth Rate\", \"immunity_start\": \"Immunity Start\"\n",
    "            }\n",
    "            units = {\n",
    "                \"immunity_growth_rate\": \"\", \"immunity_start\": \"month\"\n",
    "            }\n",
    "            param = params[0]\n",
    "            self.plot_devil_dftd_extinction_over_param(\n",
    "                res_sub_keys=fixed, key=param['parameter'], param_label=labels[param['parameter']],\n",
    "                units=units[param['parameter']]\n",
    "            )\n",
    "    \n",
    "    def display_details(self, args, verbose=False):\n",
    "        params = []\n",
    "        fixed = []\n",
    "        values = list(args.values())\n",
    "        for i in range(0, len(values), 2):\n",
    "            index = int(i/2)\n",
    "            if values[i + 1]:\n",
    "                fixed.append(f\"{self.params[index]['parameter']}: {values[i]}\")\n",
    "            else:\n",
    "                params.append(self.params[index])\n",
    "        if fixed and verbose:\n",
    "            print(\", \".join(fixed))\n",
    "        return params, [param.replace(\": \", \":\") for param in fixed]\n",
    "    \n",
    "    def display_plots(self, params, dftd, devils):\n",
    "        labels = {\n",
    "            \"immunity_growth_rate\": \"Immunity Growth Rate\", \"immunity_start\": \"Immunity Start\"\n",
    "        }\n",
    "        units = {\n",
    "            \"cull_rate_diseased\": \"\", \"immunity_start\": \"month\"\n",
    "        }\n",
    "        x_units = units[params[0]['parameter']]\n",
    "        if x_units:\n",
    "            x_units = f\" ({x_units})\"\n",
    "        y_units = units[params[1]['parameter']]\n",
    "        if y_units:\n",
    "            y_units = f\" ({y_units})\"\n",
    "        x_label = f\"{labels[params[0]['parameter']]}{x_units}\"\n",
    "        y_label = f\"{labels[params[1]['parameter']]}{y_units}\"\n",
    "        dftd = np.flip(dftd, 0)\n",
    "        devils = np.flip(devils, 0)\n",
    "\n",
    "        fig, (ax1, ax2) = plt.subplots(1, 2, figsize=[16, 6])\n",
    "\n",
    "        im1 = ax1.imshow(dftd)\n",
    "        ax1.set_xticks(np.arange(len(dftd[0])))\n",
    "        ax1.set_xticklabels(labels=params[0]['range'])\n",
    "        ax1.set_yticks(np.arange(len(dftd)))\n",
    "        ax1.set_yticklabels(labels=np.flip(params[1]['range']))\n",
    "        ax1.set_xlabel(x_label, fontsize=14)\n",
    "        ax1.set_ylabel(y_label, fontsize=14)\n",
    "        ax1.tick_params(axis=\"x\", labelsize=12, labelrotation=90)\n",
    "        ax1.tick_params(axis=\"y\", labelsize=12)\n",
    "        ax1.set_title('Probability of DFTD Eradication', fontsize=14)\n",
    "        ax1.figure.colorbar(im1, ax=ax1)\n",
    "        for i in range(len(dftd)):\n",
    "            for j in range(len(dftd[0])):\n",
    "                _ = ax1.text(j, i, f\"{dftd[i, j]}%\", ha=\"center\", va=\"center\", color=\"w\", fontsize=12)\n",
    "\n",
    "        im2 = ax2.imshow(devils)\n",
    "        ax2.set_xticks(np.arange(len(devils[0])))\n",
    "        ax2.set_xticklabels(labels=params[0]['range'])\n",
    "        ax2.set_yticks(np.arange(len(devils)))\n",
    "        ax2.set_yticklabels(labels=np.flip(params[1]['range']))\n",
    "        ax2.set_xlabel(x_label, fontsize=14)\n",
    "        ax2.set_ylabel(y_label, fontsize=14)\n",
    "        ax2.tick_params(axis=\"x\", labelsize=12, labelrotation=90)\n",
    "        ax2.tick_params(axis=\"y\", labelsize=12)\n",
    "        ax2.set_title('Probability of Devil Extinction', fontsize=14)\n",
    "        ax2.figure.colorbar(im2, ax=ax2)\n",
    "        for i in range(len(devils)):\n",
    "            for j in range(len(devils[0])):\n",
    "                _ = ax2.text(j, i, f\"{devils[i, j]}%\", ha=\"center\", va=\"center\", color=\"w\", fontsize=12)\n",
    "    \n",
    "    def explore_results(self):\n",
    "        ai_widgets = self.build_widgets()\n",
    "        ui = self.build_layout(ai_widgets)\n",
    "        out = interactive_output(self.configure, ai_widgets)\n",
    "        display(ui, out)\n",
    "    \n",
    "    def get_base_key(self, values, params):\n",
    "        base_key = []\n",
    "        for i, param in enumerate(self.params):\n",
    "            if param in params:\n",
    "                base_key.append(\"__param2__\" if \"__param1__\" in base_key else \"__param1__\")\n",
    "            else:\n",
    "                base_key.append(f\"{param['name']}:{values[i]}\")\n",
    "        return \",\".join(base_key)\n",
    "    \n",
    "    def get_layout(self, vertical=False):\n",
    "        kwargs = {\n",
    "            \"margin\": '0px 10px 10px 0px',\n",
    "            \"padding\": '5px 5px 5px 5px'\n",
    "        }\n",
    "        if vertical:\n",
    "            kwargs['border'] = 'solid 1px red'\n",
    "        return widgets.Layout(**kwargs)\n",
    "    \n",
    "    def get_plot_data(self, params, base_key):\n",
    "        dftd = []\n",
    "        devils = []\n",
    "        for value1 in params[1]['range']:\n",
    "            _key = base_key.replace(\"__param2__\", f\"{params[1]['parameter']}:{value1}\")\n",
    "            inner_dftd = []\n",
    "            inner_devils = []\n",
    "            for value2 in params[0]['range']:\n",
    "                key = _key.replace(\"__param1__\", \"{0}:{1}\".format(params[0]['parameter'], value2))\n",
    "                dftd_prob, devil_prob = self.results[key].compute_dftd_devils_eradication_prob(verbose=False,\n",
    "                                                                                               return_prob=True)\n",
    "                inner_dftd.append(dftd_prob)\n",
    "                inner_devils.append(devil_prob)\n",
    "            dftd.append(inner_dftd)\n",
    "            devils.append(inner_devils)\n",
    "        return np.array(dftd), np.array(devils)\n",
    "    \n",
    "    def plot_devil_dftd_extinction_over_param(self, res_sub_keys=[], key=\"immunity_start\",\n",
    "                                              param_label=\"Immunity Start\", units=\"month\"):\n",
    "        if len(self.params) < 2:\n",
    "            sims = self.results.values()\n",
    "        elif (len(self.params) - len(res_sub_keys)) != 1:\n",
    "            raise Exception(f\"res_sub_keys[{len(self.params)}] must be set.\")\n",
    "        else:\n",
    "            _keys = list(self.results.keys())\n",
    "            keys = []\n",
    "            for sub_key in res_sub_keys:\n",
    "                for res_key in _keys:\n",
    "                    if sub_key in res_key.split(\",\"):\n",
    "                        keys.append(res_key)\n",
    "            sims = [self.results[key] for key in keys]\n",
    "        \n",
    "        pl_values = []\n",
    "        pl_ext_rate = []\n",
    "        pl_erd_rate = []\n",
    "        for sim in sims:\n",
    "            pl_values.append(sim.variables[key])\n",
    "            dftd_prob, devil_prob = sim.compute_dftd_devils_eradication_prob(verbose=False,\n",
    "                                                                             return_prob=True)\n",
    "            pl_ext_rate.append(devil_prob)\n",
    "            pl_erd_rate.append(dftd_prob)\n",
    "            \n",
    "        units = \"\" if units is None else f\" ({units})\"\n",
    "        fig, (ax1, ax2) = plt.subplots(1, 2, figsize=[16, 6])\n",
    "        \n",
    "        im1 = ax1.plot(pl_values, pl_erd_rate)\n",
    "        ax1.set_title(f'Dftd eradication vs. {param_label}', fontsize=14)\n",
    "        ax1.set_ylim(ymin=-1,ymax=100)\n",
    "        ax1.tick_params(axis=\"x\", labelsize=12)\n",
    "        ax1.tick_params(axis=\"y\", labelsize=12)\n",
    "        ax1.set_xlabel(f\"{param_label}{units}\", fontsize=14)\n",
    "        ax1.set_ylabel(\"DFTD eradication probability\", fontsize=14)\n",
    "        \n",
    "        im2 = ax2.plot(pl_values, pl_ext_rate)\n",
    "        ax2.set_title(f'Devil extinction vs. {param_label}', fontsize=14)\n",
    "        ax2.set_ylim(ymin=-1,ymax=100)\n",
    "        ax2.tick_params(axis=\"x\", labelsize=12)\n",
    "        ax2.tick_params(axis=\"y\", labelsize=12)\n",
    "        ax2.set_xlabel(f\"{param_label}{units}\", fontsize=14)\n",
    "        ax2.set_ylabel(\"Devil extinction probability\", fontsize=14)\n",
    "\n",
    "    def run(self, verbose=False, use_existing_results=False):\n",
    "        if self.results and use_existing_results:\n",
    "            return\n",
    "        index = 0\n",
    "        variables = {}\n",
    "        self.__run(index=index, variables=variables, verbose=verbose)"
   ]
  },
  {
   "cell_type": "markdown",
   "metadata": {},
   "source": [
    "## Load existing state"
   ]
  },
  {
   "cell_type": "code",
   "execution_count": 7,
   "metadata": {},
   "outputs": [
    {
     "name": "stdout",
     "output_type": "stream",
     "text": [
      "No existing state found.\n"
     ]
    }
   ],
   "source": [
    "state_path = \"./DevilsDFTD2StageInfectionWithImmunityState.p\"\n",
    "if os.path.exists(state_path):\n",
    "    with open(state_path, \"rb\") as state_file:\n",
    "        nb_state = pickle.load(state_file)\n",
    "else:\n",
    "    nb_state = None\n",
    "    print(\"No existing state found.\")"
   ]
  },
  {
   "cell_type": "markdown",
   "metadata": {},
   "source": [
    "## Run Simulation with default parameters"
   ]
  },
  {
   "cell_type": "code",
   "execution_count": 8,
   "metadata": {},
   "outputs": [],
   "source": [
    "if nb_state is None:\n",
    "    model = DevilsDFTD2StageInfectionWithImmunity()\n",
    "else:\n",
    "    model = nb_state['model']"
   ]
  },
  {
   "cell_type": "code",
   "execution_count": 9,
   "metadata": {},
   "outputs": [],
   "source": [
    "if nb_state is None:\n",
    "    sim = Simulation(model=model)\n",
    "else:\n",
    "    sim = nb_state['sim']"
   ]
  },
  {
   "cell_type": "code",
   "execution_count": 10,
   "metadata": {
    "scrolled": false
   },
   "outputs": [
    {
     "name": "stdout",
     "output_type": "stream",
     "text": [
      "CPU times: user 9.62 ms, sys: 2.87 ms, total: 12.5 ms\n",
      "Wall time: 845 ms\n"
     ]
    }
   ],
   "source": [
    "sim.configure()\n",
    "%time sim.run(use_existing_results=True)"
   ]
  },
  {
   "cell_type": "markdown",
   "metadata": {},
   "source": [
    "## Visualization"
   ]
  },
  {
   "cell_type": "code",
   "execution_count": 11,
   "metadata": {
    "scrolled": false
   },
   "outputs": [
    {
     "data": {
      "image/png": "[encoded data removed]",
      "text/plain": [
       "<Figure size 1080x576 with 1 Axes>"
      ]
     },
     "metadata": {
      "needs_background": "light"
     },
     "output_type": "display_data"
    }
   ],
   "source": [
    "sim.plot()"
   ]
  },
  {
   "cell_type": "code",
   "execution_count": 12,
   "metadata": {},
   "outputs": [
    {
     "name": "stdout",
     "output_type": "stream",
     "text": [
      "DFTD eradication: 0%\n",
      "Devil extinction: 0%\n",
      "CPU times: user 1.3 s, sys: 521 ms, total: 1.82 s\n",
      "Wall time: 49.1 s\n"
     ]
    }
   ],
   "source": [
    "%time sim.compute_dftd_devils_eradication_prob(verbose=False)"
   ]
  },
  {
   "cell_type": "markdown",
   "metadata": {},
   "source": [
    "## Run Parameter Sweep Job"
   ]
  },
  {
   "cell_type": "code",
   "execution_count": 13,
   "metadata": {},
   "outputs": [],
   "source": [
    "if nb_state is None:\n",
    "    params = [\n",
    "        {\"parameter\": \"immunity_start\", \"range\": [180, 240, 300, 360, 420]},\n",
    "    ]\n",
    "    job = ParameterSweep(model=model, params=params)\n",
    "else:\n",
    "    job = nb_state['job']"
   ]
  },
  {
   "cell_type": "code",
   "execution_count": 14,
   "metadata": {},
   "outputs": [
    {
     "name": "stdout",
     "output_type": "stream",
     "text": [
      "CPU times: user 78.2 ms, sys: 58.4 ms, total: 137 ms\n",
      "Wall time: 33.4 s\n"
     ]
    }
   ],
   "source": [
    "%time job.run(use_existing_results=True)"
   ]
  },
  {
   "cell_type": "markdown",
   "metadata": {},
   "source": [
    "## Visualization"
   ]
  },
  {
   "cell_type": "code",
   "execution_count": 15,
   "metadata": {},
   "outputs": [
    {
     "name": "stdout",
     "output_type": "stream",
     "text": [
      "CPU times: user 5.87 s, sys: 2.32 s, total: 8.19 s\n",
      "Wall time: 4min 9s\n"
     ]
    },
    {
     "data": {
      "image/png": "[encoded data removed]",
      "text/plain": [
       "<Figure size 1152x432 with 2 Axes>"
      ]
     },
     "metadata": {
      "needs_background": "light"
     },
     "output_type": "display_data"
    }
   ],
   "source": [
    "%time job.plot_devil_dftd_extinction_over_param()"
   ]
  },
  {
   "cell_type": "code",
   "execution_count": 16,
   "metadata": {
    "scrolled": false
   },
   "outputs": [
    {
     "data": {
      "application/vnd.jupyter.widget-view+json": {
       "model_id": "da992cef16e942e0a19d602481908b65",
       "version_major": 2,
       "version_minor": 0
      },
      "text/plain": [
       "VBox(children=(HBox(children=(SelectionSlider(description='Imm. Start', options=(180, 240, 300, 360, 420), val…"
      ]
     },
     "metadata": {},
     "output_type": "display_data"
    },
    {
     "data": {
      "application/vnd.jupyter.widget-view+json": {
       "model_id": "237ee3496baa4a9dae6158cef11e68dd",
       "version_major": 2,
       "version_minor": 0
      },
      "text/plain": [
       "Output()"
      ]
     },
     "metadata": {},
     "output_type": "display_data"
    },
    {
     "name": "stdout",
     "output_type": "stream",
     "text": [
      "CPU times: user 1.04 s, sys: 176 ms, total: 1.22 s\n",
      "Wall time: 366 ms\n"
     ]
    }
   ],
   "source": [
    "%time job.explore_results()"
   ]
  },
  {
   "cell_type": "markdown",
   "metadata": {},
   "source": [
    "## Store notebook state"
   ]
  },
  {
   "cell_type": "code",
   "execution_count": 17,
   "metadata": {},
   "outputs": [],
   "source": [
    "# nb_state = {\"model\": model, \"sim\":sim, \"job\":job}\n",
    "# with open(state_path, \"wb\") as state_file:\n",
    "#     pickle.dump(nb_state, state_file)"
   ]
  }
 ],
 "metadata": {
  "kernelspec": {
   "display_name": "Python 3 (ipykernel)",
   "language": "python",
   "name": "python3"
  },
  "language_info": {
   "codemirror_mode": {
    "name": "ipython",
    "version": 3
   },
   "file_extension": ".py",
   "mimetype": "text/x-python",
   "name": "python",
   "nbconvert_exporter": "python",
   "pygments_lexer": "ipython3",
   "version": "3.9.9"
  }
 },
 "nbformat": 4,
 "nbformat_minor": 4
}
