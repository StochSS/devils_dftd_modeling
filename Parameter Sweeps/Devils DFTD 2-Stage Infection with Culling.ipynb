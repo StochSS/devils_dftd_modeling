{
 "cells": [
  {
   "cell_type": "code",
   "execution_count": 1,
   "metadata": {
    "execution": {
     "iopub.execute_input": "2022-01-25T15:50:15.077838Z",
     "iopub.status.busy": "2022-01-25T15:50:15.076285Z",
     "iopub.status.idle": "2022-01-25T15:50:16.038754Z",
     "shell.execute_reply": "2022-01-25T15:50:16.039277Z"
    }
   },
   "outputs": [
    {
     "ename": "ModuleNotFoundError",
     "evalue": "No module named 'ipywidgets'",
     "output_type": "error",
     "traceback": [
      "\u001b[0;31m---------------------------------------------------------------------------\u001b[0m",
      "\u001b[0;31mModuleNotFoundError\u001b[0m                       Traceback (most recent call last)",
      "\u001b[0;32m<ipython-input-1-d40c1df4ac42>\u001b[0m in \u001b[0;36m<module>\u001b[0;34m\u001b[0m\n\u001b[1;32m     17\u001b[0m \u001b[0;34m\u001b[0m\u001b[0m\n\u001b[1;32m     18\u001b[0m \u001b[0;32mfrom\u001b[0m \u001b[0m__future__\u001b[0m \u001b[0;32mimport\u001b[0m \u001b[0mprint_function\u001b[0m\u001b[0;34m\u001b[0m\u001b[0;34m\u001b[0m\u001b[0m\n\u001b[0;32m---> 19\u001b[0;31m \u001b[0;32mfrom\u001b[0m \u001b[0mipywidgets\u001b[0m \u001b[0;32mimport\u001b[0m \u001b[0minteract\u001b[0m\u001b[0;34m,\u001b[0m \u001b[0minteractive\u001b[0m\u001b[0;34m,\u001b[0m \u001b[0mfixed\u001b[0m\u001b[0;34m,\u001b[0m \u001b[0minteract_manual\u001b[0m\u001b[0;34m,\u001b[0m \u001b[0minteractive_output\u001b[0m\u001b[0;34m\u001b[0m\u001b[0;34m\u001b[0m\u001b[0m\n\u001b[0m\u001b[1;32m     20\u001b[0m \u001b[0;32mimport\u001b[0m \u001b[0mipywidgets\u001b[0m \u001b[0;32mas\u001b[0m \u001b[0mwidgets\u001b[0m\u001b[0;34m\u001b[0m\u001b[0;34m\u001b[0m\u001b[0m\n\u001b[1;32m     21\u001b[0m \u001b[0;32mfrom\u001b[0m \u001b[0mIPython\u001b[0m\u001b[0;34m.\u001b[0m\u001b[0mdisplay\u001b[0m \u001b[0;32mimport\u001b[0m \u001b[0mdisplay\u001b[0m\u001b[0;34m\u001b[0m\u001b[0;34m\u001b[0m\u001b[0m\n",
      "\u001b[0;31mModuleNotFoundError\u001b[0m: No module named 'ipywidgets'"
     ]
    }
   ],
   "source": [
    "import os\n",
    "import time\n",
    "import json\n",
    "import copy\n",
    "import pickle\n",
    "import numpy as np\n",
    "import pandas as pd\n",
    "\n",
    "import sys\n",
    "sys.path.append('../../GillesPy2/')\n",
    "import gillespy2\n",
    "from gillespy2 import Model, Species, Parameter, Reaction, Event, \\\n",
    "                      EventTrigger, EventAssignment, export_StochSS\n",
    "from gillespy2 import TauHybridCSolver\n",
    "\n",
    "import matplotlib.pyplot as plt\n",
    "\n",
    "from __future__ import print_function\n",
    "from ipywidgets import interact, interactive, fixed, interact_manual, interactive_output\n",
    "import ipywidgets as widgets\n",
    "from IPython.display import display"
   ]
  },
  {
   "cell_type": "markdown",
   "metadata": {},
   "source": [
    "# Devils DFTD 2-Stage Infection with Culling"
   ]
  },
  {
   "cell_type": "markdown",
   "metadata": {},
   "source": [
    "## Read in observed data"
   ]
  },
  {
   "cell_type": "code",
   "execution_count": 2,
   "metadata": {
    "execution": {
     "iopub.execute_input": "2022-01-25T15:50:16.046959Z",
     "iopub.status.busy": "2022-01-25T15:50:16.046582Z",
     "iopub.status.idle": "2022-01-25T15:50:16.054056Z",
     "shell.execute_reply": "2022-01-25T15:50:16.054558Z"
    }
   },
   "outputs": [],
   "source": [
    "# pop_data = pd.read_csv('../year_data/devil_data_v2.csv')\n",
    "pop_data = pd.read_csv('../month_data/Devils_Dataset__Population_1985-2020.csv')\n",
    "\n",
    "devil_pop = np.array(pop_data['Population'].iloc[:].values)\n",
    "\n",
    "obs = np.vstack([devil_pop]).reshape(1, 1, -1)"
   ]
  },
  {
   "cell_type": "code",
   "execution_count": 3,
   "metadata": {
    "execution": {
     "iopub.execute_input": "2022-01-25T15:50:16.059713Z",
     "iopub.status.busy": "2022-01-25T15:50:16.059103Z",
     "iopub.status.idle": "2022-01-25T15:50:16.061357Z",
     "shell.execute_reply": "2022-01-25T15:50:16.061893Z"
    }
   },
   "outputs": [],
   "source": [
    "dates = []\n",
    "year = 1985\n",
    "while len(dates) < 1001:\n",
    "    for month in [\"Jan\", \"Feb\", \"Mar\", \"Apr\", \"May\", \"Jun\", \"Jul\", \"Aug\", \"Sept\", \"Oct\", \"Nov\", \"Dec\"]:\n",
    "        dates.append(f\"{month} {year}\")\n",
    "    year += 1"
   ]
  },
  {
   "cell_type": "code",
   "execution_count": 4,
   "metadata": {
    "execution": {
     "iopub.execute_input": "2022-01-25T15:50:16.065792Z",
     "iopub.status.busy": "2022-01-25T15:50:16.065169Z",
     "iopub.status.idle": "2022-01-25T15:50:16.067991Z",
     "shell.execute_reply": "2022-01-25T15:50:16.067486Z"
    }
   },
   "outputs": [],
   "source": [
    "with open(\"./units_labels.json\", \"r\") as ul_file:\n",
    "    units_labels = json.load(ul_file)"
   ]
  },
  {
   "cell_type": "markdown",
   "metadata": {},
   "source": [
    "## Model"
   ]
  },
  {
   "cell_type": "code",
   "execution_count": 5,
   "metadata": {
    "execution": {
     "iopub.execute_input": "2022-01-25T15:50:16.089701Z",
     "iopub.status.busy": "2022-01-25T15:50:16.088866Z",
     "iopub.status.idle": "2022-01-25T15:50:16.091832Z",
     "shell.execute_reply": "2022-01-25T15:50:16.091306Z"
    }
   },
   "outputs": [],
   "source": [
    "class DevilsDFTD2StageInfectionWithCulling(Model):\n",
    "    def __init__(self, values=None):\n",
    "        Model.__init__(self, name=\"Devils DFTD 2-Stage Infection with Culling\")\n",
    "        self.volume = 1\n",
    "\n",
    "        # Parameters (Pre-Culling)\n",
    "        birth_rate = Parameter(name=\"birth_rate\", expression=\"0.055\")\n",
    "        death_rate_diseased = Parameter(name=\"death_rate_diseased\", expression=\"0.048\")\n",
    "        death_rate_infected = Parameter(name=\"death_rate_infected\", expression=\"0.03\")\n",
    "        death_rate_juvenile = Parameter(name=\"death_rate_juvenile\", expression=\"0.006\")\n",
    "        death_rate_over_population = Parameter(name=\"death_rate_over_population\", expression=\"2.3e-07\")\n",
    "        death_rate_susceptible = Parameter(name=\"death_rate_susceptible\", expression=\"0.02335\")\n",
    "        incubation = Parameter(name=\"incubation\", expression=\"22.6\")\n",
    "        infection_rate_diseased = Parameter(name=\"infection_rate_diseased\", expression=\"3e-05\")\n",
    "        infection_rate_infected = Parameter(name=\"infection_rate_infected\", expression=\"2e-05\")\n",
    "        maturity_rate = Parameter(name=\"maturity_rate\", expression=\"0.04267\")\n",
    "        progression = Parameter(name=\"progression\", expression=\"12\")\n",
    "        DFTD_introduction = Parameter(name=\"DFTD_introduction\", expression=\"40\")\n",
    "        self.add_parameter([\n",
    "            birth_rate, death_rate_diseased, death_rate_infected, death_rate_juvenile, death_rate_over_population,\n",
    "            death_rate_susceptible, incubation, infection_rate_diseased, infection_rate_infected,\n",
    "            maturity_rate, progression, DFTD_introduction\n",
    "        ])\n",
    "        \n",
    "        # Parameter (Culling)\n",
    "        cull_rate_diseased = Parameter(name=\"cull_rate_diseased\", expression=\"0.5\")\n",
    "        cull_rate_infected = Parameter(name=\"cull_rate_infected\", expression=\"0\")\n",
    "        culling_start = Parameter(name=\"culling_start\", expression=\"444\")\n",
    "        culling_flag = Parameter(name=\"culling_flag\", expression=\"0\")\n",
    "        cull_program_length = Parameter(name=\"cull_program_length\", expression=\"5\")\n",
    "        self.add_parameter([\n",
    "            cull_rate_diseased, cull_rate_infected, culling_start, culling_flag, cull_program_length\n",
    "        ])\n",
    "        \n",
    "        # Variables\n",
    "        init_Devils_pop = round(devil_pop[0])\n",
    "        init_J_pop = round(devil_pop[0] * 0.467)\n",
    "        init_S_pop = round(devil_pop[0] - init_J_pop)\n",
    "        \n",
    "        Devils = Species(name=\"Devils\", initial_value=init_Devils_pop, mode=\"discrete\")\n",
    "        Diseased = Species(name=\"Diseased\", initial_value=0, mode=\"discrete\")\n",
    "        Exposed = Species(name=\"Exposed\", initial_value=0, mode=\"discrete\")\n",
    "        Infected = Species(name=\"Infected\", initial_value=0, mode=\"discrete\")\n",
    "        Juvenile = Species(name=\"Juvenile\", initial_value=init_S_pop, mode=\"discrete\")\n",
    "        Susceptible = Species(name=\"Susceptible\", initial_value=init_J_pop, mode=\"discrete\")\n",
    "        self.add_species([Devils, Diseased, Exposed, Infected, Juvenile, Susceptible])\n",
    "        \n",
    "        # Reactions (Pre-Culling)\n",
    "        Birth = Reaction(name=\"Birth\",\n",
    "            reactants={}, products={'Juvenile': 1, 'Devils': 1},\n",
    "            propensity_function=\"birth_rate * (Susceptible + Exposed + Infected)\"\n",
    "        )\n",
    "        Mature = Reaction(name=\"Mature\",\n",
    "            reactants={'Juvenile': 1}, products={'Susceptible': 1},\n",
    "            propensity_function=\"Juvenile * maturity_rate\"\n",
    "        )\n",
    "        Death_Diseased = Reaction(name=\"Death_Diseased\",\n",
    "            reactants={'Diseased': 1, 'Devils': 1}, products={},\n",
    "            propensity_function=\"death_rate_diseased * Diseased\"\n",
    "        )\n",
    "        Death_Diseased2 = Reaction(name=\"Death_Diseased2\",\n",
    "            reactants={'Diseased': 1, 'Devils': 1}, products={},\n",
    "            propensity_function=\"death_rate_over_population * Diseased * (Devils - 1)\"\n",
    "        )\n",
    "        Death_Exposed = Reaction(name=\"Death_Exposed\",\n",
    "            reactants={'Devils': 1, 'Exposed': 1}, products={},\n",
    "            propensity_function=\"death_rate_susceptible * Exposed\"\n",
    "        )\n",
    "        Death_Exposed2 = Reaction(name=\"Death_Exposed2\",\n",
    "            reactants={'Devils': 1, 'Exposed': 1}, products={},\n",
    "            propensity_function=\"death_rate_over_population * Exposed * (Devils - 1)\"\n",
    "        )\n",
    "        Death_Infected = Reaction(name=\"Death_Infected\",\n",
    "            reactants={'Infected': 1, 'Devils': 1}, products={},\n",
    "            propensity_function=\"death_rate_infected * Infected\"\n",
    "        )\n",
    "        Death_Infected2 = Reaction(name=\"Death_Infected2\",\n",
    "            reactants={'Infected': 1, 'Devils': 1}, products={},\n",
    "            propensity_function=\"death_rate_over_population * Infected * (Devils-1)\"\n",
    "        )\n",
    "        Death_Juvenile = Reaction(name=\"Death_Juvenile\",\n",
    "            reactants={'Juvenile': 1, 'Devils': 1}, products={},\n",
    "            propensity_function=\"death_rate_juvenile * Juvenile\"\n",
    "        )\n",
    "        Death_Juvenile2 = Reaction(name=\"Death_Juvenile2\",\n",
    "            reactants={'Juvenile': 1, 'Devils': 1}, products={},\n",
    "            propensity_function=\"death_rate_over_population * Juvenile * (Devils-1)\"\n",
    "        )\n",
    "        Death_Susceptible = Reaction(name=\"Death_Susceptible\",\n",
    "            reactants={'Susceptible': 1, 'Devils': 1}, products={},\n",
    "            propensity_function=\"death_rate_susceptible * Susceptible\"\n",
    "        )\n",
    "        Death_Susceptible2 = Reaction(name=\"Death_Susceptible2\",\n",
    "            reactants={'Susceptible': 1, 'Devils': 1}, products={},\n",
    "            propensity_function=\"death_rate_over_population * Susceptible * (Devils-1)\"\n",
    "        )\n",
    "        DFTD_Stage1 = Reaction(name=\"DFTD_Stage1\",\n",
    "            reactants={'Exposed': 1}, products={'Infected': 1},\n",
    "            propensity_function=\"Exposed / incubation\"\n",
    "        )\n",
    "        DFTD_Stage2 = Reaction(name=\"DFTD_Stage2\",\n",
    "            reactants={'Infected': 1}, products={'Diseased': 1},\n",
    "            propensity_function=\"Infected / progression\"\n",
    "        )\n",
    "        TransmissionD = Reaction(name=\"TransmissionD\",\n",
    "            reactants={'Susceptible': 1, 'Diseased': 1}, products={'Exposed': 1, 'Diseased': 1},\n",
    "            propensity_function=\"infection_rate_diseased * Susceptible * Diseased\"\n",
    "        )\n",
    "        TransmissionI = Reaction(name=\"TransmissionI\",\n",
    "            reactants={'Susceptible': 1, 'Infected': 1}, products={'Exposed': 1, 'Infected': 1},\n",
    "            propensity_function=\"infection_rate_infected * Susceptible * Infected\"\n",
    "        )\n",
    "        self.add_reaction([\n",
    "            Birth, Mature, Death_Diseased, Death_Diseased2, Death_Exposed, Death_Exposed2, Death_Infected,\n",
    "            Death_Infected2, Death_Juvenile, Death_Juvenile2, Death_Susceptible, Death_Susceptible2,\n",
    "            DFTD_Stage1, DFTD_Stage2, TransmissionD, TransmissionI\n",
    "        ])\n",
    "        \n",
    "        # Reactions (Culling)\n",
    "        Death_Cull_Infected = Reaction(name=\"Death_Cull_Infected\",\n",
    "            reactants={'Devils': 1, 'Infected': 1}, products={},\n",
    "            propensity_function=\"cull_rate_infected * Infected * culling_flag\"\n",
    "        )\n",
    "        Death_Cull_Diseased = Reaction(name=\"Death_Cull_Diseased\",\n",
    "            reactants={'Devils': 1, 'Diseased': 1}, products={},\n",
    "            propensity_function=\"cull_rate_diseased * Diseased * culling_flag\"\n",
    "        )\n",
    "        self.add_reaction([Death_Cull_Infected, Death_Cull_Diseased])\n",
    "        \n",
    "        # Event Triggers\n",
    "        DFTD_Introduction_trig = EventTrigger(\n",
    "            expression=\"t >= DFTD_introduction\",initial_value=False, persistent=False\n",
    "        )\n",
    "        Start_Culling_trig = EventTrigger(\n",
    "            expression=\"t >= culling_start and cull_program_length > 0\", initial_value=False, persistent=True\n",
    "        )\n",
    "        End_Culling_trig = EventTrigger(\n",
    "            expression=\"t >= (culling_start + cull_program_length * 12) and cull_program_length > 0\",\n",
    "            initial_value=False, persistent=True\n",
    "        )\n",
    "\n",
    "        # Event Assignments\n",
    "        DFTD_Introduction_assign_1 = EventAssignment(variable=\"Infected\", expression=\"1\")\n",
    "        DFTD_Introduction_assign_2 = EventAssignment(variable=\"Susceptible\", expression=\"Susceptible - 1\")\n",
    "        Start_Culling_assign = EventAssignment(\n",
    "            variable=\"culling_flag\", expression=\"1\"\n",
    "        )\n",
    "        End_Culling_assign = EventAssignment(\n",
    "            variable=\"culling_flag\", expression=\"0\"\n",
    "        )\n",
    "        \n",
    "        # Events\n",
    "        DFTD_Introduction = Event(\n",
    "            name=\"DFTD_Introduction\", trigger=DFTD_Introduction_trig, use_values_from_trigger_time=False,\n",
    "            assignments=[DFTD_Introduction_assign_1, DFTD_Introduction_assign_2], delay=None, priority=\"0\"\n",
    "        )\n",
    "        Start_Culling_Program = Event(\n",
    "            name=\"Start_Culling\", trigger=Start_Culling_trig, delay=None, priority=\"3\",\n",
    "            use_values_from_trigger_time=True, assignments=[Start_Culling_assign]\n",
    "        )\n",
    "        End_Culling_Program = Event(\n",
    "            name=\"End_Culling\", trigger=End_Culling_trig, delay=None, priority=\"4\",\n",
    "            use_values_from_trigger_time=True, assignments=[End_Culling_assign]\n",
    "        )\n",
    "        self.add_event(DFTD_Introduction)\n",
    "        self.add_event(Start_Culling_Program)\n",
    "        self.add_event(End_Culling_Program)\n",
    "\n",
    "        # Timespan\n",
    "        self.timespan(np.arange(0, 1001, 1))\n",
    "        \n",
    "    def run(self, **kwargs):\n",
    "        results = super().run(**kwargs)\n",
    "        while results['Infected'][300] <= 0:\n",
    "            results = super().run(**kwargs)\n",
    "        return results"
   ]
  },
  {
   "cell_type": "markdown",
   "metadata": {},
   "source": [
    "## Simulation"
   ]
  },
  {
   "cell_type": "code",
   "execution_count": 6,
   "metadata": {
    "execution": {
     "iopub.execute_input": "2022-01-25T15:50:16.110358Z",
     "iopub.status.busy": "2022-01-25T15:50:16.109709Z",
     "iopub.status.idle": "2022-01-25T15:50:16.112575Z",
     "shell.execute_reply": "2022-01-25T15:50:16.111992Z"
    }
   },
   "outputs": [],
   "source": [
    "class Simulation:\n",
    "    def __init__(self, model, kwargs=None, variables=None):\n",
    "        self.result = None\n",
    "        self.variables = variables\n",
    "        self.model = model\n",
    "        self.kwargs = kwargs\n",
    "        self.dftd_eradiction = None\n",
    "        self.devil_extinction = None\n",
    "    \n",
    "    def compute_dftd_devils_eradication_prob(self, verbose=True, return_prob=False):\n",
    "        if verbose: print(self.variables)\n",
    "        if self.dftd_eradiction is not None and self.devil_extinction is not None:\n",
    "            if return_prob:\n",
    "                return self.dftd_eradiction, self.devil_extinction\n",
    "            else:\n",
    "                print(f\"DFTD elimination: {self.dftd_eradiction}%\")\n",
    "                print(f\"Devil extinction: {self.devil_extinction}%\")\n",
    "                return\n",
    "        ext_count = 0\n",
    "        erd_count = 0\n",
    "        for i in range(100):\n",
    "            if verbose: print(\".\", end='')\n",
    "            if self.kwargs is None:\n",
    "                self.configure()\n",
    "            result = self.run(return_results=True)\n",
    "            Dftd = result['Infected'] + result['Exposed'] + result['Diseased']\n",
    "            if min(Dftd[400:]) == 0.0:\n",
    "                erd_count += 1\n",
    "            Devils = Dftd + result['Juvenile'] + result['Susceptible']\n",
    "            if min(Devils[400:]) == 0.0:\n",
    "                ext_count += 1\n",
    "        self.dftd_eradiction = erd_count\n",
    "        self.devil_extinction = ext_count\n",
    "        if return_prob:\n",
    "            return erd_count, ext_count\n",
    "        else:\n",
    "            if verbose: print()\n",
    "            print(f\"DFTD elimination: {erd_count}%\")\n",
    "            print(f\"Devil extinction: {ext_count}%\")\n",
    "    \n",
    "    def configure(self):\n",
    "        solver = TauHybridCSolver(model=model, variable=True)\n",
    "        self.kwargs = {\n",
    "            \"solver\": solver,\n",
    "            \"number_of_trajectories\": 1,\n",
    "        }\n",
    "    \n",
    "    def plot(self, start=0, alpha=0.3, plot_observed=False):\n",
    "        carry_cap = int(max(devil_pop)*1.16)\n",
    "        dftd_start = int(self.result.model.listOfParameters['DFTD_introduction'].value)\n",
    "        if self.variables is not None and \"culling_start\" in self.variables.keys():\n",
    "            culling_start = self.variables['culling_start']\n",
    "        else:\n",
    "            culling_start = int(self.result.model.listOfParameters['culling_start'].value)\n",
    "            \n",
    "        if self.variables is None or 'cull_program_length' not in self.variables:\n",
    "            cull_program_length = self.result.model.listOfParameters['cull_program_length'].value\n",
    "            culling_end = culling_start + 12 * int(cull_program_length)\n",
    "        else:\n",
    "            culling_end = culling_start + 12 * int(self.variables['cull_program_length'])\n",
    "\n",
    "        spec_list = [self.result['Juvenile'], self.result['Susceptible'], self.result['Exposed'],\n",
    "                     self.result['Infected'], self.result['Diseased']]\n",
    "        total_devils = np.add.reduce(spec_list)\n",
    "        x = self.result['time'][start:]\n",
    "        text_offset = (self.result['time'].size - start) / 601\n",
    "\n",
    "        fig, ax1 = plt.subplots(figsize=[15, 8])\n",
    "        plt.title(\"Tasmanian Devil Population with DFTD: Culling Program\", fontsize=18)\n",
    "        ax1.set_xlabel(f\"Time (months) since {dates[start]}\", fontsize=14)\n",
    "        ax1.set_ylabel(\"Population of Tasmanian Devils\", fontsize=14)\n",
    "        ax1.plot(x, total_devils[start:], color='blue', label='Total Devils')\n",
    "        ax1.plot(x, self.result['Juvenile'][start:], color='purple', alpha=alpha, label='Juvenile')\n",
    "        ax1.plot(x, self.result['Susceptible'][start:], color='green', alpha=alpha, label='Susceptible')\n",
    "        ax1.plot(x, self.result['Exposed'][start:], color='magenta', alpha=alpha, label='Exposed')\n",
    "        ax1.plot(x, self.result['Infected'][start:], color='red', alpha=alpha, label='Infected')\n",
    "        ax1.plot(x, self.result['Diseased'][start:], color='brown', alpha=alpha, label='Diseased')\n",
    "        \n",
    "        if plot_observed:\n",
    "            ax1.plot(range(len(devil_pop)), devil_pop, '--k', label='Observed')\n",
    "        \n",
    "        # DFTD Introduction\n",
    "        if start <= dftd_start:\n",
    "            ax1.plot([dftd_start, dftd_start], [-3000, carry_cap], '--k', alpha=0.3)\n",
    "            ax1.text(dftd_start - 10 * text_offset, 45000, \"DFTD Introduced\",\n",
    "                     rotation=\"vertical\", color=\"black\", fontsize=12)\n",
    "            ax1.text(dftd_start + 3 * text_offset, 48000, dates[dftd_start],\n",
    "                     rotation=\"vertical\", color=\"black\", fontsize=12)\n",
    "        \n",
    "        # Culling\n",
    "        if culling_start < culling_end:\n",
    "            ax1.plot([culling_start, culling_start], [-3000, carry_cap - 8000], '--k', alpha=0.3)\n",
    "            ax1.plot([culling_end, culling_end], [-3000, carry_cap - 8000], '--k', alpha=0.3)\n",
    "            ax1.plot([culling_start, culling_end], [carry_cap - 8000, carry_cap - 8000], '--k', alpha=0.3)\n",
    "            ax1.text(culling_start, carry_cap - 7300, f\"Culling: {dates[culling_start]} - {dates[culling_end]}\",\n",
    "                     color=\"black\", fontsize=12)\n",
    "        \n",
    "        ax1.set_ylim(-3000, carry_cap)\n",
    "        ax1.set_xlim(-5, 1005)\n",
    "        ax1.tick_params(axis='x', labelsize=12)\n",
    "        ax1.tick_params(axis='y',labelsize=12, labelrotation=90)\n",
    "        ax1.legend(loc='upper right', fontsize=12)\n",
    "        fig.tight_layout()\n",
    "    \n",
    "    def run(self, return_results=False, use_existing_results=False):\n",
    "        if self.result is not None and use_existing_results:\n",
    "            return\n",
    "        \n",
    "        result = self.model.run(**self.kwargs)\n",
    "        if return_results:\n",
    "            return result\n",
    "        else:\n",
    "            self.result = result\n",
    "#         run_args = copy.deepcopy(self.kwargs)\n",
    "#         if \"variables\" not in run_args:\n",
    "#             orig_vars = {}\n",
    "#             run_args['variables'] = {}\n",
    "#         else:\n",
    "#             orig_vars = copy.deepcopy(run_args['variables'])\n",
    "\n",
    "#         # Run Pre-infection Period\n",
    "#         self.model.resolve_parameters()\n",
    "#         if 'DFTD_introduction' in run_args['variables']:\n",
    "#             dfdt_intro = run_args['variables']['DFTD_introduction']\n",
    "#         else:\n",
    "#             dfdt_intro = self.model.listOfParameters['DFTD_introduction'].value\n",
    "#         res1 = self.model.run(**run_args, t=dfdt_intro - 1)\n",
    "\n",
    "#         # Configure Infection Period\n",
    "#         run_args['variables']['Infected'] = \"2\"\n",
    "#         run_args['variables']['Susceptible'] = f\"{int(res1[0]['Susceptible'][-1] - 2)}\"\n",
    "#         if 'culling_time' in run_args['variables']:\n",
    "#             culling_time = run_args['variables']['culling_time']\n",
    "#         else:\n",
    "#             culling_time = self.model.listOfParameters['culling_time'].value\n",
    "\n",
    "#         # Run Infection Period\n",
    "#         prog_start = 444 + culling_time\n",
    "#         res2 = self.model.run(resume=res1, t=prog_start, **run_args)\n",
    "#         while res2['Infected'][-1] <= 0:\n",
    "#             res2 = self.model.run(resume=res1, t=prog_start - 1, **run_args)\n",
    "\n",
    "#         # Configure Culling Period\n",
    "#         run_args['variables'] = orig_vars\n",
    "#         run_args['variables']['culling_flag'] = 1\n",
    "#         if 'program_length' in run_args['variables']:\n",
    "#             program_length = run_args['variables']['program_length']\n",
    "#         else:\n",
    "#             program_length = self.model.listOfParameters['program_length'].value\n",
    "\n",
    "#         # Run Culling Period\n",
    "#         prog_end = prog_start + program_length * 12\n",
    "#         res3 = self.model.run(resume=res2, t=prog_start, **run_args)\n",
    "\n",
    "#         run_args['variables'] = orig_vars\n",
    "#         res4 = self.model.run(resume=res3, **run_args)\n",
    "#         if return_results:\n",
    "#             return res4\n",
    "#         else:\n",
    "#             self.result = res4"
   ]
  },
  {
   "cell_type": "markdown",
   "metadata": {},
   "source": [
    "## Parameter Sweep Job"
   ]
  },
  {
   "cell_type": "code",
   "execution_count": 7,
   "metadata": {
    "execution": {
     "iopub.execute_input": "2022-01-25T15:50:16.216320Z",
     "iopub.status.busy": "2022-01-25T15:50:16.137919Z",
     "iopub.status.idle": "2022-01-25T15:50:16.218382Z",
     "shell.execute_reply": "2022-01-25T15:50:16.218877Z"
    }
   },
   "outputs": [],
   "source": [
    "class ParameterSweep():\n",
    "    def __init__(self, model, params):\n",
    "        self.model = model\n",
    "        self.params = params\n",
    "        self.results = {}\n",
    "\n",
    "    def __get_result_key(self, variables):\n",
    "        elements = []\n",
    "        for name, value in variables.items():\n",
    "            elements.append(f\"{name}:{value}\")\n",
    "        return \",\".join(elements)\n",
    "\n",
    "    def __run(self, index, variables, verbose):\n",
    "        if index < len(self.params):\n",
    "            param = self.params[index]\n",
    "            index += 1\n",
    "            for val in param['range']:\n",
    "                variables[param['parameter']] = val\n",
    "                self.__run(index=index, variables=variables, verbose=verbose)\n",
    "        else:\n",
    "            result_key = self.__get_result_key(variables=variables)\n",
    "            if verbose:\n",
    "                message = f'running: {result_key.replace(\":\", \"=\").replace(\",\", \", \")}'\n",
    "                print(message)\n",
    "            tmp_sim = Simulation(model=self.model, variables=copy.deepcopy(variables))\n",
    "            tmp_sim.configure()\n",
    "            tmp_sim.kwargs['variables'] = variables.copy()\n",
    "            tmp_sim.run()\n",
    "            self.results[result_key] = tmp_sim\n",
    "\n",
    "    def build_layout(self, ai_widgets):\n",
    "        ai_widgets = list(ai_widgets.values())\n",
    "        hbs = []\n",
    "        for i in range(0, len(ai_widgets), 4):\n",
    "            hb_list = [ai_widgets[i], ai_widgets[i+1]]\n",
    "            if len(ai_widgets) >= i+3:\n",
    "                hb_list.extend([ai_widgets[i+2], ai_widgets[i+3]])\n",
    "            hbs.append(widgets.HBox(hb_list, layout=self.get_layout()))\n",
    "        return widgets.VBox(hbs, layout=self.get_layout(vertical=True))\n",
    "    \n",
    "    def build_widgets(self):\n",
    "        param_names = units_labels['w_labels']\n",
    "        ai_widgets = {}\n",
    "        for i, param in enumerate(self.params):\n",
    "            fs = widgets.SelectionSlider(\n",
    "                options=param['range'], value=param['range'][0], description=param_names[param['parameter']]\n",
    "            )\n",
    "            ai_widgets[f'fs{i}'] = fs\n",
    "            cs = widgets.Checkbox(value=False, description='Fixed')\n",
    "            ai_widgets[f'cs{i}'] = cs\n",
    "        return ai_widgets\n",
    "    \n",
    "    def configure(self, **widget_args):\n",
    "        sim_key = []\n",
    "        for i in range(0, len(widget_args), 2):\n",
    "            param_key = int(i/2)\n",
    "            sim_key.append(f\"{self.params[param_key]['parameter']}:{list(widget_args.values())[i]}\")\n",
    "        sim_key = \",\".join(sim_key)\n",
    "        \n",
    "        self.results[sim_key].plot(plot_observed=self.plot_observed)\n",
    "        \n",
    "        params, fixed = self.display_details(widget_args)\n",
    "\n",
    "        if len(params) < 1:\n",
    "            print(\"At least 1 fixed parameters are required\")\n",
    "        elif len(params) > 2:\n",
    "            print(\"There are too many fixed parameters\")\n",
    "        elif len(params) == 2:\n",
    "            base_key = self.get_base_key(list(widget_args.values())[::2], params)\n",
    "            dftd, devils = self.get_plot_data(params, base_key)\n",
    "            self.display_plots(params, dftd, devils)\n",
    "        else:\n",
    "            labels = units_labels['labels']\n",
    "            units = units_labels['units']\n",
    "            param = params[0]\n",
    "            self.plot_devil_dftd_extinction_over_param(\n",
    "                res_sub_keys=fixed, key=param['parameter'], param_label=labels[param['parameter']],\n",
    "                units=units[param['parameter']]\n",
    "            )\n",
    "    \n",
    "    def display_details(self, args, verbose=False):\n",
    "        params = []\n",
    "        fixed = []\n",
    "        values = list(args.values())\n",
    "        for i in range(0, len(values), 2):\n",
    "            index = int(i/2)\n",
    "            if values[i + 1]:\n",
    "                fixed.append(f\"{self.params[index]['parameter']}: {values[i]}\")\n",
    "            else:\n",
    "                params.append(self.params[index])\n",
    "        if fixed and verbose:\n",
    "            print(\", \".join(fixed))\n",
    "        return params, [param.replace(\": \", \":\") for param in fixed]\n",
    "    \n",
    "    def display_plots(self, params, dftd, devils):\n",
    "        labels = units_labels['labels']\n",
    "        units = units_labels['units']\n",
    "        x_units = units[params[0]['parameter']]\n",
    "        if x_units:\n",
    "            x_units = f\" ({x_units})\"\n",
    "        y_units = units[params[1]['parameter']]\n",
    "        if y_units:\n",
    "            y_units = f\" ({y_units})\"\n",
    "        x_label = f\"{labels[params[0]['parameter']]}{x_units}\"\n",
    "        y_label = f\"{labels[params[1]['parameter']]}{y_units}\"\n",
    "        dftd = np.flip(dftd, 0)\n",
    "        devils = np.flip(devils, 0)\n",
    "\n",
    "        fig, (ax1, ax2) = plt.subplots(1, 2, figsize=[16, 6])\n",
    "\n",
    "        im1 = ax1.imshow(dftd)\n",
    "        ax1.set_xticks(np.arange(len(dftd[0])))\n",
    "        ax1.set_xticklabels(labels=params[0]['range'])\n",
    "        ax1.set_yticks(np.arange(len(dftd)))\n",
    "        ax1.set_yticklabels(labels=np.flip(params[1]['range']))\n",
    "        ax1.set_xlabel(x_label, fontsize=14)\n",
    "        ax1.set_ylabel(y_label, fontsize=14)\n",
    "        ax1.tick_params(axis=\"x\", labelsize=12, labelrotation=90)\n",
    "        ax1.tick_params(axis=\"y\", labelsize=12)\n",
    "        ax1.set_title('Probability of DFTD Elimination', fontsize=14)\n",
    "        ax1.figure.colorbar(im1, ax=ax1)\n",
    "        for i in range(len(dftd)):\n",
    "            for j in range(len(dftd[0])):\n",
    "                _ = ax1.text(j, i, f\"{dftd[i, j]}%\", ha=\"center\", va=\"center\", color=\"w\", fontsize=12)\n",
    "\n",
    "        im2 = ax2.imshow(devils)\n",
    "        ax2.set_xticks(np.arange(len(devils[0])))\n",
    "        ax2.set_xticklabels(labels=params[0]['range'])\n",
    "        ax2.set_yticks(np.arange(len(devils)))\n",
    "        ax2.set_yticklabels(labels=np.flip(params[1]['range']))\n",
    "        ax2.set_xlabel(x_label, fontsize=14)\n",
    "        ax2.set_ylabel(y_label, fontsize=14)\n",
    "        ax2.tick_params(axis=\"x\", labelsize=12, labelrotation=90)\n",
    "        ax2.tick_params(axis=\"y\", labelsize=12)\n",
    "        ax2.set_title('Probability of Devil Extinction', fontsize=14)\n",
    "        ax2.figure.colorbar(im2, ax=ax2)\n",
    "        for i in range(len(devils)):\n",
    "            for j in range(len(devils[0])):\n",
    "                _ = ax2.text(j, i, f\"{devils[i, j]}%\", ha=\"center\", va=\"center\", color=\"w\", fontsize=12)\n",
    "    \n",
    "    def explore_results(self, plot_observed=False):\n",
    "        self.plot_observed = plot_observed\n",
    "        ai_widgets = self.build_widgets()\n",
    "        ui = self.build_layout(ai_widgets)\n",
    "        out = interactive_output(self.configure, ai_widgets)\n",
    "        display(ui, out)\n",
    "    \n",
    "    def get_base_key(self, values, params):\n",
    "        base_key = []\n",
    "        for i, param in enumerate(self.params):\n",
    "            if param in params:\n",
    "                base_key.append(\"__param2__\" if \"__param1__\" in base_key else \"__param1__\")\n",
    "            else:\n",
    "                base_key.append(f\"{param['parameter']}:{values[i]}\")\n",
    "        return \",\".join(base_key)\n",
    "    \n",
    "    def get_layout(self, vertical=False):\n",
    "        kwargs = {\n",
    "            \"margin\": '0px 10px 10px 0px',\n",
    "            \"padding\": '5px 5px 5px 5px'\n",
    "        }\n",
    "        if vertical:\n",
    "            kwargs['border'] = 'solid 1px red'\n",
    "        return widgets.Layout(**kwargs)\n",
    "    \n",
    "    def get_plot_data(self, params, base_key):\n",
    "        dftd = []\n",
    "        devils = []\n",
    "        for value1 in params[1]['range']:\n",
    "            _key = base_key.replace(\"__param2__\", f\"{params[1]['parameter']}:{value1}\")\n",
    "            inner_dftd = []\n",
    "            inner_devils = []\n",
    "            for value2 in params[0]['range']:\n",
    "                key = _key.replace(\"__param1__\", \"{0}:{1}\".format(params[0]['parameter'], value2))\n",
    "                dftd_prob, devil_prob = self.results[key].compute_dftd_devils_eradication_prob(verbose=False,\n",
    "                                                                                               return_prob=True)\n",
    "                inner_dftd.append(dftd_prob)\n",
    "                inner_devils.append(devil_prob)\n",
    "            dftd.append(inner_dftd)\n",
    "            devils.append(inner_devils)\n",
    "        return np.array(dftd), np.array(devils)\n",
    "    \n",
    "    def plot_devil_dftd_extinction_over_param(self, res_sub_keys=[], no_plot=False, key=\"cull_program_length\",\n",
    "                                              param_label=\"Culling Program Length\", units=\"years\"):\n",
    "        if len(self.params) < 2:\n",
    "            sims = self.results.values()\n",
    "        elif (len(self.params) - len(res_sub_keys)) != 1:\n",
    "            raise Exception(f\"res_sub_keys[{len(self.params)}] must be set.\")\n",
    "        else:\n",
    "            _keys = list(self.results.keys())\n",
    "            for sub_key in res_sub_keys:\n",
    "                keys = []\n",
    "                for res_key in _keys:\n",
    "                    if sub_key in res_key.split(\",\"):\n",
    "                        keys.append(res_key)\n",
    "                _keys = keys\n",
    "            sims = [self.results[key] for key in keys]\n",
    "        \n",
    "        pl_values = []\n",
    "        pl_ext_rate = []\n",
    "        pl_erd_rate = []\n",
    "        for sim in sims:\n",
    "            pl_values.append(sim.variables[key])\n",
    "            dftd_prob, devil_prob = sim.compute_dftd_devils_eradication_prob(verbose=False,\n",
    "                                                                             return_prob=True)\n",
    "            pl_ext_rate.append(devil_prob)\n",
    "            pl_erd_rate.append(dftd_prob)\n",
    "            \n",
    "        if no_plot:\n",
    "            return\n",
    "        units = \"\" if units is None else f\" ({units})\"\n",
    "        fig, (ax1, ax2) = plt.subplots(1, 2, figsize=[16, 6])\n",
    "        \n",
    "        im1 = ax1.plot(pl_values, pl_erd_rate)\n",
    "        ax1.set_title(f'Dftd elimination vs. {param_label}', fontsize=14)\n",
    "        ax1.set_ylim(ymin=-1,ymax=100)\n",
    "        ax1.tick_params(axis=\"x\", labelsize=12)\n",
    "        ax1.tick_params(axis=\"y\", labelsize=12)\n",
    "        ax1.set_xlabel(f\"{param_label}{units}\", fontsize=14)\n",
    "        ax1.set_ylabel(\"DFTD elimination probability\", fontsize=14)\n",
    "        \n",
    "        im2 = ax2.plot(pl_values, pl_ext_rate)\n",
    "        ax2.set_title(f'Devil extinction vs. {param_label}', fontsize=14)\n",
    "        ax2.set_ylim(ymin=-1,ymax=100)\n",
    "        ax2.tick_params(axis=\"x\", labelsize=12)\n",
    "        ax2.tick_params(axis=\"y\", labelsize=12)\n",
    "        ax2.set_xlabel(f\"{param_label}{units}\", fontsize=14)\n",
    "        ax2.set_ylabel(\"Devil extinction probability\", fontsize=14)\n",
    "\n",
    "    def run(self, verbose=False, use_existing_results=False):\n",
    "        if self.results and use_existing_results:\n",
    "            return\n",
    "        index = 0\n",
    "        variables = {}\n",
    "        self.__run(index=index, variables=variables, verbose=verbose)"
   ]
  },
  {
   "cell_type": "markdown",
   "metadata": {},
   "source": [
    "## Load existing state"
   ]
  },
  {
   "cell_type": "code",
   "execution_count": 8,
   "metadata": {
    "execution": {
     "iopub.execute_input": "2022-01-25T15:50:16.223127Z",
     "iopub.status.busy": "2022-01-25T15:50:16.222524Z",
     "iopub.status.idle": "2022-01-25T15:50:16.230561Z",
     "shell.execute_reply": "2022-01-25T15:50:16.230061Z"
    }
   },
   "outputs": [],
   "source": [
    "state_path = \"./DevilsDFTD2StageInfectionWithCullingState.p\"\n",
    "if os.path.exists(state_path):\n",
    "    with open(state_path, \"rb\") as state_file:\n",
    "        nb_state = pickle.load(state_file)\n",
    "else:\n",
    "    nb_state = None\n",
    "    print(\"No existing state found.\")"
   ]
  },
  {
   "cell_type": "markdown",
   "metadata": {},
   "source": [
    "## Run Simulation with default parameters"
   ]
  },
  {
   "cell_type": "code",
   "execution_count": 9,
   "metadata": {
    "execution": {
     "iopub.execute_input": "2022-01-25T15:50:16.234893Z",
     "iopub.status.busy": "2022-01-25T15:50:16.234151Z",
     "iopub.status.idle": "2022-01-25T15:50:16.236918Z",
     "shell.execute_reply": "2022-01-25T15:50:16.236289Z"
    }
   },
   "outputs": [],
   "source": [
    "if nb_state is None:\n",
    "    model = DevilsDFTD2StageInfectionWithCulling()\n",
    "else:\n",
    "    model = nb_state['model']"
   ]
  },
  {
   "cell_type": "code",
   "execution_count": 10,
   "metadata": {
    "execution": {
     "iopub.execute_input": "2022-01-25T15:50:16.241457Z",
     "iopub.status.busy": "2022-01-25T15:50:16.240691Z",
     "iopub.status.idle": "2022-01-25T15:50:16.242703Z",
     "shell.execute_reply": "2022-01-25T15:50:16.242357Z"
    }
   },
   "outputs": [],
   "source": [
    "if nb_state is None:\n",
    "    sim = Simulation(model=model)\n",
    "else:\n",
    "    sim = nb_state['sim']"
   ]
  },
  {
   "cell_type": "code",
   "execution_count": 11,
   "metadata": {
    "execution": {
     "iopub.execute_input": "2022-01-25T15:50:16.250351Z",
     "iopub.status.busy": "2022-01-25T15:50:16.249937Z",
     "iopub.status.idle": "2022-01-25T15:51:03.555616Z",
     "shell.execute_reply": "2022-01-25T15:51:03.554620Z"
    },
    "scrolled": false
   },
   "outputs": [
    {
     "name": "stdout",
     "output_type": "stream",
     "text": [
      "CPU times: user 6 µs, sys: 5 µs, total: 11 µs\n",
      "Wall time: 16.5 µs\n"
     ]
    }
   ],
   "source": [
    "sim.configure()\n",
    "%time sim.run(use_existing_results=True)"
   ]
  },
  {
   "cell_type": "markdown",
   "metadata": {},
   "source": [
    "## Visualization"
   ]
  },
  {
   "cell_type": "code",
   "execution_count": 12,
   "metadata": {
    "execution": {
     "iopub.execute_input": "2022-01-25T15:51:03.574781Z",
     "iopub.status.busy": "2022-01-25T15:51:03.560690Z",
     "iopub.status.idle": "2022-01-25T15:51:03.921265Z",
     "shell.execute_reply": "2022-01-25T15:51:03.922146Z"
    },
    "scrolled": false
   },
   "outputs": [
    {
     "data": {
      "image/png": "[encoded data removed]",
      "text/plain": [
       "<Figure size 1080x576 with 1 Axes>"
      ]
     },
     "metadata": {
      "needs_background": "light"
     },
     "output_type": "display_data"
    }
   ],
   "source": [
    "sim.plot()"
   ]
  },
  {
   "cell_type": "code",
   "execution_count": 13,
   "metadata": {
    "execution": {
     "iopub.execute_input": "2022-01-25T15:51:03.928637Z",
     "iopub.status.busy": "2022-01-25T15:51:03.927594Z",
     "iopub.status.idle": "2022-01-25T15:51:03.930696Z",
     "shell.execute_reply": "2022-01-25T15:51:03.930985Z"
    }
   },
   "outputs": [
    {
     "name": "stdout",
     "output_type": "stream",
     "text": [
      "DFTD elimination: 0%\n",
      "Devil extinction: 0%\n",
      "CPU times: user 61 µs, sys: 66 µs, total: 127 µs\n",
      "Wall time: 302 µs\n"
     ]
    }
   ],
   "source": [
    "%time sim.compute_dftd_devils_eradication_prob(verbose=False)"
   ]
  },
  {
   "cell_type": "markdown",
   "metadata": {},
   "source": [
    "## Run Parameter Sweep Job"
   ]
  },
  {
   "cell_type": "code",
   "execution_count": 14,
   "metadata": {
    "execution": {
     "iopub.execute_input": "2022-01-25T15:51:03.935489Z",
     "iopub.status.busy": "2022-01-25T15:51:03.935138Z",
     "iopub.status.idle": "2022-01-25T15:51:03.937272Z",
     "shell.execute_reply": "2022-01-25T15:51:03.937569Z"
    }
   },
   "outputs": [],
   "source": [
    "if nb_state is None:\n",
    "    params = [\n",
    "        {\"parameter\": \"cull_rate_diseased\", \"range\": [0.25, 0.5, 0.75]},\n",
    "        {\"parameter\": \"cull_program_length\", \"range\": [3, 5, 10, 15, 20]}\n",
    "    ]\n",
    "    job = ParameterSweep(model=model, params=params)\n",
    "else:\n",
    "    job = nb_state['job']"
   ]
  },
  {
   "cell_type": "code",
   "execution_count": 15,
   "metadata": {
    "execution": {
     "iopub.execute_input": "2022-01-25T15:51:03.941007Z",
     "iopub.status.busy": "2022-01-25T15:51:03.940623Z",
     "iopub.status.idle": "2022-01-25T15:51:03.944085Z",
     "shell.execute_reply": "2022-01-25T15:51:03.943676Z"
    }
   },
   "outputs": [
    {
     "name": "stdout",
     "output_type": "stream",
     "text": [
      "CPU times: user 3 µs, sys: 4 µs, total: 7 µs\n",
      "Wall time: 11 µs\n"
     ]
    }
   ],
   "source": [
    "%time job.run(use_existing_results=True)"
   ]
  },
  {
   "cell_type": "markdown",
   "metadata": {},
   "source": [
    "## Visualization"
   ]
  },
  {
   "cell_type": "code",
   "execution_count": 16,
   "metadata": {
    "execution": {
     "iopub.execute_input": "2022-01-25T15:51:03.948364Z",
     "iopub.status.busy": "2022-01-25T15:51:03.947900Z",
     "iopub.status.idle": "2022-01-25T15:51:03.950372Z",
     "shell.execute_reply": "2022-01-25T15:51:03.949907Z"
    }
   },
   "outputs": [],
   "source": [
    "if nb_state is None:\n",
    "    tic=time.time()\n",
    "    for crd in params[0]['range']:\n",
    "        res_sub_keys = [f\"cull_rate_diseased:{crd}\"]\n",
    "        job.plot_devil_dftd_extinction_over_param(res_sub_keys=res_sub_keys, no_plot=True)\n",
    "        print(\".\", end=\"\")\n",
    "    print(f\"simulation complete in {time.time()-tic:.2f}s\")"
   ]
  },
  {
   "cell_type": "code",
   "execution_count": 17,
   "metadata": {
    "execution": {
     "iopub.execute_input": "2022-01-25T15:51:03.975356Z",
     "iopub.status.busy": "2022-01-25T15:51:03.973232Z",
     "iopub.status.idle": "2022-01-25T15:51:04.218781Z",
     "shell.execute_reply": "2022-01-25T15:51:04.219636Z"
    }
   },
   "outputs": [
    {
     "name": "stdout",
     "output_type": "stream",
     "text": [
      "CPU times: user 25.2 ms, sys: 0 ns, total: 25.2 ms\n",
      "Wall time: 22.8 ms\n"
     ]
    },
    {
     "data": {
      "image/png": "[encoded data removed]",
      "text/plain": [
       "<Figure size 1152x432 with 2 Axes>"
      ]
     },
     "metadata": {
      "needs_background": "light"
     },
     "output_type": "display_data"
    }
   ],
   "source": [
    "%time job.plot_devil_dftd_extinction_over_param(res_sub_keys=[\"cull_rate_diseased:0.5\"])"
   ]
  },
  {
   "cell_type": "code",
   "execution_count": 18,
   "metadata": {
    "execution": {
     "iopub.execute_input": "2022-01-25T15:51:04.225215Z",
     "iopub.status.busy": "2022-01-25T15:51:04.224205Z",
     "iopub.status.idle": "2022-01-25T15:51:04.238884Z",
     "shell.execute_reply": "2022-01-25T15:51:04.239513Z"
    },
    "scrolled": false
   },
   "outputs": [
    {
     "ename": "NameError",
     "evalue": "name 'widgets' is not defined",
     "output_type": "error",
     "traceback": [
      "\u001b[0;31m---------------------------------------------------------------------------\u001b[0m",
      "\u001b[0;31mNameError\u001b[0m                                 Traceback (most recent call last)",
      "\u001b[0;32m<timed eval>\u001b[0m in \u001b[0;36m<module>\u001b[0;34m\u001b[0m\n",
      "\u001b[0;32m<ipython-input-7-143b79385617>\u001b[0m in \u001b[0;36mexplore_results\u001b[0;34m(self, plot_observed)\u001b[0m\n\u001b[1;32m    141\u001b[0m     \u001b[0;32mdef\u001b[0m \u001b[0mexplore_results\u001b[0m\u001b[0;34m(\u001b[0m\u001b[0mself\u001b[0m\u001b[0;34m,\u001b[0m \u001b[0mplot_observed\u001b[0m\u001b[0;34m=\u001b[0m\u001b[0;32mFalse\u001b[0m\u001b[0;34m)\u001b[0m\u001b[0;34m:\u001b[0m\u001b[0;34m\u001b[0m\u001b[0;34m\u001b[0m\u001b[0m\n\u001b[1;32m    142\u001b[0m         \u001b[0mself\u001b[0m\u001b[0;34m.\u001b[0m\u001b[0mplot_observed\u001b[0m \u001b[0;34m=\u001b[0m \u001b[0mplot_observed\u001b[0m\u001b[0;34m\u001b[0m\u001b[0;34m\u001b[0m\u001b[0m\n\u001b[0;32m--> 143\u001b[0;31m         \u001b[0mai_widgets\u001b[0m \u001b[0;34m=\u001b[0m \u001b[0mself\u001b[0m\u001b[0;34m.\u001b[0m\u001b[0mbuild_widgets\u001b[0m\u001b[0;34m(\u001b[0m\u001b[0;34m)\u001b[0m\u001b[0;34m\u001b[0m\u001b[0;34m\u001b[0m\u001b[0m\n\u001b[0m\u001b[1;32m    144\u001b[0m         \u001b[0mui\u001b[0m \u001b[0;34m=\u001b[0m \u001b[0mself\u001b[0m\u001b[0;34m.\u001b[0m\u001b[0mbuild_layout\u001b[0m\u001b[0;34m(\u001b[0m\u001b[0mai_widgets\u001b[0m\u001b[0;34m)\u001b[0m\u001b[0;34m\u001b[0m\u001b[0;34m\u001b[0m\u001b[0m\n\u001b[1;32m    145\u001b[0m         \u001b[0mout\u001b[0m \u001b[0;34m=\u001b[0m \u001b[0minteractive_output\u001b[0m\u001b[0;34m(\u001b[0m\u001b[0mself\u001b[0m\u001b[0;34m.\u001b[0m\u001b[0mconfigure\u001b[0m\u001b[0;34m,\u001b[0m \u001b[0mai_widgets\u001b[0m\u001b[0;34m)\u001b[0m\u001b[0;34m\u001b[0m\u001b[0;34m\u001b[0m\u001b[0m\n",
      "\u001b[0;32m<ipython-input-7-143b79385617>\u001b[0m in \u001b[0;36mbuild_widgets\u001b[0;34m(self)\u001b[0m\n\u001b[1;32m     43\u001b[0m         \u001b[0mai_widgets\u001b[0m \u001b[0;34m=\u001b[0m \u001b[0;34m{\u001b[0m\u001b[0;34m}\u001b[0m\u001b[0;34m\u001b[0m\u001b[0;34m\u001b[0m\u001b[0m\n\u001b[1;32m     44\u001b[0m         \u001b[0;32mfor\u001b[0m \u001b[0mi\u001b[0m\u001b[0;34m,\u001b[0m \u001b[0mparam\u001b[0m \u001b[0;32min\u001b[0m \u001b[0menumerate\u001b[0m\u001b[0;34m(\u001b[0m\u001b[0mself\u001b[0m\u001b[0;34m.\u001b[0m\u001b[0mparams\u001b[0m\u001b[0;34m)\u001b[0m\u001b[0;34m:\u001b[0m\u001b[0;34m\u001b[0m\u001b[0;34m\u001b[0m\u001b[0m\n\u001b[0;32m---> 45\u001b[0;31m             fs = widgets.SelectionSlider(\n\u001b[0m\u001b[1;32m     46\u001b[0m                 \u001b[0moptions\u001b[0m\u001b[0;34m=\u001b[0m\u001b[0mparam\u001b[0m\u001b[0;34m[\u001b[0m\u001b[0;34m'range'\u001b[0m\u001b[0;34m]\u001b[0m\u001b[0;34m,\u001b[0m \u001b[0mvalue\u001b[0m\u001b[0;34m=\u001b[0m\u001b[0mparam\u001b[0m\u001b[0;34m[\u001b[0m\u001b[0;34m'range'\u001b[0m\u001b[0;34m]\u001b[0m\u001b[0;34m[\u001b[0m\u001b[0;36m0\u001b[0m\u001b[0;34m]\u001b[0m\u001b[0;34m,\u001b[0m \u001b[0mdescription\u001b[0m\u001b[0;34m=\u001b[0m\u001b[0mparam_names\u001b[0m\u001b[0;34m[\u001b[0m\u001b[0mparam\u001b[0m\u001b[0;34m[\u001b[0m\u001b[0;34m'parameter'\u001b[0m\u001b[0;34m]\u001b[0m\u001b[0;34m]\u001b[0m\u001b[0;34m\u001b[0m\u001b[0;34m\u001b[0m\u001b[0m\n\u001b[1;32m     47\u001b[0m             )\n",
      "\u001b[0;31mNameError\u001b[0m: name 'widgets' is not defined"
     ]
    }
   ],
   "source": [
    "%time job.explore_results()"
   ]
  },
  {
   "cell_type": "markdown",
   "metadata": {},
   "source": [
    "## Store notebook state"
   ]
  },
  {
   "cell_type": "code",
   "execution_count": 19,
   "metadata": {
    "execution": {
     "iopub.execute_input": "2022-01-25T15:51:04.243875Z",
     "iopub.status.busy": "2022-01-25T15:51:04.243124Z",
     "iopub.status.idle": "2022-01-25T15:51:04.249530Z",
     "shell.execute_reply": "2022-01-25T15:51:04.248866Z"
    }
   },
   "outputs": [],
   "source": [
    "nb_state = {\"model\": model, \"sim\":sim, \"job\":job}\n",
    "with open(state_path, \"wb\") as state_file:\n",
    "    pickle.dump(nb_state, state_file)"
   ]
  }
 ],
 "metadata": {
  "kernelspec": {
   "display_name": "Python 3 (ipykernel)",
   "language": "python",
   "name": "python3"
  },
  "language_info": {
   "codemirror_mode": {
    "name": "ipython",
    "version": 3
   },
   "file_extension": ".py",
   "mimetype": "text/x-python",
   "name": "python",
   "nbconvert_exporter": "python",
   "pygments_lexer": "ipython3",
   "version": "3.8.10"
  }
 },
 "nbformat": 4,
 "nbformat_minor": 4
}
