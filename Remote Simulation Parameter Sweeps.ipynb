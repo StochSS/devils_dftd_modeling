{
 "cells": [
  {
   "cell_type": "code",
   "execution_count": null,
   "metadata": {},
   "outputs": [],
   "source": [
    "import json\n",
    "import subprocess\n",
    "import sys\n",
    "import math\n",
    "import numpy\n",
    "import re\n",
    "import matplotlib.pyplot as plt\n",
    "import time\n",
    "\n",
    "\n"
   ]
  },
  {
   "cell_type": "code",
   "execution_count": null,
   "metadata": {},
   "outputs": [],
   "source": [
    "type_variables = {\n",
    "    \"juvenile_concentration\": float,\n",
    "    \"birth_rate\": float,\n",
    "    \"maturity_rate\": float,\n",
    "    \"death_rate_juvenile\": float,\n",
    "    \"death_rate_susceptible\": float,\n",
    "    \"death_rate_over_population\": float,\n",
    "    \"infection_rate_infected\": float,\n",
    "    \"infection_rate_diseased\": float,\n",
    "    \"incubation\": float,\n",
    "    \"progression\": float,\n",
    "    \"death_rate_infected\": float,\n",
    "    \"death_rate_diseased\": float,\n",
    "    \"DFTD_start\": float,\n",
    "}"
   ]
  },
  {
   "cell_type": "markdown",
   "metadata": {},
   "source": [
    "## Read in observed data"
   ]
  },
  {
   "cell_type": "code",
   "execution_count": null,
   "metadata": {},
   "outputs": [],
   "source": [
    "import pandas as pd\n",
    "import numpy as np# pop_data = pd.read_csv('../year_data/devil_data_v2.csv')\n",
    "pop_data = pd.read_csv('month_data/Devils_Dataset__Population_1985-2020.csv')\n",
    "\n",
    "devil_pop = np.array(pop_data['Population'].iloc[:].values)\n",
    "dates = []\n",
    "year = 1985\n",
    "while len(dates) < len(devil_pop):\n",
    "    for month in [\"Jan\", \"Feb\", \"Mar\", \"Apr\", \"May\", \"Jun\", \"Jul\", \"Aug\", \"Sept\", \"Oct\", \"Nov\", \"Dec\"]:\n",
    "        dates.append(f\"{month} {year}\")\n",
    "    year += 1\n",
    "\n",
    "obs = np.vstack([devil_pop]).reshape(1, 1, -1)\n",
    "carry_cap = int(max(devil_pop)*1.16)\n"
   ]
  },
  {
   "cell_type": "code",
   "execution_count": null,
   "metadata": {},
   "outputs": [],
   "source": [
    "mean_std_db={}"
   ]
  },
  {
   "cell_type": "code",
   "execution_count": null,
   "metadata": {},
   "outputs": [],
   "source": [
    "sweeps={}"
   ]
  },
  {
   "cell_type": "code",
   "execution_count": null,
   "metadata": {},
   "outputs": [],
   "source": [
    "def setup_sweep():\n",
    "    for name,v in type_variables.items():\n",
    "        sweeps[name] =[ variables[name] ]\n",
    "        \n",
    "        sweeps[name].insert(0, variables[name]*0.975  )\n",
    "        sweeps[name].insert(0, variables[name]*0.95  )\n",
    "        sweeps[name].insert(0, variables[name]*0.9  )\n",
    "        sweeps[name].insert(0, variables[name]*0.85  )\n",
    "        sweeps[name].insert(0, variables[name]*0.8  )\n",
    "        \n",
    "        sweeps[name].append(variables[name]*1.025  )\n",
    "        sweeps[name].append(variables[name]*1.05  )\n",
    "        sweeps[name].append(variables[name]*1.1  )\n",
    "        sweeps[name].append(variables[name]*1.15  )\n",
    "        sweeps[name].append(variables[name]*1.2  )\n",
    "            \n",
    "        sweeps[name] = sorted(list(set(sweeps[name])))\n",
    "        for n,x in enumerate(sweeps[name]):\n",
    "            if type_variables[name]==int:\n",
    "                x = str(x)\n",
    "            else:\n",
    "                x = f\"{x:.4e}\"\n",
    "            if '00000' in x:\n",
    "                x=re.sub(r\"00000\\d+\",'',x)\n",
    "            elif '99999' in x:\n",
    "                x=re.sub(r\"99999\\d+\",'9',x)\n",
    "            sweeps[name][n]=x\n"
   ]
  },
  {
   "cell_type": "code",
   "execution_count": null,
   "metadata": {},
   "outputs": [],
   "source": [
    "def compress_vars(var,sweeps):\n",
    "    ret=''\n",
    "    for k,v in var.items():\n",
    "        ret += f\" {k}={v}\"\n",
    "    for k,v in sweeps.items():\n",
    "        ret += f\" SWEEP_{k}=\"\n",
    "        for vv in v:\n",
    "            ret+=f\"{vv},\"\n",
    "    return ret"
   ]
  },
  {
   "cell_type": "code",
   "execution_count": null,
   "metadata": {},
   "outputs": [],
   "source": [
    "def run_remote(var, sweeps):\n",
    "    server = \"brian@james.cs.unca.edu\"\n",
    "    cmdpath=\"/home/brian/research/devils_dftd_modeling/Parameter_Sweeps_ssh/\"\n",
    "    cmd = \"run_parameter_sweep.py\"\n",
    "    full_cmd = f\"ssh {server} \\\"{cmdpath}{cmd} {compress_vars(var,sweeps)}\\\" \"\n",
    "    print(full_cmd)\n",
    "    p=subprocess.run(full_cmd, shell=True, capture_output=True)\n",
    "    print(p.stdout.decode())\n",
    "    print(p.stderr.decode())\n"
   ]
  },
  {
   "cell_type": "code",
   "execution_count": null,
   "metadata": {},
   "outputs": [],
   "source": [
    "# def make_filename(variables):\n",
    "#     cmdpath=\"/home/brian/research/devils_dftd_modeling/Parameter_Sweeps_ssh/\"\n",
    "#     ret = cmdpath+'/ps-'\n",
    "#     for k in sorted(variables.keys()):\n",
    "#         if k in type_variables and type_variables[k]==int:\n",
    "#             x = str(variables[k])\n",
    "#         else:\n",
    "#             x = f\"{variables[k]:.4e}\"\n",
    "#         ret+=f\"{x},\"\n",
    "#     return ret\n",
    "def make_filename(variables):\n",
    "    cmdpath=\"/home/brian/research/devils_dftd_modeling/Parameter_Sweeps_ssh/\"\n",
    "    ret = cmdpath+'/ps-'\n",
    "    for k in sorted(variables.keys()):\n",
    "        v = float(variables[k])\n",
    "        x = f\"{v:.4e}\"\n",
    "        ret+=f\"{x},\"\n",
    "    return ret\n"
   ]
  },
  {
   "cell_type": "code",
   "execution_count": null,
   "metadata": {},
   "outputs": [],
   "source": [
    "def get_mean_std(var):\n",
    "    f = make_filename(var)\n",
    "    if f in mean_std_db:\n",
    "        return mean_std_db[f]\n",
    "    \n",
    "    server = \"brian@james.cs.unca.edu\"\n",
    "    cmdpath=\"/home/brian/research/devils_dftd_modeling/Parameter_Sweeps_ssh/\"\n",
    "    full_cmd = f\"ssh {server} \\\"cat {f}.m\\\" \"\n",
    "    #print(full_cmd)\n",
    "    time.sleep(0.1)\n",
    "    p=subprocess.run(full_cmd, shell=True, capture_output=True)\n",
    "    try:\n",
    "        resp = p.stdout.decode()\n",
    "        (m,s) = resp.split(\",\",2)\n",
    "        mean_std_db[f] = (float(m),float(s))\n",
    "        return (float(m),float(s))\n",
    "    except Exception as e:\n",
    "        time.sleep(0.2)\n",
    "        #print(f\"{full_cmd}: Caught e={e}\")\n",
    "        #print(p.stdout.decode())\n",
    "        #print(p.stderr.decode())\n",
    "        raise e\n"
   ]
  },
  {
   "cell_type": "code",
   "execution_count": null,
   "metadata": {},
   "outputs": [],
   "source": [
    "\n",
    "def plot_eresult(eresults): \n",
    "    import matplotlib.pyplot as plt\n",
    "    import numpy as np\n",
    "    from mpl_toolkits.axes_grid.inset_locator import (inset_axes, InsetPosition,mark_inset)\n",
    "    fig, ax1 = plt.subplots(figsize=[12, 6])\n",
    "\n",
    "    plt.title(\"Tasmanian Devil Population with DFTD: Observed vs. Simulated\", fontsize=18)\n",
    "    ax1.set_xlabel(f\"Time (months) since {dates[0]}\", fontsize=16)\n",
    "    ax1.set_ylabel(\"Population of Tasmanian Devils\", fontsize=16)\n",
    "    ax1.plot(eresults[0]['time'], obs[0][0], '--', color='black', label='Observed Total')\n",
    "    ax1.plot(eresults[0]['time'], eresults[0]['Devils'], color='blue', label='Simulated Total')\n",
    "    ax1.plot(eresults[0]['time'], eresults[0]['Juvenile'], color='purple', alpha=.6, label='Juvenile')\n",
    "    ax1.plot(eresults[0]['time'], eresults[0]['Susceptible'], color='green', alpha=.6, label='Susceptible')\n",
    "    ax1.plot(eresults[0]['time'], eresults[0]['Exposed'], color='magenta', alpha=.6, label='Exposed')\n",
    "    ax1.plot(eresults[0]['time'], eresults[0]['Infected'], color='red', alpha=.6, label='Infected')\n",
    "    ax1.plot(eresults[0]['time'], eresults[0]['Diseased'], color='cyan', alpha=.6, label='Diseased')\n",
    "    ax1.plot([variables['DFTD_start'], variables['DFTD_start']], [-3000, carry_cap], '--k', alpha=0.4)\n",
    "    ax1.text(variables['DFTD_start']-7, 5000, \"DFTD Start\", rotation=\"vertical\", color=\"black\", fontsize=14)\n",
    "    ax1.text(variables['DFTD_start']-7, 24000, dates[variables['DFTD_start']], rotation=\"vertical\", color=\"black\", fontsize=14)\n",
    "    #ax1.set_xlim([0, result[0]['time'][-1]])\n",
    "    #ax1.set_ylim([-3000, max(devil_pop)*1.25])\n",
    "    ax1.tick_params(axis='x', labelsize=12)\n",
    "    ax1.set_yticks([20000,40000,60000])\n",
    "    ax1.tick_params(axis='y',labelsize=12, labelrotation=90)\n",
    "    ax1.legend(loc='upper right', fontsize=16)\n",
    "    ax1.set_ylim([0, carry_cap])\n",
    "    ax1.set_xlim(0,eresults[0]['time'][-1])\n",
    "    for n,r in enumerate(eresults):\n",
    "        if n==0: continue\n",
    "        ax1.plot(eresults[n]['time'], eresults[n]['Devils'],'b', alpha=0.025)\n",
    "        ax1.plot(eresults[n]['time'], eresults[n]['Juvenile'], color='purple', alpha=0.025, label='Juvenile')\n",
    "        ax1.plot(eresults[n]['time'], eresults[n]['Susceptible'], color='green', alpha=0.025, label='Susceptible')\n",
    "        ax1.plot(eresults[n]['time'], eresults[n]['Exposed'], color='magenta', alpha=0.025, label='Exposed')\n",
    "        ax1.plot(eresults[n]['time'], eresults[n]['Infected'], color='red', alpha=0.025, label='Infected')\n",
    "        ax1.plot(eresults[n]['time'], eresults[n]['Diseased'], color='cyan', alpha=0.025, label='Diseased')\n",
    "\n",
    "#     ax2 = plt.axes([0,0,1,1])\n",
    "#     # Manually set the position and relative size of the inset axes within ax1\n",
    "#     ip = InsetPosition(ax1, [0.25,0.55,0.175,0.25])\n",
    "#     ax2.set_axes_locator(ip)\n",
    "#     # Mark the region corresponding to the inset axes on ax1 and draw lines\n",
    "#     # in grey linking the two axes.\n",
    "#     mark_inset(ax1, ax2, loc1=4, loc2=3, fc=\"none\", ec='0.5')\n",
    "\n",
    "#     # plot in the inset\n",
    "#     inst=155\n",
    "#     ined=inst+31\n",
    "#     #ax2.plot(range(len(devil_pop))[inst:ined], devil_pop[inst:ined], '--k', label='Observed Total')\n",
    "#     #ax2.plot(eresults[0]['time'][inst:ined], eresults[0]['Devils'][inst:ined],'b', label=\"Simulation\")\n",
    "#     ax2.plot(eresults[0]['time'], eresults[0]['Juvenile'], color='purple', alpha=.6, label='Juvenile')\n",
    "#     ax2.plot(eresults[0]['time'], eresults[0]['Susceptible'], color='green', alpha=.6, label='Susceptible')\n",
    "#     ax2.plot(eresults[0]['time'], eresults[0]['Exposed'], color='magenta', alpha=.6, label='Exposed')\n",
    "#     ax2.plot(eresults[0]['time'], eresults[0]['Infected'], color='red', alpha=.6, label='Infected')\n",
    "#     ax2.plot(eresults[0]['time'], eresults[0]['Diseased'], color='cyan', alpha=.6, label='Diseased')\n",
    "#     for n,r in enumerate(eresults):\n",
    "#         if n==0: continue\n",
    "#         #ax2.plot(eresults[n]['time'][inst:ined], eresults[n]['Devils'][inst:ined],'b', alpha=0.05)\n",
    "#         ax2.plot(eresults[n]['time'], eresults[n]['Devils'],'b', alpha=0.03)\n",
    "#         ax2.plot(eresults[n]['time'], eresults[n]['Juvenile'], color='purple', alpha=0.025, label='Juvenile')\n",
    "#         ax2.plot(eresults[n]['time'], eresults[n]['Susceptible'], color='green', alpha=0.025, label='Susceptible')\n",
    "#         ax2.plot(eresults[n]['time'], eresults[n]['Exposed'], color='magenta', alpha=0.025, label='Exposed')\n",
    "#         ax2.plot(eresults[n]['time'], eresults[n]['Infected'], color='red', alpha=0.025, label='Infected')\n",
    "#         ax2.plot(eresults[n]['time'], eresults[n]['Diseased'], color='cyan', alpha=0.025, label='Diseased')\n",
    "        \n",
    "#     ax2.set_xlim(inst,ined-1)\n",
    "#     ax2.set_ylim(2000,7000)\n",
    "#     #ax2.set_yticks([49000,54000])\n",
    "#     ax2.tick_params(axis='y', labelrotation=90)\n",
    "\n",
    "    #plt.tight_layout()\n",
    "    #plt.savefig(\"DevilsDFTD_Data_DFTDsim.pdf\")\n",
    "    print(variables)\n",
    "    \n",
    "    def calculate_distance(eresults):\n",
    "        '''return mean/stddev of L2 norm distance'''\n",
    "        global obs\n",
    "        dists = np.zeros(len(eresults))\n",
    "        for n,r in enumerate(eresults):\n",
    "            dists[n] = np.linalg.norm(r['Devils']-obs[0][0],2)\n",
    "        return np.average(dists), np.std(dists)\n",
    "\n",
    "    dist_l2 = calculate_distance(eresults)\n",
    "    print(f\"L2 = {dist_l2[0]:.2f} +/-{dist_l2[1]:.2f}\")\n",
    "\n"
   ]
  },
  {
   "cell_type": "code",
   "execution_count": null,
   "metadata": {},
   "outputs": [],
   "source": [
    "def plot_sweep(name):\n",
    "    xvals = numpy.zeros(len(sweeps[name]))\n",
    "    mvals = numpy.zeros(len(sweeps[name]))\n",
    "    svals = numpy.zeros(len(sweeps[name]))\n",
    "    for n,v in enumerate(sweeps[name]):\n",
    "        c = variables.copy()\n",
    "        c[name] = type_variables[name](v)\n",
    "        keepgoing=True\n",
    "        while keepgoing:\n",
    "            try:\n",
    "                (m,s) = get_mean_std(c)\n",
    "                xvals[n]=c[name]\n",
    "                mvals[n]=m\n",
    "                svals[n]=s\n",
    "                keepgoing=False\n",
    "            except Exception as e:\n",
    "                print(f\"caught e={e} while name={name} \")\n",
    "                time.sleep(1)\n",
    "    \n",
    "    plt.figure(figsize=[12, 6])\n",
    "    plt.errorbar(xvals,mvals,yerr=svals, capsize=10)\n",
    "    plt.plot([variables[name], variables[name]],[0, max(mvals)],'--')\n",
    "    plt.xlabel(name, fontsize=12)\n",
    "    plt.ylabel('Error', fontsize=12)"
   ]
  },
  {
   "cell_type": "code",
   "execution_count": null,
   "metadata": {},
   "outputs": [],
   "source": []
  },
  {
   "cell_type": "code",
   "execution_count": null,
   "metadata": {},
   "outputs": [],
   "source": [
    "def plot_sweep2(name,nr,nc,np):\n",
    "    global pltcnt\n",
    "    xvals = numpy.zeros(len(sweeps[name]))\n",
    "    mvals = numpy.zeros(len(sweeps[name]))\n",
    "    svals = numpy.zeros(len(sweeps[name]))\n",
    "    for n,v in enumerate(sweeps[name]):\n",
    "        c = variables.copy()\n",
    "        c[name] = type_variables[name](v)\n",
    "        try:\n",
    "            (m,s) = get_mean_std(c)\n",
    "            xvals[n]=c[name]\n",
    "            mvals[n]=m\n",
    "            svals[n]=s\n",
    "        except Exception as e:\n",
    "            print(f\"caught e={e} while name={name} \")\n",
    "    \n",
    "    plt.subplot(nr,nc,np)\n",
    "    plt.errorbar(xvals,mvals,yerr=svals, capsize=10)\n",
    "    plt.plot([variables[name], variables[name]],[40000, 100000],'--')\n",
    "    plt.xlabel(name, fontsize=12)\n",
    "    plt.ylabel('Error', fontsize=12)\n"
   ]
  },
  {
   "cell_type": "code",
   "execution_count": null,
   "metadata": {},
   "outputs": [],
   "source": []
  },
  {
   "cell_type": "markdown",
   "metadata": {},
   "source": [
    "# Run Parameter Sweep"
   ]
  },
  {
   "cell_type": "code",
   "execution_count": null,
   "metadata": {},
   "outputs": [],
   "source": [
    "# orig values\n",
    "# variables = {\n",
    "#     \"juvenile_concentration\": 0.467,\n",
    "#     \"infected_concentration\": 5e-5,\n",
    "#     \"birth_rate\": 0.055,\n",
    "#     \"maturity_rate\": 0.04267,\n",
    "#     \"infection_rate_infected\": 2e-05,\n",
    "#     \"infection_rate_diseased\": 3e-05,\n",
    "#     \"incubation\": 22.6,\n",
    "#     \"progression\": 12,\n",
    "#     \"death_rate_juvenile\": 0.006,\n",
    "#     \"death_rate_susceptible\": 0.02335,\n",
    "#     \"death_rate_over_population\": 2.3e-7,\n",
    "#     \"death_rate_infected\": 0.03,\n",
    "#     \"death_rate_diseased\": 0.048,\n",
    "#     \"DFTD_start\": 40\n",
    "# }\n",
    "\n",
    "# values from SCIOPE - changed base params\n",
    "# variables = {\n",
    "#     'DFTD_start': 115, \n",
    "#     'birth_rate': 0.05368770371252766, \n",
    "#     'death_rate_diseased': 0.29134996217062514, \n",
    "#     'death_rate_infected': 0.020695079156445997, \n",
    "#     'death_rate_juvenile': 0.0050507985678769326, \n",
    "#     'death_rate_over_population': 2.4123665653215824e-07, \n",
    "#     'death_rate_susceptible': 0.01874946791275728, \n",
    "#     'incubation': 10.99687624550675, \n",
    "#     'infection_rate_diseased': 4.978182435648742e-05, \n",
    "#     'infection_rate_infected': 1.4809664001475363e-05, \n",
    "#     'juvenile_concentration': 0.49534348836011316, \n",
    "#     'maturity_rate': 0.04167,#0.03252945608226684, \n",
    "#     'progression': 10.746230534983676\n",
    "# }\n",
    "\n",
    "\n",
    "variables = {\n",
    "    'juvenile_concentration': 0.49534348836011316, \n",
    "    'birth_rate': 0.053625,#0.055, \n",
    "    'maturity_rate': 0.04167,\n",
    "    'death_rate_juvenile': 0.006, \n",
    "    'death_rate_over_population': 2.3e-07, \n",
    "    'death_rate_susceptible': 0.022766,#0.02335, \n",
    "    'incubation': 10.25,#10, #10.99687624550675, \n",
    "    'progression': 10.74,#11.015,#10.746230534983676,\n",
    "    'infection_rate_diseased': 3.84e-05,#3.2e-05, #3.4e-05 #3e-05, #4.978182435648742e-05, \n",
    "    'infection_rate_infected': 1e-05,#1.0698e-05,#1.1261e-05,#1.155e-05,#1.1e-05, #1.2e-05 #1e-5, #1.4809664001475363e-05, \n",
    "    'death_rate_diseased': 0.29017,#0.25232,#0.22938,#0.23526,#0.27678,#0.29134996217062514, \n",
    "    'death_rate_infected': 0.022609,#0.01966,#0.020695079156445997, \n",
    "    'DFTD_start': 100,#97,#95, #105, \n",
    "}\n",
    "\n",
    "variables_orig = variables.copy()\n"
   ]
  },
  {
   "cell_type": "code",
   "execution_count": null,
   "metadata": {},
   "outputs": [],
   "source": [
    "setup_sweep()"
   ]
  },
  {
   "cell_type": "code",
   "execution_count": null,
   "metadata": {},
   "outputs": [],
   "source": [
    "#sweeps['DFTD_start']=['1.0358e+02', '1.0933e+02', '1.1221e+02', '1.1508e+02', '1.2084e+02', '1.2659e+02', '1.3235e+02', '1.3522e+02']\n",
    "sweeps['DFTD_start']=['85','90','92','94','96','98','100','102','104','106','108','110','115']"
   ]
  },
  {
   "cell_type": "code",
   "execution_count": null,
   "metadata": {},
   "outputs": [],
   "source": [
    "print(sweeps)"
   ]
  },
  {
   "cell_type": "code",
   "execution_count": null,
   "metadata": {},
   "outputs": [],
   "source": [
    "variables"
   ]
  },
  {
   "cell_type": "code",
   "execution_count": null,
   "metadata": {},
   "outputs": [],
   "source": [
    "%time run_remote(var=variables, sweeps=sweeps)"
   ]
  },
  {
   "cell_type": "code",
   "execution_count": null,
   "metadata": {
    "scrolled": false
   },
   "outputs": [],
   "source": [
    "%%time\n",
    "for k in sweeps.keys():\n",
    "    plot_sweep(k)\n"
   ]
  },
  {
   "cell_type": "code",
   "execution_count": null,
   "metadata": {},
   "outputs": [],
   "source": []
  },
  {
   "cell_type": "code",
   "execution_count": null,
   "metadata": {},
   "outputs": [],
   "source": []
  },
  {
   "cell_type": "markdown",
   "metadata": {},
   "source": [
    "# Publication quality plots"
   ]
  },
  {
   "cell_type": "code",
   "execution_count": null,
   "metadata": {},
   "outputs": [],
   "source": [
    "print(\"Parameter                sweep value     current value\")\n",
    "print(\"---------                -----------     -------------\")\n",
    "for name in ['infection_rate_infected','infection_rate_diseased',\n",
    "             'incubation','progression','death_rate_infected',\n",
    "             'death_rate_diseased','DFTD_start']:\n",
    "    xvals = numpy.zeros(len(sweeps[name]))\n",
    "    mvals = numpy.zeros(len(sweeps[name]))\n",
    "    svals = numpy.zeros(len(sweeps[name]))\n",
    "    for n,v in enumerate(sweeps[name]):\n",
    "        c = variables.copy()\n",
    "        c[name] = type_variables[name](v)\n",
    "        try:\n",
    "            (m,s) = get_mean_std(c)\n",
    "            xvals[n]=c[name]\n",
    "            mvals[n]=m\n",
    "            svals[n]=s\n",
    "        except Exception as e:\n",
    "            print(f\"caught e={e} while name={name} \")\n",
    "    minx=math.inf\n",
    "    for n in range(len(xvals)):\n",
    "        if mvals[n] < minx:\n",
    "            minx=mvals[n]\n",
    "            minn=n\n",
    "    #print(n,minx,xvals[minn],mvals[minn])\n",
    "    print(f\"{name} {' '*(23-len(name))} {xvals[minn]} {' '*(15-len(str(xvals[minn])))} {variables[name]}\")\n"
   ]
  },
  {
   "cell_type": "code",
   "execution_count": null,
   "metadata": {},
   "outputs": [],
   "source": [
    "1/variables['death_rate_diseased'] + variables['incubation'] + variables['progression']"
   ]
  },
  {
   "cell_type": "code",
   "execution_count": null,
   "metadata": {
    "scrolled": false
   },
   "outputs": [],
   "source": [
    "plt.figure(figsize=[15, 12])\n",
    "pltcnt=1\n",
    "plot_sweep2('infection_rate_infected',3, 2, pltcnt);pltcnt+=1\n",
    "plot_sweep2('infection_rate_diseased',3, 2, pltcnt);pltcnt+=1\n",
    "plot_sweep2('incubation',3, 2, pltcnt);pltcnt+=1\n",
    "plot_sweep2('progression',3, 2, pltcnt);pltcnt+=1\n",
    "plot_sweep2('death_rate_infected',3, 2, pltcnt);pltcnt+=1\n",
    "plot_sweep2('death_rate_diseased',3, 2, pltcnt);pltcnt+=1\n"
   ]
  },
  {
   "cell_type": "code",
   "execution_count": null,
   "metadata": {},
   "outputs": [],
   "source": [
    "plt.figure(figsize=[15, 6])\n",
    "plot_sweep2('DFTD_start',1,1,1)"
   ]
  },
  {
   "cell_type": "code",
   "execution_count": null,
   "metadata": {},
   "outputs": [],
   "source": [
    "plt.figure(figsize=[12, 12])\n",
    "pltcnt=1\n",
    "plot_sweep2('birth_rate',3, 2, pltcnt);pltcnt+=1\n",
    "plot_sweep2('maturity_rate',3, 2, pltcnt);pltcnt+=1\n",
    "plot_sweep2('death_rate_juvenile',3, 2, pltcnt);pltcnt+=1\n",
    "plot_sweep2('death_rate_susceptible',3, 2, pltcnt);pltcnt+=1\n",
    "plot_sweep2('death_rate_over_population',3, 2, pltcnt);pltcnt+=1\n",
    "plot_sweep2('juvenile_concentration',3, 2, pltcnt);pltcnt+=1\n",
    "\n"
   ]
  },
  {
   "cell_type": "code",
   "execution_count": null,
   "metadata": {},
   "outputs": [],
   "source": [
    "print(\"Parameter                sweep value     current value\")\n",
    "print(\"---------                -----------     -------------\")\n",
    "for name in ['birth_rate','maturity_rate','death_rate_juvenile','death_rate_susceptible',\n",
    "             'death_rate_over_population','juvenile_concentration']:\n",
    "    xvals = numpy.zeros(len(sweeps[name]))\n",
    "    mvals = numpy.zeros(len(sweeps[name]))\n",
    "    svals = numpy.zeros(len(sweeps[name]))\n",
    "    for n,v in enumerate(sweeps[name]):\n",
    "        c = variables.copy()\n",
    "        c[name] = type_variables[name](v)\n",
    "        try:\n",
    "            (m,s) = get_mean_std(c)\n",
    "            xvals[n]=c[name]\n",
    "            mvals[n]=m\n",
    "            svals[n]=s\n",
    "        except Exception as e:\n",
    "            print(f\"caught e={e} while name={name} \")\n",
    "    minx=math.inf\n",
    "    for n in range(len(xvals)):\n",
    "        if mvals[n] < minx:\n",
    "            minx=mvals[n]\n",
    "            minn=n\n",
    "    #print(n,minx,xvals[minn],mvals[minn])\n",
    "    print(f\"{name} {' '*(23-len(name))} {xvals[minn]} {' '*(15-len(str(xvals[minn])))} {variables[name]}\")\n"
   ]
  },
  {
   "cell_type": "code",
   "execution_count": null,
   "metadata": {},
   "outputs": [],
   "source": []
  },
  {
   "cell_type": "code",
   "execution_count": null,
   "metadata": {},
   "outputs": [],
   "source": []
  },
  {
   "cell_type": "code",
   "execution_count": null,
   "metadata": {},
   "outputs": [],
   "source": [
    "from Parameter_Sweeps_ssh.DevilsDFTD2StageInfection import DevilsPreVaccination"
   ]
  },
  {
   "cell_type": "code",
   "execution_count": null,
   "metadata": {},
   "outputs": [],
   "source": [
    "model = DevilsPreVaccination(values=variables)\n",
    "%time eresults = model.run(number_of_trajectories=100, verbose=True)\n",
    "plot_eresult(eresults)"
   ]
  },
  {
   "cell_type": "code",
   "execution_count": null,
   "metadata": {},
   "outputs": [],
   "source": [
    "#model10000 = DevilsPreVaccination(values=variables)\n",
    "#%time eresults10000 = model10000.run(number_of_trajectories=1000, verbose=True)\n"
   ]
  },
  {
   "cell_type": "code",
   "execution_count": null,
   "metadata": {},
   "outputs": [],
   "source": []
  },
  {
   "cell_type": "code",
   "execution_count": null,
   "metadata": {},
   "outputs": [],
   "source": []
  },
  {
   "cell_type": "code",
   "execution_count": null,
   "metadata": {},
   "outputs": [],
   "source": [
    "model2 = DevilsPreVaccination(values=variables)\n",
    "%time eresults2 = model2.run(number_of_trajectories=100, verbose=True, with_DFTD=False)\n",
    "plot_eresult(eresults2)"
   ]
  },
  {
   "cell_type": "code",
   "execution_count": null,
   "metadata": {},
   "outputs": [],
   "source": [
    "final_devil_pop = eresults2[0]['Devils'][-1]\n",
    "\n",
    "print(f\"Number of Devils {final_devil_pop} at simulation end,\",\n",
    "      f\"{final_devil_pop/carry_cap*100:.1f}% of target carrying capacity\")"
   ]
  },
  {
   "cell_type": "code",
   "execution_count": null,
   "metadata": {},
   "outputs": [],
   "source": [
    "final_devil_pops = []\n",
    "for n,r in enumerate(eresults2):\n",
    "    final_devil_pops.append(r['Devils'][-1])\n",
    "    \n",
    "print(f\"Number of Devils ={np.average(final_devil_pops):.0f} +/-{np.std(final_devil_pops):.0f} at simulation end,\",\n",
    "      f\"{np.average(final_devil_pops)/carry_cap*100:.1f}% of target carrying capacity\")\n",
    "    "
   ]
  },
  {
   "cell_type": "code",
   "execution_count": null,
   "metadata": {},
   "outputs": [],
   "source": []
  },
  {
   "cell_type": "code",
   "execution_count": null,
   "metadata": {},
   "outputs": [],
   "source": []
  },
  {
   "cell_type": "code",
   "execution_count": null,
   "metadata": {},
   "outputs": [],
   "source": []
  },
  {
   "cell_type": "code",
   "execution_count": null,
   "metadata": {},
   "outputs": [],
   "source": [
    "raise Exception(\"Don't run-all past here\")"
   ]
  },
  {
   "cell_type": "code",
   "execution_count": null,
   "metadata": {},
   "outputs": [],
   "source": [
    "import pickle"
   ]
  },
  {
   "cell_type": "code",
   "execution_count": null,
   "metadata": {},
   "outputs": [],
   "source": [
    "# with open('Fig3_Fig4-data.p','wb+') as fd:\n",
    "#     pickle.dump({'variables':variables,\n",
    "#                  'sweeps':sweeps,\n",
    "#                  'eresults':eresults,\n",
    "#                  'eresults2':eresults2,\n",
    "#                  'mean_std_db':mean_std_db,\n",
    "#                 },fd)"
   ]
  },
  {
   "cell_type": "code",
   "execution_count": null,
   "metadata": {},
   "outputs": [],
   "source": []
  }
 ],
 "metadata": {
  "kernelspec": {
   "display_name": "Python 3",
   "language": "python",
   "name": "python3"
  },
  "language_info": {
   "codemirror_mode": {
    "name": "ipython",
    "version": 3
   },
   "file_extension": ".py",
   "mimetype": "text/x-python",
   "name": "python",
   "nbconvert_exporter": "python",
   "pygments_lexer": "ipython3",
   "version": "3.8.10"
  }
 },
 "nbformat": 4,
 "nbformat_minor": 4
}
