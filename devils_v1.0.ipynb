{
 "cells": [
  {
   "cell_type": "code",
   "execution_count": 1,
   "metadata": {},
   "outputs": [],
   "source": [
    "import numpy as np\n",
    "import gillespy2\n",
    "from gillespy2 import Model, Species, Parameter, Reaction, Event, \\\n",
    "                      EventTrigger, EventAssignment\n",
    "from gillespy2 import ODECSolver, ODESolver\n",
    "\n",
    "import matplotlib.pyplot as plt"
   ]
  },
  {
   "cell_type": "markdown",
   "metadata": {},
   "source": [
    "# devils_v1.0\n",
    "- Need to validate timespan"
   ]
  },
  {
   "cell_type": "code",
   "execution_count": 2,
   "metadata": {},
   "outputs": [],
   "source": [
    "class Devilsv101(Model):\n",
    "    def __init__(self, parameter_values=None):\n",
    "        Model.__init__(self, name=\"devils_v1.0\")\n",
    "        self.volume = 1\n",
    "\n",
    "        # Parameters\n",
    "        self.add_parameter(Parameter(name=\"r\", expression=\"1.2\"))\n",
    "#         self.add_parameter(Parameter(name=\"K\", expression=\"50000\"))\n",
    "        self.add_parameter(Parameter(name=\"ds\", expression=\".0012\"))\n",
    "        self.add_parameter(Parameter(name=\"dI\", expression=\".00\"))\n",
    "        self.add_parameter(Parameter(name=\"L\", expression=\"1.8\"))\n",
    "        # self.add_parameter(Parameter(name=\"sigma\", expression=\"0.5\"))\n",
    "        # self.add_parameter(Parameter(name=\"p\", expression=\"0.6\"))\n",
    "        self.add_parameter(Parameter(name=\"k0\", expression=\".12\"))\n",
    "        # self.add_parameter(Parameter(name=\"vf\", expression=\"1\"))\n",
    "        # self.add_parameter(Parameter(name=\"vt\", expression=\"0\"))\n",
    "\n",
    "        # Variables (initial values adjusted to observed data)\n",
    "        self.add_species(Species(name=\"S\", initial_value=0, mode=\"discrete\"))\n",
    "        self.add_species(Species(name=\"E\", initial_value=0, mode=\"discrete\"))\n",
    "        self.add_species(Species(name=\"I\", initial_value=0, mode=\"discrete\"))\n",
    "        # self.add_species(Species(name=\"W\", initial_value=0, mode=\"discrete\"))\n",
    "#         self.add_species(Species(name=\"R\", initial_value=0, mode=\"discrete\"))\n",
    "        self.add_species(Species(name=\"Devils\", initial_value=0, mode=\"discrete\"))\n",
    "\n",
    "        # Reactions\n",
    "        self.add_reaction(Reaction(name=\"birth\", reactants={}, products={'Devils': 1, 'S': 1}, propensity_function=\"r*(S+E+I)*(1-(S+E+I)/Devils)\"))\n",
    "        self.add_reaction(Reaction(name=\"death_S\", reactants={'Devils': 1, 'S': 1}, products={}, propensity_function=\"ds*S\"))\n",
    "        self.add_reaction(Reaction(name=\"transmission\", reactants={'S': 1}, products={'E': 1}, propensity_function=\"k0*S*I/(S+E+I)\"))\n",
    "        self.add_reaction(Reaction(name=\"death_E\", reactants={'Devils': 1, 'E': 1}, products={}, propensity_function=\"ds*E\"))\n",
    "        self.add_reaction(Reaction(name=\"latency\", reactants={'E': 1}, products={'I': 1}, propensity_function=\"E/L\"))\n",
    "        # self.add_reaction(Reaction(name=\"vaccine_failure\", reactants={'W': 1}, products={'E': 1}, propensity_function=\"k0*sigma*W*I/(S+E+I+W+R)\"))\n",
    "        self.add_reaction(Reaction(name=\"death_I\", reactants={'Devils': 1, 'I': 1}, products={}, propensity_function=\"dI*I\"))\n",
    "        # self.add_reaction(Reaction(name=\"death_W\", reactants={'W': 1}, products={}, propensity_function=\"ds*W\"))\n",
    "#         self.add_reaction(Reaction(name=\"death_R\", reactants={'Devils': 1, 'R': 1}, products={}, propensity_function=\"ds*R\"))\n",
    "\n",
    "        # # Event Triggers\n",
    "        # vaccination_trig = EventTrigger(expression=\"t >= vt+vf\", initial_value=False, persistent=False)\n",
    "\n",
    "        # # Event Assignments\n",
    "        # vaccination_assign_1 = EventAssignment(variable=\"vt\", expression=\"vt+1\")\n",
    "        # vaccination_assign_2 = EventAssignment(variable=\"W\", expression=\"W+(S*p)\")\n",
    "        # vaccination_assign_3 = EventAssignment(variable=\"S\", expression=\"S*(1-p)\")\n",
    "\n",
    "        # # Events\n",
    "        # self.add_event(Event(name=\"vaccination\", trigger=vaccination_trig, assignments=[vaccination_assign_1, vaccination_assign_2, vaccination_assign_3], delay=None, priority=\"0\", use_values_from_trigger_time=True))\n",
    "\n",
    "        # Timespan\n",
    "        self.timespan(np.arange(0, 241, 1)) # month data tspan\n",
    "#         self.timespan(np.arange(0, 21, 1)) # year data tspan"
   ]
  },
  {
   "cell_type": "code",
   "execution_count": 3,
   "metadata": {},
   "outputs": [
    {
     "name": "stdout",
     "output_type": "stream",
     "text": [
      "241\n"
     ]
    }
   ],
   "source": [
    "model = Devilsv101()\n",
    "print(len(model.tspan))"
   ]
  },
  {
   "cell_type": "markdown",
   "metadata": {},
   "source": [
    "# Simulation Parameters"
   ]
  },
  {
   "cell_type": "code",
   "execution_count": 4,
   "metadata": {},
   "outputs": [],
   "source": [
    "def configure_simulation():\n",
    "    solver = ODECSolver(model=model)\n",
    "    kwargs = {\n",
    "        \"solver\":solver,\n",
    "#         \"number_of_trajectories\":100,\n",
    "#         \"seed\":None,\n",
    "#         \"tau_tol\":0.03,\n",
    "#         \"integrator_options\":{'rtol': 0.001, 'atol': 1e-06}\n",
    "    }\n",
    "    return kwargs"
   ]
  },
  {
   "cell_type": "code",
   "execution_count": 5,
   "metadata": {},
   "outputs": [],
   "source": [
    "kwargs = configure_simulation()"
   ]
  },
  {
   "cell_type": "markdown",
   "metadata": {},
   "source": [
    "# Model Inference"
   ]
  },
  {
   "cell_type": "code",
   "execution_count": 6,
   "metadata": {},
   "outputs": [],
   "source": [
    "%load_ext autoreload\n",
    "%autoreload 2\n",
    "\n",
    "from tsfresh.feature_extraction.settings import MinimalFCParameters\n",
    "from sciope.utilities.priors import uniform_prior\n",
    "from sciope.utilities.summarystats import auto_tsfresh\n",
    "from sciope.utilities.distancefunctions import naive_squared\n",
    "from sciope.inference.abc_inference import ABC\n",
    "from sciope.inference.rep_smc_abc import ReplenishmentSMCABC\n",
    "from sklearn.metrics import mean_absolute_error\n",
    "import dask\n",
    "from dask.distributed import Client"
   ]
  },
  {
   "cell_type": "markdown",
   "metadata": {},
   "source": [
    "## Generate some fixed(observed) data based on default parameters of the model"
   ]
  },
  {
   "cell_type": "code",
   "execution_count": 7,
   "metadata": {
    "scrolled": true
   },
   "outputs": [],
   "source": [
    "import pandas as pd\n",
    "\n",
    "pop_data = pd.read_csv('../month_data/total_devil_population_data.csv')\n",
    "devil_pop = np.array(pop_data['Population'].iloc[:].values)\n",
    "init_devils_pop = devil_pop[0]\n",
    "model.listOfSpecies['Devils'].initial_value = init_devils_pop\n",
    "# model.listOfParameters['K'].initial_value = init_devils_pop\n",
    "\n",
    "dfdt_data = pd.read_csv('../month_data/DFDT_occupancy_data.csv')\n",
    "dfdt_concentration = np.array(dfdt_data['Concentration'].iloc[:].values)\n",
    "dfdt_pop = devil_pop * dfdt_concentration\n",
    "init_dfdt_pop = dfdt_pop[0]\n",
    "model.listOfSpecies['I'].initial_value = init_dfdt_pop\n",
    "\n",
    "r_pop = init_devils_pop - init_dfdt_pop\n",
    "init_e_pop = 0\n",
    "init_s_pop = r_pop - init_e_pop\n",
    "model.listOfSpecies['S'].initial_value = init_s_pop\n",
    "model.listOfSpecies['E'].initial_value = init_e_pop\n",
    "\n",
    "obs = np.vstack([devil_pop, dfdt_pop]).reshape(1, 2, -1)\n",
    "# print(obs)"
   ]
  },
  {
   "cell_type": "code",
   "execution_count": 8,
   "metadata": {},
   "outputs": [
    {
     "data": {
      "text/plain": [
       "[<matplotlib.lines.Line2D at 0x7fe2e3417640>]"
      ]
     },
     "execution_count": 8,
     "metadata": {},
     "output_type": "execute_result"
    },
    {
     "data": {
      "image/png": "[encoded data removed]",
      "text/plain": [
       "<Figure size 432x288 with 1 Axes>"
      ]
     },
     "metadata": {
      "needs_background": "light"
     },
     "output_type": "display_data"
    }
   ],
   "source": [
    "plt.plot(model.tspan, devil_pop)\n",
    "plt.plot(model.tspan, dfdt_pop)"
   ]
  },
  {
   "cell_type": "code",
   "execution_count": 9,
   "metadata": {},
   "outputs": [
    {
     "data": {
      "text/html": [
       "        <script type=\"text/javascript\">\n",
       "        window.PlotlyConfig = {MathJaxConfig: 'local'};\n",
       "        if (window.MathJax) {MathJax.Hub.Config({SVG: {font: \"STIX-Web\"}});}\n",
       "        if (typeof require !== 'undefined') {\n",
       "        require.undef(\"plotly\");\n",
       "        requirejs.config({\n",
       "            paths: {\n",
       "                'plotly': ['https://cdn.plot.ly/plotly-2.2.0.min']\n",
       "            }\n",
       "        });\n",
       "        require(['plotly'], function(Plotly) {\n",
       "            window._Plotly = Plotly;\n",
       "        });\n",
       "        }\n",
       "        </script>\n",
       "        "
      ]
     },
     "metadata": {},
     "output_type": "display_data"
    },
    {
     "data": {
      "application/vnd.plotly.v1+json": {
       "config": {
        "linkText": "Export to plot.ly",
        "plotlyServerURL": "https://plot.ly",
        "showLink": false
       },
       "data": [
        {
         "legendgroup": "I",
         "line": {
          "color": "#2ca02c"
         },
         "mode": "lines",
         "name": "I",
         "type": "scatter",
         "x": [
          0,
          1,
          2,
          3,
          4,
          5,
          6,
          7,
          8,
          9,
          10,
          11,
          12,
          13,
          14,
          15,
          16,
          17,
          18,
          19,
          20,
          21,
          22,
          23,
          24,
          25,
          26,
          27,
          28,
          29,
          30,
          31,
          32,
          33,
          34,
          35,
          36,
          37,
          38,
          39,
          40,
          41,
          42,
          43,
          44,
          45,
          46,
          47,
          48,
          49,
          50,
          51,
          52,
          53,
          54,
          55,
          56,
          57,
          58,
          59,
          60,
          61,
          62,
          63,
          64,
          65,
          66,
          67,
          68,
          69,
          70,
          71,
          72,
          73,
          74,
          75,
          76,
          77,
          78,
          79,
          80,
          81,
          82,
          83,
          84,
          85,
          86,
          87,
          88,
          89,
          90,
          91,
          92,
          93,
          94,
          95,
          96,
          97,
          98,
          99,
          100,
          101,
          102,
          103,
          104,
          105,
          106,
          107,
          108,
          109,
          110,
          111,
          112,
          113,
          114,
          115,
          116,
          117,
          118,
          119,
          120,
          121,
          122,
          123,
          124,
          125,
          126,
          127,
          128,
          129,
          130,
          131,
          132,
          133,
          134,
          135,
          136,
          137,
          138,
          139,
          140,
          141,
          142,
          143,
          144,
          145,
          146,
          147,
          148,
          149,
          150,
          151,
          152,
          153,
          154,
          155,
          156,
          157,
          158,
          159,
          160,
          161,
          162,
          163,
          164,
          165,
          166,
          167,
          168,
          169,
          170,
          171,
          172,
          173,
          174,
          175,
          176,
          177,
          178,
          179,
          180,
          181,
          182,
          183,
          184,
          185,
          186,
          187,
          188,
          189,
          190,
          191,
          192,
          193,
          194,
          195,
          196,
          197,
          198,
          199,
          200,
          201,
          202,
          203,
          204,
          205,
          206,
          207,
          208,
          209,
          210,
          211,
          212,
          213,
          214,
          215,
          216,
          217,
          218,
          219,
          220,
          221,
          222,
          223,
          224,
          225,
          226,
          227,
          228,
          229,
          230,
          231,
          232,
          233,
          234,
          235,
          236,
          237,
          238,
          239,
          240
         ],
         "y": [
          6699.0798229572,
          6861.609968125487,
          7256.1607987296065,
          7795.67964852693,
          8435.581768401753,
          9153.28722716903,
          9937.521099442432,
          10782.695180750357,
          11685.935598957733,
          12645.492064453892,
          13659.870682949324,
          14727.35054855794,
          15845.707339938719,
          17012.05441246021,
          18222.757348845003,
          19473.400135856034,
          20758.79133472891,
          22073.00934139582,
          23409.477771250542,
          24761.074113295224,
          26120.263879629816,
          27479.255294563503,
          28830.17285452755,
          30165.232020304837,
          31476.917847555636,
          32758.150788984683,
          34002.43736647256,
          35203.99468931125,
          36357.847846859295,
          37459.89409081308,
          38506.9373921438,
          39496.68727906185,
          40427.733098769146,
          41299.490138408786,
          42112.129882978,
          42866.49551444784,
          43564.00681481082,
          44206.56428555721,
          44796.45061110847,
          45336.23946987501,
          45828.70908204673,
          46276.76807544406,
          46683.38045544618,
          47051.51694256893,
          47384.10362587532,
          47683.984472257056,
          47953.89264202285,
          48196.4293415435,
          48414.049178152796,
          48609.05152683111,
          48783.57623271313,
          48939.60398575616,
          49078.95862150089,
          49203.31222167273,
          49314.19194435377,
          49412.98754997396,
          49500.96027554256,
          49579.25129450358,
          49648.89065534644,
          49710.8063102589,
          49765.83261573637,
          49814.718515980596,
          49858.13528557122,
          49896.683757758394,
          49930.90107663696,
          49961.26692253485,
          49988.20937509035,
          50012.11025257528,
          50033.30951887346,
          50052.10992283161,
          50068.780675879025,
          50083.56151696389,
          50096.66535711049,
          50108.28144094756,
          50118.57787286549,
          50127.703949876646,
          50135.792214670866,
          50142.96027732826,
          50149.3125218337,
          50154.94158313326,
          50159.92959508269,
          50164.349412452335,
          50168.26564213139,
          50171.73556609669,
          50174.80998393565,
          50177.53391702563,
          50179.9472741557,
          50182.08543278885,
          50183.97974869282,
          50185.65800819074,
          50187.14483512211,
          50188.46205382847,
          50189.62900293762,
          50190.66281548436,
          50191.578673921504,
          50192.390033517775,
          50193.10881368926,
          50193.745572581305,
          50194.309667172194,
          50194.80939131486,
          50195.25208750025,
          50195.644260492096,
          50195.99167780828,
          50196.29944513729,
          50196.57208743971,
          50196.813612814374,
          50197.027572456456,
          50197.2171121216,
          50197.385018968576,
          50197.53376045155,
          50197.66552590438,
          50197.78225209404,
          50197.88565536283,
          50197.97725637639,
          50198.058401975286,
          50198.1302853203,
          50198.19396498979,
          50198.2503765821,
          50198.300348023986,
          50198.34461614862,
          50198.383831593834,
          50198.4185707444,
          50198.44934467565,
          50198.47660608774,
          50198.50075584304,
          50198.52214907207,
          50198.541100431095,
          50198.55788861639,
          50198.57276056926,
          50198.58593500056,
          50198.597605668976,
          50198.60794423271,
          50198.617102722754,
          50198.62521583227,
          50198.63240289125,
          50198.63876959791,
          50198.64440958822,
          50198.64940580931,
          50198.65383174658,
          50198.65775245401,
          50198.6612256675,
          50198.66430244043,
          50198.66702801938,
          50198.66944249254,
          50198.67158136978,
          50198.67347610087,
          50198.67515457767,
          50198.67664147857,
          50198.67795863568,
          50198.67912545598,
          50198.680159094394,
          50198.681074746615,
          50198.68188588253,
          50198.682604434645,
          50198.68324096887,
          50198.68380484609,
          50198.68430436039,
          50198.684746858875,
          50198.68513884912,
          50198.685486096285,
          50198.68579370753,
          50198.68606620718,
          50198.68630760273,
          50198.68652144463,
          50198.68671087722,
          50198.68687868767,
          50198.6870273437,
          50198.68715903159,
          50198.687275688164,
          50198.68737902893,
          50198.68747057409,
          50198.68755167001,
          50198.68762350933,
          50198.68768714862,
          50198.687743523864,
          50198.68779346426,
          50198.687837704296,
          50198.68787689461,
          50198.68791161172,
          50198.687942365934,
          50198.68796960972,
          50198.68799374378,
          50198.68801512301,
          50198.688034061866,
          50198.68805083897,
          50198.68806570114,
          50198.68807886675,
          50198.68809052955,
          50198.68810086108,
          50198.688110013296,
          50198.68811812082,
          50198.68812530288,
          50198.68813166511,
          50198.688137301106,
          50198.688142293744,
          50198.68814671646,
          50198.68815063432,
          50198.688154104944,
          50198.68815717937,
          50198.68815990282,
          50198.688162315375,
          50198.68816445249,
          50198.68816634563,
          50198.68816802264,
          50198.6881695082,
          50198.68817082415,
          50198.68817198987,
          50198.68817302248,
          50198.68817393719,
          50198.68817474744,
          50198.68817546519,
          50198.688176100964,
          50198.688176664116,
          50198.688177162956,
          50198.68817760482,
          50198.68817799621,
          50198.688178342876,
          50198.688178649936,
          50198.68817892191,
          50198.6881791628,
          50198.688179376135,
          50198.688179565106,
          50198.68817973245,
          50198.688179880664,
          50198.68818001191,
          50198.688180128134,
          50198.688180231045,
          50198.68818032218,
          50198.68818040285,
          50198.68818047428,
          50198.688180537516,
          50198.68818059348,
          50198.68818064302,
          50198.688180686855,
          50198.68818072564,
          50198.688180759964,
          50198.68818079032,
          50198.68818081717,
          50198.68818084091,
          50198.6881808619,
          50198.68818088046
         ]
        },
        {
         "legendgroup": "Devils",
         "line": {
          "color": "#d62728"
         },
         "mode": "lines",
         "name": "Devils",
         "type": "scatter",
         "x": [
          0,
          1,
          2,
          3,
          4,
          5,
          6,
          7,
          8,
          9,
          10,
          11,
          12,
          13,
          14,
          15,
          16,
          17,
          18,
          19,
          20,
          21,
          22,
          23,
          24,
          25,
          26,
          27,
          28,
          29,
          30,
          31,
          32,
          33,
          34,
          35,
          36,
          37,
          38,
          39,
          40,
          41,
          42,
          43,
          44,
          45,
          46,
          47,
          48,
          49,
          50,
          51,
          52,
          53,
          54,
          55,
          56,
          57,
          58,
          59,
          60,
          61,
          62,
          63,
          64,
          65,
          66,
          67,
          68,
          69,
          70,
          71,
          72,
          73,
          74,
          75,
          76,
          77,
          78,
          79,
          80,
          81,
          82,
          83,
          84,
          85,
          86,
          87,
          88,
          89,
          90,
          91,
          92,
          93,
          94,
          95,
          96,
          97,
          98,
          99,
          100,
          101,
          102,
          103,
          104,
          105,
          106,
          107,
          108,
          109,
          110,
          111,
          112,
          113,
          114,
          115,
          116,
          117,
          118,
          119,
          120,
          121,
          122,
          123,
          124,
          125,
          126,
          127,
          128,
          129,
          130,
          131,
          132,
          133,
          134,
          135,
          136,
          137,
          138,
          139,
          140,
          141,
          142,
          143,
          144,
          145,
          146,
          147,
          148,
          149,
          150,
          151,
          152,
          153,
          154,
          155,
          156,
          157,
          158,
          159,
          160,
          161,
          162,
          163,
          164,
          165,
          166,
          167,
          168,
          169,
          170,
          171,
          172,
          173,
          174,
          175,
          176,
          177,
          178,
          179,
          180,
          181,
          182,
          183,
          184,
          185,
          186,
          187,
          188,
          189,
          190,
          191,
          192,
          193,
          194,
          195,
          196,
          197,
          198,
          199,
          200,
          201,
          202,
          203,
          204,
          205,
          206,
          207,
          208,
          209,
          210,
          211,
          212,
          213,
          214,
          215,
          216,
          217,
          218,
          219,
          220,
          221,
          222,
          223,
          224,
          225,
          226,
          227,
          228,
          229,
          230,
          231,
          232,
          233,
          234,
          235,
          236,
          237,
          238,
          239,
          240
         ],
         "y": [
          51424.57836,
          51371.00781436644,
          51317.84741191379,
          51265.316962942394,
          51213.55984740333,
          51162.68044276088,
          51112.763458188856,
          51063.883788128456,
          51016.11137520497,
          50969.51341975952,
          50924.15515993049,
          50880.0998622063,
          50837.40837243581,
          50796.138411847176,
          50756.34372363855,
          50718.07316648,
          50681.369776999534,
          50646.26986344222,
          50612.80219343571,
          50580.98727027733,
          50550.83676905475,
          50522.35314595072,
          50495.5294391878,
          50470.34928784344,
          50446.787159974454,
          50424.808784767694,
          50404.37178326727,
          50385.42645276217,
          50367.91669968654,
          50351.78103320361,
          50336.953663005115,
          50323.36559451896,
          50310.945694112976,
          50299.62173192863,
          50289.32132354594,
          50279.97278384456,
          50271.50588482375,
          50263.852478914014,
          50256.94702342456,
          50250.72697291382,
          50245.13307478021,
          50240.10955801537,
          50235.60426253374,
          50231.56864116318,
          50227.95774787444,
          50224.73015540255,
          50221.84783186433,
          50219.27599159844,
          50216.98292346686,
          50214.939805609174,
          50213.12051347324,
          50211.50142356433,
          50210.06122194383,
          50208.78071614664,
          50207.64265322487,
          50206.63155305347,
          50205.73353605306,
          50204.9361835171,
          50204.22839342187,
          50203.60024913641,
          50203.04290184751,
          50202.54846164989,
          50202.10989876772,
          50201.720954185825,
          50201.37605839525,
          50201.07025834685,
          50200.79914950604,
          50200.55881602616,
          50200.34578223219,
          50200.15696014049,
          50199.989609507684,
          50199.84129590254,
          50199.70986065916,
          50199.593388099114,
          50199.490178946595,
          50199.398725898696,
          50199.31769225783,
          50199.2458930768,
          50199.182277548694,
          50199.12591384361,
          50199.07597634826,
          50199.03173313844,
          50198.99253548092,
          50198.957808485546,
          50198.92704253028,
          50198.89978610125,
          50198.87563909997,
          50198.85424697497,
          50198.83529555754,
          50198.81850647681,
          50198.80363310466,
          50198.79045691698,
          50198.778784299815,
          50198.76844371714,
          50198.75928318755,
          50198.751168074785,
          50198.743979093684,
          50198.73761056896,
          50198.73196887752,
          50198.726971067874,
          50198.72254366402,
          50198.71862157281,
          50198.715147121795,
          50198.712069228575,
          50198.70934263383,
          50198.70692724505,
          50198.70478754276,
          50198.702892062924,
          50198.70121292913,
          50198.69972546299,
          50198.6984077681,
          50198.69724047447,
          50198.69620641681,
          50198.69529038698,
          50198.694478915466,
          50198.6937600698,
          50198.69312326351,
          50198.69255913999,
          50198.69205941949,
          50198.69161673329,
          50198.6912245749,
          50198.69087718032,
          50198.69056943846,
          50198.69029682214,
          50198.6900553229,
          50198.689841389394,
          50198.689651874636,
          50198.68948399168,
          50198.68933527129,
          50198.68920352623,
          50198.68908681884,
          50198.688983432614,
          50198.68889184715,
          50198.68881071555,
          50198.68873884447,
          50198.688675176956,
          50198.68861877662,
          50198.68856881399,
          50198.68852455421,
          50198.688485346735,
          50198.688450614194,
          50198.68841984609,
          50198.688392589924,
          50198.68836844482,
          50198.688347055686,
          50198.68832810802,
          50198.68831132288,
          50198.6882964535,
          50198.688283281575,
          50198.688271613006,
          50198.68826127626,
          50198.68825211938,
          50198.68824400765,
          50198.68823682177,
          50198.68823045607,
          50198.688224816935,
          50198.68821982142,
          50198.688215396076,
          50198.68821147579,
          50198.688208002946,
          50198.68820492646,
          50198.68820220108,
          50198.688199786746,
          50198.688197647934,
          50198.688195753224,
          50198.68819407473,
          50198.68819258778,
          50198.6881912705,
          50198.68819010354,
          50198.68818906975,
          50198.688188153894,
          50198.68818734253,
          50198.68818662373,
          50198.688185986946,
          50198.68818542278,
          50198.688184922976,
          50198.68818448019,
          50198.68818408791,
          50198.68818374032,
          50198.68818343239,
          50198.68818315955,
          50198.68818291782,
          50198.68818270364,
          50198.68818251386,
          50198.6881823457,
          50198.688182196696,
          50198.68818206466,
          50198.68818194766,
          50198.688181843994,
          50198.68818175211,
          50198.688181670674,
          50198.68818159849,
          50198.68818153448,
          50198.68818147775,
          50198.68818142747,
          50198.688181382866,
          50198.6881813433,
          50198.68818130822,
          50198.6881812771,
          50198.68818124949,
          50198.68818122501,
          50198.68818120329,
          50198.68818118401,
          50198.6881811669,
          50198.688181151716,
          50198.68818113821,
          50198.688181126214,
          50198.68818111555,
          50198.68818110606,
          50198.688181097605,
          50198.68818109008,
          50198.68818108337,
          50198.68818107738,
          50198.68818107202,
          50198.68818106724,
          50198.68818106297,
          50198.688181059144,
          50198.68818105571,
          50198.688181052625,
          50198.68818104986,
          50198.688181047364,
          50198.688181045116,
          50198.68818104308,
          50198.688181041216,
          50198.68818103952,
          50198.68818103797,
          50198.68818103656,
          50198.68818103525,
          50198.68818103406,
          50198.68818103296,
          50198.68818103193,
          50198.68818103099,
          50198.688181030106,
          50198.68818102928,
          50198.68818102851,
          50198.688181027785,
          50198.68818102711,
          50198.68818102647,
          50198.68818102586,
          50198.68818102527,
          50198.68818102468
         ]
        }
       ],
       "layout": {
        "showlegend": true,
        "template": {
         "data": {
          "bar": [
           {
            "error_x": {
             "color": "#2a3f5f"
            },
            "error_y": {
             "color": "#2a3f5f"
            },
            "marker": {
             "line": {
              "color": "#E5ECF6",
              "width": 0.5
             },
             "pattern": {
              "fillmode": "overlay",
              "size": 10,
              "solidity": 0.2
             }
            },
            "type": "bar"
           }
          ],
          "barpolar": [
           {
            "marker": {
             "line": {
              "color": "#E5ECF6",
              "width": 0.5
             },
             "pattern": {
              "fillmode": "overlay",
              "size": 10,
              "solidity": 0.2
             }
            },
            "type": "barpolar"
           }
          ],
          "carpet": [
           {
            "aaxis": {
             "endlinecolor": "#2a3f5f",
             "gridcolor": "white",
             "linecolor": "white",
             "minorgridcolor": "white",
             "startlinecolor": "#2a3f5f"
            },
            "baxis": {
             "endlinecolor": "#2a3f5f",
             "gridcolor": "white",
             "linecolor": "white",
             "minorgridcolor": "white",
             "startlinecolor": "#2a3f5f"
            },
            "type": "carpet"
           }
          ],
          "choropleth": [
           {
            "colorbar": {
             "outlinewidth": 0,
             "ticks": ""
            },
            "type": "choropleth"
           }
          ],
          "contour": [
           {
            "colorbar": {
             "outlinewidth": 0,
             "ticks": ""
            },
            "colorscale": [
             [
              0,
              "#0d0887"
             ],
             [
              0.1111111111111111,
              "#46039f"
             ],
             [
              0.2222222222222222,
              "#7201a8"
             ],
             [
              0.3333333333333333,
              "#9c179e"
             ],
             [
              0.4444444444444444,
              "#bd3786"
             ],
             [
              0.5555555555555556,
              "#d8576b"
             ],
             [
              0.6666666666666666,
              "#ed7953"
             ],
             [
              0.7777777777777778,
              "#fb9f3a"
             ],
             [
              0.8888888888888888,
              "#fdca26"
             ],
             [
              1,
              "#f0f921"
             ]
            ],
            "type": "contour"
           }
          ],
          "contourcarpet": [
           {
            "colorbar": {
             "outlinewidth": 0,
             "ticks": ""
            },
            "type": "contourcarpet"
           }
          ],
          "heatmap": [
           {
            "colorbar": {
             "outlinewidth": 0,
             "ticks": ""
            },
            "colorscale": [
             [
              0,
              "#0d0887"
             ],
             [
              0.1111111111111111,
              "#46039f"
             ],
             [
              0.2222222222222222,
              "#7201a8"
             ],
             [
              0.3333333333333333,
              "#9c179e"
             ],
             [
              0.4444444444444444,
              "#bd3786"
             ],
             [
              0.5555555555555556,
              "#d8576b"
             ],
             [
              0.6666666666666666,
              "#ed7953"
             ],
             [
              0.7777777777777778,
              "#fb9f3a"
             ],
             [
              0.8888888888888888,
              "#fdca26"
             ],
             [
              1,
              "#f0f921"
             ]
            ],
            "type": "heatmap"
           }
          ],
          "heatmapgl": [
           {
            "colorbar": {
             "outlinewidth": 0,
             "ticks": ""
            },
            "colorscale": [
             [
              0,
              "#0d0887"
             ],
             [
              0.1111111111111111,
              "#46039f"
             ],
             [
              0.2222222222222222,
              "#7201a8"
             ],
             [
              0.3333333333333333,
              "#9c179e"
             ],
             [
              0.4444444444444444,
              "#bd3786"
             ],
             [
              0.5555555555555556,
              "#d8576b"
             ],
             [
              0.6666666666666666,
              "#ed7953"
             ],
             [
              0.7777777777777778,
              "#fb9f3a"
             ],
             [
              0.8888888888888888,
              "#fdca26"
             ],
             [
              1,
              "#f0f921"
             ]
            ],
            "type": "heatmapgl"
           }
          ],
          "histogram": [
           {
            "marker": {
             "pattern": {
              "fillmode": "overlay",
              "size": 10,
              "solidity": 0.2
             }
            },
            "type": "histogram"
           }
          ],
          "histogram2d": [
           {
            "colorbar": {
             "outlinewidth": 0,
             "ticks": ""
            },
            "colorscale": [
             [
              0,
              "#0d0887"
             ],
             [
              0.1111111111111111,
              "#46039f"
             ],
             [
              0.2222222222222222,
              "#7201a8"
             ],
             [
              0.3333333333333333,
              "#9c179e"
             ],
             [
              0.4444444444444444,
              "#bd3786"
             ],
             [
              0.5555555555555556,
              "#d8576b"
             ],
             [
              0.6666666666666666,
              "#ed7953"
             ],
             [
              0.7777777777777778,
              "#fb9f3a"
             ],
             [
              0.8888888888888888,
              "#fdca26"
             ],
             [
              1,
              "#f0f921"
             ]
            ],
            "type": "histogram2d"
           }
          ],
          "histogram2dcontour": [
           {
            "colorbar": {
             "outlinewidth": 0,
             "ticks": ""
            },
            "colorscale": [
             [
              0,
              "#0d0887"
             ],
             [
              0.1111111111111111,
              "#46039f"
             ],
             [
              0.2222222222222222,
              "#7201a8"
             ],
             [
              0.3333333333333333,
              "#9c179e"
             ],
             [
              0.4444444444444444,
              "#bd3786"
             ],
             [
              0.5555555555555556,
              "#d8576b"
             ],
             [
              0.6666666666666666,
              "#ed7953"
             ],
             [
              0.7777777777777778,
              "#fb9f3a"
             ],
             [
              0.8888888888888888,
              "#fdca26"
             ],
             [
              1,
              "#f0f921"
             ]
            ],
            "type": "histogram2dcontour"
           }
          ],
          "mesh3d": [
           {
            "colorbar": {
             "outlinewidth": 0,
             "ticks": ""
            },
            "type": "mesh3d"
           }
          ],
          "parcoords": [
           {
            "line": {
             "colorbar": {
              "outlinewidth": 0,
              "ticks": ""
             }
            },
            "type": "parcoords"
           }
          ],
          "pie": [
           {
            "automargin": true,
            "type": "pie"
           }
          ],
          "scatter": [
           {
            "marker": {
             "colorbar": {
              "outlinewidth": 0,
              "ticks": ""
             }
            },
            "type": "scatter"
           }
          ],
          "scatter3d": [
           {
            "line": {
             "colorbar": {
              "outlinewidth": 0,
              "ticks": ""
             }
            },
            "marker": {
             "colorbar": {
              "outlinewidth": 0,
              "ticks": ""
             }
            },
            "type": "scatter3d"
           }
          ],
          "scattercarpet": [
           {
            "marker": {
             "colorbar": {
              "outlinewidth": 0,
              "ticks": ""
             }
            },
            "type": "scattercarpet"
           }
          ],
          "scattergeo": [
           {
            "marker": {
             "colorbar": {
              "outlinewidth": 0,
              "ticks": ""
             }
            },
            "type": "scattergeo"
           }
          ],
          "scattergl": [
           {
            "marker": {
             "colorbar": {
              "outlinewidth": 0,
              "ticks": ""
             }
            },
            "type": "scattergl"
           }
          ],
          "scattermapbox": [
           {
            "marker": {
             "colorbar": {
              "outlinewidth": 0,
              "ticks": ""
             }
            },
            "type": "scattermapbox"
           }
          ],
          "scatterpolar": [
           {
            "marker": {
             "colorbar": {
              "outlinewidth": 0,
              "ticks": ""
             }
            },
            "type": "scatterpolar"
           }
          ],
          "scatterpolargl": [
           {
            "marker": {
             "colorbar": {
              "outlinewidth": 0,
              "ticks": ""
             }
            },
            "type": "scatterpolargl"
           }
          ],
          "scatterternary": [
           {
            "marker": {
             "colorbar": {
              "outlinewidth": 0,
              "ticks": ""
             }
            },
            "type": "scatterternary"
           }
          ],
          "surface": [
           {
            "colorbar": {
             "outlinewidth": 0,
             "ticks": ""
            },
            "colorscale": [
             [
              0,
              "#0d0887"
             ],
             [
              0.1111111111111111,
              "#46039f"
             ],
             [
              0.2222222222222222,
              "#7201a8"
             ],
             [
              0.3333333333333333,
              "#9c179e"
             ],
             [
              0.4444444444444444,
              "#bd3786"
             ],
             [
              0.5555555555555556,
              "#d8576b"
             ],
             [
              0.6666666666666666,
              "#ed7953"
             ],
             [
              0.7777777777777778,
              "#fb9f3a"
             ],
             [
              0.8888888888888888,
              "#fdca26"
             ],
             [
              1,
              "#f0f921"
             ]
            ],
            "type": "surface"
           }
          ],
          "table": [
           {
            "cells": {
             "fill": {
              "color": "#EBF0F8"
             },
             "line": {
              "color": "white"
             }
            },
            "header": {
             "fill": {
              "color": "#C8D4E3"
             },
             "line": {
              "color": "white"
             }
            },
            "type": "table"
           }
          ]
         },
         "layout": {
          "annotationdefaults": {
           "arrowcolor": "#2a3f5f",
           "arrowhead": 0,
           "arrowwidth": 1
          },
          "autotypenumbers": "strict",
          "coloraxis": {
           "colorbar": {
            "outlinewidth": 0,
            "ticks": ""
           }
          },
          "colorscale": {
           "diverging": [
            [
             0,
             "#8e0152"
            ],
            [
             0.1,
             "#c51b7d"
            ],
            [
             0.2,
             "#de77ae"
            ],
            [
             0.3,
             "#f1b6da"
            ],
            [
             0.4,
             "#fde0ef"
            ],
            [
             0.5,
             "#f7f7f7"
            ],
            [
             0.6,
             "#e6f5d0"
            ],
            [
             0.7,
             "#b8e186"
            ],
            [
             0.8,
             "#7fbc41"
            ],
            [
             0.9,
             "#4d9221"
            ],
            [
             1,
             "#276419"
            ]
           ],
           "sequential": [
            [
             0,
             "#0d0887"
            ],
            [
             0.1111111111111111,
             "#46039f"
            ],
            [
             0.2222222222222222,
             "#7201a8"
            ],
            [
             0.3333333333333333,
             "#9c179e"
            ],
            [
             0.4444444444444444,
             "#bd3786"
            ],
            [
             0.5555555555555556,
             "#d8576b"
            ],
            [
             0.6666666666666666,
             "#ed7953"
            ],
            [
             0.7777777777777778,
             "#fb9f3a"
            ],
            [
             0.8888888888888888,
             "#fdca26"
            ],
            [
             1,
             "#f0f921"
            ]
           ],
           "sequentialminus": [
            [
             0,
             "#0d0887"
            ],
            [
             0.1111111111111111,
             "#46039f"
            ],
            [
             0.2222222222222222,
             "#7201a8"
            ],
            [
             0.3333333333333333,
             "#9c179e"
            ],
            [
             0.4444444444444444,
             "#bd3786"
            ],
            [
             0.5555555555555556,
             "#d8576b"
            ],
            [
             0.6666666666666666,
             "#ed7953"
            ],
            [
             0.7777777777777778,
             "#fb9f3a"
            ],
            [
             0.8888888888888888,
             "#fdca26"
            ],
            [
             1,
             "#f0f921"
            ]
           ]
          },
          "colorway": [
           "#636efa",
           "#EF553B",
           "#00cc96",
           "#ab63fa",
           "#FFA15A",
           "#19d3f3",
           "#FF6692",
           "#B6E880",
           "#FF97FF",
           "#FECB52"
          ],
          "font": {
           "color": "#2a3f5f"
          },
          "geo": {
           "bgcolor": "white",
           "lakecolor": "white",
           "landcolor": "#E5ECF6",
           "showlakes": true,
           "showland": true,
           "subunitcolor": "white"
          },
          "hoverlabel": {
           "align": "left"
          },
          "hovermode": "closest",
          "mapbox": {
           "style": "light"
          },
          "paper_bgcolor": "white",
          "plot_bgcolor": "#E5ECF6",
          "polar": {
           "angularaxis": {
            "gridcolor": "white",
            "linecolor": "white",
            "ticks": ""
           },
           "bgcolor": "#E5ECF6",
           "radialaxis": {
            "gridcolor": "white",
            "linecolor": "white",
            "ticks": ""
           }
          },
          "scene": {
           "xaxis": {
            "backgroundcolor": "#E5ECF6",
            "gridcolor": "white",
            "gridwidth": 2,
            "linecolor": "white",
            "showbackground": true,
            "ticks": "",
            "zerolinecolor": "white"
           },
           "yaxis": {
            "backgroundcolor": "#E5ECF6",
            "gridcolor": "white",
            "gridwidth": 2,
            "linecolor": "white",
            "showbackground": true,
            "ticks": "",
            "zerolinecolor": "white"
           },
           "zaxis": {
            "backgroundcolor": "#E5ECF6",
            "gridcolor": "white",
            "gridwidth": 2,
            "linecolor": "white",
            "showbackground": true,
            "ticks": "",
            "zerolinecolor": "white"
           }
          },
          "shapedefaults": {
           "line": {
            "color": "#2a3f5f"
           }
          },
          "ternary": {
           "aaxis": {
            "gridcolor": "white",
            "linecolor": "white",
            "ticks": ""
           },
           "baxis": {
            "gridcolor": "white",
            "linecolor": "white",
            "ticks": ""
           },
           "bgcolor": "#E5ECF6",
           "caxis": {
            "gridcolor": "white",
            "linecolor": "white",
            "ticks": ""
           }
          },
          "title": {
           "x": 0.05
          },
          "xaxis": {
           "automargin": true,
           "gridcolor": "white",
           "linecolor": "white",
           "ticks": "",
           "title": {
            "standoff": 15
           },
           "zerolinecolor": "white",
           "zerolinewidth": 2
          },
          "yaxis": {
           "automargin": true,
           "gridcolor": "white",
           "linecolor": "white",
           "ticks": "",
           "title": {
            "standoff": 15
           },
           "zerolinecolor": "white",
           "zerolinewidth": 2
          }
         }
        },
        "title": {
         "text": ""
        },
        "xaxis": {
         "title": {
          "text": "Time"
         }
        },
        "yaxis": {
         "title": {
          "text": "Value"
         }
        }
       }
      },
      "text/html": [
       "<div>                            <div id=\"5f590f33-10ab-4cc3-ba43-eb4cd35dee9d\" class=\"plotly-graph-div\" style=\"height:525px; width:100%;\"></div>            <script type=\"text/javascript\">                require([\"plotly\"], function(Plotly) {                    window.PLOTLYENV=window.PLOTLYENV || {};                                    if (document.getElementById(\"5f590f33-10ab-4cc3-ba43-eb4cd35dee9d\")) {                    Plotly.newPlot(                        \"5f590f33-10ab-4cc3-ba43-eb4cd35dee9d\",                        [{\"legendgroup\":\"I\",\"line\":{\"color\":\"#2ca02c\"},\"mode\":\"lines\",\"name\":\"I\",\"type\":\"scatter\",\"x\":[0.0,1.0,2.0,3.0,4.0,5.0,6.0,7.0,8.0,9.0,10.0,11.0,12.0,13.0,14.0,15.0,16.0,17.0,18.0,19.0,20.0,21.0,22.0,23.0,24.0,25.0,26.0,27.0,28.0,29.0,30.0,31.0,32.0,33.0,34.0,35.0,36.0,37.0,38.0,39.0,40.0,41.0,42.0,43.0,44.0,45.0,46.0,47.0,48.0,49.0,50.0,51.0,52.0,53.0,54.0,55.0,56.0,57.0,58.0,59.0,60.0,61.0,62.0,63.0,64.0,65.0,66.0,67.0,68.0,69.0,70.0,71.0,72.0,73.0,74.0,75.0,76.0,77.0,78.0,79.0,80.0,81.0,82.0,83.0,84.0,85.0,86.0,87.0,88.0,89.0,90.0,91.0,92.0,93.0,94.0,95.0,96.0,97.0,98.0,99.0,100.0,101.0,102.0,103.0,104.0,105.0,106.0,107.0,108.0,109.0,110.0,111.0,112.0,113.0,114.0,115.0,116.0,117.0,118.0,119.0,120.0,121.0,122.0,123.0,124.0,125.0,126.0,127.0,128.0,129.0,130.0,131.0,132.0,133.0,134.0,135.0,136.0,137.0,138.0,139.0,140.0,141.0,142.0,143.0,144.0,145.0,146.0,147.0,148.0,149.0,150.0,151.0,152.0,153.0,154.0,155.0,156.0,157.0,158.0,159.0,160.0,161.0,162.0,163.0,164.0,165.0,166.0,167.0,168.0,169.0,170.0,171.0,172.0,173.0,174.0,175.0,176.0,177.0,178.0,179.0,180.0,181.0,182.0,183.0,184.0,185.0,186.0,187.0,188.0,189.0,190.0,191.0,192.0,193.0,194.0,195.0,196.0,197.0,198.0,199.0,200.0,201.0,202.0,203.0,204.0,205.0,206.0,207.0,208.0,209.0,210.0,211.0,212.0,213.0,214.0,215.0,216.0,217.0,218.0,219.0,220.0,221.0,222.0,223.0,224.0,225.0,226.0,227.0,228.0,229.0,230.0,231.0,232.0,233.0,234.0,235.0,236.0,237.0,238.0,239.0,240.0],\"y\":[6699.0798229572,6861.609968125487,7256.1607987296065,7795.67964852693,8435.581768401753,9153.28722716903,9937.521099442432,10782.695180750357,11685.935598957733,12645.492064453892,13659.870682949324,14727.35054855794,15845.707339938719,17012.05441246021,18222.757348845003,19473.400135856034,20758.79133472891,22073.00934139582,23409.477771250542,24761.074113295224,26120.263879629816,27479.255294563503,28830.17285452755,30165.232020304837,31476.917847555636,32758.150788984683,34002.43736647256,35203.99468931125,36357.847846859295,37459.89409081308,38506.9373921438,39496.68727906185,40427.733098769146,41299.490138408786,42112.129882978,42866.49551444784,43564.00681481082,44206.56428555721,44796.45061110847,45336.23946987501,45828.70908204673,46276.76807544406,46683.38045544618,47051.51694256893,47384.10362587532,47683.984472257056,47953.89264202285,48196.4293415435,48414.049178152796,48609.05152683111,48783.57623271313,48939.60398575616,49078.95862150089,49203.31222167273,49314.19194435377,49412.98754997396,49500.96027554256,49579.25129450358,49648.89065534644,49710.8063102589,49765.83261573637,49814.718515980596,49858.13528557122,49896.683757758394,49930.90107663696,49961.26692253485,49988.20937509035,50012.11025257528,50033.30951887346,50052.10992283161,50068.780675879025,50083.56151696389,50096.66535711049,50108.28144094756,50118.57787286549,50127.703949876646,50135.792214670866,50142.96027732826,50149.3125218337,50154.94158313326,50159.92959508269,50164.349412452335,50168.26564213139,50171.73556609669,50174.80998393565,50177.53391702563,50179.9472741557,50182.08543278885,50183.97974869282,50185.65800819074,50187.14483512211,50188.46205382847,50189.62900293762,50190.66281548436,50191.578673921504,50192.390033517775,50193.10881368926,50193.745572581305,50194.309667172194,50194.80939131486,50195.25208750025,50195.644260492096,50195.99167780828,50196.29944513729,50196.57208743971,50196.813612814374,50197.027572456456,50197.2171121216,50197.385018968576,50197.53376045155,50197.66552590438,50197.78225209404,50197.88565536283,50197.97725637639,50198.058401975286,50198.1302853203,50198.19396498979,50198.2503765821,50198.300348023986,50198.34461614862,50198.383831593834,50198.4185707444,50198.44934467565,50198.47660608774,50198.50075584304,50198.52214907207,50198.541100431095,50198.55788861639,50198.57276056926,50198.58593500056,50198.597605668976,50198.60794423271,50198.617102722754,50198.62521583227,50198.63240289125,50198.63876959791,50198.64440958822,50198.64940580931,50198.65383174658,50198.65775245401,50198.6612256675,50198.66430244043,50198.66702801938,50198.66944249254,50198.67158136978,50198.67347610087,50198.67515457767,50198.67664147857,50198.67795863568,50198.67912545598,50198.680159094394,50198.681074746615,50198.68188588253,50198.682604434645,50198.68324096887,50198.68380484609,50198.68430436039,50198.684746858875,50198.68513884912,50198.685486096285,50198.68579370753,50198.68606620718,50198.68630760273,50198.68652144463,50198.68671087722,50198.68687868767,50198.6870273437,50198.68715903159,50198.687275688164,50198.68737902893,50198.68747057409,50198.68755167001,50198.68762350933,50198.68768714862,50198.687743523864,50198.68779346426,50198.687837704296,50198.68787689461,50198.68791161172,50198.687942365934,50198.68796960972,50198.68799374378,50198.68801512301,50198.688034061866,50198.68805083897,50198.68806570114,50198.68807886675,50198.68809052955,50198.68810086108,50198.688110013296,50198.68811812082,50198.68812530288,50198.68813166511,50198.688137301106,50198.688142293744,50198.68814671646,50198.68815063432,50198.688154104944,50198.68815717937,50198.68815990282,50198.688162315375,50198.68816445249,50198.68816634563,50198.68816802264,50198.6881695082,50198.68817082415,50198.68817198987,50198.68817302248,50198.68817393719,50198.68817474744,50198.68817546519,50198.688176100964,50198.688176664116,50198.688177162956,50198.68817760482,50198.68817799621,50198.688178342876,50198.688178649936,50198.68817892191,50198.6881791628,50198.688179376135,50198.688179565106,50198.68817973245,50198.688179880664,50198.68818001191,50198.688180128134,50198.688180231045,50198.68818032218,50198.68818040285,50198.68818047428,50198.688180537516,50198.68818059348,50198.68818064302,50198.688180686855,50198.68818072564,50198.688180759964,50198.68818079032,50198.68818081717,50198.68818084091,50198.6881808619,50198.68818088046]},{\"legendgroup\":\"Devils\",\"line\":{\"color\":\"#d62728\"},\"mode\":\"lines\",\"name\":\"Devils\",\"type\":\"scatter\",\"x\":[0.0,1.0,2.0,3.0,4.0,5.0,6.0,7.0,8.0,9.0,10.0,11.0,12.0,13.0,14.0,15.0,16.0,17.0,18.0,19.0,20.0,21.0,22.0,23.0,24.0,25.0,26.0,27.0,28.0,29.0,30.0,31.0,32.0,33.0,34.0,35.0,36.0,37.0,38.0,39.0,40.0,41.0,42.0,43.0,44.0,45.0,46.0,47.0,48.0,49.0,50.0,51.0,52.0,53.0,54.0,55.0,56.0,57.0,58.0,59.0,60.0,61.0,62.0,63.0,64.0,65.0,66.0,67.0,68.0,69.0,70.0,71.0,72.0,73.0,74.0,75.0,76.0,77.0,78.0,79.0,80.0,81.0,82.0,83.0,84.0,85.0,86.0,87.0,88.0,89.0,90.0,91.0,92.0,93.0,94.0,95.0,96.0,97.0,98.0,99.0,100.0,101.0,102.0,103.0,104.0,105.0,106.0,107.0,108.0,109.0,110.0,111.0,112.0,113.0,114.0,115.0,116.0,117.0,118.0,119.0,120.0,121.0,122.0,123.0,124.0,125.0,126.0,127.0,128.0,129.0,130.0,131.0,132.0,133.0,134.0,135.0,136.0,137.0,138.0,139.0,140.0,141.0,142.0,143.0,144.0,145.0,146.0,147.0,148.0,149.0,150.0,151.0,152.0,153.0,154.0,155.0,156.0,157.0,158.0,159.0,160.0,161.0,162.0,163.0,164.0,165.0,166.0,167.0,168.0,169.0,170.0,171.0,172.0,173.0,174.0,175.0,176.0,177.0,178.0,179.0,180.0,181.0,182.0,183.0,184.0,185.0,186.0,187.0,188.0,189.0,190.0,191.0,192.0,193.0,194.0,195.0,196.0,197.0,198.0,199.0,200.0,201.0,202.0,203.0,204.0,205.0,206.0,207.0,208.0,209.0,210.0,211.0,212.0,213.0,214.0,215.0,216.0,217.0,218.0,219.0,220.0,221.0,222.0,223.0,224.0,225.0,226.0,227.0,228.0,229.0,230.0,231.0,232.0,233.0,234.0,235.0,236.0,237.0,238.0,239.0,240.0],\"y\":[51424.57836,51371.00781436644,51317.84741191379,51265.316962942394,51213.55984740333,51162.68044276088,51112.763458188856,51063.883788128456,51016.11137520497,50969.51341975952,50924.15515993049,50880.0998622063,50837.40837243581,50796.138411847176,50756.34372363855,50718.07316648,50681.369776999534,50646.26986344222,50612.80219343571,50580.98727027733,50550.83676905475,50522.35314595072,50495.5294391878,50470.34928784344,50446.787159974454,50424.808784767694,50404.37178326727,50385.42645276217,50367.91669968654,50351.78103320361,50336.953663005115,50323.36559451896,50310.945694112976,50299.62173192863,50289.32132354594,50279.97278384456,50271.50588482375,50263.852478914014,50256.94702342456,50250.72697291382,50245.13307478021,50240.10955801537,50235.60426253374,50231.56864116318,50227.95774787444,50224.73015540255,50221.84783186433,50219.27599159844,50216.98292346686,50214.939805609174,50213.12051347324,50211.50142356433,50210.06122194383,50208.78071614664,50207.64265322487,50206.63155305347,50205.73353605306,50204.9361835171,50204.22839342187,50203.60024913641,50203.04290184751,50202.54846164989,50202.10989876772,50201.720954185825,50201.37605839525,50201.07025834685,50200.79914950604,50200.55881602616,50200.34578223219,50200.15696014049,50199.989609507684,50199.84129590254,50199.70986065916,50199.593388099114,50199.490178946595,50199.398725898696,50199.31769225783,50199.2458930768,50199.182277548694,50199.12591384361,50199.07597634826,50199.03173313844,50198.99253548092,50198.957808485546,50198.92704253028,50198.89978610125,50198.87563909997,50198.85424697497,50198.83529555754,50198.81850647681,50198.80363310466,50198.79045691698,50198.778784299815,50198.76844371714,50198.75928318755,50198.751168074785,50198.743979093684,50198.73761056896,50198.73196887752,50198.726971067874,50198.72254366402,50198.71862157281,50198.715147121795,50198.712069228575,50198.70934263383,50198.70692724505,50198.70478754276,50198.702892062924,50198.70121292913,50198.69972546299,50198.6984077681,50198.69724047447,50198.69620641681,50198.69529038698,50198.694478915466,50198.6937600698,50198.69312326351,50198.69255913999,50198.69205941949,50198.69161673329,50198.6912245749,50198.69087718032,50198.69056943846,50198.69029682214,50198.6900553229,50198.689841389394,50198.689651874636,50198.68948399168,50198.68933527129,50198.68920352623,50198.68908681884,50198.688983432614,50198.68889184715,50198.68881071555,50198.68873884447,50198.688675176956,50198.68861877662,50198.68856881399,50198.68852455421,50198.688485346735,50198.688450614194,50198.68841984609,50198.688392589924,50198.68836844482,50198.688347055686,50198.68832810802,50198.68831132288,50198.6882964535,50198.688283281575,50198.688271613006,50198.68826127626,50198.68825211938,50198.68824400765,50198.68823682177,50198.68823045607,50198.688224816935,50198.68821982142,50198.688215396076,50198.68821147579,50198.688208002946,50198.68820492646,50198.68820220108,50198.688199786746,50198.688197647934,50198.688195753224,50198.68819407473,50198.68819258778,50198.6881912705,50198.68819010354,50198.68818906975,50198.688188153894,50198.68818734253,50198.68818662373,50198.688185986946,50198.68818542278,50198.688184922976,50198.68818448019,50198.68818408791,50198.68818374032,50198.68818343239,50198.68818315955,50198.68818291782,50198.68818270364,50198.68818251386,50198.6881823457,50198.688182196696,50198.68818206466,50198.68818194766,50198.688181843994,50198.68818175211,50198.688181670674,50198.68818159849,50198.68818153448,50198.68818147775,50198.68818142747,50198.688181382866,50198.6881813433,50198.68818130822,50198.6881812771,50198.68818124949,50198.68818122501,50198.68818120329,50198.68818118401,50198.6881811669,50198.688181151716,50198.68818113821,50198.688181126214,50198.68818111555,50198.68818110606,50198.688181097605,50198.68818109008,50198.68818108337,50198.68818107738,50198.68818107202,50198.68818106724,50198.68818106297,50198.688181059144,50198.68818105571,50198.688181052625,50198.68818104986,50198.688181047364,50198.688181045116,50198.68818104308,50198.688181041216,50198.68818103952,50198.68818103797,50198.68818103656,50198.68818103525,50198.68818103406,50198.68818103296,50198.68818103193,50198.68818103099,50198.688181030106,50198.68818102928,50198.68818102851,50198.688181027785,50198.68818102711,50198.68818102647,50198.68818102586,50198.68818102527,50198.68818102468]}],                        {\"showlegend\":true,\"template\":{\"data\":{\"bar\":[{\"error_x\":{\"color\":\"#2a3f5f\"},\"error_y\":{\"color\":\"#2a3f5f\"},\"marker\":{\"line\":{\"color\":\"#E5ECF6\",\"width\":0.5},\"pattern\":{\"fillmode\":\"overlay\",\"size\":10,\"solidity\":0.2}},\"type\":\"bar\"}],\"barpolar\":[{\"marker\":{\"line\":{\"color\":\"#E5ECF6\",\"width\":0.5},\"pattern\":{\"fillmode\":\"overlay\",\"size\":10,\"solidity\":0.2}},\"type\":\"barpolar\"}],\"carpet\":[{\"aaxis\":{\"endlinecolor\":\"#2a3f5f\",\"gridcolor\":\"white\",\"linecolor\":\"white\",\"minorgridcolor\":\"white\",\"startlinecolor\":\"#2a3f5f\"},\"baxis\":{\"endlinecolor\":\"#2a3f5f\",\"gridcolor\":\"white\",\"linecolor\":\"white\",\"minorgridcolor\":\"white\",\"startlinecolor\":\"#2a3f5f\"},\"type\":\"carpet\"}],\"choropleth\":[{\"colorbar\":{\"outlinewidth\":0,\"ticks\":\"\"},\"type\":\"choropleth\"}],\"contour\":[{\"colorbar\":{\"outlinewidth\":0,\"ticks\":\"\"},\"colorscale\":[[0.0,\"#0d0887\"],[0.1111111111111111,\"#46039f\"],[0.2222222222222222,\"#7201a8\"],[0.3333333333333333,\"#9c179e\"],[0.4444444444444444,\"#bd3786\"],[0.5555555555555556,\"#d8576b\"],[0.6666666666666666,\"#ed7953\"],[0.7777777777777778,\"#fb9f3a\"],[0.8888888888888888,\"#fdca26\"],[1.0,\"#f0f921\"]],\"type\":\"contour\"}],\"contourcarpet\":[{\"colorbar\":{\"outlinewidth\":0,\"ticks\":\"\"},\"type\":\"contourcarpet\"}],\"heatmap\":[{\"colorbar\":{\"outlinewidth\":0,\"ticks\":\"\"},\"colorscale\":[[0.0,\"#0d0887\"],[0.1111111111111111,\"#46039f\"],[0.2222222222222222,\"#7201a8\"],[0.3333333333333333,\"#9c179e\"],[0.4444444444444444,\"#bd3786\"],[0.5555555555555556,\"#d8576b\"],[0.6666666666666666,\"#ed7953\"],[0.7777777777777778,\"#fb9f3a\"],[0.8888888888888888,\"#fdca26\"],[1.0,\"#f0f921\"]],\"type\":\"heatmap\"}],\"heatmapgl\":[{\"colorbar\":{\"outlinewidth\":0,\"ticks\":\"\"},\"colorscale\":[[0.0,\"#0d0887\"],[0.1111111111111111,\"#46039f\"],[0.2222222222222222,\"#7201a8\"],[0.3333333333333333,\"#9c179e\"],[0.4444444444444444,\"#bd3786\"],[0.5555555555555556,\"#d8576b\"],[0.6666666666666666,\"#ed7953\"],[0.7777777777777778,\"#fb9f3a\"],[0.8888888888888888,\"#fdca26\"],[1.0,\"#f0f921\"]],\"type\":\"heatmapgl\"}],\"histogram\":[{\"marker\":{\"pattern\":{\"fillmode\":\"overlay\",\"size\":10,\"solidity\":0.2}},\"type\":\"histogram\"}],\"histogram2d\":[{\"colorbar\":{\"outlinewidth\":0,\"ticks\":\"\"},\"colorscale\":[[0.0,\"#0d0887\"],[0.1111111111111111,\"#46039f\"],[0.2222222222222222,\"#7201a8\"],[0.3333333333333333,\"#9c179e\"],[0.4444444444444444,\"#bd3786\"],[0.5555555555555556,\"#d8576b\"],[0.6666666666666666,\"#ed7953\"],[0.7777777777777778,\"#fb9f3a\"],[0.8888888888888888,\"#fdca26\"],[1.0,\"#f0f921\"]],\"type\":\"histogram2d\"}],\"histogram2dcontour\":[{\"colorbar\":{\"outlinewidth\":0,\"ticks\":\"\"},\"colorscale\":[[0.0,\"#0d0887\"],[0.1111111111111111,\"#46039f\"],[0.2222222222222222,\"#7201a8\"],[0.3333333333333333,\"#9c179e\"],[0.4444444444444444,\"#bd3786\"],[0.5555555555555556,\"#d8576b\"],[0.6666666666666666,\"#ed7953\"],[0.7777777777777778,\"#fb9f3a\"],[0.8888888888888888,\"#fdca26\"],[1.0,\"#f0f921\"]],\"type\":\"histogram2dcontour\"}],\"mesh3d\":[{\"colorbar\":{\"outlinewidth\":0,\"ticks\":\"\"},\"type\":\"mesh3d\"}],\"parcoords\":[{\"line\":{\"colorbar\":{\"outlinewidth\":0,\"ticks\":\"\"}},\"type\":\"parcoords\"}],\"pie\":[{\"automargin\":true,\"type\":\"pie\"}],\"scatter\":[{\"marker\":{\"colorbar\":{\"outlinewidth\":0,\"ticks\":\"\"}},\"type\":\"scatter\"}],\"scatter3d\":[{\"line\":{\"colorbar\":{\"outlinewidth\":0,\"ticks\":\"\"}},\"marker\":{\"colorbar\":{\"outlinewidth\":0,\"ticks\":\"\"}},\"type\":\"scatter3d\"}],\"scattercarpet\":[{\"marker\":{\"colorbar\":{\"outlinewidth\":0,\"ticks\":\"\"}},\"type\":\"scattercarpet\"}],\"scattergeo\":[{\"marker\":{\"colorbar\":{\"outlinewidth\":0,\"ticks\":\"\"}},\"type\":\"scattergeo\"}],\"scattergl\":[{\"marker\":{\"colorbar\":{\"outlinewidth\":0,\"ticks\":\"\"}},\"type\":\"scattergl\"}],\"scattermapbox\":[{\"marker\":{\"colorbar\":{\"outlinewidth\":0,\"ticks\":\"\"}},\"type\":\"scattermapbox\"}],\"scatterpolar\":[{\"marker\":{\"colorbar\":{\"outlinewidth\":0,\"ticks\":\"\"}},\"type\":\"scatterpolar\"}],\"scatterpolargl\":[{\"marker\":{\"colorbar\":{\"outlinewidth\":0,\"ticks\":\"\"}},\"type\":\"scatterpolargl\"}],\"scatterternary\":[{\"marker\":{\"colorbar\":{\"outlinewidth\":0,\"ticks\":\"\"}},\"type\":\"scatterternary\"}],\"surface\":[{\"colorbar\":{\"outlinewidth\":0,\"ticks\":\"\"},\"colorscale\":[[0.0,\"#0d0887\"],[0.1111111111111111,\"#46039f\"],[0.2222222222222222,\"#7201a8\"],[0.3333333333333333,\"#9c179e\"],[0.4444444444444444,\"#bd3786\"],[0.5555555555555556,\"#d8576b\"],[0.6666666666666666,\"#ed7953\"],[0.7777777777777778,\"#fb9f3a\"],[0.8888888888888888,\"#fdca26\"],[1.0,\"#f0f921\"]],\"type\":\"surface\"}],\"table\":[{\"cells\":{\"fill\":{\"color\":\"#EBF0F8\"},\"line\":{\"color\":\"white\"}},\"header\":{\"fill\":{\"color\":\"#C8D4E3\"},\"line\":{\"color\":\"white\"}},\"type\":\"table\"}]},\"layout\":{\"annotationdefaults\":{\"arrowcolor\":\"#2a3f5f\",\"arrowhead\":0,\"arrowwidth\":1},\"autotypenumbers\":\"strict\",\"coloraxis\":{\"colorbar\":{\"outlinewidth\":0,\"ticks\":\"\"}},\"colorscale\":{\"diverging\":[[0,\"#8e0152\"],[0.1,\"#c51b7d\"],[0.2,\"#de77ae\"],[0.3,\"#f1b6da\"],[0.4,\"#fde0ef\"],[0.5,\"#f7f7f7\"],[0.6,\"#e6f5d0\"],[0.7,\"#b8e186\"],[0.8,\"#7fbc41\"],[0.9,\"#4d9221\"],[1,\"#276419\"]],\"sequential\":[[0.0,\"#0d0887\"],[0.1111111111111111,\"#46039f\"],[0.2222222222222222,\"#7201a8\"],[0.3333333333333333,\"#9c179e\"],[0.4444444444444444,\"#bd3786\"],[0.5555555555555556,\"#d8576b\"],[0.6666666666666666,\"#ed7953\"],[0.7777777777777778,\"#fb9f3a\"],[0.8888888888888888,\"#fdca26\"],[1.0,\"#f0f921\"]],\"sequentialminus\":[[0.0,\"#0d0887\"],[0.1111111111111111,\"#46039f\"],[0.2222222222222222,\"#7201a8\"],[0.3333333333333333,\"#9c179e\"],[0.4444444444444444,\"#bd3786\"],[0.5555555555555556,\"#d8576b\"],[0.6666666666666666,\"#ed7953\"],[0.7777777777777778,\"#fb9f3a\"],[0.8888888888888888,\"#fdca26\"],[1.0,\"#f0f921\"]]},\"colorway\":[\"#636efa\",\"#EF553B\",\"#00cc96\",\"#ab63fa\",\"#FFA15A\",\"#19d3f3\",\"#FF6692\",\"#B6E880\",\"#FF97FF\",\"#FECB52\"],\"font\":{\"color\":\"#2a3f5f\"},\"geo\":{\"bgcolor\":\"white\",\"lakecolor\":\"white\",\"landcolor\":\"#E5ECF6\",\"showlakes\":true,\"showland\":true,\"subunitcolor\":\"white\"},\"hoverlabel\":{\"align\":\"left\"},\"hovermode\":\"closest\",\"mapbox\":{\"style\":\"light\"},\"paper_bgcolor\":\"white\",\"plot_bgcolor\":\"#E5ECF6\",\"polar\":{\"angularaxis\":{\"gridcolor\":\"white\",\"linecolor\":\"white\",\"ticks\":\"\"},\"bgcolor\":\"#E5ECF6\",\"radialaxis\":{\"gridcolor\":\"white\",\"linecolor\":\"white\",\"ticks\":\"\"}},\"scene\":{\"xaxis\":{\"backgroundcolor\":\"#E5ECF6\",\"gridcolor\":\"white\",\"gridwidth\":2,\"linecolor\":\"white\",\"showbackground\":true,\"ticks\":\"\",\"zerolinecolor\":\"white\"},\"yaxis\":{\"backgroundcolor\":\"#E5ECF6\",\"gridcolor\":\"white\",\"gridwidth\":2,\"linecolor\":\"white\",\"showbackground\":true,\"ticks\":\"\",\"zerolinecolor\":\"white\"},\"zaxis\":{\"backgroundcolor\":\"#E5ECF6\",\"gridcolor\":\"white\",\"gridwidth\":2,\"linecolor\":\"white\",\"showbackground\":true,\"ticks\":\"\",\"zerolinecolor\":\"white\"}},\"shapedefaults\":{\"line\":{\"color\":\"#2a3f5f\"}},\"ternary\":{\"aaxis\":{\"gridcolor\":\"white\",\"linecolor\":\"white\",\"ticks\":\"\"},\"baxis\":{\"gridcolor\":\"white\",\"linecolor\":\"white\",\"ticks\":\"\"},\"bgcolor\":\"#E5ECF6\",\"caxis\":{\"gridcolor\":\"white\",\"linecolor\":\"white\",\"ticks\":\"\"}},\"title\":{\"x\":0.05},\"xaxis\":{\"automargin\":true,\"gridcolor\":\"white\",\"linecolor\":\"white\",\"ticks\":\"\",\"title\":{\"standoff\":15},\"zerolinecolor\":\"white\",\"zerolinewidth\":2},\"yaxis\":{\"automargin\":true,\"gridcolor\":\"white\",\"linecolor\":\"white\",\"ticks\":\"\",\"title\":{\"standoff\":15},\"zerolinecolor\":\"white\",\"zerolinewidth\":2}}},\"title\":{\"text\":\"\"},\"xaxis\":{\"title\":{\"text\":\"Time\"}},\"yaxis\":{\"title\":{\"text\":\"Value\"}}},                        {\"responsive\": true}                    ).then(function(){\n",
       "                            \n",
       "var gd = document.getElementById('5f590f33-10ab-4cc3-ba43-eb4cd35dee9d');\n",
       "var x = new MutationObserver(function (mutations, observer) {{\n",
       "        var display = window.getComputedStyle(gd).display;\n",
       "        if (!display || display === 'none') {{\n",
       "            console.log([gd, 'removed!']);\n",
       "            Plotly.purge(gd);\n",
       "            observer.disconnect();\n",
       "        }}\n",
       "}});\n",
       "\n",
       "// Listen for the removal of the full notebook cells\n",
       "var notebookContainer = gd.closest('#notebook-container');\n",
       "if (notebookContainer) {{\n",
       "    x.observe(notebookContainer, {childList: true});\n",
       "}}\n",
       "\n",
       "// Listen for the clearing of the current output cell\n",
       "var outputEl = gd.closest('.output');\n",
       "if (outputEl) {{\n",
       "    x.observe(outputEl, {childList: true});\n",
       "}}\n",
       "\n",
       "                        })                };                });            </script>        </div>"
      ]
     },
     "metadata": {},
     "output_type": "display_data"
    }
   ],
   "source": [
    "results = model.run(solver=ODESolver)\n",
    "results.plotplotly(included_species_list=['Devils', 'I'])"
   ]
  },
  {
   "cell_type": "markdown",
   "metadata": {},
   "source": [
    "## Define prior distribution"
   ]
  },
  {
   "cell_type": "code",
   "execution_count": 10,
   "metadata": {},
   "outputs": [],
   "source": [
    "# take default from mode 1 as reference\n",
    "default_param = np.array(list(model.listOfParameters.items()))[:, 1]\n",
    "\n",
    "parameter_names = []\n",
    "bound = []\n",
    "for exp in default_param:\n",
    "    bound.append(float(exp.expression))\n",
    "    parameter_names.append(exp.name)\n",
    "\n",
    "# Set the bounds\n",
    "bound = np.array(bound)\n",
    "dmin = bound * 0.5\n",
    "dmax = bound * 1.5\n",
    "\n",
    "# Here we use uniform prior\n",
    "uni_prior = uniform_prior.UniformPrior(dmin, dmax)"
   ]
  },
  {
   "cell_type": "markdown",
   "metadata": {},
   "source": [
    "## Define simulator"
   ]
  },
  {
   "cell_type": "code",
   "execution_count": 11,
   "metadata": {},
   "outputs": [],
   "source": [
    "def set_model_parameters(params, model):\n",
    "    # params - array, need to have the same order as model.listOfParameters\n",
    "    for e, pname in enumerate(model.listOfParameters.keys()):\n",
    "        model.get_parameter(pname).set_expression(params[e])\n",
    "    return model\n",
    "\n",
    "# Here we use the GillesPy2 Solver\n",
    "def simulator(params, model):\n",
    "    model_update = set_model_parameters(params, model)\n",
    "\n",
    "    res = model_update.run(**kwargs)\n",
    "#     res = res.to_array()\n",
    "#     tot_res = np.asarray([x.T for x in res]) # reshape to (N, S, T)\n",
    "#     # should not contain timepoints\n",
    "#     tot_res = tot_res[:, 1:, :]\n",
    "    devils = res['Devils']\n",
    "    infected = res['I']\n",
    "\n",
    "    return np.vstack([devils, infected]).reshape(1, 2, -1)\n",
    "#     return tot_res\n",
    "\n",
    "# Wrapper, simulator function to abc should should only take one argument (the parameter point)\n",
    "def simulator2(x):\n",
    "    return simulator(x, model=model)"
   ]
  },
  {
   "cell_type": "markdown",
   "metadata": {},
   "source": [
    "## Define summary statistics and distance function"
   ]
  },
  {
   "cell_type": "code",
   "execution_count": 12,
   "metadata": {},
   "outputs": [],
   "source": [
    "# Function to generate summary statistics\n",
    "summ_func = auto_tsfresh.SummariesTSFRESH()\n",
    "\n",
    "# Distance\n",
    "# ns = naive_squared.NaiveSquaredDistance()"
   ]
  },
  {
   "cell_type": "markdown",
   "metadata": {},
   "source": [
    "## Start local cluster using dask client"
   ]
  },
  {
   "cell_type": "code",
   "execution_count": 13,
   "metadata": {
    "scrolled": true
   },
   "outputs": [],
   "source": [
    "c = Client()"
   ]
  },
  {
   "cell_type": "markdown",
   "metadata": {},
   "source": [
    "## Start abc instance"
   ]
  },
  {
   "cell_type": "code",
   "execution_count": 14,
   "metadata": {},
   "outputs": [],
   "source": [
    "abc = ReplenishmentSMCABC(obs,\n",
    "                          sim=simulator2,\n",
    "                          prior_function=uni_prior,\n",
    "                          summaries_function=summ_func.compute\n",
    "#                           distance_function=ns\n",
    "                         )\n",
    "abc.compute_fixed_mean(1)"
   ]
  },
  {
   "cell_type": "code",
   "execution_count": 15,
   "metadata": {},
   "outputs": [],
   "source": [
    "# First compute the fixed(observed) mean\n",
    "# abc.compute_fixed_mean(chunk_size=2)"
   ]
  },
  {
   "cell_type": "code",
   "execution_count": 16,
   "metadata": {},
   "outputs": [
    {
     "name": "stdout",
     "output_type": "stream",
     "text": [
      "<Client: 'tcp://127.0.0.1:44093' processes=8 threads=64, memory=125.60 GiB>\n"
     ]
    },
    {
     "ename": "SimulationError",
     "evalue": "argument 'solver=<gillespy2.solvers.cpp.ode_c_solver.ODECSolver object at 0x7fbb7f7ca700>' to run() failed.  Reason Given: expected str, bytes or os.PathLike object, not NoneType",
     "output_type": "error",
     "traceback": [
      "\u001b[0;31m---------------------------------------------------------------------------\u001b[0m",
      "\u001b[0;31mSimulationError\u001b[0m                           Traceback (most recent call last)",
      "\u001b[0;32m<ipython-input-16-66508b04b855>\u001b[0m in \u001b[0;36m<module>\u001b[0;34m\u001b[0m\n\u001b[1;32m      1\u001b[0m \u001b[0;32mwith\u001b[0m \u001b[0mdask\u001b[0m\u001b[0;34m.\u001b[0m\u001b[0mconfig\u001b[0m\u001b[0;34m.\u001b[0m\u001b[0mset\u001b[0m\u001b[0;34m(\u001b[0m\u001b[0mschedular\u001b[0m\u001b[0;34m=\u001b[0m\u001b[0;34m\"processes\"\u001b[0m\u001b[0;34m,\u001b[0m \u001b[0mworkers\u001b[0m\u001b[0;34m=\u001b[0m\u001b[0;36m20\u001b[0m\u001b[0;34m)\u001b[0m\u001b[0;34m:\u001b[0m\u001b[0;34m\u001b[0m\u001b[0;34m\u001b[0m\u001b[0m\n\u001b[1;32m      2\u001b[0m     \u001b[0mprint\u001b[0m\u001b[0;34m(\u001b[0m\u001b[0mc\u001b[0m\u001b[0;34m)\u001b[0m\u001b[0;34m\u001b[0m\u001b[0;34m\u001b[0m\u001b[0m\n\u001b[0;32m----> 3\u001b[0;31m     \u001b[0mres\u001b[0m \u001b[0;34m=\u001b[0m \u001b[0mabc\u001b[0m\u001b[0;34m.\u001b[0m\u001b[0minfer\u001b[0m\u001b[0;34m(\u001b[0m\u001b[0mnum_samples\u001b[0m\u001b[0;34m=\u001b[0m\u001b[0;36m100\u001b[0m\u001b[0;34m,\u001b[0m \u001b[0mbatch_size\u001b[0m\u001b[0;34m=\u001b[0m\u001b[0;36m10\u001b[0m\u001b[0;34m,\u001b[0m \u001b[0mchunk_size\u001b[0m\u001b[0;34m=\u001b[0m\u001b[0;36m2\u001b[0m\u001b[0;34m)\u001b[0m\u001b[0;34m\u001b[0m\u001b[0;34m\u001b[0m\u001b[0m\n\u001b[0m",
      "\u001b[0;32m/opt/conda/lib/python3.8/site-packages/sciope/inference/rep_smc_abc.py\u001b[0m in \u001b[0;36minfer\u001b[0;34m(self, num_samples, alpha, R_trial, c, p_min, batch_size, chunk_size)\u001b[0m\n\u001b[1;32m    172\u001b[0m \u001b[0;34m\u001b[0m\u001b[0m\n\u001b[1;32m    173\u001b[0m         \u001b[0;32mwhile\u001b[0m \u001b[0mpopulation\u001b[0m\u001b[0;34m.\u001b[0m\u001b[0mshape\u001b[0m\u001b[0;34m[\u001b[0m\u001b[0;36m0\u001b[0m\u001b[0;34m]\u001b[0m \u001b[0;34m<\u001b[0m \u001b[0mnum_samples\u001b[0m\u001b[0;34m:\u001b[0m\u001b[0;34m\u001b[0m\u001b[0;34m\u001b[0m\u001b[0m\n\u001b[0;32m--> 174\u001b[0;31m             \u001b[0mparams\u001b[0m\u001b[0;34m,\u001b[0m \u001b[0mdists\u001b[0m \u001b[0;34m=\u001b[0m \u001b[0mdask\u001b[0m\u001b[0;34m.\u001b[0m\u001b[0mcompute\u001b[0m\u001b[0;34m(\u001b[0m\u001b[0mgraph_dict\u001b[0m\u001b[0;34m[\u001b[0m\u001b[0;34m\"parameters\"\u001b[0m\u001b[0;34m]\u001b[0m\u001b[0;34m,\u001b[0m \u001b[0mgraph_dict\u001b[0m\u001b[0;34m[\u001b[0m\u001b[0;34m\"distances\"\u001b[0m\u001b[0;34m]\u001b[0m\u001b[0;34m)\u001b[0m\u001b[0;34m\u001b[0m\u001b[0;34m\u001b[0m\u001b[0m\n\u001b[0m\u001b[1;32m    175\u001b[0m             \u001b[0mparams\u001b[0m \u001b[0;34m=\u001b[0m \u001b[0mcore\u001b[0m\u001b[0;34m.\u001b[0m\u001b[0m_reshape_chunks\u001b[0m\u001b[0;34m(\u001b[0m\u001b[0mparams\u001b[0m\u001b[0;34m)\u001b[0m\u001b[0;34m\u001b[0m\u001b[0;34m\u001b[0m\u001b[0m\n\u001b[1;32m    176\u001b[0m             \u001b[0mdists\u001b[0m \u001b[0;34m=\u001b[0m \u001b[0mcore\u001b[0m\u001b[0;34m.\u001b[0m\u001b[0m_reshape_chunks\u001b[0m\u001b[0;34m(\u001b[0m\u001b[0mdists\u001b[0m\u001b[0;34m)\u001b[0m\u001b[0;34m\u001b[0m\u001b[0;34m\u001b[0m\u001b[0m\n",
      "\u001b[0;32m/opt/conda/lib/python3.8/site-packages/dask/base.py\u001b[0m in \u001b[0;36mcompute\u001b[0;34m(*args, **kwargs)\u001b[0m\n\u001b[1;32m    566\u001b[0m         \u001b[0mpostcomputes\u001b[0m\u001b[0;34m.\u001b[0m\u001b[0mappend\u001b[0m\u001b[0;34m(\u001b[0m\u001b[0mx\u001b[0m\u001b[0;34m.\u001b[0m\u001b[0m__dask_postcompute__\u001b[0m\u001b[0;34m(\u001b[0m\u001b[0;34m)\u001b[0m\u001b[0;34m)\u001b[0m\u001b[0;34m\u001b[0m\u001b[0;34m\u001b[0m\u001b[0m\n\u001b[1;32m    567\u001b[0m \u001b[0;34m\u001b[0m\u001b[0m\n\u001b[0;32m--> 568\u001b[0;31m     \u001b[0mresults\u001b[0m \u001b[0;34m=\u001b[0m \u001b[0mschedule\u001b[0m\u001b[0;34m(\u001b[0m\u001b[0mdsk\u001b[0m\u001b[0;34m,\u001b[0m \u001b[0mkeys\u001b[0m\u001b[0;34m,\u001b[0m \u001b[0;34m**\u001b[0m\u001b[0mkwargs\u001b[0m\u001b[0;34m)\u001b[0m\u001b[0;34m\u001b[0m\u001b[0;34m\u001b[0m\u001b[0m\n\u001b[0m\u001b[1;32m    569\u001b[0m     \u001b[0;32mreturn\u001b[0m \u001b[0mrepack\u001b[0m\u001b[0;34m(\u001b[0m\u001b[0;34m[\u001b[0m\u001b[0mf\u001b[0m\u001b[0;34m(\u001b[0m\u001b[0mr\u001b[0m\u001b[0;34m,\u001b[0m \u001b[0;34m*\u001b[0m\u001b[0ma\u001b[0m\u001b[0;34m)\u001b[0m \u001b[0;32mfor\u001b[0m \u001b[0mr\u001b[0m\u001b[0;34m,\u001b[0m \u001b[0;34m(\u001b[0m\u001b[0mf\u001b[0m\u001b[0;34m,\u001b[0m \u001b[0ma\u001b[0m\u001b[0;34m)\u001b[0m \u001b[0;32min\u001b[0m \u001b[0mzip\u001b[0m\u001b[0;34m(\u001b[0m\u001b[0mresults\u001b[0m\u001b[0;34m,\u001b[0m \u001b[0mpostcomputes\u001b[0m\u001b[0;34m)\u001b[0m\u001b[0;34m]\u001b[0m\u001b[0;34m)\u001b[0m\u001b[0;34m\u001b[0m\u001b[0;34m\u001b[0m\u001b[0m\n\u001b[1;32m    570\u001b[0m \u001b[0;34m\u001b[0m\u001b[0m\n",
      "\u001b[0;32m/opt/conda/lib/python3.8/site-packages/distributed/client.py\u001b[0m in \u001b[0;36mget\u001b[0;34m(self, dsk, keys, workers, allow_other_workers, resources, sync, asynchronous, direct, retries, priority, fifo_timeout, actors, **kwargs)\u001b[0m\n\u001b[1;32m   2741\u001b[0m                     \u001b[0mshould_rejoin\u001b[0m \u001b[0;34m=\u001b[0m \u001b[0;32mFalse\u001b[0m\u001b[0;34m\u001b[0m\u001b[0;34m\u001b[0m\u001b[0m\n\u001b[1;32m   2742\u001b[0m             \u001b[0;32mtry\u001b[0m\u001b[0;34m:\u001b[0m\u001b[0;34m\u001b[0m\u001b[0;34m\u001b[0m\u001b[0m\n\u001b[0;32m-> 2743\u001b[0;31m                 \u001b[0mresults\u001b[0m \u001b[0;34m=\u001b[0m \u001b[0mself\u001b[0m\u001b[0;34m.\u001b[0m\u001b[0mgather\u001b[0m\u001b[0;34m(\u001b[0m\u001b[0mpacked\u001b[0m\u001b[0;34m,\u001b[0m \u001b[0masynchronous\u001b[0m\u001b[0;34m=\u001b[0m\u001b[0masynchronous\u001b[0m\u001b[0;34m,\u001b[0m \u001b[0mdirect\u001b[0m\u001b[0;34m=\u001b[0m\u001b[0mdirect\u001b[0m\u001b[0;34m)\u001b[0m\u001b[0;34m\u001b[0m\u001b[0;34m\u001b[0m\u001b[0m\n\u001b[0m\u001b[1;32m   2744\u001b[0m             \u001b[0;32mfinally\u001b[0m\u001b[0;34m:\u001b[0m\u001b[0;34m\u001b[0m\u001b[0;34m\u001b[0m\u001b[0m\n\u001b[1;32m   2745\u001b[0m                 \u001b[0;32mfor\u001b[0m \u001b[0mf\u001b[0m \u001b[0;32min\u001b[0m \u001b[0mfutures\u001b[0m\u001b[0;34m.\u001b[0m\u001b[0mvalues\u001b[0m\u001b[0;34m(\u001b[0m\u001b[0;34m)\u001b[0m\u001b[0;34m:\u001b[0m\u001b[0;34m\u001b[0m\u001b[0;34m\u001b[0m\u001b[0m\n",
      "\u001b[0;32m/opt/conda/lib/python3.8/site-packages/distributed/client.py\u001b[0m in \u001b[0;36mgather\u001b[0;34m(self, futures, errors, direct, asynchronous)\u001b[0m\n\u001b[1;32m   2018\u001b[0m             \u001b[0;32melse\u001b[0m\u001b[0;34m:\u001b[0m\u001b[0;34m\u001b[0m\u001b[0;34m\u001b[0m\u001b[0m\n\u001b[1;32m   2019\u001b[0m                 \u001b[0mlocal_worker\u001b[0m \u001b[0;34m=\u001b[0m \u001b[0;32mNone\u001b[0m\u001b[0;34m\u001b[0m\u001b[0;34m\u001b[0m\u001b[0m\n\u001b[0;32m-> 2020\u001b[0;31m             return self.sync(\n\u001b[0m\u001b[1;32m   2021\u001b[0m                 \u001b[0mself\u001b[0m\u001b[0;34m.\u001b[0m\u001b[0m_gather\u001b[0m\u001b[0;34m,\u001b[0m\u001b[0;34m\u001b[0m\u001b[0;34m\u001b[0m\u001b[0m\n\u001b[1;32m   2022\u001b[0m                 \u001b[0mfutures\u001b[0m\u001b[0;34m,\u001b[0m\u001b[0;34m\u001b[0m\u001b[0;34m\u001b[0m\u001b[0m\n",
      "\u001b[0;32m/opt/conda/lib/python3.8/site-packages/distributed/client.py\u001b[0m in \u001b[0;36msync\u001b[0;34m(self, func, asynchronous, callback_timeout, *args, **kwargs)\u001b[0m\n\u001b[1;32m    859\u001b[0m             \u001b[0;32mreturn\u001b[0m \u001b[0mfuture\u001b[0m\u001b[0;34m\u001b[0m\u001b[0;34m\u001b[0m\u001b[0m\n\u001b[1;32m    860\u001b[0m         \u001b[0;32melse\u001b[0m\u001b[0;34m:\u001b[0m\u001b[0;34m\u001b[0m\u001b[0;34m\u001b[0m\u001b[0m\n\u001b[0;32m--> 861\u001b[0;31m             return sync(\n\u001b[0m\u001b[1;32m    862\u001b[0m                 \u001b[0mself\u001b[0m\u001b[0;34m.\u001b[0m\u001b[0mloop\u001b[0m\u001b[0;34m,\u001b[0m \u001b[0mfunc\u001b[0m\u001b[0;34m,\u001b[0m \u001b[0;34m*\u001b[0m\u001b[0margs\u001b[0m\u001b[0;34m,\u001b[0m \u001b[0mcallback_timeout\u001b[0m\u001b[0;34m=\u001b[0m\u001b[0mcallback_timeout\u001b[0m\u001b[0;34m,\u001b[0m \u001b[0;34m**\u001b[0m\u001b[0mkwargs\u001b[0m\u001b[0;34m\u001b[0m\u001b[0;34m\u001b[0m\u001b[0m\n\u001b[1;32m    863\u001b[0m             )\n",
      "\u001b[0;32m/opt/conda/lib/python3.8/site-packages/distributed/utils.py\u001b[0m in \u001b[0;36msync\u001b[0;34m(loop, func, callback_timeout, *args, **kwargs)\u001b[0m\n\u001b[1;32m    324\u001b[0m     \u001b[0;32mif\u001b[0m \u001b[0merror\u001b[0m\u001b[0;34m[\u001b[0m\u001b[0;36m0\u001b[0m\u001b[0;34m]\u001b[0m\u001b[0;34m:\u001b[0m\u001b[0;34m\u001b[0m\u001b[0;34m\u001b[0m\u001b[0m\n\u001b[1;32m    325\u001b[0m         \u001b[0mtyp\u001b[0m\u001b[0;34m,\u001b[0m \u001b[0mexc\u001b[0m\u001b[0;34m,\u001b[0m \u001b[0mtb\u001b[0m \u001b[0;34m=\u001b[0m \u001b[0merror\u001b[0m\u001b[0;34m[\u001b[0m\u001b[0;36m0\u001b[0m\u001b[0;34m]\u001b[0m\u001b[0;34m\u001b[0m\u001b[0;34m\u001b[0m\u001b[0m\n\u001b[0;32m--> 326\u001b[0;31m         \u001b[0;32mraise\u001b[0m \u001b[0mexc\u001b[0m\u001b[0;34m.\u001b[0m\u001b[0mwith_traceback\u001b[0m\u001b[0;34m(\u001b[0m\u001b[0mtb\u001b[0m\u001b[0;34m)\u001b[0m\u001b[0;34m\u001b[0m\u001b[0;34m\u001b[0m\u001b[0m\n\u001b[0m\u001b[1;32m    327\u001b[0m     \u001b[0;32melse\u001b[0m\u001b[0;34m:\u001b[0m\u001b[0;34m\u001b[0m\u001b[0;34m\u001b[0m\u001b[0m\n\u001b[1;32m    328\u001b[0m         \u001b[0;32mreturn\u001b[0m \u001b[0mresult\u001b[0m\u001b[0;34m[\u001b[0m\u001b[0;36m0\u001b[0m\u001b[0;34m]\u001b[0m\u001b[0;34m\u001b[0m\u001b[0;34m\u001b[0m\u001b[0m\n",
      "\u001b[0;32m/opt/conda/lib/python3.8/site-packages/distributed/utils.py\u001b[0m in \u001b[0;36mf\u001b[0;34m()\u001b[0m\n\u001b[1;32m    307\u001b[0m             \u001b[0;32mif\u001b[0m \u001b[0mcallback_timeout\u001b[0m \u001b[0;32mis\u001b[0m \u001b[0;32mnot\u001b[0m \u001b[0;32mNone\u001b[0m\u001b[0;34m:\u001b[0m\u001b[0;34m\u001b[0m\u001b[0;34m\u001b[0m\u001b[0m\n\u001b[1;32m    308\u001b[0m                 \u001b[0mfuture\u001b[0m \u001b[0;34m=\u001b[0m \u001b[0masyncio\u001b[0m\u001b[0;34m.\u001b[0m\u001b[0mwait_for\u001b[0m\u001b[0;34m(\u001b[0m\u001b[0mfuture\u001b[0m\u001b[0;34m,\u001b[0m \u001b[0mcallback_timeout\u001b[0m\u001b[0;34m)\u001b[0m\u001b[0;34m\u001b[0m\u001b[0;34m\u001b[0m\u001b[0m\n\u001b[0;32m--> 309\u001b[0;31m             \u001b[0mresult\u001b[0m\u001b[0;34m[\u001b[0m\u001b[0;36m0\u001b[0m\u001b[0;34m]\u001b[0m \u001b[0;34m=\u001b[0m \u001b[0;32myield\u001b[0m \u001b[0mfuture\u001b[0m\u001b[0;34m\u001b[0m\u001b[0;34m\u001b[0m\u001b[0m\n\u001b[0m\u001b[1;32m    310\u001b[0m         \u001b[0;32mexcept\u001b[0m \u001b[0mException\u001b[0m\u001b[0;34m:\u001b[0m\u001b[0;34m\u001b[0m\u001b[0;34m\u001b[0m\u001b[0m\n\u001b[1;32m    311\u001b[0m             \u001b[0merror\u001b[0m\u001b[0;34m[\u001b[0m\u001b[0;36m0\u001b[0m\u001b[0;34m]\u001b[0m \u001b[0;34m=\u001b[0m \u001b[0msys\u001b[0m\u001b[0;34m.\u001b[0m\u001b[0mexc_info\u001b[0m\u001b[0;34m(\u001b[0m\u001b[0;34m)\u001b[0m\u001b[0;34m\u001b[0m\u001b[0;34m\u001b[0m\u001b[0m\n",
      "\u001b[0;32m/opt/conda/lib/python3.8/site-packages/tornado/gen.py\u001b[0m in \u001b[0;36mrun\u001b[0;34m(self)\u001b[0m\n\u001b[1;32m    733\u001b[0m \u001b[0;34m\u001b[0m\u001b[0m\n\u001b[1;32m    734\u001b[0m                     \u001b[0;32mtry\u001b[0m\u001b[0;34m:\u001b[0m\u001b[0;34m\u001b[0m\u001b[0;34m\u001b[0m\u001b[0m\n\u001b[0;32m--> 735\u001b[0;31m                         \u001b[0mvalue\u001b[0m \u001b[0;34m=\u001b[0m \u001b[0mfuture\u001b[0m\u001b[0;34m.\u001b[0m\u001b[0mresult\u001b[0m\u001b[0;34m(\u001b[0m\u001b[0;34m)\u001b[0m\u001b[0;34m\u001b[0m\u001b[0;34m\u001b[0m\u001b[0m\n\u001b[0m\u001b[1;32m    736\u001b[0m                     \u001b[0;32mexcept\u001b[0m \u001b[0mException\u001b[0m\u001b[0;34m:\u001b[0m\u001b[0;34m\u001b[0m\u001b[0;34m\u001b[0m\u001b[0m\n\u001b[1;32m    737\u001b[0m                         \u001b[0mexc_info\u001b[0m \u001b[0;34m=\u001b[0m \u001b[0msys\u001b[0m\u001b[0;34m.\u001b[0m\u001b[0mexc_info\u001b[0m\u001b[0;34m(\u001b[0m\u001b[0;34m)\u001b[0m\u001b[0;34m\u001b[0m\u001b[0;34m\u001b[0m\u001b[0m\n",
      "\u001b[0;32m/opt/conda/lib/python3.8/site-packages/distributed/client.py\u001b[0m in \u001b[0;36m_gather\u001b[0;34m(self, futures, errors, direct, local_worker)\u001b[0m\n\u001b[1;32m   1883\u001b[0m                             \u001b[0mexc\u001b[0m \u001b[0;34m=\u001b[0m \u001b[0mCancelledError\u001b[0m\u001b[0;34m(\u001b[0m\u001b[0mkey\u001b[0m\u001b[0;34m)\u001b[0m\u001b[0;34m\u001b[0m\u001b[0;34m\u001b[0m\u001b[0m\n\u001b[1;32m   1884\u001b[0m                         \u001b[0;32melse\u001b[0m\u001b[0;34m:\u001b[0m\u001b[0;34m\u001b[0m\u001b[0;34m\u001b[0m\u001b[0m\n\u001b[0;32m-> 1885\u001b[0;31m                             \u001b[0;32mraise\u001b[0m \u001b[0mexception\u001b[0m\u001b[0;34m.\u001b[0m\u001b[0mwith_traceback\u001b[0m\u001b[0;34m(\u001b[0m\u001b[0mtraceback\u001b[0m\u001b[0;34m)\u001b[0m\u001b[0;34m\u001b[0m\u001b[0;34m\u001b[0m\u001b[0m\n\u001b[0m\u001b[1;32m   1886\u001b[0m                         \u001b[0;32mraise\u001b[0m \u001b[0mexc\u001b[0m\u001b[0;34m\u001b[0m\u001b[0;34m\u001b[0m\u001b[0m\n\u001b[1;32m   1887\u001b[0m                     \u001b[0;32mif\u001b[0m \u001b[0merrors\u001b[0m \u001b[0;34m==\u001b[0m \u001b[0;34m\"skip\"\u001b[0m\u001b[0;34m:\u001b[0m\u001b[0;34m\u001b[0m\u001b[0;34m\u001b[0m\u001b[0m\n",
      "\u001b[0;32m/opt/conda/lib/python3.8/site-packages/sciope/core/core.py\u001b[0m in \u001b[0;36mdelay_func_chunk\u001b[0;34m()\u001b[0m\n\u001b[1;32m     32\u001b[0m     \u001b[0mres\u001b[0m \u001b[0;34m=\u001b[0m \u001b[0;34m[\u001b[0m\u001b[0;34m]\u001b[0m\u001b[0;34m\u001b[0m\u001b[0;34m\u001b[0m\u001b[0m\n\u001b[1;32m     33\u001b[0m     \u001b[0;32mfor\u001b[0m \u001b[0mx\u001b[0m \u001b[0;32min\u001b[0m \u001b[0mchunk\u001b[0m\u001b[0;34m:\u001b[0m\u001b[0;34m\u001b[0m\u001b[0;34m\u001b[0m\u001b[0m\n\u001b[0;32m---> 34\u001b[0;31m         \u001b[0mres\u001b[0m\u001b[0;34m.\u001b[0m\u001b[0mappend\u001b[0m\u001b[0;34m(\u001b[0m\u001b[0mfunc\u001b[0m\u001b[0;34m(\u001b[0m\u001b[0mx\u001b[0m\u001b[0;34m)\u001b[0m\u001b[0;34m)\u001b[0m\u001b[0;34m\u001b[0m\u001b[0;34m\u001b[0m\u001b[0m\n\u001b[0m\u001b[1;32m     35\u001b[0m     \u001b[0;32mreturn\u001b[0m \u001b[0mres\u001b[0m\u001b[0;34m\u001b[0m\u001b[0;34m\u001b[0m\u001b[0m\n\u001b[1;32m     36\u001b[0m \u001b[0;34m\u001b[0m\u001b[0m\n",
      "\u001b[0;32m<ipython-input-11-c848763c384a>\u001b[0m in \u001b[0;36msimulator2\u001b[0;34m()\u001b[0m\n\u001b[1;32m     22\u001b[0m \u001b[0;31m# Wrapper, simulator function to abc should should only take one argument (the parameter point)\u001b[0m\u001b[0;34m\u001b[0m\u001b[0;34m\u001b[0m\u001b[0;34m\u001b[0m\u001b[0m\n\u001b[1;32m     23\u001b[0m \u001b[0;32mdef\u001b[0m \u001b[0msimulator2\u001b[0m\u001b[0;34m(\u001b[0m\u001b[0mx\u001b[0m\u001b[0;34m)\u001b[0m\u001b[0;34m:\u001b[0m\u001b[0;34m\u001b[0m\u001b[0;34m\u001b[0m\u001b[0m\n\u001b[0;32m---> 24\u001b[0;31m     \u001b[0;32mreturn\u001b[0m \u001b[0msimulator\u001b[0m\u001b[0;34m(\u001b[0m\u001b[0mx\u001b[0m\u001b[0;34m,\u001b[0m \u001b[0mmodel\u001b[0m\u001b[0;34m=\u001b[0m\u001b[0mmodel\u001b[0m\u001b[0;34m)\u001b[0m\u001b[0;34m\u001b[0m\u001b[0;34m\u001b[0m\u001b[0m\n\u001b[0m",
      "\u001b[0;32m<ipython-input-11-c848763c384a>\u001b[0m in \u001b[0;36msimulator\u001b[0;34m()\u001b[0m\n\u001b[1;32m      9\u001b[0m     \u001b[0mmodel_update\u001b[0m \u001b[0;34m=\u001b[0m \u001b[0mset_model_parameters\u001b[0m\u001b[0;34m(\u001b[0m\u001b[0mparams\u001b[0m\u001b[0;34m,\u001b[0m \u001b[0mmodel\u001b[0m\u001b[0;34m)\u001b[0m\u001b[0;34m\u001b[0m\u001b[0;34m\u001b[0m\u001b[0m\n\u001b[1;32m     10\u001b[0m \u001b[0;34m\u001b[0m\u001b[0m\n\u001b[0;32m---> 11\u001b[0;31m     \u001b[0mres\u001b[0m \u001b[0;34m=\u001b[0m \u001b[0mmodel_update\u001b[0m\u001b[0;34m.\u001b[0m\u001b[0mrun\u001b[0m\u001b[0;34m(\u001b[0m\u001b[0;34m**\u001b[0m\u001b[0mkwargs\u001b[0m\u001b[0;34m)\u001b[0m\u001b[0;34m\u001b[0m\u001b[0;34m\u001b[0m\u001b[0m\n\u001b[0m\u001b[1;32m     12\u001b[0m \u001b[0;31m#     res = res.to_array()\u001b[0m\u001b[0;34m\u001b[0m\u001b[0;34m\u001b[0m\u001b[0;34m\u001b[0m\u001b[0m\n\u001b[1;32m     13\u001b[0m \u001b[0;31m#     tot_res = np.asarray([x.T for x in res]) # reshape to (N, S, T)\u001b[0m\u001b[0;34m\u001b[0m\u001b[0;34m\u001b[0m\u001b[0;34m\u001b[0m\u001b[0m\n",
      "\u001b[0;32m/opt/conda/lib/python3.8/site-packages/gillespy2/core/model.py\u001b[0m in \u001b[0;36mrun\u001b[0;34m()\u001b[0m\n\u001b[1;32m    986\u001b[0m                                 \u001b[0;34m\" system, to ensure that GillesPy2 C solvers will\"\u001b[0m\u001b[0;34m\u001b[0m\u001b[0;34m\u001b[0m\u001b[0m\n\u001b[1;32m    987\u001b[0m                                 \" run properly.\")\n\u001b[0;32m--> 988\u001b[0;31m             raise SimulationError(\n\u001b[0m\u001b[1;32m    989\u001b[0m                 \"argument 'solver={}' to run() failed.  Reason Given: {}\".format(solver, e))\n\u001b[1;32m    990\u001b[0m \u001b[0;34m\u001b[0m\u001b[0m\n",
      "\u001b[0;31mSimulationError\u001b[0m: argument 'solver=<gillespy2.solvers.cpp.ode_c_solver.ODECSolver object at 0x7fbb7f7ca700>' to run() failed.  Reason Given: expected str, bytes or os.PathLike object, not NoneType"
     ]
    }
   ],
   "source": [
    "with dask.config.set(schedular=\"processes\", workers=20):\n",
    "    print(c)\n",
    "    res = abc.infer(num_samples=100, batch_size=10, chunk_size=2)"
   ]
  },
  {
   "cell_type": "code",
   "execution_count": null,
   "metadata": {},
   "outputs": [],
   "source": [
    "# mae_inference = mean_absolute_error(bound, abc.results['inferred_parameters'])"
   ]
  },
  {
   "cell_type": "markdown",
   "metadata": {},
   "source": [
    "## Analysis"
   ]
  },
  {
   "cell_type": "code",
   "execution_count": null,
   "metadata": {},
   "outputs": [],
   "source": [
    "posterior = res['accepted_samples']"
   ]
  },
  {
   "cell_type": "code",
   "execution_count": null,
   "metadata": {
    "scrolled": false
   },
   "outputs": [],
   "source": [
    "fig, ax = plt.subplots(posterior.shape[1], posterior.shape[1])\n",
    "for i in range(posterior.shape[1]):\n",
    "    for j in range(posterior.shape[1]):\n",
    "        if i > j:\n",
    "            ax[i,j].axis('off')\n",
    "        else:\n",
    "            if i == j:\n",
    "                ax[i,j].hist(posterior[:,i], bins = 'auto')\n",
    "                ax[i,j].axvline(np.median(posterior[:,i]), color = 'C1')\n",
    "                ax[i,j].set_xlim(dmin[i], dmax[i])\n",
    "            else:\n",
    "                ax[i,j].scatter(posterior[:,j], posterior[:,i])\n",
    "                ax[i,j].set_ylim(dmin[i], dmax[i])\n",
    "                ax[i,j].set_xlim(dmin[j], dmax[j])\n",
    "    ax[i,0].set_ylabel(parameter_names[i])\n",
    "    ax[0,i].set_title(parameter_names[i])\n",
    "fig.set_size_inches(10,10)\n",
    "fig.tight_layout()"
   ]
  },
  {
   "cell_type": "code",
   "execution_count": null,
   "metadata": {},
   "outputs": [],
   "source": [
    "fig, ax = plt.subplots(2)\n",
    "for i in range(posterior.shape[0]):\n",
    "    res = simulator2(posterior[i,:])\n",
    "    ax[0].plot(res[0,0,:], color = 'C0', alpha = 0.02)\n",
    "    ax[1].plot(res[0,1,:], color = 'C0', alpha = 0.02)\n",
    "ax[0].plot(obs[0,0,:], color = 'black', label = 'Observed Data')\n",
    "ax[1].plot(obs[0,1,:], color = 'black', label = 'Observed Data')\n",
    "ax[0].set_title(\"Total Devil Population\")\n",
    "ax[1].set_title(\"Infected\")\n",
    "ax[0].legend()\n",
    "ax[1].legend()\n",
    "fig.set_size_inches(12, 8)"
   ]
  },
  {
   "cell_type": "code",
   "execution_count": null,
   "metadata": {},
   "outputs": [],
   "source": []
  }
 ],
 "metadata": {
  "kernelspec": {
   "display_name": "Python 3",
   "language": "python",
   "name": "python3"
  },
  "language_info": {
   "codemirror_mode": {
    "name": "ipython",
    "version": 3
   },
   "file_extension": ".py",
   "mimetype": "text/x-python",
   "name": "python",
   "nbconvert_exporter": "python",
   "pygments_lexer": "ipython3",
   "version": "3.8.5"
  }
 },
 "nbformat": 4,
 "nbformat_minor": 4
}
