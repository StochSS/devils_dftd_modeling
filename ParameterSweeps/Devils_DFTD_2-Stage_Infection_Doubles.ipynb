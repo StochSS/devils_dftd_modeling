{
 "cells": [
  {
   "cell_type": "markdown",
   "metadata": {},
   "source": [
    "# Devils DFTD 2-Stage Infection"
   ]
  },
  {
   "cell_type": "code",
   "execution_count": null,
   "metadata": {},
   "outputs": [],
   "source": [
    "import os\n",
    "import sys\n",
    "sys.path.insert(1, os.path.abspath(os.path.join(os.getcwd(), '../../GillesPy2')))"
   ]
  },
  {
   "cell_type": "code",
   "execution_count": null,
   "metadata": {},
   "outputs": [],
   "source": [
    "import time\n",
    "import json\n",
    "import pickle"
   ]
  },
  {
   "cell_type": "code",
   "execution_count": null,
   "metadata": {},
   "outputs": [],
   "source": [
    "from gillespy2 import TauHybridCSolver"
   ]
  },
  {
   "cell_type": "code",
   "execution_count": null,
   "metadata": {},
   "outputs": [],
   "source": [
    "from dask.distributed import Client\n",
    "from dask import delayed"
   ]
  },
  {
   "cell_type": "code",
   "execution_count": null,
   "metadata": {
    "execution": {
     "iopub.execute_input": "2022-01-25T15:50:15.923128Z",
     "iopub.status.busy": "2022-01-25T15:50:15.922514Z",
     "iopub.status.idle": "2022-01-25T15:50:15.925110Z",
     "shell.execute_reply": "2022-01-25T15:50:15.924503Z"
    }
   },
   "outputs": [],
   "source": [
    "from Devils_DFTD_2_Stage_Infection import DevilsDFTD2StageInfection\n",
    "from Simulation import Simulation, devil_pop\n",
    "from ParameterSweep import ParameterSweep"
   ]
  },
  {
   "cell_type": "code",
   "execution_count": null,
   "metadata": {},
   "outputs": [],
   "source": [
    "# c = Client(n_workers=8, threads_per_worker=1)\n",
    "c = Client(\"james.cs.unca.edu:12345\")"
   ]
  },
  {
   "cell_type": "markdown",
   "metadata": {},
   "source": [
    "## With Immunity + Vaccination Interventions\n",
    "### Load existing state"
   ]
  },
  {
   "cell_type": "code",
   "execution_count": null,
   "metadata": {},
   "outputs": [],
   "source": [
    "imvc_state_path = \"./DevilsDFTD2StageInfectionWithImmunityAndVaccinationState.p\"\n",
    "if os.path.exists(imvc_state_path):\n",
    "    with open(imvc_state_path, \"rb\") as imvc_state_file:\n",
    "        imvc_state = pickle.load(imvc_state_file)\n",
    "    \n",
    "    # Model\n",
    "    imvc_model = imvc_state['model']\n",
    "    # Simulation\n",
    "    imvc_sim = Simulation.load_state(imvc_state['sim'])\n",
    "    # Parameter Sweep Job\n",
    "    imvc_job = ParameterSweep.load_state(imvc_state['job'])\n",
    "else:\n",
    "    imvc_state = None\n",
    "    print(\"No existing immunity + vaccination state found.\")\n",
    "    \n",
    "    # Model\n",
    "    imvc_model = DevilsDFTD2StageInfection(devil_pop, interventions=[\"immunity\", \"vaccination\"])\n",
    "    # Simulation\n",
    "    imvc_sim = Simulation(model=imvc_model)\n",
    "    # Parameter Sweep Job\n",
    "    imvc_job = ParameterSweep(model=imvc_model)"
   ]
  },
  {
   "cell_type": "markdown",
   "metadata": {},
   "source": [
    "### Solver"
   ]
  },
  {
   "cell_type": "code",
   "execution_count": null,
   "metadata": {},
   "outputs": [],
   "source": [
    "imvc_sol = delayed(TauHybridCSolver)(model=imvc_model, variable=True)"
   ]
  },
  {
   "cell_type": "markdown",
   "metadata": {},
   "source": [
    "### Simulation"
   ]
  },
  {
   "cell_type": "code",
   "execution_count": null,
   "metadata": {},
   "outputs": [],
   "source": [
    "imvc_sim.configure(solver=imvc_sol)\n",
    "%time _ = imvc_sim.run(use_existing_results=True)"
   ]
  },
  {
   "cell_type": "code",
   "execution_count": null,
   "metadata": {},
   "outputs": [],
   "source": [
    "imvc_sim.output_dftd_devils_probs(print_probs=True)"
   ]
  },
  {
   "cell_type": "markdown",
   "metadata": {},
   "source": [
    "### Visualize Simulation Results"
   ]
  },
  {
   "cell_type": "code",
   "execution_count": null,
   "metadata": {},
   "outputs": [],
   "source": [
    "imvc_sim.plot()"
   ]
  },
  {
   "cell_type": "markdown",
   "metadata": {},
   "source": [
    "### Parameter Sweep"
   ]
  },
  {
   "cell_type": "code",
   "execution_count": null,
   "metadata": {},
   "outputs": [],
   "source": [
    "imvc_params = [\n",
    "    {\"parameter\": \"immunity_growth_rate\", \"range\": [0.005, 0.0075, 0.01]},\n",
    "#     {\"parameter\": \"immunity_growth_rate\", \"range\": [0.0075, 0.01, 0.0125]},\n",
    "#     {\"parameter\": \"immunity_max_level\", \"range\": [50, 75, 100]},\n",
    "    {\"parameter\": \"immunity_start\", \"range\": [384, 444, 504]},\n",
    "    {\"parameter\": \"vaccinated_infection_rate\", \"range\": [0.1, 0.2, 0.4, 0.6]},\n",
    "    {\"parameter\": \"vaccination_proportion\", \"range\": [0.6, 0.8, 1.0]},\n",
    "    {\"parameter\": \"vacc_program_length\", \"range\": [3, 5, 10]},\n",
    "    {\"parameter\": \"vaccine_frequency\", \"range\": [2, 4, 6]}\n",
    "]"
   ]
  },
  {
   "cell_type": "code",
   "execution_count": null,
   "metadata": {},
   "outputs": [],
   "source": [
    "%time imvc_job.run(solver=imvc_sol, params=imvc_params)"
   ]
  },
  {
   "cell_type": "markdown",
   "metadata": {},
   "source": [
    "### Visualize Parameter Sweep Results"
   ]
  },
  {
   "cell_type": "code",
   "execution_count": null,
   "metadata": {},
   "outputs": [],
   "source": [
    "# res_sub_keys=[\"immunity_start:444\", \"immunity_growth_rate:0.01\", \"immunity_max_level:100\",\n",
    "#               \"vaccine_frequency:6\", \"vaccination_proportion:0.8\", \"vaccinated_infection_rate:0.6\"]\n",
    "res_sub_keys=[\"immunity_start:444\", \"immunity_growth_rate:0.01\",\n",
    "              \"vaccine_frequency:6\", \"vaccination_proportion:0.8\", \"vaccinated_infection_rate:0.6\"]\n",
    "imvc_job.plot_devil_dftd_extinction_over_param(\n",
    "    res_sub_keys=res_sub_keys, key=\"vacc_program_length\", param_label=\"Vaccine Program Length\", units=\"years\"\n",
    ")"
   ]
  },
  {
   "cell_type": "code",
   "execution_count": null,
   "metadata": {},
   "outputs": [],
   "source": [
    "imvc_job.explore_results()"
   ]
  },
  {
   "cell_type": "markdown",
   "metadata": {},
   "source": [
    "### Store Immunity State"
   ]
  },
  {
   "cell_type": "code",
   "execution_count": null,
   "metadata": {},
   "outputs": [],
   "source": [
    "imvc_state = {\"model\": imvc_model, \"sim\":imvc_sim, \"job\":imvc_job}\n",
    "with open(imvc_state_path, \"wb\") as imvc_state_file:\n",
    "    pickle.dump(imvc_state, imvc_state_file)"
   ]
  },
  {
   "cell_type": "markdown",
   "metadata": {},
   "source": [
    "## With Immunity + Culling Interventions\n",
    "### Load existing state"
   ]
  },
  {
   "cell_type": "code",
   "execution_count": null,
   "metadata": {
    "execution": {
     "iopub.execute_input": "2022-01-25T15:50:16.021794Z",
     "iopub.status.busy": "2022-01-25T15:50:16.020730Z",
     "iopub.status.idle": "2022-01-25T15:50:16.072731Z",
     "shell.execute_reply": "2022-01-25T15:50:16.071818Z"
    }
   },
   "outputs": [],
   "source": [
    "imcl_state_path = \"./DevilsDFTD2StageInfectionWithImmunityAndCullingState.p\"\n",
    "if os.path.exists(imcl_state_path):\n",
    "    with open(imcl_state_path, \"rb\") as imcl_state_file:\n",
    "        imcl_state = pickle.load(imcl_state_file)\n",
    "        \n",
    "    # Model\n",
    "    imcl_model = imcl_state['model']\n",
    "    # Simulation\n",
    "    imcl_sim = Simulation.load_state(imcl_state['sim'])\n",
    "    # Parameter Sweep Job\n",
    "    imcl_job = ParameterSweep.load_state(imcl_state['job'])\n",
    "else:\n",
    "    imcl_state = None\n",
    "    print(\"No existing immunity + culling state found.\")\n",
    "\n",
    "    # Model\n",
    "    imcl_model = DevilsDFTD2StageInfection(devil_pop, interventions=[\"immunity\", \"culling\"])\n",
    "    # Simulation\n",
    "    imcl_sim = Simulation(model=imcl_model)\n",
    "    # Parameter Sweep Job\n",
    "    imcl_job = ParameterSweep(model=imcl_model)"
   ]
  },
  {
   "cell_type": "markdown",
   "metadata": {},
   "source": [
    "### Solver"
   ]
  },
  {
   "cell_type": "code",
   "execution_count": null,
   "metadata": {},
   "outputs": [],
   "source": [
    "imcl_sol = delayed(TauHybridCSolver)(model=imcl_model, variable=True)"
   ]
  },
  {
   "cell_type": "markdown",
   "metadata": {},
   "source": [
    "### Simulation"
   ]
  },
  {
   "cell_type": "code",
   "execution_count": null,
   "metadata": {
    "execution": {
     "iopub.execute_input": "2022-01-25T15:50:16.095185Z",
     "iopub.status.busy": "2022-01-25T15:50:16.094809Z",
     "iopub.status.idle": "2022-01-25T15:50:59.757246Z",
     "shell.execute_reply": "2022-01-25T15:50:59.758900Z"
    },
    "scrolled": false
   },
   "outputs": [],
   "source": [
    "imcl_sim.configure(solver=imcl_sol)\n",
    "%time _ = imcl_sim.run(use_existing_results=True)"
   ]
  },
  {
   "cell_type": "code",
   "execution_count": null,
   "metadata": {
    "execution": {
     "iopub.execute_input": "2022-01-25T15:51:00.134781Z",
     "iopub.status.busy": "2022-01-25T15:51:00.133839Z",
     "iopub.status.idle": "2022-01-25T15:51:00.137089Z",
     "shell.execute_reply": "2022-01-25T15:51:00.137667Z"
    },
    "scrolled": false
   },
   "outputs": [],
   "source": [
    "imcl_sim.output_dftd_devils_probs(print_probs=True)"
   ]
  },
  {
   "cell_type": "markdown",
   "metadata": {},
   "source": [
    "### Visualize Simulation Results"
   ]
  },
  {
   "cell_type": "code",
   "execution_count": null,
   "metadata": {
    "execution": {
     "iopub.execute_input": "2022-01-25T15:50:59.779153Z",
     "iopub.status.busy": "2022-01-25T15:50:59.764261Z",
     "iopub.status.idle": "2022-01-25T15:51:00.128159Z",
     "shell.execute_reply": "2022-01-25T15:51:00.128962Z"
    },
    "scrolled": false
   },
   "outputs": [],
   "source": [
    "imcl_sim.plot()"
   ]
  },
  {
   "cell_type": "markdown",
   "metadata": {},
   "source": [
    "### Parameter Sweep"
   ]
  },
  {
   "cell_type": "code",
   "execution_count": null,
   "metadata": {},
   "outputs": [],
   "source": [
    "imcl_params = [\n",
    "    {\"parameter\": \"immunity_growth_rate\", \"range\": [0.005, 0.0075, 0.01]},\n",
    "#     {\"parameter\": \"immunity_growth_rate\", \"range\": [0.0075, 0.01, 0.0125]},\n",
    "#     {\"parameter\": \"immunity_max_level\", \"range\": [50, 75, 100]},\n",
    "    {\"parameter\": \"immunity_start\", \"range\": [384, 444, 504]},\n",
    "    {\"parameter\": \"cull_rate_diseased\", \"range\": [0.25, 0.5, 0.75]},\n",
    "    {\"parameter\": \"cull_program_length\", \"range\": [3, 5, 10]}\n",
    "]"
   ]
  },
  {
   "cell_type": "code",
   "execution_count": null,
   "metadata": {
    "execution": {
     "iopub.execute_input": "2022-01-25T15:51:00.148415Z",
     "iopub.status.busy": "2022-01-25T15:51:00.148061Z",
     "iopub.status.idle": "2022-01-25T15:51:00.150330Z",
     "shell.execute_reply": "2022-01-25T15:51:00.150741Z"
    },
    "scrolled": false
   },
   "outputs": [],
   "source": [
    "%time imcl_job.run(solver=imcl_sol, params=params)"
   ]
  },
  {
   "cell_type": "markdown",
   "metadata": {},
   "source": [
    "### Visualize Parameter Sweep Results"
   ]
  },
  {
   "cell_type": "code",
   "execution_count": null,
   "metadata": {
    "execution": {
     "iopub.execute_input": "2022-01-25T15:51:00.208395Z",
     "iopub.status.busy": "2022-01-25T15:51:00.201782Z",
     "iopub.status.idle": "2022-01-25T15:51:00.373858Z",
     "shell.execute_reply": "2022-01-25T15:51:00.374713Z"
    },
    "scrolled": false
   },
   "outputs": [],
   "source": [
    "# res_sub_keys=[\"immunity_start:444\", \"immunity_growth_rate:0.01\",\n",
    "#               \"immunity_max_level:100\", \"cull_rate_diseased:0.5\"]\n",
    "res_sub_keys=[\"immunity_start:444\", \"immunity_growth_rate:0.01\", \"cull_rate_diseased:0.5\"]\n",
    "imcl_job.plot_devil_dftd_extinction_over_param(\n",
    "    res_sub_keys=res_sub_keys, key=\"cull_program_length\", param_label=\"Culling Program Length\", units=\"years\"\n",
    ")"
   ]
  },
  {
   "cell_type": "code",
   "execution_count": null,
   "metadata": {
    "execution": {
     "iopub.execute_input": "2022-01-25T15:51:00.382630Z",
     "iopub.status.busy": "2022-01-25T15:51:00.379125Z",
     "iopub.status.idle": "2022-01-25T15:51:00.391089Z",
     "shell.execute_reply": "2022-01-25T15:51:00.390694Z"
    },
    "scrolled": false
   },
   "outputs": [],
   "source": [
    "imcl_job.explore_results()"
   ]
  },
  {
   "cell_type": "markdown",
   "metadata": {},
   "source": [
    "### Store Vaccination State"
   ]
  },
  {
   "cell_type": "code",
   "execution_count": null,
   "metadata": {
    "execution": {
     "iopub.execute_input": "2022-01-25T15:51:00.394811Z",
     "iopub.status.busy": "2022-01-25T15:51:00.394141Z",
     "iopub.status.idle": "2022-01-25T15:51:00.448625Z",
     "shell.execute_reply": "2022-01-25T15:51:00.447994Z"
    }
   },
   "outputs": [],
   "source": [
    "imcl_state = {\"model\": imcl_model, \"sim\":imcl_sim, \"job\":imcl_job}\n",
    "with open(imcl_state_path, \"wb\") as imcl_state_file:\n",
    "    pickle.dump(imcl_state, imcl_state_file)"
   ]
  },
  {
   "cell_type": "markdown",
   "metadata": {},
   "source": [
    "## With Vaccination + Culling Interventions\n",
    "### Load existing state"
   ]
  },
  {
   "cell_type": "code",
   "execution_count": null,
   "metadata": {},
   "outputs": [],
   "source": [
    "vccl_state_path = \"./DevilsDFTD2StageInfectionWithVaccinationAndCullingState.p\"\n",
    "if os.path.exists(vccl_state_path):\n",
    "    with open(vccl_state_path, \"rb\") as vccl_state_file:\n",
    "        vccl_state = pickle.load(vccl_state_file)\n",
    "        \n",
    "    # Model\n",
    "    vccl_model = vccl_state['model']\n",
    "    # Simulation\n",
    "    vccl_sim = Simulation.load_state(vccl_state['sim'])\n",
    "    # Parameter Sweep Job\n",
    "    vccl_job = ParameterSweep.load_state(vccl_state['job'])\n",
    "else:\n",
    "    vccl_state = None\n",
    "    print(\"No existing vaccination + culling state found.\")\n",
    "\n",
    "    # Model\n",
    "    vccl_model = DevilsDFTD2StageInfection(devil_pop, interventions=[\"vaccination\", \"culling\"])\n",
    "    # Simulation\n",
    "    vccl_sim = Simulation(model=vccl_model)\n",
    "    # Parameter Sweep Job\n",
    "    vccl_job = ParameterSweep(model=vccl_model)"
   ]
  },
  {
   "cell_type": "markdown",
   "metadata": {},
   "source": [
    "### Solver"
   ]
  },
  {
   "cell_type": "code",
   "execution_count": null,
   "metadata": {},
   "outputs": [],
   "source": [
    "vccl_sol = delayed(TauHybridCSolver)(model=vccl_model, variable=True)"
   ]
  },
  {
   "cell_type": "markdown",
   "metadata": {},
   "source": [
    "### Simulation"
   ]
  },
  {
   "cell_type": "code",
   "execution_count": null,
   "metadata": {},
   "outputs": [],
   "source": [
    "vccl_sim.configure(solver=vccl_sol)\n",
    "%time _ = vccl_sim.run(use_existing_results=True)"
   ]
  },
  {
   "cell_type": "code",
   "execution_count": null,
   "metadata": {},
   "outputs": [],
   "source": [
    "vccl_sim.output_dftd_devils_probs(print_probs=True)"
   ]
  },
  {
   "cell_type": "markdown",
   "metadata": {},
   "source": [
    "### Visualize Simulation Results"
   ]
  },
  {
   "cell_type": "code",
   "execution_count": null,
   "metadata": {},
   "outputs": [],
   "source": [
    "vccl_sim.plot()"
   ]
  },
  {
   "cell_type": "markdown",
   "metadata": {},
   "source": [
    "### Parameter Sweep"
   ]
  },
  {
   "cell_type": "code",
   "execution_count": null,
   "metadata": {},
   "outputs": [],
   "source": [
    "params = [\n",
    "    {\"parameter\": \"vaccinated_infection_rate\", \"range\": [0.1, 0.2, 0.4, 0.6]},\n",
    "    {\"parameter\": \"vaccination_proportion\", \"range\": [0.6, 0.8, 1.0]},\n",
    "    {\"parameter\": \"vacc_program_length\", \"range\": [3, 5, 10]},\n",
    "    {\"parameter\": \"vaccine_frequency\", \"range\": [2, 4, 6]},\n",
    "    {\"parameter\": \"cull_rate_diseased\", \"range\": [0.25, 0.5, 0.75]},\n",
    "    {\"parameter\": \"cull_program_length\", \"range\": [3, 5, 10]}\n",
    "]"
   ]
  },
  {
   "cell_type": "code",
   "execution_count": null,
   "metadata": {},
   "outputs": [],
   "source": [
    "new_params = vccl_job.params != params\n",
    "%time vccl_job.run(solver=vccl_sol, params=params)"
   ]
  },
  {
   "cell_type": "markdown",
   "metadata": {},
   "source": [
    "### Visualize Parameter Sweep Results"
   ]
  },
  {
   "cell_type": "code",
   "execution_count": null,
   "metadata": {},
   "outputs": [],
   "source": [
    "res_sub_keys=[\"vaccine_frequency:6\", \"vaccination_proportion:0.8\", \"vaccinated_infection_rate:0.6\",\n",
    "              \"cull_rate_diseased:0.5\", \"cull_program_length:5\"]\n",
    "vccl_job.plot_devil_dftd_extinction_over_param(\n",
    "    res_sub_keys=res_sub_keys, key=\"vacc_program_length\", param_label=\"Vaccine Program Length\", units=\"years\"\n",
    ")"
   ]
  },
  {
   "cell_type": "code",
   "execution_count": null,
   "metadata": {},
   "outputs": [],
   "source": [
    "vccl_job.explore_results()"
   ]
  },
  {
   "cell_type": "markdown",
   "metadata": {},
   "source": [
    "### Store Culling State"
   ]
  },
  {
   "cell_type": "code",
   "execution_count": null,
   "metadata": {},
   "outputs": [],
   "source": [
    "vccl_state = {\"model\": vccl_model, \"sim\":vccl_sim, \"job\":vccl_job}\n",
    "with open(vccl_state_path, \"wb\") as vccl_state_file:\n",
    "    pickle.dump(vccl_state, vccl_state_file)"
   ]
  }
 ],
 "metadata": {
  "kernelspec": {
   "display_name": "Python 3 (ipykernel)",
   "language": "python",
   "name": "python3"
  },
  "language_info": {
   "codemirror_mode": {
    "name": "ipython",
    "version": 3
   },
   "file_extension": ".py",
   "mimetype": "text/x-python",
   "name": "python",
   "nbconvert_exporter": "python",
   "pygments_lexer": "ipython3",
   "version": "3.9.9"
  }
 },
 "nbformat": 4,
 "nbformat_minor": 4
}
