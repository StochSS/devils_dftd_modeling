{
 "cells": [
  {
   "cell_type": "code",
   "execution_count": 1,
   "id": "03f8aa88",
   "metadata": {},
   "outputs": [],
   "source": [
    "import json\n",
    "import pickle"
   ]
  },
  {
   "cell_type": "code",
   "execution_count": 2,
   "id": "0c0a2ece",
   "metadata": {},
   "outputs": [],
   "source": [
    "def get_parameters(job):\n",
    "    parameters = []\n",
    "    for param in job.params:\n",
    "        parameters.append({\n",
    "            'name': param['parameter'],\n",
    "            'range': param['range']\n",
    "        })\n",
    "    return parameters"
   ]
  },
  {
   "cell_type": "code",
   "execution_count": 3,
   "id": "d9c77db4",
   "metadata": {},
   "outputs": [],
   "source": [
    "def get_probs(job):\n",
    "    eliminations = {}\n",
    "    extinctions = {}\n",
    "    for key, sim in job.results.items():\n",
    "        eliminations[key] = sim.dftd_elimination\n",
    "        extinctions[key] = sim.devil_extinction\n",
    "    return eliminations, extinctions"
   ]
  },
  {
   "cell_type": "code",
   "execution_count": 4,
   "id": "93619818",
   "metadata": {},
   "outputs": [],
   "source": [
    "def generate_prob_data_file(filename):\n",
    "    try:\n",
    "        with open(filename, \"rb\") as state_file:\n",
    "            job = pickle.load(state_file)['job']\n",
    "        eliminations, extinctions = get_probs(job)\n",
    "        data = {\n",
    "            'parameters': get_parameters(job),\n",
    "            'elimination_probs': eliminations,\n",
    "            'extinction_probs': extinctions\n",
    "        }\n",
    "    except FileNotFoundError as err:\n",
    "        print(f\"{filename} is not currently available\")\n",
    "        return\n",
    "    \n",
    "    dst = filename.replace(\"./\", \"../DFTDElimination/\").replace(\"State.p\", \".json\")\n",
    "    with open(dst, \"w\") as data_file:\n",
    "        json.dump(data, data_file, sort_keys=True, indent=4)"
   ]
  },
  {
   "cell_type": "code",
   "execution_count": 5,
   "id": "a8b3ae94",
   "metadata": {},
   "outputs": [],
   "source": [
    "filenames = [\n",
    "    \"./DevilsDFTD2StageInfectionWithImmunityState.p\",\n",
    "    \"./DevilsDFTD2StageInfectionWithVaccinationState.p\",\n",
    "    \"./DevilsDFTD2StageInfectionWithCullingState.p\",\n",
    "    \"./DevilsDFTD2StageInfectionWithImmunityAndVaccinationState.p\",\n",
    "    \"./DevilsDFTD2StageInfectionWithImmunityAndCullingState.p\",\n",
    "    \"./DevilsDFTD2StageInfectionWithVaccinationAndCullingState.p\",\n",
    "    \"./DevilsDFTD2StageInfectionWithImmunityVaccinationCullingState.p\"\n",
    "]"
   ]
  },
  {
   "cell_type": "code",
   "execution_count": 6,
   "id": "16d7bab1",
   "metadata": {},
   "outputs": [
    {
     "name": "stdout",
     "output_type": "stream",
     "text": [
      "./DevilsDFTD2StageInfectionWithImmunityVaccinationCullingState.p is not currently available\n"
     ]
    }
   ],
   "source": [
    "for filename in filenames:\n",
    "    generate_prob_data_file(filename)"
   ]
  }
 ],
 "metadata": {
  "kernelspec": {
   "display_name": "Python 3 (ipykernel)",
   "language": "python",
   "name": "python3"
  },
  "language_info": {
   "codemirror_mode": {
    "name": "ipython",
    "version": 3
   },
   "file_extension": ".py",
   "mimetype": "text/x-python",
   "name": "python",
   "nbconvert_exporter": "python",
   "pygments_lexer": "ipython3",
   "version": "3.9.9"
  }
 },
 "nbformat": 4,
 "nbformat_minor": 5
}
