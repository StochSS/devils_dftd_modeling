{
 "cells": [
  {
   "cell_type": "code",
   "execution_count": 1,
   "id": "a174021a",
   "metadata": {},
   "outputs": [],
   "source": [
    "import json\n",
    "import numpy as np\n",
    "\n",
    "import matplotlib.pyplot as plt\n",
    "\n",
    "from __future__ import print_function\n",
    "from ipywidgets import interact, interactive, fixed, interact_manual, interactive_output\n",
    "import ipywidgets as widgets\n",
    "from IPython.display import display"
   ]
  },
  {
   "cell_type": "code",
   "execution_count": 2,
   "id": "a1fc1308",
   "metadata": {},
   "outputs": [],
   "source": [
    "dates = []\n",
    "year = 1985\n",
    "while len(dates) < 1001:\n",
    "    for month in [\"Jan\", \"Feb\", \"Mar\", \"Apr\", \"May\", \"Jun\", \"Jul\", \"Aug\", \"Sept\", \"Oct\", \"Nov\", \"Dec\"]:\n",
    "        dates.append(f\"{month} {year}\")\n",
    "    year += 1"
   ]
  },
  {
   "cell_type": "code",
   "execution_count": 3,
   "id": "0e2acd4c",
   "metadata": {},
   "outputs": [],
   "source": [
    "with open(\"./units_labels.json\", \"r\") as ul_file:\n",
    "    units_labels = json.load(ul_file)"
   ]
  },
  {
   "cell_type": "code",
   "execution_count": 4,
   "id": "a79f13c4",
   "metadata": {},
   "outputs": [],
   "source": [
    "class DTFDEliminationResults():\n",
    "    def __init__(self, data_path):\n",
    "        with open(data_path, \"r\") as data_file:\n",
    "            data = json.load(data_file)\n",
    "        self.params = data['parameters']\n",
    "        self.elimination_probs = data['elimination_probs']\n",
    "        self.extinction_probs = data['extinction_probs']\n",
    "            \n",
    "    def __build_layout(self, ai_widgets):\n",
    "        ai_widgets = list(ai_widgets.values())\n",
    "        hbs = []\n",
    "        for i in range(0, len(ai_widgets), 4):\n",
    "            hb_list = [ai_widgets[i], ai_widgets[i+1]]\n",
    "            if len(ai_widgets) >= i+3:\n",
    "                hb_list.extend([ai_widgets[i+2], ai_widgets[i+3]])\n",
    "            hbs.append(widgets.HBox(hb_list, layout=self.__get_layout()))\n",
    "        return widgets.VBox(hbs, layout=self.__get_layout(vertical=True))\n",
    "    \n",
    "    def __build_widgets(self):\n",
    "        labels = units_labels['w_labels']\n",
    "        ai_widgets = {}\n",
    "        for i, param in enumerate(self.params):\n",
    "            fs = widgets.SelectionSlider(\n",
    "                options=param['range'], value=param['range'][0], description=labels[param['name']]\n",
    "            )\n",
    "            ai_widgets[f'fs{i}'] = fs\n",
    "            cs = widgets.Checkbox(value=False, description='Fixed')\n",
    "            ai_widgets[f'cs{i}'] = cs\n",
    "        return ai_widgets\n",
    "    \n",
    "    def __get_base_key(self, values, params):\n",
    "        base_key = []\n",
    "        for i, param in enumerate(self.params):\n",
    "            if param in params:\n",
    "                base_key.append(\"__param2__\" if \"__param1__\" in base_key else \"__param1__\")\n",
    "            else:\n",
    "                base_key.append(f\"{param['name']}:{values[i]}\")\n",
    "        return \",\".join(base_key)\n",
    "    \n",
    "    def __get_fixed_params(self, args, verbose=False):\n",
    "        params = []\n",
    "        fixed = []\n",
    "        values = list(args.values())\n",
    "        for i in range(0, len(values), 2):\n",
    "            index = int(i/2)\n",
    "            if values[i + 1]:\n",
    "                fixed.append(f\"{self.params[index]['name']}: {values[i]}\")\n",
    "            else:\n",
    "                params.append(self.params[index])\n",
    "        if fixed and verbose:\n",
    "            print(\", \".join(fixed))\n",
    "        return params, [param.replace(\": \", \":\") for param in fixed]\n",
    "    \n",
    "    def __get_layout(self, vertical=False):\n",
    "        kwargs = {\n",
    "            \"margin\": '0px 10px 10px 0px',\n",
    "            \"padding\": '5px 5px 5px 5px'\n",
    "        }\n",
    "        if vertical:\n",
    "            kwargs['border'] = 'solid 1px red'\n",
    "        return widgets.Layout(**kwargs)\n",
    "    \n",
    "    def __get_plot_data(self, params, base_key):\n",
    "        target_data = self.extinction_probs if self.plot_extinction else self.elimination_probs\n",
    "        min_elim = 100\n",
    "        max_elim = 0\n",
    "        elimination = []\n",
    "        for value1 in params[1]['range']:\n",
    "            _key = base_key.replace(\"__param2__\", f\"{params[1]['name']}:{value1}\")\n",
    "            inner_elim = []\n",
    "            for value2 in params[0]['range']:\n",
    "                key = _key.replace(\"__param1__\", \"{0}:{1}\".format(params[0]['name'], value2))\n",
    "                inner_elim.append(target_data[key])\n",
    "            if min(inner_elim) < min_elim:\n",
    "                min_elim = min(inner_elim)\n",
    "            if max(inner_elim) > max_elim:\n",
    "                max_elim = max(inner_elim)\n",
    "            elimination.append(inner_elim)\n",
    "        cflip = max_elim - ((max_elim - min_elim) * 0.3)\n",
    "        return np.array(elimination), cflip\n",
    "    \n",
    "    def __plot_elimination_param(self, res_sub_keys, key, param_label, units, save_fig=None):\n",
    "        target_data = self.extinction_probs if self.plot_extinction else self.elimination_probs\n",
    "        if len(self.params) < 2:\n",
    "            eliminations = target_data.values()\n",
    "        elif (len(self.params) - len(res_sub_keys)) != 1:\n",
    "            raise Exception(f\"res_sub_keys[{len(self.params)}] must be set.\")\n",
    "        else:\n",
    "            _keys = list(target_data.keys())\n",
    "            for sub_key in res_sub_keys:\n",
    "                keys = []\n",
    "                for res_key in _keys:\n",
    "                    if sub_key in res_key.split(\",\"):\n",
    "                        keys.append(res_key)\n",
    "                _keys = keys\n",
    "            eliminations = [target_data[key] for key in keys]\n",
    "        \n",
    "        param_values = list(filter(lambda param: param['name'] == key, self.params))[0]['range']\n",
    "        \n",
    "        if units in (\"month\", \"months\"):\n",
    "            x_ticklabels = [dates[val] for val in param_values]\n",
    "        else:\n",
    "            x_ticklabels = param_values\n",
    "        units = \"\" if units is None else f\" ({units})\"\n",
    "        fig, ax = plt.subplots(figsize=[16, 6])\n",
    "        \n",
    "        im = plt.plot(param_values, eliminations)\n",
    "        ax.set_title(f'Dftd elimination vs. {param_label}', fontsize=14)\n",
    "        ax.set_ylim(ymin=-3,ymax=103)\n",
    "        ax.set_xticks(param_values)\n",
    "        ax.set_xticklabels(labels=x_ticklabels)\n",
    "        ax.tick_params(axis=\"x\", labelsize=12)\n",
    "        ax.tick_params(axis=\"y\", labelsize=12)\n",
    "        ax.set_xlabel(f\"{param_label}{units}\", fontsize=14)\n",
    "        ax.set_ylabel(\"DFTD elimination probability\", fontsize=14)\n",
    "        \n",
    "        if save_fig is not None:\n",
    "            plt.savefig(save_fig)\n",
    "        \n",
    "    def __plot_heatmap(self, params, elimination, cflip, flip_axes=False, save_fig=None):\n",
    "        labels = units_labels['labels']\n",
    "        units = units_labels['units']\n",
    "        \n",
    "        unit_1 = units[params[0]['name']]\n",
    "        if unit_1 in (\"month\", \"months\"):\n",
    "            ticklabels_1 = [dates[val] for val in params[0]['range']]\n",
    "        else:\n",
    "            ticklabels_1 = params[0]['range']\n",
    "        if unit_1:\n",
    "            unit_1 = f\" ({unit_1})\"\n",
    "        label_1 = f\"{labels[params[0]['name']]}{unit_1}\"\n",
    "        \n",
    "        unit_2 = units[params[1]['name']]\n",
    "        if unit_2 in (\"month\", \"months\"):\n",
    "            ticklabels_2 = [dates[val] for val in params[1]['range']]\n",
    "        else:\n",
    "            ticklabels_2 = params[1]['range']\n",
    "        if unit_2:\n",
    "            unit_2 = f\" ({unit_2})\"\n",
    "        label_2 = f\"{labels[params[1]['name']]}{unit_2}\"\n",
    "        \n",
    "        if flip_axes:\n",
    "            elimination = np.swapaxes(elimination, 0, 1)\n",
    "        elimination = np.flip(elimination, 0)\n",
    "        \n",
    "        fig, ax = plt.subplots(figsize=[16, 6])\n",
    "\n",
    "        im = ax.imshow(elimination)\n",
    "        ax.set_xticks(np.arange(len(elimination[0])))\n",
    "        ax.set_xticklabels(labels=ticklabels_2 if flip_axes else ticklabels_1)\n",
    "        ax.set_yticks(np.arange(len(elimination)))\n",
    "        ax.set_yticklabels(labels=np.flip(ticklabels_1 if flip_axes else ticklabels_2))\n",
    "        ax.set_xlabel(label_2 if flip_axes else label_1, fontsize=14)\n",
    "        ax.set_ylabel(label_1 if flip_axes else label_2, fontsize=14)\n",
    "        ax.tick_params(axis=\"x\", labelsize=12, labelrotation=90)\n",
    "        ax.tick_params(axis=\"y\", labelsize=12)\n",
    "        ax.set_title('Probability of DFTD Elimination', fontsize=14)\n",
    "        ax.figure.colorbar(im, ax=ax)\n",
    "        for i in range(len(elimination)):\n",
    "            for j in range(len(elimination[0])):\n",
    "                color = \"black\" if elimination[i, j] > cflip else \"w\"\n",
    "                _ = ax.text(j, i, f\"{elimination[i, j]}%\", ha=\"center\", va=\"center\", color=color, fontsize=12)\n",
    "                \n",
    "        if save_fig is not None:\n",
    "            plt.savefig(save_fig)\n",
    "\n",
    "    def configure(self, **widget_args):\n",
    "        if self.show_args:\n",
    "            print(f\"Args: {widget_args}\")\n",
    "            \n",
    "        sim_key = []\n",
    "        for i in range(0, len(widget_args), 2):\n",
    "            param_key = int(i/2)\n",
    "            sim_key.append(f\"{self.params[param_key]['name']}:{list(widget_args.values())[i]}\")\n",
    "        sim_key = \",\".join(sim_key)\n",
    "        \n",
    "        params, fixed = self.__get_fixed_params(widget_args)\n",
    "        \n",
    "        if len(params) < 1:\n",
    "            print(\"There are too many fixed parameters\")\n",
    "        elif len(params) > 2:\n",
    "            print(\"At least 1 fixed parameter is required\")\n",
    "        elif len(params) == 2:\n",
    "            self.plot_heatmap(widget_args, params=params, fixed=fixed)\n",
    "        else:\n",
    "            self.plot_elimination_param(widget_args, params=params, fixed=fixed)\n",
    "    \n",
    "    def explore_results(self, plot_extinction=False, show_args=False):\n",
    "        self.plot_extinction = plot_extinction\n",
    "        self.show_args = show_args\n",
    "        \n",
    "        ai_widgets = self.__build_widgets()\n",
    "        ui = self.__build_layout(ai_widgets)\n",
    "        out = interactive_output(self.configure, ai_widgets)\n",
    "        display(ui, out)\n",
    "        \n",
    "    def plot_heatmap(self, args, params=None, fixed=None, flip_axes=False, save_fig=None):\n",
    "        if params is None or fixed is None:\n",
    "            params, fixed = self.__get_fixed_params(args)\n",
    "            \n",
    "        base_key = self.__get_base_key(list(args.values())[::2], params)\n",
    "        elimination, cflip = self.__get_plot_data(params, base_key)\n",
    "        self.__plot_heatmap(params, elimination, cflip, flip_axes=flip_axes, save_fig=save_fig)\n",
    "        \n",
    "    def plot_elimination_param(self, args, params=None, fixed=None, save_fig=None):\n",
    "        if params is None or fixed is None:\n",
    "            params, fixed = self.__get_fixed_params(args)\n",
    "            \n",
    "        labels = units_labels['labels']\n",
    "        units = units_labels['units']\n",
    "        param = params[0]\n",
    "        self.__plot_elimination_param(\n",
    "            res_sub_keys=fixed, key=param['name'], param_label=labels[param['name']],\n",
    "            units=units[param['name']],\n",
    "            save_fig=save_fig\n",
    "        )"
   ]
  },
  {
   "cell_type": "markdown",
   "id": "07ff63c3",
   "metadata": {},
   "source": [
    "# Explore DFTD Elimination or Devil Extinction results\n",
    "To explore Devil Extinction results:\n",
    "- set `plot_extinction=True` in `DTFDEliminationResults.explore_results`\n",
    "\n",
    "To save plot figures:\n",
    "- set `show_args=True` in `DTFDEliminationResults.explore_results`\n",
    "- copy args and pass to:\n",
    "  - `DTFDEliminationResults.plot_heatmap` for heatmaps\n",
    "  - `DTFDEliminationResults.plot_elimination_param` for trace plots\n",
    "- set `save_fig=filename` in the chosen plot function where the filename name is the name of your choice\n",
    "\n",
    "Options:\n",
    "- setting `flip_axes=True` in `DTFDEliminationResults.plot_heatmap` will flip the X and Y axes.\n",
    "\n",
    "Example:\n",
    "```\n",
    "immunity_path = \"./DevilsDFTD2StageInfectionWithImmunity.json\"\n",
    "immunity_res = DTFDEliminationResults(immunity_path)\n",
    "immunity_res.explore_results(show_args=True)\n",
    "\n",
    "Args: {'fs0': 0.005, 'cs0': False, 'fs1': 50, 'cs1': False, 'fs2': 384, 'cs2': True}\n",
    "\n",
    "immunity_res.plot_heatmap(\n",
    "    args={'fs0': 0.005, 'cs0': False, 'fs1': 50, 'cs1': False, 'fs2': 384, 'cs2': True},\n",
    "    save_fig=\"figure.pdf\"\n",
    ")\n",
    "```"
   ]
  },
  {
   "cell_type": "code",
   "execution_count": 5,
   "id": "0c34592e",
   "metadata": {
    "scrolled": false
   },
   "outputs": [
    {
     "data": {
      "application/vnd.jupyter.widget-view+json": {
       "model_id": "da4da017d74048218f8d667cbaeda731",
       "version_major": 2,
       "version_minor": 0
      },
      "text/plain": [
       "VBox(children=(HBox(children=(SelectionSlider(description='Imm. Gwth. R.', options=(0.005, 0.0075, 0.01), valu…"
      ]
     },
     "metadata": {},
     "output_type": "display_data"
    },
    {
     "data": {
      "application/vnd.jupyter.widget-view+json": {
       "model_id": "d23ba793877947bcbc2bf8686269f9f6",
       "version_major": 2,
       "version_minor": 0
      },
      "text/plain": [
       "Output()"
      ]
     },
     "metadata": {},
     "output_type": "display_data"
    }
   ],
   "source": [
    "immunity_path = \"./DevilsDFTD2StageInfectionWithImmunity.json\"\n",
    "immunity_res = DTFDEliminationResults(immunity_path)\n",
    "immunity_res.explore_results(show_args=True)"
   ]
  },
  {
   "cell_type": "code",
   "execution_count": 7,
   "id": "cdb813d9",
   "metadata": {},
   "outputs": [
    {
     "data": {
      "application/vnd.jupyter.widget-view+json": {
       "model_id": "10a30ccef7584ad38d0d87f3111a4e3a",
       "version_major": 2,
       "version_minor": 0
      },
      "text/plain": [
       "VBox(children=(HBox(children=(SelectionSlider(description='Vacc. Inf. R.', options=(0.1, 0.2, 0.4, 0.6), value…"
      ]
     },
     "metadata": {},
     "output_type": "display_data"
    },
    {
     "data": {
      "application/vnd.jupyter.widget-view+json": {
       "model_id": "bbf3793c12fe4f91be02af2235753a9f",
       "version_major": 2,
       "version_minor": 0
      },
      "text/plain": [
       "Output()"
      ]
     },
     "metadata": {},
     "output_type": "display_data"
    }
   ],
   "source": [
    "vaccination_path = \"./DevilsDFTD2StageInfectionWithVaccination.json\"\n",
    "vaccination_res = DTFDEliminationResults(vaccination_path)\n",
    "vaccination_res.explore_results()"
   ]
  },
  {
   "cell_type": "code",
   "execution_count": 8,
   "id": "b3db44ce",
   "metadata": {},
   "outputs": [
    {
     "data": {
      "application/vnd.jupyter.widget-view+json": {
       "model_id": "42d92808e21a409c8b901164c8e819e1",
       "version_major": 2,
       "version_minor": 0
      },
      "text/plain": [
       "VBox(children=(HBox(children=(SelectionSlider(description='Dis. Cull R.', options=(0.25, 0.5, 0.75), value=0.2…"
      ]
     },
     "metadata": {},
     "output_type": "display_data"
    },
    {
     "data": {
      "application/vnd.jupyter.widget-view+json": {
       "model_id": "40916dad3a42473d923747dba7d5077d",
       "version_major": 2,
       "version_minor": 0
      },
      "text/plain": [
       "Output()"
      ]
     },
     "metadata": {},
     "output_type": "display_data"
    }
   ],
   "source": [
    "culling_path = \"./DevilsDFTD2StageInfectionWithCulling.json\"\n",
    "culling_res = DTFDEliminationResults(culling_path)\n",
    "culling_res.explore_results()"
   ]
  },
  {
   "cell_type": "code",
   "execution_count": 9,
   "id": "70c2f57e",
   "metadata": {},
   "outputs": [
    {
     "name": "stdout",
     "output_type": "stream",
     "text": [
      "Data for Immunity + Vaccination is not currently available.\n"
     ]
    }
   ],
   "source": [
    "try:\n",
    "    immun_vacc_path = \"./DevilsDFTD2StageInfectionWithImmunityAndVaccination.json\"\n",
    "    immun_vacc_res = DTFDEliminationResults(immun_vacc_path)\n",
    "    immun_vacc_res.explore_results()\n",
    "except:\n",
    "    print(\"Data for Immunity + Vaccination is not currently available.\")"
   ]
  },
  {
   "cell_type": "code",
   "execution_count": 10,
   "id": "f6153620",
   "metadata": {},
   "outputs": [
    {
     "name": "stdout",
     "output_type": "stream",
     "text": [
      "Data for Immunity + Culling is not currently available.\n"
     ]
    }
   ],
   "source": [
    "try:\n",
    "    immun_cull_path = \"./DevilsDFTD2StageInfectionWithImmunityAndCulling.json\"\n",
    "    immun_cull_res = DTFDEliminationResults(immun_cull_path)\n",
    "    immun_cull_res.explore_results()\n",
    "except:\n",
    "    print(\"Data for Immunity + Culling is not currently available.\")"
   ]
  },
  {
   "cell_type": "code",
   "execution_count": 11,
   "id": "e6ac7350",
   "metadata": {},
   "outputs": [
    {
     "name": "stdout",
     "output_type": "stream",
     "text": [
      "Data for Vaccination + Culling is not currently available.\n"
     ]
    }
   ],
   "source": [
    "try:\n",
    "    vacc_cull_path = \"./DevilsDFTD2StageInfectionWithVaccinationAndCulling.json\"\n",
    "    vacc_cull_res = DTFDEliminationResults(vacc_cull_path)\n",
    "    vacc_cull_res.explore_results()\n",
    "except:\n",
    "    print(\"Data for Vaccination + Culling is not currently available.\")"
   ]
  },
  {
   "cell_type": "code",
   "execution_count": 12,
   "id": "7e207710",
   "metadata": {},
   "outputs": [
    {
     "name": "stdout",
     "output_type": "stream",
     "text": [
      "Data for Immunity + Vaccination + Culling is not currently available.\n"
     ]
    }
   ],
   "source": [
    "try:\n",
    "    immun_vacc_cull_path = \"./DevilsDFTD2StageInfectionWithImmunityVaccinationCulling.json\"\n",
    "    immun_vacc_cull_res = DTFDEliminationResults(immun_vacc_cull_path)\n",
    "    immun_vacc_cull_res.explore_results()\n",
    "except:\n",
    "    print(\"Data for Immunity + Vaccination + Culling is not currently available.\")"
   ]
  }
 ],
 "metadata": {
  "kernelspec": {
   "display_name": "Python 3 (ipykernel)",
   "language": "python",
   "name": "python3"
  },
  "language_info": {
   "codemirror_mode": {
    "name": "ipython",
    "version": 3
   },
   "file_extension": ".py",
   "mimetype": "text/x-python",
   "name": "python",
   "nbconvert_exporter": "python",
   "pygments_lexer": "ipython3",
   "version": "3.9.9"
  }
 },
 "nbformat": 4,
 "nbformat_minor": 5
}
