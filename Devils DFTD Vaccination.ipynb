{
 "cells": [
  {
   "cell_type": "code",
   "execution_count": 1,
   "metadata": {},
   "outputs": [],
   "source": [
    "import json\n",
    "import numpy as np\n",
    "\n",
    "import sys\n",
    "sys.path.insert(1, '../GillesPy2/')\n",
    "import gillespy2\n",
    "from gillespy2 import Model, Species, Parameter, Reaction, Event, \\\n",
    "                      EventTrigger, EventAssignment, RateRule, \\\n",
    "                      AssignmentRule, FunctionDefinition, export_StochSS\n",
    "from gillespy2 import TauHybridSolver\n",
    "\n",
    "import matplotlib.pyplot as plt\n",
    "\n",
    "from __future__ import print_function\n",
    "from ipywidgets import interact, interactive, fixed, interact_manual, interactive_output\n",
    "import ipywidgets as widgets\n",
    "from IPython.display import display"
   ]
  },
  {
   "cell_type": "markdown",
   "metadata": {},
   "source": [
    "# Devils DFTD Vaccination Parameter Sweep"
   ]
  },
  {
   "cell_type": "markdown",
   "metadata": {},
   "source": [
    "## Model"
   ]
  },
  {
   "cell_type": "code",
   "execution_count": 2,
   "metadata": {},
   "outputs": [],
   "source": [
    "variables = {\n",
    "    \"vaccinated_infection_rate\": \"0.5\",\n",
    "    \"vaccination_proportion\": \"0.6\",\n",
    "    \"vaccine_frequency\": \"3\",\n",
    "    \"vaccine_time\": \"0\",\n",
    "    \"program_length\": \"4\"\n",
    "}"
   ]
  },
  {
   "cell_type": "code",
   "execution_count": 3,
   "metadata": {},
   "outputs": [],
   "source": [
    "class DevilsDFTDVaccination(Model):\n",
    "    def __init__(self, values=None):\n",
    "        Model.__init__(self, name=\"Devils Vaccination\")\n",
    "        self.volume = 1\n",
    "\n",
    "        # Parameters\n",
    "        birth_rate = Parameter(name=\"birth_rate\", expression=\"0.029\")\n",
    "        carrying_capacity = Parameter(name=\"carrying_capacity\", expression=\"61874.126205199995\")\n",
    "        death_rate_susceptible = Parameter(name=\"death_rate_susceptible\", expression=\"0.0048\")\n",
    "        death_rate_infected = Parameter(name=\"death_rate_infected\", expression=\"0.044\")\n",
    "        latency = Parameter(name=\"latency\", expression=\"27.39\")\n",
    "        vaccinated_infection_rate = Parameter(name=\"vaccinated_infection_rate\",\n",
    "                                              expression=values['vaccinated_infection_rate'])\n",
    "        vaccination_proportion = Parameter(name=\"vaccination_proportion\",\n",
    "                                           expression=values['vaccination_proportion'])\n",
    "        vaccine_frequency = Parameter(name=\"vaccine_frequency\", expression=values['vaccine_frequency'])\n",
    "        vaccine_time = Parameter(name=\"vaccine_time\", expression=values['vaccine_time'])\n",
    "        program_length = Parameter(name=\"program_length\", expression=values['program_length'])\n",
    "        infection_rate = Parameter(name=\"infection_rate\", expression=\"0.48\")\n",
    "        self.add_parameter([birth_rate, carrying_capacity, death_rate_susceptible, death_rate_infected,\n",
    "                            latency, vaccinated_infection_rate, vaccination_proportion, vaccine_frequency,\n",
    "                            vaccine_time, program_length, infection_rate])\n",
    "\n",
    "        # Variables\n",
    "        Susceptible = Species(name=\"Susceptible\", initial_value=34616, mode=\"discrete\")\n",
    "        Exposed = Species(name=\"Exposed\", initial_value=0, mode=\"discrete\")\n",
    "        Infected = Species(name=\"Infected\", initial_value=0, mode=\"discrete\")\n",
    "        Devils = Species(name=\"Devils\", initial_value=34616, mode=\"discrete\")\n",
    "        Vaccinated = Species(name=\"Vaccinated\", initial_value=0, mode=\"discrete\")\n",
    "        self.add_species([Susceptible, Exposed, Infected, Devils, Vaccinated])\n",
    "\n",
    "        # Reactions\n",
    "        Birth = Reaction(name=\"Birth\",\n",
    "            reactants={}, products={'Susceptible': 1, 'Devils': 1},\n",
    "            propensity_function=\"birth_rate*(Susceptible+Exposed+Infected+Vaccinated)*\\\n",
    "                                 (1-(Susceptible+Exposed+Infected+Vaccinated)/carrying_capacity)\"\n",
    "        )\n",
    "        Death_Susceptible = Reaction(name=\"Death_Susceptible\",\n",
    "            reactants={'Susceptible': 1, 'Devils': 1}, products={},\n",
    "            propensity_function=\"death_rate_susceptible*Susceptible\"\n",
    "        )\n",
    "        Transmission = Reaction(name=\"Transmission\",\n",
    "            reactants={'Susceptible': 1, 'Infected': 1}, products={'Exposed': 1, 'Infected': 1},\n",
    "            propensity_function=\"infection_rate*Susceptible*Infected/carrying_capacity\"\n",
    "        )\n",
    "        Death_Exposed = Reaction(name=\"Death_Exposed\",\n",
    "            reactants={'Devils': 1, 'Exposed': 1}, products={},\n",
    "            propensity_function=\"death_rate_susceptible*Exposed\"\n",
    "        )\n",
    "        Latency = Reaction(name=\"Latency\",\n",
    "            reactants={'Exposed': 1}, products={'Infected': 1},\n",
    "            propensity_function=\"Exposed/latency\"\n",
    "        )\n",
    "        Death_Infected = Reaction(name=\"Death_Infected\",\n",
    "            reactants={'Devils': 1, 'Infected': 1}, products={},\n",
    "            propensity_function=\"death_rate_infected*Infected\"\n",
    "        )\n",
    "        Vaccine_Failure = Reaction(name=\"Vaccine_Failure\",\n",
    "            reactants={'Vaccinated': 1}, products={'Exposed': 1},\n",
    "            propensity_function=\"infection_rate*vaccinated_infection_rate*Vaccinated*Infected/\\\n",
    "                                 (Susceptible+Exposed+Infected+Vaccinated)\"\n",
    "        )\n",
    "        Death_Vaccinated = Reaction(name=\"Death_Vaccinated\",\n",
    "            reactants={'Devils': 1, 'Vaccinated': 1}, products={},\n",
    "            propensity_function=\"death_rate_susceptible*Vaccinated\"\n",
    "        )\n",
    "        self.add_reaction([Birth, Death_Susceptible, Transmission, Death_Exposed, Latency, Death_Infected,\n",
    "                           Vaccine_Failure, Death_Vaccinated])\n",
    "\n",
    "        # Event Triggers\n",
    "        DFTD_Introduction_trig = EventTrigger(\n",
    "            expression=\"t >= 132\", initial_value=False, persistent=False\n",
    "        )\n",
    "        Vaccination_trig = EventTrigger(\n",
    "            expression=\"t >= 442 + vaccine_time and program_length > 0\", initial_value=False, persistent=False\n",
    "        )\n",
    "\n",
    "        # Event Assignments\n",
    "        DFTD_Introduction_assignments = [\n",
    "            EventAssignment(\n",
    "                variable=\"Infected\", expression=\"round(Susceptible * 0.001)\"\n",
    "            ),\n",
    "            EventAssignment(\n",
    "                variable=\"Susceptible\", expression=\"round(Susceptible * 1-0.001)\"\n",
    "            )\n",
    "        ]\n",
    "        Vaccination_assignments = [\n",
    "            EventAssignment(\n",
    "                variable=\"vaccine_time\", expression=\"vaccine_time + 12/vaccine_frequency\"\n",
    "            ),\n",
    "            EventAssignment(\n",
    "                variable=\"program_length\", expression=\"program_length - (12/vaccine_frequency)/12\"\n",
    "            ),\n",
    "            EventAssignment(\n",
    "                variable=\"Vaccinated\", expression=\"Vaccinated + (Susceptible*vaccination_proportion)\"\n",
    "            ),\n",
    "            EventAssignment(\n",
    "                variable=\"Susceptible\", expression=\"Susceptible*(1-vaccination_proportion)\"\n",
    "            )\n",
    "        ]\n",
    "\n",
    "        # Events\n",
    "        DFTD_Introduction = Event(\n",
    "            name=\"DFTD_Introduction\", trigger=DFTD_Introduction_trig, assignments=DFTD_Introduction_assignments,\n",
    "            delay=None, priority=\"0\", use_values_from_trigger_time=True\n",
    "        )\n",
    "        Vaccination = Event(\n",
    "            name=\"Vaccination\", trigger=Vaccination_trig, assignments=Vaccination_assignments,\n",
    "            delay=None, priority=\"0\", use_values_from_trigger_time=True\n",
    "        )\n",
    "        self.add_event([DFTD_Introduction, Vaccination])\n",
    "\n",
    "        # Timespan\n",
    "        self.timespan(np.arange(0, 601, 1))"
   ]
  },
  {
   "cell_type": "code",
   "execution_count": 4,
   "metadata": {},
   "outputs": [],
   "source": [
    "def run_model():\n",
    "    model = DevilsDFTDVaccination(values=variables)\n",
    "    results = model.run(solver=TauHybridSolver)\n",
    "    \n",
    "    plt.figure(figsize=[15, 8])\n",
    "    plt.title(\"Tasmanian Devil Population with DFTD Vaccination\", fontsize=18)\n",
    "    plt.xlabel(f\"Time (months) since 1985\", fontsize=14)\n",
    "    plt.ylabel(\"Population of Tasmanian Devils\", fontsize=14)\n",
    "    plt.plot(results['time'], results['Devils'], 'b', label='Simulated Total')\n",
    "    plt.plot(results['time'], results['Susceptible'], 'g', alpha=.3, label='Susceptible')\n",
    "    plt.plot(results['time'], results['Exposed'], 'y', alpha=.3, label='Exposed')\n",
    "    plt.plot(results['time'], results['Infected'], 'r', alpha=.3, label='Infected')\n",
    "    plt.plot(results['time'], results['Vaccinated'], color='purple', alpha=.3, label='Vaccinated')\n",
    "    plt.plot([132, 132], [-3000, model.listOfParameters['carrying_capacity'].value], '--r')\n",
    "    plt.ylim([-3000, model.listOfParameters['carrying_capacity'].value])\n",
    "    plt.text(125, 15000, \"DFTD Introduced\", rotation=\"vertical\", color=\"red\", fontsize=12)\n",
    "    plt.plot([442, 442], [-3000, model.listOfParameters['carrying_capacity'].value], '--r')\n",
    "    plt.ylim([-3000, model.listOfParameters['carrying_capacity'].value])\n",
    "    plt.text(435, 35000, \"Start of Vaccination Program\", rotation=\"vertical\", color=\"red\", fontsize=12)\n",
    "    plt.xticks(fontsize=12)\n",
    "    plt.yticks(fontsize=12, rotation=\"vertical\", va=\"center\")\n",
    "    plt.legend(loc='best', fontsize=12)"
   ]
  },
  {
   "cell_type": "code",
   "execution_count": 5,
   "metadata": {},
   "outputs": [
    {
     "ename": "SimulationError",
     "evalue": "argument 'solver=<class 'gillespy2.solvers.numpy.tau_hybrid_solver.TauHybridSolver'>' to run() failed.  Reason Given: Loop over __integrate() exceeded loop count",
     "output_type": "error",
     "traceback": [
      "\u001b[0;31m---------------------------------------------------------------------------\u001b[0m",
      "\u001b[0;31mException\u001b[0m                                 Traceback (most recent call last)",
      "\u001b[0;32m~/Desktop/research/devils_dftd_modeling/../GillesPy2/gillespy2/core/model.py\u001b[0m in \u001b[0;36mrun\u001b[0;34m(self, solver, timeout, t, increment, show_labels, cpp_support, algorithm, **solver_args)\u001b[0m\n\u001b[1;32m    988\u001b[0m         \u001b[0;32mtry\u001b[0m\u001b[0;34m:\u001b[0m\u001b[0;34m\u001b[0m\u001b[0;34m\u001b[0m\u001b[0m\n\u001b[0;32m--> 989\u001b[0;31m             \u001b[0;32mreturn\u001b[0m \u001b[0msolver\u001b[0m\u001b[0;34m.\u001b[0m\u001b[0mrun\u001b[0m\u001b[0;34m(\u001b[0m\u001b[0mmodel\u001b[0m\u001b[0;34m=\u001b[0m\u001b[0mself\u001b[0m\u001b[0;34m,\u001b[0m \u001b[0mt\u001b[0m\u001b[0;34m=\u001b[0m\u001b[0mt\u001b[0m\u001b[0;34m,\u001b[0m \u001b[0mincrement\u001b[0m\u001b[0;34m=\u001b[0m\u001b[0mincrement\u001b[0m\u001b[0;34m,\u001b[0m \u001b[0mtimeout\u001b[0m\u001b[0;34m=\u001b[0m\u001b[0mtimeout\u001b[0m\u001b[0;34m,\u001b[0m \u001b[0;34m**\u001b[0m\u001b[0msolver_args\u001b[0m\u001b[0;34m)\u001b[0m\u001b[0;34m\u001b[0m\u001b[0;34m\u001b[0m\u001b[0m\n\u001b[0m\u001b[1;32m    990\u001b[0m         \u001b[0;32mexcept\u001b[0m \u001b[0mException\u001b[0m \u001b[0;32mas\u001b[0m \u001b[0me\u001b[0m\u001b[0;34m:\u001b[0m\u001b[0;34m\u001b[0m\u001b[0;34m\u001b[0m\u001b[0m\n",
      "\u001b[0;32m~/Desktop/research/devils_dftd_modeling/../GillesPy2/gillespy2/solvers/numpy/tau_hybrid_solver.py\u001b[0m in \u001b[0;36mrun\u001b[0;34m(self, model, t, number_of_trajectories, increment, seed, debug, profile, tau_tol, event_sensitivity, integrator, integrator_options, live_output, live_output_options, timeout, **kwargs)\u001b[0m\n\u001b[1;32m    932\u001b[0m         \u001b[0;32mif\u001b[0m \u001b[0mhasattr\u001b[0m\u001b[0;34m(\u001b[0m\u001b[0mself\u001b[0m\u001b[0;34m,\u001b[0m \u001b[0;34m'has_raised_exception'\u001b[0m\u001b[0;34m)\u001b[0m\u001b[0;34m:\u001b[0m\u001b[0;34m\u001b[0m\u001b[0;34m\u001b[0m\u001b[0m\n\u001b[0;32m--> 933\u001b[0;31m             \u001b[0;32mraise\u001b[0m \u001b[0mself\u001b[0m\u001b[0;34m.\u001b[0m\u001b[0mhas_raised_exception\u001b[0m\u001b[0;34m\u001b[0m\u001b[0;34m\u001b[0m\u001b[0m\n\u001b[0m\u001b[1;32m    934\u001b[0m \u001b[0;34m\u001b[0m\u001b[0m\n",
      "\u001b[0;32m~/Desktop/research/devils_dftd_modeling/../GillesPy2/gillespy2/solvers/numpy/tau_hybrid_solver.py\u001b[0m in \u001b[0;36m___run\u001b[0;34m(self, model, curr_state, curr_time, timeline, trajectory_base, initial_state, live_grapher, t, number_of_trajectories, increment, seed, debug, profile, tau_tol, event_sensitivity, integrator, integrator_options, **kwargs)\u001b[0m\n\u001b[1;32m    941\u001b[0m         \u001b[0;32mtry\u001b[0m\u001b[0;34m:\u001b[0m\u001b[0;34m\u001b[0m\u001b[0;34m\u001b[0m\u001b[0m\n\u001b[0;32m--> 942\u001b[0;31m             self.__run(model, curr_state, curr_time, timeline, trajectory_base, initial_state, live_grapher, t,\n\u001b[0m\u001b[1;32m    943\u001b[0m                        \u001b[0mnumber_of_trajectories\u001b[0m\u001b[0;34m,\u001b[0m \u001b[0mincrement\u001b[0m\u001b[0;34m,\u001b[0m \u001b[0mseed\u001b[0m\u001b[0;34m,\u001b[0m \u001b[0mdebug\u001b[0m\u001b[0;34m,\u001b[0m\u001b[0;34m\u001b[0m\u001b[0;34m\u001b[0m\u001b[0m\n",
      "\u001b[0;32m~/Desktop/research/devils_dftd_modeling/../GillesPy2/gillespy2/solvers/numpy/tau_hybrid_solver.py\u001b[0m in \u001b[0;36m__run\u001b[0;34m(self, model, curr_state, curr_time, timeline, trajectory_base, initial_state, live_grapher, t, number_of_trajectories, increment, seed, debug, profile, tau_tol, event_sensitivity, integrator, integrator_options, **kwargs)\u001b[0m\n\u001b[1;32m   1097\u001b[0m                 \u001b[0;31m# Run simulation to next step\u001b[0m\u001b[0;34m\u001b[0m\u001b[0;34m\u001b[0m\u001b[0;34m\u001b[0m\u001b[0m\n\u001b[0;32m-> 1098\u001b[0;31m                 sol, curr_state[0], curr_time[0], save_times = self.__simulate(integrator, integrator_options,\n\u001b[0m\u001b[1;32m   1099\u001b[0m                                                                                \u001b[0mcurr_state\u001b[0m\u001b[0;34m[\u001b[0m\u001b[0;36m0\u001b[0m\u001b[0;34m]\u001b[0m\u001b[0;34m,\u001b[0m \u001b[0my0\u001b[0m\u001b[0;34m,\u001b[0m \u001b[0mmodel\u001b[0m\u001b[0;34m,\u001b[0m \u001b[0mcurr_time\u001b[0m\u001b[0;34m[\u001b[0m\u001b[0;36m0\u001b[0m\u001b[0;34m]\u001b[0m\u001b[0;34m,\u001b[0m\u001b[0;34m\u001b[0m\u001b[0;34m\u001b[0m\u001b[0m\n",
      "\u001b[0;32m~/Desktop/research/devils_dftd_modeling/../GillesPy2/gillespy2/solvers/numpy/tau_hybrid_solver.py\u001b[0m in \u001b[0;36m__simulate\u001b[0;34m(self, integrator, integrator_options, curr_state, y0, model, curr_time, propensities, species, parameters, compiled_reactions, active_rr, y_map, trajectory, save_times, delayed_events, trigger_states, event_sensitivity, tau_step, pure_ode, debug)\u001b[0m\n\u001b[1;32m    578\u001b[0m             \u001b[0;32mif\u001b[0m \u001b[0mloop_count\u001b[0m \u001b[0;34m>\u001b[0m \u001b[0;36m100\u001b[0m\u001b[0;34m:\u001b[0m\u001b[0;34m\u001b[0m\u001b[0;34m\u001b[0m\u001b[0m\n\u001b[0;32m--> 579\u001b[0;31m                 \u001b[0;32mraise\u001b[0m \u001b[0mException\u001b[0m\u001b[0;34m(\u001b[0m\u001b[0;34m\"Loop over __integrate() exceeded loop count\"\u001b[0m\u001b[0;34m)\u001b[0m\u001b[0;34m\u001b[0m\u001b[0;34m\u001b[0m\u001b[0m\n\u001b[0m\u001b[1;32m    580\u001b[0m             sol, curr_time = self.__integrate(integrator, integrator_options, curr_state,\n",
      "\u001b[0;31mException\u001b[0m: Loop over __integrate() exceeded loop count",
      "\nDuring handling of the above exception, another exception occurred:\n",
      "\u001b[0;31mSimulationError\u001b[0m                           Traceback (most recent call last)",
      "\u001b[0;32m<ipython-input-5-d8af0fd933a9>\u001b[0m in \u001b[0;36m<module>\u001b[0;34m\u001b[0m\n\u001b[0;32m----> 1\u001b[0;31m \u001b[0mrun_model\u001b[0m\u001b[0;34m(\u001b[0m\u001b[0;34m)\u001b[0m\u001b[0;34m\u001b[0m\u001b[0;34m\u001b[0m\u001b[0m\n\u001b[0m",
      "\u001b[0;32m<ipython-input-4-cc8ab99485e0>\u001b[0m in \u001b[0;36mrun_model\u001b[0;34m()\u001b[0m\n\u001b[1;32m      1\u001b[0m \u001b[0;32mdef\u001b[0m \u001b[0mrun_model\u001b[0m\u001b[0;34m(\u001b[0m\u001b[0;34m)\u001b[0m\u001b[0;34m:\u001b[0m\u001b[0;34m\u001b[0m\u001b[0;34m\u001b[0m\u001b[0m\n\u001b[1;32m      2\u001b[0m     \u001b[0mmodel\u001b[0m \u001b[0;34m=\u001b[0m \u001b[0mDevilsDFTDVaccination\u001b[0m\u001b[0;34m(\u001b[0m\u001b[0mvalues\u001b[0m\u001b[0;34m=\u001b[0m\u001b[0mvariables\u001b[0m\u001b[0;34m)\u001b[0m\u001b[0;34m\u001b[0m\u001b[0;34m\u001b[0m\u001b[0m\n\u001b[0;32m----> 3\u001b[0;31m     \u001b[0mresults\u001b[0m \u001b[0;34m=\u001b[0m \u001b[0mmodel\u001b[0m\u001b[0;34m.\u001b[0m\u001b[0mrun\u001b[0m\u001b[0;34m(\u001b[0m\u001b[0msolver\u001b[0m\u001b[0;34m=\u001b[0m\u001b[0mTauHybridSolver\u001b[0m\u001b[0;34m)\u001b[0m\u001b[0;34m\u001b[0m\u001b[0;34m\u001b[0m\u001b[0m\n\u001b[0m\u001b[1;32m      4\u001b[0m \u001b[0;34m\u001b[0m\u001b[0m\n\u001b[1;32m      5\u001b[0m     \u001b[0mplt\u001b[0m\u001b[0;34m.\u001b[0m\u001b[0mfigure\u001b[0m\u001b[0;34m(\u001b[0m\u001b[0mfigsize\u001b[0m\u001b[0;34m=\u001b[0m\u001b[0;34m[\u001b[0m\u001b[0;36m15\u001b[0m\u001b[0;34m,\u001b[0m \u001b[0;36m8\u001b[0m\u001b[0;34m]\u001b[0m\u001b[0;34m)\u001b[0m\u001b[0;34m\u001b[0m\u001b[0;34m\u001b[0m\u001b[0m\n",
      "\u001b[0;32m~/Desktop/research/devils_dftd_modeling/../GillesPy2/gillespy2/core/model.py\u001b[0m in \u001b[0;36mrun\u001b[0;34m(self, solver, timeout, t, increment, show_labels, cpp_support, algorithm, **solver_args)\u001b[0m\n\u001b[1;32m    998\u001b[0m                                 \u001b[0;34m\" system, to ensure that GillesPy2 C solvers will\"\u001b[0m\u001b[0;34m\u001b[0m\u001b[0;34m\u001b[0m\u001b[0m\n\u001b[1;32m    999\u001b[0m                                 \" run properly.\")\n\u001b[0;32m-> 1000\u001b[0;31m             raise SimulationError(\n\u001b[0m\u001b[1;32m   1001\u001b[0m                 \"argument 'solver={}' to run() failed.  Reason Given: {}\".format(solver, e))\n\u001b[1;32m   1002\u001b[0m \u001b[0;34m\u001b[0m\u001b[0m\n",
      "\u001b[0;31mSimulationError\u001b[0m: argument 'solver=<class 'gillespy2.solvers.numpy.tau_hybrid_solver.TauHybridSolver'>' to run() failed.  Reason Given: Loop over __integrate() exceeded loop count"
     ]
    }
   ],
   "source": [
    "run_model()"
   ]
  },
  {
   "cell_type": "markdown",
   "metadata": {},
   "source": [
    "## Configure Solver Widgets"
   ]
  },
  {
   "cell_type": "code",
   "execution_count": null,
   "metadata": {},
   "outputs": [],
   "source": [
    "def display_details():\n",
    "    print('='*100)\n",
    "    print('|', 'Input Parameters:'.ljust(96), '|')\n",
    "    print('|', f'\\tVaccinated Infection Rate: {variables[\"vaccinated_infection_rate\"]}'.ljust(43), end='')\n",
    "    print(f'Vaccination Proportion: {variables[\"vaccination_proportion\"]}'.ljust(48), '|')\n",
    "    print('|', f'\\tVaccine Frequency: {variables[\"vaccine_frequency\"]}'.ljust(43), end='')\n",
    "    print(f'Vaccine Time: {variables[\"vaccine_time\"]}'.ljust(48), '|')\n",
    "    print('|', f'\\tProgram Length: {variables[\"program_length\"]}'.ljust(91), '|')\n",
    "    print('='*100)"
   ]
  },
  {
   "cell_type": "code",
   "execution_count": null,
   "metadata": {},
   "outputs": [],
   "source": [
    "def configure(vaccinated_infection_rate, vaccination_proportion, vaccine_frequency, vaccine_time, program_length):\n",
    "    variables['vaccinated_infection_rate'] = str(vaccinated_infection_rate)\n",
    "    variables['vaccination_proportion'] = str(vaccination_proportion)\n",
    "    variables['vaccine_frequency'] = str(vaccine_frequency)\n",
    "    variables['vaccine_time'] = str(vaccine_time)\n",
    "    variables['program_length'] = str(program_length)\n",
    "    \n",
    "    display_details()\n",
    "    run_model()"
   ]
  },
  {
   "cell_type": "markdown",
   "metadata": {},
   "source": [
    "## Create Widgets"
   ]
  },
  {
   "cell_type": "code",
   "execution_count": null,
   "metadata": {},
   "outputs": [],
   "source": [
    "ai_widgets = {\n",
    "    \"vaccinated_infection_rate\": widgets.FloatSlider(\n",
    "        min=0.1, max=2, step=0.1, value=variables['vaccinated_infection_rate'], description=\" \"\n",
    "    ),\n",
    "    \"vaccination_proportion\": widgets.FloatSlider(\n",
    "        min=0.12, max=1.2, step=0.01, value=variables['vaccination_proportion'], description=\" \"\n",
    "    ),\n",
    "    \"vaccine_frequency\": widgets.IntSlider(\n",
    "        min=1, max=12, step=1, value=variables['vaccine_frequency'], description=\" \"\n",
    "    ),\n",
    "    \"vaccine_time\": widgets.IntSlider(\n",
    "        min=0, max=36, step=1, value=variables['vaccine_time'], description=\" \"\n",
    "    ),\n",
    "    \"program_length\": widgets.IntSlider(\n",
    "        min=1, max=10, step=1, value=variables['program_length'], description=\" \"\n",
    "    ),\n",
    "}"
   ]
  },
  {
   "cell_type": "code",
   "execution_count": null,
   "metadata": {},
   "outputs": [],
   "source": [
    "layout = widgets.Layout(width='150px')\n",
    "uis = [\n",
    "    widgets.HBox(\n",
    "        [widgets.Label(\"Vaccinated Infection Rate\", layout=layout), ai_widgets['vaccinated_infection_rate']]\n",
    "    ),\n",
    "    widgets.HBox(\n",
    "        [widgets.Label(\"Vaccination Proportion\", layout=layout), ai_widgets['vaccination_proportion']]\n",
    "    ),\n",
    "    widgets.HBox(\n",
    "        [widgets.Label(\"Vaccine Frequency\", layout=layout), ai_widgets['vaccine_frequency']]\n",
    "    ),\n",
    "    widgets.HBox(\n",
    "        [widgets.Label(\"Vaccine Time\", layout=layout), ai_widgets['vaccine_time']]\n",
    "    ),\n",
    "    widgets.HBox(\n",
    "        [widgets.Label(\"Program Length\", layout=layout), ai_widgets['program_length']]\n",
    "    )\n",
    "]"
   ]
  },
  {
   "cell_type": "markdown",
   "metadata": {},
   "source": [
    "## Run widgets and attempt to calibrate model"
   ]
  },
  {
   "cell_type": "code",
   "execution_count": null,
   "metadata": {},
   "outputs": [],
   "source": [
    "out = interactive_output(configure, ai_widgets)\n",
    "display(*uis, out)"
   ]
  },
  {
   "cell_type": "markdown",
   "metadata": {},
   "source": [
    "## Export model as StochSS Model (.mdl)"
   ]
  },
  {
   "cell_type": "code",
   "execution_count": null,
   "metadata": {},
   "outputs": [],
   "source": [
    "stochss_mdl = export_StochSS(DevilsDFTDVaccination(values=variables), return_stochss_model=True)\n",
    "class NumpyEncoder(json.JSONEncoder):\n",
    "    def default(self, o):\n",
    "        if isinstance(o, np.ndarray):\n",
    "            return o.tolist()\n",
    "        if isinstance(o, np.int64):\n",
    "            return int(o)\n",
    "        return json.JSONEncoder.default(self, o)\n",
    "with open(\"Devils Vaccination.mdl\", \"w\") as mdl_file:\n",
    "    json.dump(stochss_mdl, mdl_file, indent=4, sort_keys=True, cls=NumpyEncoder)"
   ]
  }
 ],
 "metadata": {
  "kernelspec": {
   "display_name": "Python 3",
   "language": "python",
   "name": "python3"
  },
  "language_info": {
   "codemirror_mode": {
    "name": "ipython",
    "version": 3
   },
   "file_extension": ".py",
   "mimetype": "text/x-python",
   "name": "python",
   "nbconvert_exporter": "python",
   "pygments_lexer": "ipython3",
   "version": "3.8.10"
  }
 },
 "nbformat": 4,
 "nbformat_minor": 4
}
