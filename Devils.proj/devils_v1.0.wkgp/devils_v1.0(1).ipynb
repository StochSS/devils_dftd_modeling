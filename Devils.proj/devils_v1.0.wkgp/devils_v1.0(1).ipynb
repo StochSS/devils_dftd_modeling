{
 "cells": [
  {
   "cell_type": "code",
   "execution_count": 1,
   "metadata": {},
   "outputs": [],
   "source": [
    "import numpy as np\n",
    "import gillespy2\n",
    "from gillespy2 import Model, Species, Parameter, Reaction, Event, \\\n",
    "                      EventTrigger, EventAssignment\n",
    "from gillespy2 import SSACSolver"
   ]
  },
  {
   "cell_type": "markdown",
   "metadata": {},
   "source": [
    "# devils_v1.0\n",
    "- Need to validate timespan"
   ]
  },
  {
   "cell_type": "code",
   "execution_count": 2,
   "metadata": {},
   "outputs": [],
   "source": [
    "class Devilsv101(Model):\n",
    "    def __init__(self, parameter_values=None):\n",
    "        Model.__init__(self, name=\"devils_v1.0(1)\")\n",
    "        self.volume = 1\n",
    "\n",
    "        # Parameters\n",
    "        self.add_parameter(Parameter(name=\"r\", expression=\"1\"))\n",
    "        self.add_parameter(Parameter(name=\"K\", expression=\"217\"))\n",
    "        self.add_parameter(Parameter(name=\"ds\", expression=\"0.22\"))\n",
    "        self.add_parameter(Parameter(name=\"dI\", expression=\"1.28\"))\n",
    "        self.add_parameter(Parameter(name=\"L\", expression=\"0.75\"))\n",
    "#         self.add_parameter(Parameter(name=\"sigma\", expression=\"0.5\"))\n",
    "#         self.add_parameter(Parameter(name=\"p\", expression=\"0.6\"))\n",
    "        self.add_parameter(Parameter(name=\"k0\", expression=\"4\"))\n",
    "#         self.add_parameter(Parameter(name=\"vf\", expression=\"1\"))\n",
    "#         self.add_parameter(Parameter(name=\"vt\", expression=\"0\"))\n",
    "\n",
    "        # Variables\n",
    "        self.add_species(Species(name=\"S\", initial_value=157, mode=\"discrete\"))\n",
    "        self.add_species(Species(name=\"E\", initial_value=10, mode=\"discrete\"))\n",
    "        self.add_species(Species(name=\"I\", initial_value=20, mode=\"discrete\"))\n",
    "#         self.add_species(Species(name=\"W\", initial_value=0, mode=\"discrete\"))\n",
    "        self.add_species(Species(name=\"R\", initial_value=0, mode=\"discrete\"))\n",
    "        self.add_species(Species(name=\"Devils\", initial_value=45021, mode=\"discrete\"))\n",
    "\n",
    "        # Reactions\n",
    "        self.add_reaction(Reaction(name=\"birth\", reactants={}, products={'Devils': 1, 'S': 1}, propensity_function=\"r*(S+E+I+R)*(1-(S+E+I+R)/K)\"))\n",
    "        self.add_reaction(Reaction(name=\"death_S\", reactants={'Devils': 1, 'S': 1}, products={}, rate=self.listOfParameters[\"ds\"]))\n",
    "        self.add_reaction(Reaction(name=\"transmission\", reactants={'S': 1}, products={'E': 1}, propensity_function=\"k0*S*I/(S+E+I+R)\"))\n",
    "        self.add_reaction(Reaction(name=\"death_E\", reactants={'Devils': 1, 'E': 1}, products={}, propensity_function=\"ds*E\"))\n",
    "        self.add_reaction(Reaction(name=\"latency\", reactants={'E': 1}, products={'I': 1}, propensity_function=\"E/L\"))\n",
    "#         self.add_reaction(Reaction(name=\"vaccine_failure\", reactants={'W': 1}, products={'E': 1}, propensity_function=\"k0*sigma*W*I/(S+E+I+W+R)\"))\n",
    "        self.add_reaction(Reaction(name=\"death_I\", reactants={'Devils': 1, 'I': 1}, products={}, propensity_function=\"dI*I\"))\n",
    "#         self.add_reaction(Reaction(name=\"death_W\", reactants={'W': 1}, products={}, propensity_function=\"ds*W\"))\n",
    "        self.add_reaction(Reaction(name=\"death_R\", reactants={'Devils': 1, 'R': 1}, products={}, propensity_function=\"ds*R\"))\n",
    "\n",
    "#         # Event Triggers\n",
    "#         vaccination_trig = EventTrigger(expression=\"t >= vt+vf\", initial_value=False, persistent=False)\n",
    "\n",
    "#         # Event Assignments\n",
    "#         vaccination_assign_1 = EventAssignment(variable=\"vt\", expression=\"vt+1\")\n",
    "#         vaccination_assign_2 = EventAssignment(variable=\"W\", expression=\"W+(S*p)\")\n",
    "#         vaccination_assign_3 = EventAssignment(variable=\"S\", expression=\"S*(1-p)\")\n",
    "\n",
    "#         # Events\n",
    "#         self.add_event(Event(name=\"vaccination\", trigger=vaccination_trig, assignments=[vaccination_assign_1, vaccination_assign_2, vaccination_assign_3], delay=None, priority=\"0\", use_values_from_trigger_time=True))\n",
    "\n",
    "        # Timespan\n",
    "        self.timespan(np.arange(0, 21, 1/12))"
   ]
  },
  {
   "cell_type": "code",
   "execution_count": 3,
   "metadata": {},
   "outputs": [
    {
     "name": "stdout",
     "output_type": "stream",
     "text": [
      "312\n"
     ]
    }
   ],
   "source": [
    "model = Devilsv101()\n",
    "print(len(model.tspan))"
   ]
  },
  {
   "cell_type": "markdown",
   "metadata": {},
   "source": [
    "# Simulation Parameters"
   ]
  },
  {
   "cell_type": "code",
   "execution_count": null,
   "metadata": {},
   "outputs": [],
   "source": [
    "def configure_simulation():\n",
    "    kwargs = {\n",
    "        \"solver\":TauHybridSolver,\n",
    "        \"number_of_trajectories\":100,\n",
    "        \"seed\":None,\n",
    "        \"tau_tol\":0.03,\n",
    "        \"integrator_options\":{'rtol': 0.001, 'atol': 1e-06},\n",
    "    }\n",
    "    return kwargs"
   ]
  },
  {
   "cell_type": "markdown",
   "metadata": {},
   "source": [
    "# Model Inference"
   ]
  },
  {
   "cell_type": "code",
   "execution_count": null,
   "metadata": {},
   "outputs": [],
   "source": [
    "%load_ext autoreload\n",
    "%autoreload 2\n",
    "\n",
    "from tsfresh.feature_extraction.settings import MinimalFCParameters\n",
    "from sciope.utilities.priors import uniform_prior\n",
    "from sciope.utilities.summarystats import auto_tsfresh\n",
    "from sciope.utilities.distancefunctions import naive_squared\n",
    "from sciope.inference.abc_inference import ABC\n",
    "from sciope.inference.rep_smc_abc import ReplenishmentSMCABC\n",
    "from sklearn.metrics import mean_absolute_error\n",
    "from dask.distributed import Client"
   ]
  },
  {
   "cell_type": "markdown",
   "metadata": {},
   "source": [
    "## Generate some fixed(observed) data based on default parameters of the model"
   ]
  },
  {
   "cell_type": "code",
   "execution_count": 39,
   "metadata": {
    "scrolled": false
   },
   "outputs": [
    {
     "name": "stdout",
     "output_type": "stream",
     "text": [
      "[[[45020.76062 45157.79794 45301.81398 45516.60821 45701.20098\n",
      "   45826.87714 45998.33157 46216.37993 46372.02246 46508.16238\n",
      "   46640.8784  46844.3869  46989.83142 47251.77616 47400.89737\n",
      "   47704.96134 47906.61741 48105.94297 48361.13849 48504.52751\n",
      "   48694.27106 48903.80591 49108.7615  49376.10766 49510.46679\n",
      "   49615.38407 49640.5478  49808.41714 49864.12469 49898.22346\n",
      "   49965.54229 50093.25281 50171.76771 50239.38827 50306.54096\n",
      "   50387.03061 50511.36391 50593.04774 50739.25817 50874.16843\n",
      "   51011.92355 51148.96077 51286.33891 51423.19183 51560.44053\n",
      "   51703.76661 51895.1796  51951.0532  52023.60414 52091.16357\n",
      "   52159.82513 52229.19536 52294.90024 52372.32169 52371.29875\n",
      "   52502.86674 52509.8829  52640.72837 52615.69874 52675.29124\n",
      "   52761.08243 52781.76918 52857.26476 52931.87579 52939.76047\n",
      "   52999.71057 53069.14388 53132.45976 53137.02743 53217.84172\n",
      "   53256.1655  53283.53619 53330.02521 53281.29293 53204.07263\n",
      "   53190.94311 53195.21785 53128.49065 53065.94199 53060.66671\n",
      "   52981.08921 52937.02291 52943.23124 52941.26816 52943.2599\n",
      "   52937.54521 52992.30975 53066.03774 53068.27745 53140.49015\n",
      "   53195.39874 53204.78507 53288.26383 53317.77675 53354.02301\n",
      "   53390.59948 53340.6994  53213.56807 53074.98466 52937.88777\n",
      "   52800.71241 52663.49459 52526.27801 52389.17125 52251.53235\n",
      "   52116.11425 51972.17517 51885.75855 51819.6205  51751.49013\n",
      "   51683.92314 51679.48347 51614.91942 51627.70602 51597.51963\n",
      "   51550.94228 51566.97338 51514.64632 51492.0953  51498.66378\n",
      "   51438.87415 51303.99747 51231.2361  51097.92914 51042.40599\n",
      "   50942.85047 50829.86325 50769.49364 50697.0286  50635.92208\n",
      "   50506.85511 50428.01293 50426.17288 50353.28815 50299.53091\n",
      "   50289.07865 50206.90031 50171.56813 50175.56745 50180.26092\n",
      "   50131.46057 50053.47044 50051.82941 49915.63273 49716.42474\n",
      "   49571.03577 49369.14607 49100.66837 48842.45981 48689.88513\n",
      "   48470.7713  48277.63794 48000.77058 47858.11841 47520.15431\n",
      "   47250.32196 46973.64159 46699.11925 46429.10399 46126.37746\n",
      "   45765.93054 45486.83087 45098.97706 44801.55311 44467.73011\n",
      "   44125.27648 43767.749   43293.84808 43011.38931 42754.90752\n",
      "   42243.95478 41772.59244 41325.99132 40843.48648 40353.28467\n",
      "   40003.86362 39526.05894 39039.79734 38614.4988  38380.57987\n",
      "   37936.21671 37563.81047 37224.20108 36925.65802 36941.15593\n",
      "   35942.64635 35713.49339 35639.26098 35294.97512 35028.40195\n",
      "   34755.81755 34454.82341 34115.52922 33717.99655 33406.58879\n",
      "   33034.53177 32662.47832 32455.38952 32050.44553 31768.87642\n",
      "   31356.69498 31019.85531 30700.55545 30426.82095 30191.78318\n",
      "   29984.80842 29830.73179 29696.30518 29558.58878 29420.48803\n",
      "   29294.00483 29203.65504 28995.4472  28907.19945 28770.14052\n",
      "   28594.14467 28454.03652 28381.822   28192.34808 28049.95214\n",
      "   27846.6757  27713.53379 27574.74588 27436.63694 27306.39456\n",
      "   27129.47805 26959.95892 26820.69512 26741.21111 26615.99033\n",
      "   26477.2495  26339.12772 26212.03659 26130.02835 26016.40577\n",
      "   25889.11599 25752.88538 25595.57736 25530.93365 25437.2279\n",
      "   25293.10437 25156.74118 25019.54609 24882.294   24745.11272\n",
      "   24607.90055 24470.70883 24333.46519 24196.41945 24058.64973\n",
      "   23923.25455 23781.47    23709.88861 23570.29569 23454.96154\n",
      "   23429.33308 23327.14106 23281.51635 23190.11197 23221.17941\n",
      "   23116.06066 23026.4289  22961.49311 22892.16059 22819.12363\n",
      "   22692.92435 22714.02886 22657.60746 22576.62759 22510.30715\n",
      "   22446.47038 22411.39519 22336.84701 22269.12411 22200.50363\n",
      "   22133.343   22050.99459 21945.30041 21907.52297 21817.96286\n",
      "   21769.31187 21607.32731 21530.37271 21402.78958 21327.71616\n",
      "   21194.3766  21128.21472 21044.31049 20939.14782 20903.46588\n",
      "   20801.58293 20827.57612 20773.54035 20755.41595 20706.50165\n",
      "   20630.91347 20628.56811 20558.09852 20498.662   20507.11139\n",
      "   20484.806   20409.39978 20344.56558 20267.22449 20253.10859\n",
      "   20203.2611  20127.69855 20125.48129 20059.09333 20066.70016\n",
      "   20047.6087  19988.98282]]]\n"
     ]
    }
   ],
   "source": [
    "import pandas as pd\n",
    "\n",
    "confirmed_data = pd.read_csv('../Devil Dataset.csv')\n",
    "devil_pop = np.array(confirmed_data['Population'].iloc[:].values)\n",
    "obs = np.vstack([devil_pop]).reshape(1, 1, -1)\n",
    "print(obs)"
   ]
  },
  {
   "cell_type": "markdown",
   "metadata": {},
   "source": [
    "## Define prior distribution"
   ]
  },
  {
   "cell_type": "code",
   "execution_count": null,
   "metadata": {},
   "outputs": [],
   "source": [
    "# take default from mode 1 as reference\n",
    "default_param = np.array(list(model.listOfParameters.items()))[:, 1]\n",
    "\n",
    "bound = []\n",
    "for exp in default_param:\n",
    "    bound.append(float(exp.expression))\n",
    "\n",
    "# Set the bounds\n",
    "bound = np.array(bound)\n",
    "dmin = bound * 0.1\n",
    "dmax = bound * 2.0\n",
    "\n",
    "# Here we use uniform prior\n",
    "uni_prior = uniform_prior.UniformPrior(dmin, dmax)"
   ]
  },
  {
   "cell_type": "markdown",
   "metadata": {},
   "source": [
    "## Define simulator"
   ]
  },
  {
   "cell_type": "code",
   "execution_count": null,
   "metadata": {},
   "outputs": [],
   "source": [
    "def set_model_parameters(params, model):\n",
    "    # params - array, need to have the same order as model.listOfParameters\n",
    "    for e, pname in enumerate(model.listOfParameters.keys()):\n",
    "        model.get_parameter(pname).set_expression(params[e])\n",
    "    return model\n",
    "\n",
    "# Here we use the GillesPy2 Solver\n",
    "def simulator(params, model):\n",
    "    model_update = set_model_parameters(params, model)\n",
    "\n",
    "    res = model_update.run(**kwargs)\n",
    "    res = res.to_array()\n",
    "    tot_res = np.asarray([x.T for x in res]) # reshape to (N, S, T)\n",
    "    # should not contain timepoints\n",
    "    tot_res = tot_res[:, 1:, :]\n",
    "\n",
    "    return tot_res\n",
    "\n",
    "# Wrapper, simulator function to abc should should only take one argument (the parameter point)\n",
    "def simulator2(x):\n",
    "    return simulator(x, model=model)"
   ]
  },
  {
   "cell_type": "markdown",
   "metadata": {},
   "source": [
    "## Define summary statistics and distance function"
   ]
  },
  {
   "cell_type": "code",
   "execution_count": null,
   "metadata": {},
   "outputs": [],
   "source": [
    "# Function to generate summary statistics\n",
    "summ_func = auto_tsfresh.SummariesTSFRESH()\n",
    "\n",
    "# Distance\n",
    "ns = naive_squared.NaiveSquaredDistance()"
   ]
  },
  {
   "cell_type": "markdown",
   "metadata": {},
   "source": [
    "## Start local cluster using dask client"
   ]
  },
  {
   "cell_type": "code",
   "execution_count": null,
   "metadata": {},
   "outputs": [],
   "source": [
    "c = Client()"
   ]
  },
  {
   "cell_type": "markdown",
   "metadata": {},
   "source": [
    "## Start abc instance"
   ]
  },
  {
   "cell_type": "code",
   "execution_count": null,
   "metadata": {},
   "outputs": [],
   "source": [
    "abc = ABC(fixed_data,\n",
    "          sim=simulator2,\n",
    "          prior_function=uni_prior,\n",
    "          summaries_function=summ_func.compute,\n",
    "          distance_function=ns\n",
    "         )"
   ]
  },
  {
   "cell_type": "code",
   "execution_count": null,
   "metadata": {},
   "outputs": [],
   "source": [
    "# First compute the fixed(observed) mean\n",
    "abc.compute_fixed_mean(chunk_size=2)"
   ]
  },
  {
   "cell_type": "code",
   "execution_count": null,
   "metadata": {},
   "outputs": [],
   "source": [
    "res = abc.infer(num_samples=100, batch_size=10, chunk_size=2)"
   ]
  },
  {
   "cell_type": "code",
   "execution_count": null,
   "metadata": {},
   "outputs": [],
   "source": [
    "mae_inference = mean_absolute_error(bound, abc.results['inferred_parameters'])"
   ]
  }
 ],
 "metadata": {
  "kernelspec": {
   "display_name": "Python 3",
   "language": "python",
   "name": "python3"
  },
  "language_info": {
   "codemirror_mode": {
    "name": "ipython",
    "version": 3
   },
   "file_extension": ".py",
   "mimetype": "text/x-python",
   "name": "python",
   "nbconvert_exporter": "python",
   "pygments_lexer": "ipython3",
   "version": "3.8.5"
  }
 },
 "nbformat": 4,
 "nbformat_minor": 4
}
