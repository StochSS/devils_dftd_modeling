{
 "cells": [
  {
   "cell_type": "code",
   "execution_count": 1,
   "metadata": {},
   "outputs": [],
   "source": [
    "import numpy as np\n",
    "import gillespy2\n",
    "from gillespy2 import Model, Species, Parameter, Reaction, Event, \\\n",
    "                      EventTrigger, EventAssignment\n",
    "from gillespy2 import ODECSolver, ODESolver\n",
    "\n",
    "import matplotlib.pyplot as plt"
   ]
  },
  {
   "cell_type": "markdown",
   "metadata": {},
   "source": [
    "# devils_v1.0\n",
    "- Need to validate timespan"
   ]
  },
  {
   "cell_type": "code",
   "execution_count": 21,
   "metadata": {},
   "outputs": [],
   "source": [
    "class Devilsv101(Model):\n",
    "    def __init__(self, parameter_values=None):\n",
    "        Model.__init__(self, name=\"devils_v1.0\")\n",
    "        self.volume = 1\n",
    "\n",
    "        # Parameters\n",
    "        self.add_parameter(Parameter(name=\"r\", expression=\"1.2\"))\n",
    "#         self.add_parameter(Parameter(name=\"K\", expression=\"50000\"))\n",
    "        self.add_parameter(Parameter(name=\"ds\", expression=\".0012\"))\n",
    "        self.add_parameter(Parameter(name=\"dI\", expression=\".00\"))\n",
    "        self.add_parameter(Parameter(name=\"L\", expression=\"1.8\"))\n",
    "        # self.add_parameter(Parameter(name=\"sigma\", expression=\"0.5\"))\n",
    "        # self.add_parameter(Parameter(name=\"p\", expression=\"0.6\"))\n",
    "        self.add_parameter(Parameter(name=\"k0\", expression=\".12\"))\n",
    "        # self.add_parameter(Parameter(name=\"vf\", expression=\"1\"))\n",
    "        # self.add_parameter(Parameter(name=\"vt\", expression=\"0\"))\n",
    "\n",
    "        # Variables (initial values adjusted to observed data)\n",
    "        self.add_species(Species(name=\"S\", initial_value=0, mode=\"discrete\"))\n",
    "        self.add_species(Species(name=\"E\", initial_value=0, mode=\"discrete\"))\n",
    "        self.add_species(Species(name=\"I\", initial_value=0, mode=\"discrete\"))\n",
    "        # self.add_species(Species(name=\"W\", initial_value=0, mode=\"discrete\"))\n",
    "#         self.add_species(Species(name=\"R\", initial_value=0, mode=\"discrete\"))\n",
    "        self.add_species(Species(name=\"Devils\", initial_value=0, mode=\"discrete\"))\n",
    "\n",
    "        # Reactions\n",
    "        self.add_reaction(Reaction(name=\"birth\", reactants={}, products={'Devils': 1, 'S': 1}, propensity_function=\"r*(S+E+I)*(1-(S+E+I)/Devils)\"))\n",
    "        self.add_reaction(Reaction(name=\"death_S\", reactants={'Devils': 1, 'S': 1}, products={}, propensity_function=\"ds*S\"))\n",
    "        self.add_reaction(Reaction(name=\"transmission\", reactants={'S': 1}, products={'E': 1}, propensity_function=\"k0*S*I/(S+E+I)\"))\n",
    "        self.add_reaction(Reaction(name=\"death_E\", reactants={'Devils': 1, 'E': 1}, products={}, propensity_function=\"ds*E\"))\n",
    "        self.add_reaction(Reaction(name=\"latency\", reactants={'E': 1}, products={'I': 1}, propensity_function=\"E/L\"))\n",
    "        # self.add_reaction(Reaction(name=\"vaccine_failure\", reactants={'W': 1}, products={'E': 1}, propensity_function=\"k0*sigma*W*I/(S+E+I+W+R)\"))\n",
    "        self.add_reaction(Reaction(name=\"death_I\", reactants={'Devils': 1, 'I': 1}, products={}, propensity_function=\"dI*I\"))\n",
    "        # self.add_reaction(Reaction(name=\"death_W\", reactants={'W': 1}, products={}, propensity_function=\"ds*W\"))\n",
    "#         self.add_reaction(Reaction(name=\"death_R\", reactants={'Devils': 1, 'R': 1}, products={}, propensity_function=\"ds*R\"))\n",
    "\n",
    "        # # Event Triggers\n",
    "        # vaccination_trig = EventTrigger(expression=\"t >= vt+vf\", initial_value=False, persistent=False)\n",
    "\n",
    "        # # Event Assignments\n",
    "        # vaccination_assign_1 = EventAssignment(variable=\"vt\", expression=\"vt+1\")\n",
    "        # vaccination_assign_2 = EventAssignment(variable=\"W\", expression=\"W+(S*p)\")\n",
    "        # vaccination_assign_3 = EventAssignment(variable=\"S\", expression=\"S*(1-p)\")\n",
    "\n",
    "        # # Events\n",
    "        # self.add_event(Event(name=\"vaccination\", trigger=vaccination_trig, assignments=[vaccination_assign_1, vaccination_assign_2, vaccination_assign_3], delay=None, priority=\"0\", use_values_from_trigger_time=True))\n",
    "\n",
    "        # Timespan\n",
    "        self.timespan(np.arange(0, 241, 1)) # month data tspan\n",
    "#         self.timespan(np.arange(0, 21, 1)) # year data tspan"
   ]
  },
  {
   "cell_type": "code",
   "execution_count": 22,
   "metadata": {},
   "outputs": [
    {
     "name": "stdout",
     "output_type": "stream",
     "text": [
      "241\n"
     ]
    }
   ],
   "source": [
    "model = Devilsv101()\n",
    "print(len(model.tspan))"
   ]
  },
  {
   "cell_type": "markdown",
   "metadata": {},
   "source": [
    "# Simulation Parameters"
   ]
  },
  {
   "cell_type": "code",
   "execution_count": 23,
   "metadata": {},
   "outputs": [],
   "source": [
    "def configure_simulation():\n",
    "    solver = ODECSolver(model=model)\n",
    "    kwargs = {\n",
    "        \"solver\":solver,\n",
    "#         \"number_of_trajectories\":100,\n",
    "#         \"seed\":None,\n",
    "#         \"tau_tol\":0.03,\n",
    "#         \"integrator_options\":{'rtol': 0.001, 'atol': 1e-06}\n",
    "    }\n",
    "    return kwargs"
   ]
  },
  {
   "cell_type": "code",
   "execution_count": 24,
   "metadata": {},
   "outputs": [],
   "source": [
    "kwargs = configure_simulation()"
   ]
  },
  {
   "cell_type": "markdown",
   "metadata": {},
   "source": [
    "# Model Inference"
   ]
  },
  {
   "cell_type": "code",
   "execution_count": 25,
   "metadata": {},
   "outputs": [
    {
     "name": "stdout",
     "output_type": "stream",
     "text": [
      "The autoreload extension is already loaded. To reload it, use:\n",
      "  %reload_ext autoreload\n"
     ]
    }
   ],
   "source": [
    "%load_ext autoreload\n",
    "%autoreload 2\n",
    "\n",
    "from tsfresh.feature_extraction.settings import MinimalFCParameters\n",
    "from sciope.utilities.priors import uniform_prior\n",
    "from sciope.utilities.summarystats import auto_tsfresh\n",
    "from sciope.utilities.distancefunctions import naive_squared\n",
    "from sciope.inference.abc_inference import ABC\n",
    "from sciope.inference.rep_smc_abc import ReplenishmentSMCABC\n",
    "from sklearn.metrics import mean_absolute_error\n",
    "import dask\n",
    "from dask.distributed import Client"
   ]
  },
  {
   "cell_type": "markdown",
   "metadata": {},
   "source": [
    "## Generate some fixed(observed) data based on default parameters of the model"
   ]
  },
  {
   "cell_type": "code",
   "execution_count": 26,
   "metadata": {
    "scrolled": true
   },
   "outputs": [],
   "source": [
    "import pandas as pd\n",
    "\n",
    "pop_data = pd.read_csv('../month_data/total_devil_population_data.csv')\n",
    "devil_pop = np.array(pop_data['Population'].iloc[:].values)\n",
    "init_devils_pop = devil_pop[0]\n",
    "model.listOfSpecies['Devils'].initial_value = init_devils_pop\n",
    "# model.listOfParameters['K'].initial_value = init_devils_pop\n",
    "\n",
    "dfdt_data = pd.read_csv('../month_data/DFDT_occupancy_data.csv')\n",
    "dfdt_concentration = np.array(dfdt_data['Concentration'].iloc[:].values)\n",
    "dfdt_pop = devil_pop * dfdt_concentration\n",
    "init_dfdt_pop = dfdt_pop[0]\n",
    "model.listOfSpecies['I'].initial_value = init_dfdt_pop\n",
    "\n",
    "r_pop = init_devils_pop - init_dfdt_pop\n",
    "init_e_pop = 0\n",
    "init_s_pop = r_pop - init_e_pop\n",
    "model.listOfSpecies['S'].initial_value = init_s_pop\n",
    "model.listOfSpecies['E'].initial_value = init_e_pop\n",
    "\n",
    "obs = np.vstack([devil_pop, dfdt_pop]).reshape(1, 2, -1)\n",
    "# print(obs)"
   ]
  },
  {
   "cell_type": "code",
   "execution_count": 27,
   "metadata": {},
   "outputs": [
    {
     "data": {
      "text/plain": [
       "[<matplotlib.lines.Line2D at 0x7f6bfbafa670>]"
      ]
     },
     "execution_count": 27,
     "metadata": {},
     "output_type": "execute_result"
    },
    {
     "data": {
      "image/png": "[encoded data removed]",
      "text/plain": [
       "<Figure size 432x288 with 1 Axes>"
      ]
     },
     "metadata": {
      "needs_background": "light"
     },
     "output_type": "display_data"
    }
   ],
   "source": [
    "plt.plot(model.tspan, devil_pop)\n",
    "plt.plot(model.tspan, dfdt_pop)"
   ]
  },
  {
   "cell_type": "code",
   "execution_count": 28,
   "metadata": {},
   "outputs": [
    {
     "data": {
      "text/html": [
       "        <script type=\"text/javascript\">\n",
       "        window.PlotlyConfig = {MathJaxConfig: 'local'};\n",
       "        if (window.MathJax) {MathJax.Hub.Config({SVG: {font: \"STIX-Web\"}});}\n",
       "        if (typeof require !== 'undefined') {\n",
       "        require.undef(\"plotly\");\n",
       "        requirejs.config({\n",
       "            paths: {\n",
       "                'plotly': ['https://cdn.plot.ly/plotly-2.2.0.min']\n",
       "            }\n",
       "        });\n",
       "        require(['plotly'], function(Plotly) {\n",
       "            window._Plotly = Plotly;\n",
       "        });\n",
       "        }\n",
       "        </script>\n",
       "        "
      ]
     },
     "metadata": {},
     "output_type": "display_data"
    },
    {
     "data": {
      "application/vnd.plotly.v1+json": {
       "config": {
        "linkText": "Export to plot.ly",
        "plotlyServerURL": "https://plot.ly",
        "showLink": false
       },
       "data": [
        {
         "legendgroup": "I",
         "line": {
          "color": "#2ca02c"
         },
         "mode": "lines",
         "name": "I",
         "type": "scatter",
         "x": [
          0,
          1,
          2,
          3,
          4,
          5,
          6,
          7,
          8,
          9,
          10,
          11,
          12,
          13,
          14,
          15,
          16,
          17,
          18,
          19,
          20,
          21,
          22,
          23,
          24,
          25,
          26,
          27,
          28,
          29,
          30,
          31,
          32,
          33,
          34,
          35,
          36,
          37,
          38,
          39,
          40,
          41,
          42,
          43,
          44,
          45,
          46,
          47,
          48,
          49,
          50,
          51,
          52,
          53,
          54,
          55,
          56,
          57,
          58,
          59,
          60,
          61,
          62,
          63,
          64,
          65,
          66,
          67,
          68,
          69,
          70,
          71,
          72,
          73,
          74,
          75,
          76,
          77,
          78,
          79,
          80,
          81,
          82,
          83,
          84,
          85,
          86,
          87,
          88,
          89,
          90,
          91,
          92,
          93,
          94,
          95,
          96,
          97,
          98,
          99,
          100,
          101,
          102,
          103,
          104,
          105,
          106,
          107,
          108,
          109,
          110,
          111,
          112,
          113,
          114,
          115,
          116,
          117,
          118,
          119,
          120,
          121,
          122,
          123,
          124,
          125,
          126,
          127,
          128,
          129,
          130,
          131,
          132,
          133,
          134,
          135,
          136,
          137,
          138,
          139,
          140,
          141,
          142,
          143,
          144,
          145,
          146,
          147,
          148,
          149,
          150,
          151,
          152,
          153,
          154,
          155,
          156,
          157,
          158,
          159,
          160,
          161,
          162,
          163,
          164,
          165,
          166,
          167,
          168,
          169,
          170,
          171,
          172,
          173,
          174,
          175,
          176,
          177,
          178,
          179,
          180,
          181,
          182,
          183,
          184,
          185,
          186,
          187,
          188,
          189,
          190,
          191,
          192,
          193,
          194,
          195,
          196,
          197,
          198,
          199,
          200,
          201,
          202,
          203,
          204,
          205,
          206,
          207,
          208,
          209,
          210,
          211,
          212,
          213,
          214,
          215,
          216,
          217,
          218,
          219,
          220,
          221,
          222,
          223,
          224,
          225,
          226,
          227,
          228,
          229,
          230,
          231,
          232,
          233,
          234,
          235,
          236,
          237,
          238,
          239,
          240
         ],
         "y": [
          6699.0798229572,
          6827.671854943818,
          7185.782637746746,
          7684.687732727394,
          8278.732816700105,
          8944.583890856451,
          9670.389215342388,
          10450.098534447588,
          11280.466789124186,
          12159.458904043602,
          13085.387514649305,
          14056.438121739317,
          15070.401718435114,
          16124.522817620884,
          17215.417775192473,
          18339.039821172915,
          19490.679019225896,
          20664.99491870527,
          21856.074387561406,
          23057.517394466573,
          24262.543912289933,
          25464.120398560153,
          26655.102313232474,
          27828.381693655923,
          28977.040588588803,
          30094.49768971815,
          31174.645308672625,
          32211.96768969991,
          33201.63941365609,
          34139.59596078209,
          35022.58201629079,
          35848.167016281455,
          36614.738631720014,
          37321.46983314074,
          37968.26851913404,
          38555.71114488988,
          39084.96448686912,
          39557.70056385807,
          39976.009438959045,
          40342.31276570537,
          40659.279678260726,
          40929.753733627906,
          41156.67989145908,
          41343.04536813323,
          41491.827998167864,
          41605.953522699005,
          41688.26115504783,
          41741.47716040453,
          41768.19540452762,
          41770.86400413333,
          41751.7772667479,
          41713.07194903605,
          41656.72751186748,
          41584.568199279805,
          41498.26809654615,
          41399.357774358396,
          41289.23151112704,
          41169.15551434742,
          41040.27655454092,
          40903.630645260644,
          40760.151651899505,
          40610.67966537087,
          40455.969076371235,
          40296.696336706234,
          40133.46676330527,
          39966.8216332892,
          39797.24427090141,
          39625.165773183704,
          39450.97019897199,
          39274.999386053634,
          39097.55777938423,
          38918.91551858627,
          38739.31258867669,
          38558.961835620226,
          38378.05202324019,
          38196.75048923223,
          38015.20523298776,
          37833.547245531125,
          37651.892308721835,
          37470.342690518606,
          37288.98863762449,
          37107.909710916836,
          36927.17597710018,
          36746.84912103501,
          36566.98330865379,
          36387.626082265546,
          36208.81909865277,
          36030.59879139566,
          35852.996975109105,
          35676.04135200207,
          35499.75598796161,
          35324.16172861993,
          35149.27656439772,
          34975.11595517071,
          34801.69312153555,
          34629.019303132605,
          34457.103983579975,
          34285.95509158524,
          34115.57918328688,
          33945.98160090965,
          33777.16660979917,
          33609.13752372288,
          33441.89681855633,
          33275.44623172824,
          33109.78684156402,
          32944.919147248795,
          32780.84314274622,
          32617.558369900344,
          32455.063974398767,
          32293.35875429561,
          32132.44120055665,
          31972.309535085456,
          31812.96174322324,
          31654.39560263944,
          31496.60870964232,
          31339.598502793444,
          31183.36228122712,
          31027.897223987526,
          30873.200405633896,
          30719.268809936377,
          30566.099343380793,
          30413.688845320226,
          30262.03409622546,
          30111.131829416663,
          29960.978737462254,
          29811.57147753919,
          29662.906679119915,
          29514.980948559187,
          29367.790873821617,
          29221.333028480192,
          29075.60397562797,
          28930.600270902978,
          28786.318465377248,
          28642.755108067096,
          28499.90674813576,
          28357.769936846114,
          28216.34122925745,
          28075.617185755433,
          27935.59437337101,
          27796.269366949407,
          27657.638750171256,
          27519.699116449225,
          27382.44706972095,
          27245.8792250969,
          27109.992209566655,
          26974.782662378046,
          26840.2472355706,
          26706.382594356146,
          26573.185417448905,
          26440.65239735001,
          26308.78024063441,
          26177.565668109273,
          26047.005414964493,
          25917.09623103142,
          25787.834880833,
          25659.218143658512,
          25531.2428136974,
          25403.905700073894,
          25277.20362689455,
          25151.133433277893,
          25025.691973382072,
          24900.876116405932,
          24776.682746590126,
          24653.10876320735,
          24530.15108054582,
          24407.806627885344,
          24286.072349468064,
          24164.94520446392,
          24044.42216693161,
          23924.500225777145,
          23805.176384707233,
          23686.447662179435,
          23568.31109135141,
          23450.763720026942,
          23333.802610600043,
          23217.424839997664,
          23101.627499620354,
          22986.407695282498,
          22871.762547151164,
          22757.68918968308,
          22644.1847715624,
          22531.246455638062,
          22418.871418857616,
          22307.05685220188,
          22195.799960624357,
          22085.097962982956,
          21974.948091975268,
          21865.347594073126,
          21756.293729457142,
          21647.7837719511,
          21539.81500895634,
          21432.384741386337,
          21325.490283601222,
          21219.12896334241,
          21113.29812166741,
          21007.995112884757,
          20903.217304489106,
          20798.962077096556,
          20695.22682438015,
          20592.008953005552,
          20489.30588256689,
          20387.115045523242,
          20285.433887134932,
          20184.259865399945,
          20083.590450989213,
          19983.42312721258,
          19883.75538988391,
          19784.584747274446,
          19685.908720196567,
          19587.72484174388,
          19490.030657325417,
          19392.82372459348,
          19296.10161338003,
          19199.861905642752,
          19104.102195429023,
          19008.820088691595,
          18914.013203337112,
          18819.67916927745,
          18725.815628137098,
          18632.420233351633,
          18539.49065001816,
          18447.02455489899,
          18355.019636356064,
          18263.47359425669,
          18172.384139839887,
          18081.74899593023,
          17991.565896695476,
          17901.832587531615,
          17812.54682510268,
          17723.7063772614,
          17635.309020061093,
          17547.35255199972,
          17459.83476641761,
          17372.753474905578,
          17286.10649499656,
          17199.891667632393,
          17114.10684111856,
          17028.749880650244,
          16943.81863769292,
          16859.310987758905,
          16775.224816630955
         ]
        },
        {
         "legendgroup": "Devils",
         "line": {
          "color": "#d62728"
         },
         "mode": "lines",
         "name": "Devils",
         "type": "scatter",
         "x": [
          0,
          1,
          2,
          3,
          4,
          5,
          6,
          7,
          8,
          9,
          10,
          11,
          12,
          13,
          14,
          15,
          16,
          17,
          18,
          19,
          20,
          21,
          22,
          23,
          24,
          25,
          26,
          27,
          28,
          29,
          30,
          31,
          32,
          33,
          34,
          35,
          36,
          37,
          38,
          39,
          40,
          41,
          42,
          43,
          44,
          45,
          46,
          47,
          48,
          49,
          50,
          51,
          52,
          53,
          54,
          55,
          56,
          57,
          58,
          59,
          60,
          61,
          62,
          63,
          64,
          65,
          66,
          67,
          68,
          69,
          70,
          71,
          72,
          73,
          74,
          75,
          76,
          77,
          78,
          79,
          80,
          81,
          82,
          83,
          84,
          85,
          86,
          87,
          88,
          89,
          90,
          91,
          92,
          93,
          94,
          95,
          96,
          97,
          98,
          99,
          100,
          101,
          102,
          103,
          104,
          105,
          106,
          107,
          108,
          109,
          110,
          111,
          112,
          113,
          114,
          115,
          116,
          117,
          118,
          119,
          120,
          121,
          122,
          123,
          124,
          125,
          126,
          127,
          128,
          129,
          130,
          131,
          132,
          133,
          134,
          135,
          136,
          137,
          138,
          139,
          140,
          141,
          142,
          143,
          144,
          145,
          146,
          147,
          148,
          149,
          150,
          151,
          152,
          153,
          154,
          155,
          156,
          157,
          158,
          159,
          160,
          161,
          162,
          163,
          164,
          165,
          166,
          167,
          168,
          169,
          170,
          171,
          172,
          173,
          174,
          175,
          176,
          177,
          178,
          179,
          180,
          181,
          182,
          183,
          184,
          185,
          186,
          187,
          188,
          189,
          190,
          191,
          192,
          193,
          194,
          195,
          196,
          197,
          198,
          199,
          200,
          201,
          202,
          203,
          204,
          205,
          206,
          207,
          208,
          209,
          210,
          211,
          212,
          213,
          214,
          215,
          216,
          217,
          218,
          219,
          220,
          221,
          222,
          223,
          224,
          225,
          226,
          227,
          228,
          229,
          230,
          231,
          232,
          233,
          234,
          235,
          236,
          237,
          238,
          239,
          240
         ],
         "y": [
          51424.57836,
          51337.3137648445,
          51249.191452724066,
          51159.527764647544,
          51067.886135779,
          50973.956889423825,
          50877.49510499291,
          50778.288874358994,
          50676.143518328485,
          50570.87425542654,
          50462.303394855706,
          50350.26000219689,
          50234.58092431926,
          50115.11259190927,
          49991.71327170601,
          49864.25548532756,
          49732.62854460136,
          49596.74100797758,
          49456.52291731353,
          49311.92782317219,
          49162.93439125646,
          49009.547583813044,
          48851.799331439695,
          48689.74863590335,
          48523.48110892126,
          48353.10794256692,
          48178.7643216501,
          48000.60738036434,
          47818.813697514364,
          47633.576592290025,
          47445.10304384811,
          47253.610579722634,
          47059.32414777246,
          46862.47300064591,
          46663.28787916162,
          46461.998286110844,
          46258.83012707725,
          46054.00360941201,
          45847.73150702019,
          45640.217746855276,
          45431.65630623521,
          45222.230466602196,
          45012.112257380446,
          44801.46222210669,
          44590.42936997805,
          44379.15130951896,
          44167.75452760111,
          43956.354784240575,
          43745.05759357597,
          43533.958765869545,
          43323.14498301117,
          43112.69442370133,
          42902.67734867083,
          42693.156712504555,
          42484.18874776332,
          42275.82355044247,
          42068.10559739201,
          41861.07426314483,
          41654.76429636102,
          41449.20626210877,
          41244.426950859226,
          41040.44975459628,
          40837.295012260765,
          40634.980328695914,
          40433.52084570377,
          40232.92951775787,
          40033.217339573835,
          39834.39355772766,
          39636.465859510485,
          39439.44054525215,
          39243.32269772756,
          39048.11628534274,
          38853.82430974684,
          38660.44891027305,
          38467.991461636964,
          38276.45266291271,
          38085.83261248649,
          37896.13088012532,
          37707.34656821943,
          37519.47836672828,
          37332.524602064324,
          37146.483280407,
          36961.3521263101,
          36777.1286185733,
          36593.81001796044,
          36411.393396026455,
          36229.87565871808,
          36049.253567469364,
          35869.523758517505,
          35690.68275905115,
          35512.72700223648,
          35335.652840409806,
          35159.456556666126,
          34984.13437514225,
          34809.682470092375,
          34636.09697400352,
          34463.3739847263,
          34291.509571783434,
          34120.4997819738,
          33950.34064427594,
          33781.02817423246,
          33612.55837780122,
          33444.927254778224,
          33278.13080181334,
          33112.16501500661,
          32947.02589226909,
          32782.709435452176,
          32619.21165204975,
          32456.52855686531,
          32294.65617340626,
          32133.590535108484,
          31973.327686421548,
          31813.863683750624,
          31655.194596273388,
          31497.31650667711,
          31340.225511807213,
          31183.917723158265,
          31028.38926738785,
          30873.636286716934,
          30719.654939269665,
          30566.441399407304,
          30413.99185795691,
          30262.302522380076,
          30111.369617051696,
          29961.189383371006,
          29811.758079840227,
          29663.071982217025,
          29515.127383569354,
          29367.92059433508,
          29221.447942359042,
          29075.705772928268,
          28930.690448778787,
          28786.398350098614,
          28642.825874520102,
          28499.969437101958,
          28357.825470304037,
          28216.390423955516,
          28075.660765216384,
          27935.632978534017,
          27796.30356559478,
          27657.66904527193,
          27519.725953569665,
          27382.470843563293,
          27245.900285341253,
          27110.010865932465,
          26974.7991892494,
          26840.2618760156,
          26706.395563697064,
          26573.196906431367,
          26440.66257495576,
          26308.789256535245,
          26177.5736548879,
          26047.01249010981,
          25917.102498603388,
          25787.840433000238,
          25659.22306208499,
          25531.247170721115,
          25403.909559774274,
          25277.20704603636,
          25151.136462149378,
          25025.694656529613,
          24900.87849329138,
          24776.684852171136,
          24653.110628451657,
          24530.152732886316,
          24407.80809162355,
          24286.0736461315,
          24164.946353122905,
          24044.423184480205,
          23924.50112718085,
          23805.17718322294,
          23686.44836955106,
          23568.31171798245,
          23450.764275133417,
          23333.80310234597,
          23217.425275615224,
          23101.62788551619,
          22986.40803713199,
          22871.76284998193,
          22757.68945794884,
          22644.18500920851,
          22531.24666615967,
          22418.87160535089,
          22307.057017409366,
          22195.80010697568,
          22085.098092630433,
          21974.948206825513,
          21865.347695815155,
          21756.29381958715,
          21647.78385179447,
          21539.81507968725,
          21432.384804044937,
          21325.490339108914,
          21219.12901251542,
          21113.298165228785,
          21007.995151475017,
          20903.217338675677,
          20798.962107382093,
          20695.226851209925,
          20592.00897677401,
          20489.305903623463,
          20387.115064177477,
          20285.43390366104,
          20184.259880040845,
          20083.59046396009,
          19983.423138704053,
          19883.755400064856,
          19784.584756294436,
          19685.908728188126,
          19587.724848824393,
          19490.030663598878,
          19392.823730152006,
          19296.101618305223,
          19199.8619100069,
          19104.102199296176,
          19008.82009211848,
          18914.01320637398,
          18819.679171968826,
          18725.815630522422,
          18632.420235465834,
          18539.490651892185,
          18447.02455656025,
          18355.01963782885,
          18263.47359556251,
          18172.3841409978,
          18081.748996957118,
          17991.565897606302,
          17901.83258833962,
          17812.54682581961,
          17723.706377897648,
          17635.309020625864,
          17547.35255250118,
          17459.834766862983,
          17372.75347530126,
          17286.106495348216,
          17199.891667945052,
          17114.106841396664,
          17028.749880897747,
          16943.818637913315,
          16859.31098795529,
          16775.22481680607
         ]
        }
       ],
       "layout": {
        "showlegend": true,
        "template": {
         "data": {
          "bar": [
           {
            "error_x": {
             "color": "#2a3f5f"
            },
            "error_y": {
             "color": "#2a3f5f"
            },
            "marker": {
             "line": {
              "color": "#E5ECF6",
              "width": 0.5
             },
             "pattern": {
              "fillmode": "overlay",
              "size": 10,
              "solidity": 0.2
             }
            },
            "type": "bar"
           }
          ],
          "barpolar": [
           {
            "marker": {
             "line": {
              "color": "#E5ECF6",
              "width": 0.5
             },
             "pattern": {
              "fillmode": "overlay",
              "size": 10,
              "solidity": 0.2
             }
            },
            "type": "barpolar"
           }
          ],
          "carpet": [
           {
            "aaxis": {
             "endlinecolor": "#2a3f5f",
             "gridcolor": "white",
             "linecolor": "white",
             "minorgridcolor": "white",
             "startlinecolor": "#2a3f5f"
            },
            "baxis": {
             "endlinecolor": "#2a3f5f",
             "gridcolor": "white",
             "linecolor": "white",
             "minorgridcolor": "white",
             "startlinecolor": "#2a3f5f"
            },
            "type": "carpet"
           }
          ],
          "choropleth": [
           {
            "colorbar": {
             "outlinewidth": 0,
             "ticks": ""
            },
            "type": "choropleth"
           }
          ],
          "contour": [
           {
            "colorbar": {
             "outlinewidth": 0,
             "ticks": ""
            },
            "colorscale": [
             [
              0,
              "#0d0887"
             ],
             [
              0.1111111111111111,
              "#46039f"
             ],
             [
              0.2222222222222222,
              "#7201a8"
             ],
             [
              0.3333333333333333,
              "#9c179e"
             ],
             [
              0.4444444444444444,
              "#bd3786"
             ],
             [
              0.5555555555555556,
              "#d8576b"
             ],
             [
              0.6666666666666666,
              "#ed7953"
             ],
             [
              0.7777777777777778,
              "#fb9f3a"
             ],
             [
              0.8888888888888888,
              "#fdca26"
             ],
             [
              1,
              "#f0f921"
             ]
            ],
            "type": "contour"
           }
          ],
          "contourcarpet": [
           {
            "colorbar": {
             "outlinewidth": 0,
             "ticks": ""
            },
            "type": "contourcarpet"
           }
          ],
          "heatmap": [
           {
            "colorbar": {
             "outlinewidth": 0,
             "ticks": ""
            },
            "colorscale": [
             [
              0,
              "#0d0887"
             ],
             [
              0.1111111111111111,
              "#46039f"
             ],
             [
              0.2222222222222222,
              "#7201a8"
             ],
             [
              0.3333333333333333,
              "#9c179e"
             ],
             [
              0.4444444444444444,
              "#bd3786"
             ],
             [
              0.5555555555555556,
              "#d8576b"
             ],
             [
              0.6666666666666666,
              "#ed7953"
             ],
             [
              0.7777777777777778,
              "#fb9f3a"
             ],
             [
              0.8888888888888888,
              "#fdca26"
             ],
             [
              1,
              "#f0f921"
             ]
            ],
            "type": "heatmap"
           }
          ],
          "heatmapgl": [
           {
            "colorbar": {
             "outlinewidth": 0,
             "ticks": ""
            },
            "colorscale": [
             [
              0,
              "#0d0887"
             ],
             [
              0.1111111111111111,
              "#46039f"
             ],
             [
              0.2222222222222222,
              "#7201a8"
             ],
             [
              0.3333333333333333,
              "#9c179e"
             ],
             [
              0.4444444444444444,
              "#bd3786"
             ],
             [
              0.5555555555555556,
              "#d8576b"
             ],
             [
              0.6666666666666666,
              "#ed7953"
             ],
             [
              0.7777777777777778,
              "#fb9f3a"
             ],
             [
              0.8888888888888888,
              "#fdca26"
             ],
             [
              1,
              "#f0f921"
             ]
            ],
            "type": "heatmapgl"
           }
          ],
          "histogram": [
           {
            "marker": {
             "pattern": {
              "fillmode": "overlay",
              "size": 10,
              "solidity": 0.2
             }
            },
            "type": "histogram"
           }
          ],
          "histogram2d": [
           {
            "colorbar": {
             "outlinewidth": 0,
             "ticks": ""
            },
            "colorscale": [
             [
              0,
              "#0d0887"
             ],
             [
              0.1111111111111111,
              "#46039f"
             ],
             [
              0.2222222222222222,
              "#7201a8"
             ],
             [
              0.3333333333333333,
              "#9c179e"
             ],
             [
              0.4444444444444444,
              "#bd3786"
             ],
             [
              0.5555555555555556,
              "#d8576b"
             ],
             [
              0.6666666666666666,
              "#ed7953"
             ],
             [
              0.7777777777777778,
              "#fb9f3a"
             ],
             [
              0.8888888888888888,
              "#fdca26"
             ],
             [
              1,
              "#f0f921"
             ]
            ],
            "type": "histogram2d"
           }
          ],
          "histogram2dcontour": [
           {
            "colorbar": {
             "outlinewidth": 0,
             "ticks": ""
            },
            "colorscale": [
             [
              0,
              "#0d0887"
             ],
             [
              0.1111111111111111,
              "#46039f"
             ],
             [
              0.2222222222222222,
              "#7201a8"
             ],
             [
              0.3333333333333333,
              "#9c179e"
             ],
             [
              0.4444444444444444,
              "#bd3786"
             ],
             [
              0.5555555555555556,
              "#d8576b"
             ],
             [
              0.6666666666666666,
              "#ed7953"
             ],
             [
              0.7777777777777778,
              "#fb9f3a"
             ],
             [
              0.8888888888888888,
              "#fdca26"
             ],
             [
              1,
              "#f0f921"
             ]
            ],
            "type": "histogram2dcontour"
           }
          ],
          "mesh3d": [
           {
            "colorbar": {
             "outlinewidth": 0,
             "ticks": ""
            },
            "type": "mesh3d"
           }
          ],
          "parcoords": [
           {
            "line": {
             "colorbar": {
              "outlinewidth": 0,
              "ticks": ""
             }
            },
            "type": "parcoords"
           }
          ],
          "pie": [
           {
            "automargin": true,
            "type": "pie"
           }
          ],
          "scatter": [
           {
            "marker": {
             "colorbar": {
              "outlinewidth": 0,
              "ticks": ""
             }
            },
            "type": "scatter"
           }
          ],
          "scatter3d": [
           {
            "line": {
             "colorbar": {
              "outlinewidth": 0,
              "ticks": ""
             }
            },
            "marker": {
             "colorbar": {
              "outlinewidth": 0,
              "ticks": ""
             }
            },
            "type": "scatter3d"
           }
          ],
          "scattercarpet": [
           {
            "marker": {
             "colorbar": {
              "outlinewidth": 0,
              "ticks": ""
             }
            },
            "type": "scattercarpet"
           }
          ],
          "scattergeo": [
           {
            "marker": {
             "colorbar": {
              "outlinewidth": 0,
              "ticks": ""
             }
            },
            "type": "scattergeo"
           }
          ],
          "scattergl": [
           {
            "marker": {
             "colorbar": {
              "outlinewidth": 0,
              "ticks": ""
             }
            },
            "type": "scattergl"
           }
          ],
          "scattermapbox": [
           {
            "marker": {
             "colorbar": {
              "outlinewidth": 0,
              "ticks": ""
             }
            },
            "type": "scattermapbox"
           }
          ],
          "scatterpolar": [
           {
            "marker": {
             "colorbar": {
              "outlinewidth": 0,
              "ticks": ""
             }
            },
            "type": "scatterpolar"
           }
          ],
          "scatterpolargl": [
           {
            "marker": {
             "colorbar": {
              "outlinewidth": 0,
              "ticks": ""
             }
            },
            "type": "scatterpolargl"
           }
          ],
          "scatterternary": [
           {
            "marker": {
             "colorbar": {
              "outlinewidth": 0,
              "ticks": ""
             }
            },
            "type": "scatterternary"
           }
          ],
          "surface": [
           {
            "colorbar": {
             "outlinewidth": 0,
             "ticks": ""
            },
            "colorscale": [
             [
              0,
              "#0d0887"
             ],
             [
              0.1111111111111111,
              "#46039f"
             ],
             [
              0.2222222222222222,
              "#7201a8"
             ],
             [
              0.3333333333333333,
              "#9c179e"
             ],
             [
              0.4444444444444444,
              "#bd3786"
             ],
             [
              0.5555555555555556,
              "#d8576b"
             ],
             [
              0.6666666666666666,
              "#ed7953"
             ],
             [
              0.7777777777777778,
              "#fb9f3a"
             ],
             [
              0.8888888888888888,
              "#fdca26"
             ],
             [
              1,
              "#f0f921"
             ]
            ],
            "type": "surface"
           }
          ],
          "table": [
           {
            "cells": {
             "fill": {
              "color": "#EBF0F8"
             },
             "line": {
              "color": "white"
             }
            },
            "header": {
             "fill": {
              "color": "#C8D4E3"
             },
             "line": {
              "color": "white"
             }
            },
            "type": "table"
           }
          ]
         },
         "layout": {
          "annotationdefaults": {
           "arrowcolor": "#2a3f5f",
           "arrowhead": 0,
           "arrowwidth": 1
          },
          "autotypenumbers": "strict",
          "coloraxis": {
           "colorbar": {
            "outlinewidth": 0,
            "ticks": ""
           }
          },
          "colorscale": {
           "diverging": [
            [
             0,
             "#8e0152"
            ],
            [
             0.1,
             "#c51b7d"
            ],
            [
             0.2,
             "#de77ae"
            ],
            [
             0.3,
             "#f1b6da"
            ],
            [
             0.4,
             "#fde0ef"
            ],
            [
             0.5,
             "#f7f7f7"
            ],
            [
             0.6,
             "#e6f5d0"
            ],
            [
             0.7,
             "#b8e186"
            ],
            [
             0.8,
             "#7fbc41"
            ],
            [
             0.9,
             "#4d9221"
            ],
            [
             1,
             "#276419"
            ]
           ],
           "sequential": [
            [
             0,
             "#0d0887"
            ],
            [
             0.1111111111111111,
             "#46039f"
            ],
            [
             0.2222222222222222,
             "#7201a8"
            ],
            [
             0.3333333333333333,
             "#9c179e"
            ],
            [
             0.4444444444444444,
             "#bd3786"
            ],
            [
             0.5555555555555556,
             "#d8576b"
            ],
            [
             0.6666666666666666,
             "#ed7953"
            ],
            [
             0.7777777777777778,
             "#fb9f3a"
            ],
            [
             0.8888888888888888,
             "#fdca26"
            ],
            [
             1,
             "#f0f921"
            ]
           ],
           "sequentialminus": [
            [
             0,
             "#0d0887"
            ],
            [
             0.1111111111111111,
             "#46039f"
            ],
            [
             0.2222222222222222,
             "#7201a8"
            ],
            [
             0.3333333333333333,
             "#9c179e"
            ],
            [
             0.4444444444444444,
             "#bd3786"
            ],
            [
             0.5555555555555556,
             "#d8576b"
            ],
            [
             0.6666666666666666,
             "#ed7953"
            ],
            [
             0.7777777777777778,
             "#fb9f3a"
            ],
            [
             0.8888888888888888,
             "#fdca26"
            ],
            [
             1,
             "#f0f921"
            ]
           ]
          },
          "colorway": [
           "#636efa",
           "#EF553B",
           "#00cc96",
           "#ab63fa",
           "#FFA15A",
           "#19d3f3",
           "#FF6692",
           "#B6E880",
           "#FF97FF",
           "#FECB52"
          ],
          "font": {
           "color": "#2a3f5f"
          },
          "geo": {
           "bgcolor": "white",
           "lakecolor": "white",
           "landcolor": "#E5ECF6",
           "showlakes": true,
           "showland": true,
           "subunitcolor": "white"
          },
          "hoverlabel": {
           "align": "left"
          },
          "hovermode": "closest",
          "mapbox": {
           "style": "light"
          },
          "paper_bgcolor": "white",
          "plot_bgcolor": "#E5ECF6",
          "polar": {
           "angularaxis": {
            "gridcolor": "white",
            "linecolor": "white",
            "ticks": ""
           },
           "bgcolor": "#E5ECF6",
           "radialaxis": {
            "gridcolor": "white",
            "linecolor": "white",
            "ticks": ""
           }
          },
          "scene": {
           "xaxis": {
            "backgroundcolor": "#E5ECF6",
            "gridcolor": "white",
            "gridwidth": 2,
            "linecolor": "white",
            "showbackground": true,
            "ticks": "",
            "zerolinecolor": "white"
           },
           "yaxis": {
            "backgroundcolor": "#E5ECF6",
            "gridcolor": "white",
            "gridwidth": 2,
            "linecolor": "white",
            "showbackground": true,
            "ticks": "",
            "zerolinecolor": "white"
           },
           "zaxis": {
            "backgroundcolor": "#E5ECF6",
            "gridcolor": "white",
            "gridwidth": 2,
            "linecolor": "white",
            "showbackground": true,
            "ticks": "",
            "zerolinecolor": "white"
           }
          },
          "shapedefaults": {
           "line": {
            "color": "#2a3f5f"
           }
          },
          "ternary": {
           "aaxis": {
            "gridcolor": "white",
            "linecolor": "white",
            "ticks": ""
           },
           "baxis": {
            "gridcolor": "white",
            "linecolor": "white",
            "ticks": ""
           },
           "bgcolor": "#E5ECF6",
           "caxis": {
            "gridcolor": "white",
            "linecolor": "white",
            "ticks": ""
           }
          },
          "title": {
           "x": 0.05
          },
          "xaxis": {
           "automargin": true,
           "gridcolor": "white",
           "linecolor": "white",
           "ticks": "",
           "title": {
            "standoff": 15
           },
           "zerolinecolor": "white",
           "zerolinewidth": 2
          },
          "yaxis": {
           "automargin": true,
           "gridcolor": "white",
           "linecolor": "white",
           "ticks": "",
           "title": {
            "standoff": 15
           },
           "zerolinecolor": "white",
           "zerolinewidth": 2
          }
         }
        },
        "title": {
         "text": ""
        },
        "xaxis": {
         "title": {
          "text": "Time"
         }
        },
        "yaxis": {
         "title": {
          "text": "Value"
         }
        }
       }
      },
      "text/html": [
       "<div>                            <div id=\"d37cf8a3-ba33-42c8-b1a7-95b38f635239\" class=\"plotly-graph-div\" style=\"height:525px; width:100%;\"></div>            <script type=\"text/javascript\">                require([\"plotly\"], function(Plotly) {                    window.PLOTLYENV=window.PLOTLYENV || {};                                    if (document.getElementById(\"d37cf8a3-ba33-42c8-b1a7-95b38f635239\")) {                    Plotly.newPlot(                        \"d37cf8a3-ba33-42c8-b1a7-95b38f635239\",                        [{\"legendgroup\":\"I\",\"line\":{\"color\":\"#2ca02c\"},\"mode\":\"lines\",\"name\":\"I\",\"type\":\"scatter\",\"x\":[0.0,1.0,2.0,3.0,4.0,5.0,6.0,7.0,8.0,9.0,10.0,11.0,12.0,13.0,14.0,15.0,16.0,17.0,18.0,19.0,20.0,21.0,22.0,23.0,24.0,25.0,26.0,27.0,28.0,29.0,30.0,31.0,32.0,33.0,34.0,35.0,36.0,37.0,38.0,39.0,40.0,41.0,42.0,43.0,44.0,45.0,46.0,47.0,48.0,49.0,50.0,51.0,52.0,53.0,54.0,55.0,56.0,57.0,58.0,59.0,60.0,61.0,62.0,63.0,64.0,65.0,66.0,67.0,68.0,69.0,70.0,71.0,72.0,73.0,74.0,75.0,76.0,77.0,78.0,79.0,80.0,81.0,82.0,83.0,84.0,85.0,86.0,87.0,88.0,89.0,90.0,91.0,92.0,93.0,94.0,95.0,96.0,97.0,98.0,99.0,100.0,101.0,102.0,103.0,104.0,105.0,106.0,107.0,108.0,109.0,110.0,111.0,112.0,113.0,114.0,115.0,116.0,117.0,118.0,119.0,120.0,121.0,122.0,123.0,124.0,125.0,126.0,127.0,128.0,129.0,130.0,131.0,132.0,133.0,134.0,135.0,136.0,137.0,138.0,139.0,140.0,141.0,142.0,143.0,144.0,145.0,146.0,147.0,148.0,149.0,150.0,151.0,152.0,153.0,154.0,155.0,156.0,157.0,158.0,159.0,160.0,161.0,162.0,163.0,164.0,165.0,166.0,167.0,168.0,169.0,170.0,171.0,172.0,173.0,174.0,175.0,176.0,177.0,178.0,179.0,180.0,181.0,182.0,183.0,184.0,185.0,186.0,187.0,188.0,189.0,190.0,191.0,192.0,193.0,194.0,195.0,196.0,197.0,198.0,199.0,200.0,201.0,202.0,203.0,204.0,205.0,206.0,207.0,208.0,209.0,210.0,211.0,212.0,213.0,214.0,215.0,216.0,217.0,218.0,219.0,220.0,221.0,222.0,223.0,224.0,225.0,226.0,227.0,228.0,229.0,230.0,231.0,232.0,233.0,234.0,235.0,236.0,237.0,238.0,239.0,240.0],\"y\":[6699.0798229572,6827.671854943818,7185.782637746746,7684.687732727394,8278.732816700105,8944.583890856451,9670.389215342388,10450.098534447588,11280.466789124186,12159.458904043602,13085.387514649305,14056.438121739317,15070.401718435114,16124.522817620884,17215.417775192473,18339.039821172915,19490.679019225896,20664.99491870527,21856.074387561406,23057.517394466573,24262.543912289933,25464.120398560153,26655.102313232474,27828.381693655923,28977.040588588803,30094.49768971815,31174.645308672625,32211.96768969991,33201.63941365609,34139.59596078209,35022.58201629079,35848.167016281455,36614.738631720014,37321.46983314074,37968.26851913404,38555.71114488988,39084.96448686912,39557.70056385807,39976.009438959045,40342.31276570537,40659.279678260726,40929.753733627906,41156.67989145908,41343.04536813323,41491.827998167864,41605.953522699005,41688.26115504783,41741.47716040453,41768.19540452762,41770.86400413333,41751.7772667479,41713.07194903605,41656.72751186748,41584.568199279805,41498.26809654615,41399.357774358396,41289.23151112704,41169.15551434742,41040.27655454092,40903.630645260644,40760.151651899505,40610.67966537087,40455.969076371235,40296.696336706234,40133.46676330527,39966.8216332892,39797.24427090141,39625.165773183704,39450.97019897199,39274.999386053634,39097.55777938423,38918.91551858627,38739.31258867669,38558.961835620226,38378.05202324019,38196.75048923223,38015.20523298776,37833.547245531125,37651.892308721835,37470.342690518606,37288.98863762449,37107.909710916836,36927.17597710018,36746.84912103501,36566.98330865379,36387.626082265546,36208.81909865277,36030.59879139566,35852.996975109105,35676.04135200207,35499.75598796161,35324.16172861993,35149.27656439772,34975.11595517071,34801.69312153555,34629.019303132605,34457.103983579975,34285.95509158524,34115.57918328688,33945.98160090965,33777.16660979917,33609.13752372288,33441.89681855633,33275.44623172824,33109.78684156402,32944.919147248795,32780.84314274622,32617.558369900344,32455.063974398767,32293.35875429561,32132.44120055665,31972.309535085456,31812.96174322324,31654.39560263944,31496.60870964232,31339.598502793444,31183.36228122712,31027.897223987526,30873.200405633896,30719.268809936377,30566.099343380793,30413.688845320226,30262.03409622546,30111.131829416663,29960.978737462254,29811.57147753919,29662.906679119915,29514.980948559187,29367.790873821617,29221.333028480192,29075.60397562797,28930.600270902978,28786.318465377248,28642.755108067096,28499.90674813576,28357.769936846114,28216.34122925745,28075.617185755433,27935.59437337101,27796.269366949407,27657.638750171256,27519.699116449225,27382.44706972095,27245.8792250969,27109.992209566655,26974.782662378046,26840.2472355706,26706.382594356146,26573.185417448905,26440.65239735001,26308.78024063441,26177.565668109273,26047.005414964493,25917.09623103142,25787.834880833,25659.218143658512,25531.2428136974,25403.905700073894,25277.20362689455,25151.133433277893,25025.691973382072,24900.876116405932,24776.682746590126,24653.10876320735,24530.15108054582,24407.806627885344,24286.072349468064,24164.94520446392,24044.42216693161,23924.500225777145,23805.176384707233,23686.447662179435,23568.31109135141,23450.763720026942,23333.802610600043,23217.424839997664,23101.627499620354,22986.407695282498,22871.762547151164,22757.68918968308,22644.1847715624,22531.246455638062,22418.871418857616,22307.05685220188,22195.799960624357,22085.097962982956,21974.948091975268,21865.347594073126,21756.293729457142,21647.7837719511,21539.81500895634,21432.384741386337,21325.490283601222,21219.12896334241,21113.29812166741,21007.995112884757,20903.217304489106,20798.962077096556,20695.22682438015,20592.008953005552,20489.30588256689,20387.115045523242,20285.433887134932,20184.259865399945,20083.590450989213,19983.42312721258,19883.75538988391,19784.584747274446,19685.908720196567,19587.72484174388,19490.030657325417,19392.82372459348,19296.10161338003,19199.861905642752,19104.102195429023,19008.820088691595,18914.013203337112,18819.67916927745,18725.815628137098,18632.420233351633,18539.49065001816,18447.02455489899,18355.019636356064,18263.47359425669,18172.384139839887,18081.74899593023,17991.565896695476,17901.832587531615,17812.54682510268,17723.7063772614,17635.309020061093,17547.35255199972,17459.83476641761,17372.753474905578,17286.10649499656,17199.891667632393,17114.10684111856,17028.749880650244,16943.81863769292,16859.310987758905,16775.224816630955]},{\"legendgroup\":\"Devils\",\"line\":{\"color\":\"#d62728\"},\"mode\":\"lines\",\"name\":\"Devils\",\"type\":\"scatter\",\"x\":[0.0,1.0,2.0,3.0,4.0,5.0,6.0,7.0,8.0,9.0,10.0,11.0,12.0,13.0,14.0,15.0,16.0,17.0,18.0,19.0,20.0,21.0,22.0,23.0,24.0,25.0,26.0,27.0,28.0,29.0,30.0,31.0,32.0,33.0,34.0,35.0,36.0,37.0,38.0,39.0,40.0,41.0,42.0,43.0,44.0,45.0,46.0,47.0,48.0,49.0,50.0,51.0,52.0,53.0,54.0,55.0,56.0,57.0,58.0,59.0,60.0,61.0,62.0,63.0,64.0,65.0,66.0,67.0,68.0,69.0,70.0,71.0,72.0,73.0,74.0,75.0,76.0,77.0,78.0,79.0,80.0,81.0,82.0,83.0,84.0,85.0,86.0,87.0,88.0,89.0,90.0,91.0,92.0,93.0,94.0,95.0,96.0,97.0,98.0,99.0,100.0,101.0,102.0,103.0,104.0,105.0,106.0,107.0,108.0,109.0,110.0,111.0,112.0,113.0,114.0,115.0,116.0,117.0,118.0,119.0,120.0,121.0,122.0,123.0,124.0,125.0,126.0,127.0,128.0,129.0,130.0,131.0,132.0,133.0,134.0,135.0,136.0,137.0,138.0,139.0,140.0,141.0,142.0,143.0,144.0,145.0,146.0,147.0,148.0,149.0,150.0,151.0,152.0,153.0,154.0,155.0,156.0,157.0,158.0,159.0,160.0,161.0,162.0,163.0,164.0,165.0,166.0,167.0,168.0,169.0,170.0,171.0,172.0,173.0,174.0,175.0,176.0,177.0,178.0,179.0,180.0,181.0,182.0,183.0,184.0,185.0,186.0,187.0,188.0,189.0,190.0,191.0,192.0,193.0,194.0,195.0,196.0,197.0,198.0,199.0,200.0,201.0,202.0,203.0,204.0,205.0,206.0,207.0,208.0,209.0,210.0,211.0,212.0,213.0,214.0,215.0,216.0,217.0,218.0,219.0,220.0,221.0,222.0,223.0,224.0,225.0,226.0,227.0,228.0,229.0,230.0,231.0,232.0,233.0,234.0,235.0,236.0,237.0,238.0,239.0,240.0],\"y\":[51424.57836,51337.3137648445,51249.191452724066,51159.527764647544,51067.886135779,50973.956889423825,50877.49510499291,50778.288874358994,50676.143518328485,50570.87425542654,50462.303394855706,50350.26000219689,50234.58092431926,50115.11259190927,49991.71327170601,49864.25548532756,49732.62854460136,49596.74100797758,49456.52291731353,49311.92782317219,49162.93439125646,49009.547583813044,48851.799331439695,48689.74863590335,48523.48110892126,48353.10794256692,48178.7643216501,48000.60738036434,47818.813697514364,47633.576592290025,47445.10304384811,47253.610579722634,47059.32414777246,46862.47300064591,46663.28787916162,46461.998286110844,46258.83012707725,46054.00360941201,45847.73150702019,45640.217746855276,45431.65630623521,45222.230466602196,45012.112257380446,44801.46222210669,44590.42936997805,44379.15130951896,44167.75452760111,43956.354784240575,43745.05759357597,43533.958765869545,43323.14498301117,43112.69442370133,42902.67734867083,42693.156712504555,42484.18874776332,42275.82355044247,42068.10559739201,41861.07426314483,41654.76429636102,41449.20626210877,41244.426950859226,41040.44975459628,40837.295012260765,40634.980328695914,40433.52084570377,40232.92951775787,40033.217339573835,39834.39355772766,39636.465859510485,39439.44054525215,39243.32269772756,39048.11628534274,38853.82430974684,38660.44891027305,38467.991461636964,38276.45266291271,38085.83261248649,37896.13088012532,37707.34656821943,37519.47836672828,37332.524602064324,37146.483280407,36961.3521263101,36777.1286185733,36593.81001796044,36411.393396026455,36229.87565871808,36049.253567469364,35869.523758517505,35690.68275905115,35512.72700223648,35335.652840409806,35159.456556666126,34984.13437514225,34809.682470092375,34636.09697400352,34463.3739847263,34291.509571783434,34120.4997819738,33950.34064427594,33781.02817423246,33612.55837780122,33444.927254778224,33278.13080181334,33112.16501500661,32947.02589226909,32782.709435452176,32619.21165204975,32456.52855686531,32294.65617340626,32133.590535108484,31973.327686421548,31813.863683750624,31655.194596273388,31497.31650667711,31340.225511807213,31183.917723158265,31028.38926738785,30873.636286716934,30719.654939269665,30566.441399407304,30413.99185795691,30262.302522380076,30111.369617051696,29961.189383371006,29811.758079840227,29663.071982217025,29515.127383569354,29367.92059433508,29221.447942359042,29075.705772928268,28930.690448778787,28786.398350098614,28642.825874520102,28499.969437101958,28357.825470304037,28216.390423955516,28075.660765216384,27935.632978534017,27796.30356559478,27657.66904527193,27519.725953569665,27382.470843563293,27245.900285341253,27110.010865932465,26974.7991892494,26840.2618760156,26706.395563697064,26573.196906431367,26440.66257495576,26308.789256535245,26177.5736548879,26047.01249010981,25917.102498603388,25787.840433000238,25659.22306208499,25531.247170721115,25403.909559774274,25277.20704603636,25151.136462149378,25025.694656529613,24900.87849329138,24776.684852171136,24653.110628451657,24530.152732886316,24407.80809162355,24286.0736461315,24164.946353122905,24044.423184480205,23924.50112718085,23805.17718322294,23686.44836955106,23568.31171798245,23450.764275133417,23333.80310234597,23217.425275615224,23101.62788551619,22986.40803713199,22871.76284998193,22757.68945794884,22644.18500920851,22531.24666615967,22418.87160535089,22307.057017409366,22195.80010697568,22085.098092630433,21974.948206825513,21865.347695815155,21756.29381958715,21647.78385179447,21539.81507968725,21432.384804044937,21325.490339108914,21219.12901251542,21113.298165228785,21007.995151475017,20903.217338675677,20798.962107382093,20695.226851209925,20592.00897677401,20489.305903623463,20387.115064177477,20285.43390366104,20184.259880040845,20083.59046396009,19983.423138704053,19883.755400064856,19784.584756294436,19685.908728188126,19587.724848824393,19490.030663598878,19392.823730152006,19296.101618305223,19199.8619100069,19104.102199296176,19008.82009211848,18914.01320637398,18819.679171968826,18725.815630522422,18632.420235465834,18539.490651892185,18447.02455656025,18355.01963782885,18263.47359556251,18172.3841409978,18081.748996957118,17991.565897606302,17901.83258833962,17812.54682581961,17723.706377897648,17635.309020625864,17547.35255250118,17459.834766862983,17372.75347530126,17286.106495348216,17199.891667945052,17114.106841396664,17028.749880897747,16943.818637913315,16859.31098795529,16775.22481680607]}],                        {\"showlegend\":true,\"template\":{\"data\":{\"bar\":[{\"error_x\":{\"color\":\"#2a3f5f\"},\"error_y\":{\"color\":\"#2a3f5f\"},\"marker\":{\"line\":{\"color\":\"#E5ECF6\",\"width\":0.5},\"pattern\":{\"fillmode\":\"overlay\",\"size\":10,\"solidity\":0.2}},\"type\":\"bar\"}],\"barpolar\":[{\"marker\":{\"line\":{\"color\":\"#E5ECF6\",\"width\":0.5},\"pattern\":{\"fillmode\":\"overlay\",\"size\":10,\"solidity\":0.2}},\"type\":\"barpolar\"}],\"carpet\":[{\"aaxis\":{\"endlinecolor\":\"#2a3f5f\",\"gridcolor\":\"white\",\"linecolor\":\"white\",\"minorgridcolor\":\"white\",\"startlinecolor\":\"#2a3f5f\"},\"baxis\":{\"endlinecolor\":\"#2a3f5f\",\"gridcolor\":\"white\",\"linecolor\":\"white\",\"minorgridcolor\":\"white\",\"startlinecolor\":\"#2a3f5f\"},\"type\":\"carpet\"}],\"choropleth\":[{\"colorbar\":{\"outlinewidth\":0,\"ticks\":\"\"},\"type\":\"choropleth\"}],\"contour\":[{\"colorbar\":{\"outlinewidth\":0,\"ticks\":\"\"},\"colorscale\":[[0.0,\"#0d0887\"],[0.1111111111111111,\"#46039f\"],[0.2222222222222222,\"#7201a8\"],[0.3333333333333333,\"#9c179e\"],[0.4444444444444444,\"#bd3786\"],[0.5555555555555556,\"#d8576b\"],[0.6666666666666666,\"#ed7953\"],[0.7777777777777778,\"#fb9f3a\"],[0.8888888888888888,\"#fdca26\"],[1.0,\"#f0f921\"]],\"type\":\"contour\"}],\"contourcarpet\":[{\"colorbar\":{\"outlinewidth\":0,\"ticks\":\"\"},\"type\":\"contourcarpet\"}],\"heatmap\":[{\"colorbar\":{\"outlinewidth\":0,\"ticks\":\"\"},\"colorscale\":[[0.0,\"#0d0887\"],[0.1111111111111111,\"#46039f\"],[0.2222222222222222,\"#7201a8\"],[0.3333333333333333,\"#9c179e\"],[0.4444444444444444,\"#bd3786\"],[0.5555555555555556,\"#d8576b\"],[0.6666666666666666,\"#ed7953\"],[0.7777777777777778,\"#fb9f3a\"],[0.8888888888888888,\"#fdca26\"],[1.0,\"#f0f921\"]],\"type\":\"heatmap\"}],\"heatmapgl\":[{\"colorbar\":{\"outlinewidth\":0,\"ticks\":\"\"},\"colorscale\":[[0.0,\"#0d0887\"],[0.1111111111111111,\"#46039f\"],[0.2222222222222222,\"#7201a8\"],[0.3333333333333333,\"#9c179e\"],[0.4444444444444444,\"#bd3786\"],[0.5555555555555556,\"#d8576b\"],[0.6666666666666666,\"#ed7953\"],[0.7777777777777778,\"#fb9f3a\"],[0.8888888888888888,\"#fdca26\"],[1.0,\"#f0f921\"]],\"type\":\"heatmapgl\"}],\"histogram\":[{\"marker\":{\"pattern\":{\"fillmode\":\"overlay\",\"size\":10,\"solidity\":0.2}},\"type\":\"histogram\"}],\"histogram2d\":[{\"colorbar\":{\"outlinewidth\":0,\"ticks\":\"\"},\"colorscale\":[[0.0,\"#0d0887\"],[0.1111111111111111,\"#46039f\"],[0.2222222222222222,\"#7201a8\"],[0.3333333333333333,\"#9c179e\"],[0.4444444444444444,\"#bd3786\"],[0.5555555555555556,\"#d8576b\"],[0.6666666666666666,\"#ed7953\"],[0.7777777777777778,\"#fb9f3a\"],[0.8888888888888888,\"#fdca26\"],[1.0,\"#f0f921\"]],\"type\":\"histogram2d\"}],\"histogram2dcontour\":[{\"colorbar\":{\"outlinewidth\":0,\"ticks\":\"\"},\"colorscale\":[[0.0,\"#0d0887\"],[0.1111111111111111,\"#46039f\"],[0.2222222222222222,\"#7201a8\"],[0.3333333333333333,\"#9c179e\"],[0.4444444444444444,\"#bd3786\"],[0.5555555555555556,\"#d8576b\"],[0.6666666666666666,\"#ed7953\"],[0.7777777777777778,\"#fb9f3a\"],[0.8888888888888888,\"#fdca26\"],[1.0,\"#f0f921\"]],\"type\":\"histogram2dcontour\"}],\"mesh3d\":[{\"colorbar\":{\"outlinewidth\":0,\"ticks\":\"\"},\"type\":\"mesh3d\"}],\"parcoords\":[{\"line\":{\"colorbar\":{\"outlinewidth\":0,\"ticks\":\"\"}},\"type\":\"parcoords\"}],\"pie\":[{\"automargin\":true,\"type\":\"pie\"}],\"scatter\":[{\"marker\":{\"colorbar\":{\"outlinewidth\":0,\"ticks\":\"\"}},\"type\":\"scatter\"}],\"scatter3d\":[{\"line\":{\"colorbar\":{\"outlinewidth\":0,\"ticks\":\"\"}},\"marker\":{\"colorbar\":{\"outlinewidth\":0,\"ticks\":\"\"}},\"type\":\"scatter3d\"}],\"scattercarpet\":[{\"marker\":{\"colorbar\":{\"outlinewidth\":0,\"ticks\":\"\"}},\"type\":\"scattercarpet\"}],\"scattergeo\":[{\"marker\":{\"colorbar\":{\"outlinewidth\":0,\"ticks\":\"\"}},\"type\":\"scattergeo\"}],\"scattergl\":[{\"marker\":{\"colorbar\":{\"outlinewidth\":0,\"ticks\":\"\"}},\"type\":\"scattergl\"}],\"scattermapbox\":[{\"marker\":{\"colorbar\":{\"outlinewidth\":0,\"ticks\":\"\"}},\"type\":\"scattermapbox\"}],\"scatterpolar\":[{\"marker\":{\"colorbar\":{\"outlinewidth\":0,\"ticks\":\"\"}},\"type\":\"scatterpolar\"}],\"scatterpolargl\":[{\"marker\":{\"colorbar\":{\"outlinewidth\":0,\"ticks\":\"\"}},\"type\":\"scatterpolargl\"}],\"scatterternary\":[{\"marker\":{\"colorbar\":{\"outlinewidth\":0,\"ticks\":\"\"}},\"type\":\"scatterternary\"}],\"surface\":[{\"colorbar\":{\"outlinewidth\":0,\"ticks\":\"\"},\"colorscale\":[[0.0,\"#0d0887\"],[0.1111111111111111,\"#46039f\"],[0.2222222222222222,\"#7201a8\"],[0.3333333333333333,\"#9c179e\"],[0.4444444444444444,\"#bd3786\"],[0.5555555555555556,\"#d8576b\"],[0.6666666666666666,\"#ed7953\"],[0.7777777777777778,\"#fb9f3a\"],[0.8888888888888888,\"#fdca26\"],[1.0,\"#f0f921\"]],\"type\":\"surface\"}],\"table\":[{\"cells\":{\"fill\":{\"color\":\"#EBF0F8\"},\"line\":{\"color\":\"white\"}},\"header\":{\"fill\":{\"color\":\"#C8D4E3\"},\"line\":{\"color\":\"white\"}},\"type\":\"table\"}]},\"layout\":{\"annotationdefaults\":{\"arrowcolor\":\"#2a3f5f\",\"arrowhead\":0,\"arrowwidth\":1},\"autotypenumbers\":\"strict\",\"coloraxis\":{\"colorbar\":{\"outlinewidth\":0,\"ticks\":\"\"}},\"colorscale\":{\"diverging\":[[0,\"#8e0152\"],[0.1,\"#c51b7d\"],[0.2,\"#de77ae\"],[0.3,\"#f1b6da\"],[0.4,\"#fde0ef\"],[0.5,\"#f7f7f7\"],[0.6,\"#e6f5d0\"],[0.7,\"#b8e186\"],[0.8,\"#7fbc41\"],[0.9,\"#4d9221\"],[1,\"#276419\"]],\"sequential\":[[0.0,\"#0d0887\"],[0.1111111111111111,\"#46039f\"],[0.2222222222222222,\"#7201a8\"],[0.3333333333333333,\"#9c179e\"],[0.4444444444444444,\"#bd3786\"],[0.5555555555555556,\"#d8576b\"],[0.6666666666666666,\"#ed7953\"],[0.7777777777777778,\"#fb9f3a\"],[0.8888888888888888,\"#fdca26\"],[1.0,\"#f0f921\"]],\"sequentialminus\":[[0.0,\"#0d0887\"],[0.1111111111111111,\"#46039f\"],[0.2222222222222222,\"#7201a8\"],[0.3333333333333333,\"#9c179e\"],[0.4444444444444444,\"#bd3786\"],[0.5555555555555556,\"#d8576b\"],[0.6666666666666666,\"#ed7953\"],[0.7777777777777778,\"#fb9f3a\"],[0.8888888888888888,\"#fdca26\"],[1.0,\"#f0f921\"]]},\"colorway\":[\"#636efa\",\"#EF553B\",\"#00cc96\",\"#ab63fa\",\"#FFA15A\",\"#19d3f3\",\"#FF6692\",\"#B6E880\",\"#FF97FF\",\"#FECB52\"],\"font\":{\"color\":\"#2a3f5f\"},\"geo\":{\"bgcolor\":\"white\",\"lakecolor\":\"white\",\"landcolor\":\"#E5ECF6\",\"showlakes\":true,\"showland\":true,\"subunitcolor\":\"white\"},\"hoverlabel\":{\"align\":\"left\"},\"hovermode\":\"closest\",\"mapbox\":{\"style\":\"light\"},\"paper_bgcolor\":\"white\",\"plot_bgcolor\":\"#E5ECF6\",\"polar\":{\"angularaxis\":{\"gridcolor\":\"white\",\"linecolor\":\"white\",\"ticks\":\"\"},\"bgcolor\":\"#E5ECF6\",\"radialaxis\":{\"gridcolor\":\"white\",\"linecolor\":\"white\",\"ticks\":\"\"}},\"scene\":{\"xaxis\":{\"backgroundcolor\":\"#E5ECF6\",\"gridcolor\":\"white\",\"gridwidth\":2,\"linecolor\":\"white\",\"showbackground\":true,\"ticks\":\"\",\"zerolinecolor\":\"white\"},\"yaxis\":{\"backgroundcolor\":\"#E5ECF6\",\"gridcolor\":\"white\",\"gridwidth\":2,\"linecolor\":\"white\",\"showbackground\":true,\"ticks\":\"\",\"zerolinecolor\":\"white\"},\"zaxis\":{\"backgroundcolor\":\"#E5ECF6\",\"gridcolor\":\"white\",\"gridwidth\":2,\"linecolor\":\"white\",\"showbackground\":true,\"ticks\":\"\",\"zerolinecolor\":\"white\"}},\"shapedefaults\":{\"line\":{\"color\":\"#2a3f5f\"}},\"ternary\":{\"aaxis\":{\"gridcolor\":\"white\",\"linecolor\":\"white\",\"ticks\":\"\"},\"baxis\":{\"gridcolor\":\"white\",\"linecolor\":\"white\",\"ticks\":\"\"},\"bgcolor\":\"#E5ECF6\",\"caxis\":{\"gridcolor\":\"white\",\"linecolor\":\"white\",\"ticks\":\"\"}},\"title\":{\"x\":0.05},\"xaxis\":{\"automargin\":true,\"gridcolor\":\"white\",\"linecolor\":\"white\",\"ticks\":\"\",\"title\":{\"standoff\":15},\"zerolinecolor\":\"white\",\"zerolinewidth\":2},\"yaxis\":{\"automargin\":true,\"gridcolor\":\"white\",\"linecolor\":\"white\",\"ticks\":\"\",\"title\":{\"standoff\":15},\"zerolinecolor\":\"white\",\"zerolinewidth\":2}}},\"title\":{\"text\":\"\"},\"xaxis\":{\"title\":{\"text\":\"Time\"}},\"yaxis\":{\"title\":{\"text\":\"Value\"}}},                        {\"responsive\": true}                    ).then(function(){\n",
       "                            \n",
       "var gd = document.getElementById('d37cf8a3-ba33-42c8-b1a7-95b38f635239');\n",
       "var x = new MutationObserver(function (mutations, observer) {{\n",
       "        var display = window.getComputedStyle(gd).display;\n",
       "        if (!display || display === 'none') {{\n",
       "            console.log([gd, 'removed!']);\n",
       "            Plotly.purge(gd);\n",
       "            observer.disconnect();\n",
       "        }}\n",
       "}});\n",
       "\n",
       "// Listen for the removal of the full notebook cells\n",
       "var notebookContainer = gd.closest('#notebook-container');\n",
       "if (notebookContainer) {{\n",
       "    x.observe(notebookContainer, {childList: true});\n",
       "}}\n",
       "\n",
       "// Listen for the clearing of the current output cell\n",
       "var outputEl = gd.closest('.output');\n",
       "if (outputEl) {{\n",
       "    x.observe(outputEl, {childList: true});\n",
       "}}\n",
       "\n",
       "                        })                };                });            </script>        </div>"
      ]
     },
     "metadata": {},
     "output_type": "display_data"
    }
   ],
   "source": [
    "results = model.run(solver=ODESolver)\n",
    "results.plotplotly(included_species_list=['Devils', 'I'])"
   ]
  },
  {
   "cell_type": "markdown",
   "metadata": {},
   "source": [
    "## Define prior distribution"
   ]
  },
  {
   "cell_type": "code",
   "execution_count": 29,
   "metadata": {},
   "outputs": [],
   "source": [
    "# take default from mode 1 as reference\n",
    "default_param = np.array(list(model.listOfParameters.items()))[:, 1]\n",
    "\n",
    "parameter_names = []\n",
    "bound = []\n",
    "for exp in default_param:\n",
    "    bound.append(float(exp.expression))\n",
    "    parameter_names.append(exp.name)\n",
    "\n",
    "# Set the bounds\n",
    "bound = np.array(bound)\n",
    "dmin = bound * 0.5\n",
    "dmax = bound * 1.5\n",
    "\n",
    "# Here we use uniform prior\n",
    "uni_prior = uniform_prior.UniformPrior(dmin, dmax)"
   ]
  },
  {
   "cell_type": "markdown",
   "metadata": {},
   "source": [
    "## Define simulator"
   ]
  },
  {
   "cell_type": "code",
   "execution_count": 30,
   "metadata": {},
   "outputs": [],
   "source": [
    "def set_model_parameters(params, model):\n",
    "    # params - array, need to have the same order as model.listOfParameters\n",
    "    for e, pname in enumerate(model.listOfParameters.keys()):\n",
    "        model.get_parameter(pname).set_expression(params[e])\n",
    "    return model\n",
    "\n",
    "# Here we use the GillesPy2 Solver\n",
    "def simulator(params, model):\n",
    "    model_update = set_model_parameters(params, model)\n",
    "\n",
    "    res = model_update.run(**kwargs)\n",
    "#     res = res.to_array()\n",
    "#     tot_res = np.asarray([x.T for x in res]) # reshape to (N, S, T)\n",
    "#     # should not contain timepoints\n",
    "#     tot_res = tot_res[:, 1:, :]\n",
    "    devils = res['Devils']\n",
    "    infected = res['I']\n",
    "\n",
    "    return np.vstack([devils, infected]).reshape(1, 2, -1)\n",
    "#     return tot_res\n",
    "\n",
    "# Wrapper, simulator function to abc should should only take one argument (the parameter point)\n",
    "def simulator2(x):\n",
    "    return simulator(x, model=model)"
   ]
  },
  {
   "cell_type": "markdown",
   "metadata": {},
   "source": [
    "## Define summary statistics and distance function"
   ]
  },
  {
   "cell_type": "code",
   "execution_count": 31,
   "metadata": {},
   "outputs": [],
   "source": [
    "# Function to generate summary statistics\n",
    "summ_func = auto_tsfresh.SummariesTSFRESH()\n",
    "\n",
    "# Distance\n",
    "# ns = naive_squared.NaiveSquaredDistance()"
   ]
  },
  {
   "cell_type": "markdown",
   "metadata": {},
   "source": [
    "## Start local cluster using dask client"
   ]
  },
  {
   "cell_type": "code",
   "execution_count": 32,
   "metadata": {
    "scrolled": true
   },
   "outputs": [
    {
     "name": "stderr",
     "output_type": "stream",
     "text": [
      "/opt/conda/lib/python3.8/site-packages/distributed/node.py:160: UserWarning:\n",
      "\n",
      "Port 8787 is already in use.\n",
      "Perhaps you already have a cluster running?\n",
      "Hosting the HTTP server on port 43975 instead\n",
      "\n"
     ]
    }
   ],
   "source": [
    "c = Client()"
   ]
  },
  {
   "cell_type": "markdown",
   "metadata": {},
   "source": [
    "## Start abc instance"
   ]
  },
  {
   "cell_type": "code",
   "execution_count": 33,
   "metadata": {},
   "outputs": [],
   "source": [
    "abc = ReplenishmentSMCABC(obs,\n",
    "                          sim=simulator2,\n",
    "                          prior_function=uni_prior,\n",
    "                          summaries_function=summ_func.compute\n",
    "#                           distance_function=ns\n",
    "                         )\n",
    "abc.compute_fixed_mean(1)"
   ]
  },
  {
   "cell_type": "code",
   "execution_count": 15,
   "metadata": {},
   "outputs": [],
   "source": [
    "# First compute the fixed(observed) mean\n",
    "# abc.compute_fixed_mean(chunk_size=2)"
   ]
  },
  {
   "cell_type": "code",
   "execution_count": 16,
   "metadata": {},
   "outputs": [
    {
     "name": "stdout",
     "output_type": "stream",
     "text": [
      "<Client: 'tcp://127.0.0.1:42855' processes=8 threads=64, memory=125.60 GiB>\n",
      "Tol : 149759695.85315415, R : 9, p_acc : 0.41800000000000004\n",
      "Tol : 125241973.15153524, R : 13, p_acc : 0.6646666666666667\n",
      "Tol : 96217618.98301928, R : 22, p_acc : 0.3703333333333333\n",
      "Tol : 73362438.24172626, R : 44, p_acc : 0.1988235294117647\n",
      "Tol : 67426749.90110807, R : 36, p_acc : 0.20384615384615387\n",
      "Tol : 59530811.23410898, R : 70, p_acc : 0.1343333333333333\n",
      "Tol : 51825550.62883979, R : 119, p_acc : 0.08203669724770643\n",
      "Tol : 48232492.74283385, R : 254, p_acc : 0.03677049180327869\n"
     ]
    }
   ],
   "source": [
    "with dask.config.set(schedular=\"processes\", workers=20):\n",
    "    print(c)\n",
    "    res = abc.infer(num_samples=100, batch_size=10, chunk_size=2)"
   ]
  },
  {
   "cell_type": "code",
   "execution_count": 17,
   "metadata": {},
   "outputs": [],
   "source": [
    "# mae_inference = mean_absolute_error(bound, abc.results['inferred_parameters'])"
   ]
  },
  {
   "cell_type": "markdown",
   "metadata": {},
   "source": [
    "## Analysis"
   ]
  },
  {
   "cell_type": "code",
   "execution_count": 18,
   "metadata": {},
   "outputs": [],
   "source": [
    "posterior = res['accepted_samples']"
   ]
  },
  {
   "cell_type": "code",
   "execution_count": 19,
   "metadata": {
    "scrolled": true
   },
   "outputs": [
    {
     "data": {
      "image/png": "[encoded data removed]",
      "text/plain": [
       "<Figure size 720x720 with 25 Axes>"
      ]
     },
     "metadata": {
      "needs_background": "light"
     },
     "output_type": "display_data"
    }
   ],
   "source": [
    "fig, ax = plt.subplots(posterior.shape[1], posterior.shape[1])\n",
    "for i in range(posterior.shape[1]):\n",
    "    for j in range(posterior.shape[1]):\n",
    "        if i > j:\n",
    "            ax[i,j].axis('off')\n",
    "        else:\n",
    "            if i == j:\n",
    "                ax[i,j].hist(posterior[:,i], bins = 'auto')\n",
    "                ax[i,j].axvline(np.median(posterior[:,i]), color = 'C1')\n",
    "                ax[i,j].set_xlim(dmin[i], dmax[i])\n",
    "            else:\n",
    "                ax[i,j].scatter(posterior[:,j], posterior[:,i])\n",
    "                ax[i,j].set_ylim(dmin[i], dmax[i])\n",
    "                ax[i,j].set_xlim(dmin[j], dmax[j])\n",
    "    ax[i,0].set_ylabel(parameter_names[i])\n",
    "    ax[0,i].set_title(parameter_names[i])\n",
    "fig.set_size_inches(10,10)\n",
    "fig.tight_layout()"
   ]
  },
  {
   "cell_type": "code",
   "execution_count": 20,
   "metadata": {},
   "outputs": [
    {
     "data": {
      "image/png": "[encoded data removed]",
      "text/plain": [
       "<Figure size 864x576 with 2 Axes>"
      ]
     },
     "metadata": {
      "needs_background": "light"
     },
     "output_type": "display_data"
    }
   ],
   "source": [
    "fig, ax = plt.subplots(2)\n",
    "for i in range(posterior.shape[0]):\n",
    "    res = simulator2(posterior[i,:])\n",
    "    ax[0].plot(res[0,0,:], color = 'C0', alpha = 0.02)\n",
    "    ax[1].plot(res[0,1,:], color = 'C0', alpha = 0.02)\n",
    "ax[0].plot(obs[0,0,:], color = 'black', label = 'Observed Data')\n",
    "ax[1].plot(obs[0,1,:], color = 'black', label = 'Observed Data')\n",
    "ax[0].set_title(\"Total Devil Population\")\n",
    "ax[1].set_title(\"Infected\")\n",
    "ax[0].legend()\n",
    "ax[1].legend()\n",
    "fig.set_size_inches(12, 8)"
   ]
  },
  {
   "cell_type": "code",
   "execution_count": null,
   "metadata": {},
   "outputs": [],
   "source": []
  }
 ],
 "metadata": {
  "kernelspec": {
   "display_name": "Python 3",
   "language": "python",
   "name": "python3"
  },
  "language_info": {
   "codemirror_mode": {
    "name": "ipython",
    "version": 3
   },
   "file_extension": ".py",
   "mimetype": "text/x-python",
   "name": "python",
   "nbconvert_exporter": "python",
   "pygments_lexer": "ipython3",
   "version": "3.8.5"
  }
 },
 "nbformat": 4,
 "nbformat_minor": 4
}
