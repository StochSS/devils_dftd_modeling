{
 "cells": [
  {
   "cell_type": "code",
   "execution_count": 1,
   "metadata": {},
   "outputs": [],
   "source": [
    "import numpy as np\n",
    "import gillespy2\n",
    "from gillespy2 import Model, Species, Parameter, Reaction, Event, \\\n",
    "                      EventTrigger, EventAssignment\n",
    "from gillespy2 import ODECSolver, ODESolver, SSACSolver\n",
    "\n",
    "import matplotlib.pyplot as plt\n",
    "\n",
    "from __future__ import print_function\n",
    "from ipywidgets import interact, interactive, fixed, interact_manual\n",
    "import ipywidgets as widgets"
   ]
  },
  {
   "cell_type": "markdown",
   "metadata": {},
   "source": [
    "# devils Parameter Approximation\n",
    "\n",
    "This notebook is used to calibrate a initial values which approximately match the results given in *Cunningham, Calum X., et al. \"Quantifying 25 years of disease‐caused declines in Tasmanian devil populations: host density drives spatial pathogen spread.\" Ecology Letters 24.5 (2021): 958-969.*  The objective of this notebook is to gain an \"eyeball approximation\" of reasonable starting values to serve as input for more sophisticated inferencing."
   ]
  },
  {
   "cell_type": "code",
   "execution_count": 2,
   "metadata": {},
   "outputs": [],
   "source": [
    "class Devilsv101(Model):\n",
    "    def __init__(self, parameter_values=None):\n",
    "        Model.__init__(self, name=\"devils_v1.0\")\n",
    "        self.volume = 1\n",
    "\n",
    "        # Parameters\n",
    "        self.add_parameter(Parameter(name=\"r\", expression=\"1\"))\n",
    "        self.add_parameter(Parameter(name=\"K\", expression=\"217\"))\n",
    "        self.add_parameter(Parameter(name=\"ds\", expression=\"0.22\"))\n",
    "        self.add_parameter(Parameter(name=\"dI\", expression=\"1.28\"))\n",
    "        self.add_parameter(Parameter(name=\"L\", expression=\".75\"))\n",
    "        # self.add_parameter(Parameter(name=\"sigma\", expression=\"0.5\"))\n",
    "        # self.add_parameter(Parameter(name=\"p\", expression=\"0.6\"))\n",
    "        self.add_parameter(Parameter(name=\"k0\", expression=\"4\"))\n",
    "        # self.add_parameter(Parameter(name=\"vf\", expression=\"1\"))\n",
    "        # self.add_parameter(Parameter(name=\"vt\", expression=\"0\"))\n",
    "\n",
    "        # Variables (initial values adjusted to observed data)\n",
    "        self.add_species(Species(name=\"S\", initial_value=0, mode=\"discrete\"))\n",
    "        self.add_species(Species(name=\"E\", initial_value=0, mode=\"discrete\"))\n",
    "        self.add_species(Species(name=\"I\", initial_value=0, mode=\"discrete\"))\n",
    "        # self.add_species(Species(name=\"W\", initial_value=0, mode=\"discrete\"))\n",
    "#         self.add_species(Species(name=\"R\", initial_value=0, mode=\"discrete\"))\n",
    "        self.add_species(Species(name=\"Devils\", initial_value=0, mode=\"discrete\"))\n",
    "\n",
    "        # Reactions\n",
    "        self.add_reaction(Reaction(name=\"birth\", reactants={}, products={'S': 1, 'Devils': 1}, propensity_function=\"r*(S+E+I)*(1-(S+E+I)/K)\"))\n",
    "#         self.add_reaction(Reaction(name=\"birth\", reactants={}, products={'S': 1}, propensity_function=\"r*S*(1-S/K)\"))\n",
    "#         self.add_reaction(Reaction(name=\"birth\", reactants={}, products={'S': 1}, rate=self.listOfParameters['r']))\n",
    "#         self.add_reaction(Reaction(name='infect', reactants={'S':1}, products={'I':1}, rate=self.listOfParameters['infection']))\n",
    "        self.add_reaction(Reaction(name=\"death_S\", reactants={'S': 1, 'Devils': 1}, products={}, propensity_function=\"ds*S\"))\n",
    "        self.add_reaction(Reaction(name=\"transmission\", reactants={'S': 1}, products={'E': 1}, propensity_function=\"k0*S*I/(S+E+I)\"))\n",
    "        self.add_reaction(Reaction(name=\"death_E\", reactants={'Devils': 1, 'E': 1}, products={}, propensity_function=\"ds*E\"))\n",
    "        self.add_reaction(Reaction(name=\"latency\", reactants={'E': 1}, products={'I': 1}, propensity_function=\"E/L\"))\n",
    "        # self.add_reaction(Reaction(name=\"vaccine_failure\", reactants={'W': 1}, products={'E': 1}, propensity_function=\"k0*sigma*W*I/(S+E+I+W+R)\"))\n",
    "        self.add_reaction(Reaction(name=\"death_I\", reactants={'I': 1, 'Devils': 1}, products={}, propensity_function=\"dI*I\"))\n",
    "        # self.add_reaction(Reaction(name=\"death_W\", reactants={'W': 1}, products={}, propensity_function=\"ds*W\"))\n",
    "#         self.add_reaction(Reaction(name=\"death_R\", reactants={'Devils': 1, 'R': 1}, products={}, propensity_function=\"ds*R\"))\n",
    "\n",
    "        # # Event Triggers\n",
    "        # vaccination_trig = EventTrigger(expression=\"t >= vt+vf\", initial_value=False, persistent=False)\n",
    "\n",
    "        # # Event Assignments\n",
    "        # vaccination_assign_1 = EventAssignment(variable=\"vt\", expression=\"vt+1\")\n",
    "        # vaccination_assign_2 = EventAssignment(variable=\"W\", expression=\"W+(S*p)\")\n",
    "        # vaccination_assign_3 = EventAssignment(variable=\"S\", expression=\"S*(1-p)\")\n",
    "\n",
    "        # # Events\n",
    "        # self.add_event(Event(name=\"vaccination\", trigger=vaccination_trig, assignments=[vaccination_assign_1, vaccination_assign_2, vaccination_assign_3], delay=None, priority=\"0\", use_values_from_trigger_time=True))\n",
    "\n",
    "        # Timespan\n",
    "        self.timespan(np.arange(0, 8, 0.1)) # month data tspan\n",
    "#         self.timespan(np.arange(0, 60, 1)) # month data tspan\n",
    "#         self.timespan(np.arange(0, 21, 1)) # year data tspan"
   ]
  },
  {
   "cell_type": "code",
   "execution_count": 3,
   "metadata": {},
   "outputs": [],
   "source": [
    "model = Devilsv101()"
   ]
  },
  {
   "cell_type": "markdown",
   "metadata": {},
   "source": [
    "## Read in observed data"
   ]
  },
  {
   "cell_type": "code",
   "execution_count": 4,
   "metadata": {
    "scrolled": true
   },
   "outputs": [],
   "source": [
    "import pandas as pd\n",
    "\n",
    "# pop_data = pd.read_csv('../month_data/Devils_Dataset__Population_1985-2020.csv')\n",
    "pop_data = pd.read_csv('../year_data/devil_data_v2.csv')\n",
    "devil_pop = np.array(pop_data['Population'].iloc[:].values)\n",
    "init_devils_pop = devil_pop[0]\n",
    "dftd_pop = .1*init_devils_pop\n",
    "\n",
    "# model.listOfSpecies['Devils'].initial_value = init_devils_pop\n",
    "# model.listOfParameters['K'].initial_value = init_devils_pop\n",
    "\n",
    "model.listOfSpecies['I'].initial_value = dftd_pop  # This will be overwritten by variables later\n",
    "model.listOfSpecies['S'].initial_value = init_devils_pop - dftd_pop\n",
    "\n",
    "# r_pop = init_devils_pop - init_dfdt_pop\n",
    "# init_e_pop = 0\n",
    "# init_s_pop = r_pop - init_e_pop\n",
    "# model.listOfSpecies['S'].initial_value = init_s_pop\n",
    "# model.listOfSpecies['E'].initial_value = init_e_pop\n",
    "\n",
    "# obs = np.vstack([devil_pop, dfdt_pop]).reshape(1, 2, -1)\n",
    "# print(obs)"
   ]
  },
  {
   "cell_type": "code",
   "execution_count": 5,
   "metadata": {},
   "outputs": [
    {
     "data": {
      "text/plain": [
       "[<matplotlib.lines.Line2D at 0x7f77dfe3ca00>]"
      ]
     },
     "execution_count": 5,
     "metadata": {},
     "output_type": "execute_result"
    },
    {
     "data": {
      "image/png": "[encoded data removed]",
      "text/plain": [
       "<Figure size 432x288 with 1 Axes>"
      ]
     },
     "metadata": {
      "needs_background": "light"
     },
     "output_type": "display_data"
    }
   ],
   "source": [
    "plt.plot(range(0,len(devil_pop)), devil_pop)\n",
    "# plt.plot(range(0,len(dfdt_pop)), dfdt_pop)\n",
    "# plt.plot(model.tspan, dfdt_pop[140:200])"
   ]
  },
  {
   "cell_type": "markdown",
   "metadata": {},
   "source": [
    "## Configure Solver Widget"
   ]
  },
  {
   "cell_type": "code",
   "execution_count": 6,
   "metadata": {},
   "outputs": [],
   "source": [
    "solver = ODECSolver(model, variable=True)"
   ]
  },
  {
   "cell_type": "code",
   "execution_count": 7,
   "metadata": {},
   "outputs": [],
   "source": [
    "def f(L, k0, r, sTime, eTime, dI, ds):\n",
    "#     time = range(241)\n",
    "    title = 'Total Species for Time Range {0}-{1}'.format(sTime, eTime)\n",
    "    print('=================================')\n",
    "    print('| Time Range: {}-{}'.format(sTime, eTime))\n",
    "    print('| -------------------------------')\n",
    "    print('| Input Parameters:')\n",
    "    print('| \\tL: {}, k0: {}'.format(L, k0))\n",
    "    print('| \\tr: {}'.format(r))\n",
    "    print('| -------------------------------')\n",
    "#     print('| Initial Value of I: {}'.format(dfdt_pop[sTime]))\n",
    "#     print('| -------------------------------')\n",
    "#     print('| Ratio of dI:r:')\n",
    "#     print('| \\t{}:{}'.format(str(dI), str(r)))\n",
    "    print('=================================')\n",
    "    res, rc = solver.run(model=model, variables={'L':str(L), 'r':str(r), 'k0':str(k0), 'Devils':devil_pop[sTime], 'S':devil_pop[sTime]-dftd_pop,'dI': str(dI), 'ds': str(ds)}, t=(eTime-sTime), increment=1)\n",
    "\n",
    "    if len(res) > 0:\n",
    "            results_list = []\n",
    "            for i in range(0, len(res)):\n",
    "                temp = gillespy2.Trajectory(data=res[i], model=model, solver_name=solver.name, rc=rc)\n",
    "                results_list.append(temp)\n",
    "\n",
    "            results = gillespy2.Results(results_list)\n",
    "\n",
    "    total_devils = np.add(results['I'], results['S'])\n",
    "#     simulated_dfdt = plt.plot(range(sTime, eTime+1), results['I'], 'g', label='Simulated DFTD')\n",
    "    simulated_devils = plt.plot(range(sTime, eTime+1), total_devils, 'b', label='Simulated Total')\n",
    "#     expected_dfdt = plt.plot(range(sTime, eTime+1), dfdt_pop[sTime:eTime+1], '--g', label='Observed DFTD')\n",
    "    expected_devils = plt.plot(range(sTime, eTime+1), devil_pop[sTime:eTime+1], '--b', label='Observed Total')\n",
    "    plt.xlabel('month')\n",
    "    plt.ylabel('population')\n",
    "    plt.legend(loc='best')\n",
    "    plt.title(title)\n",
    "#     result_str = results['I'][-1]\n",
    "#     result_str = 'DFTD Expected: {0} - Got: {1} -- '.format(dfdt_pop[eTime-1], results['I'][-1])\n",
    "    result_str = 'TOTAL Expected: {0} - Got: {1}'.format(devil_pop[eTime-1], total_devils[-1])\n",
    "\n",
    "    return result_str"
   ]
  },
  {
   "cell_type": "code",
   "execution_count": 8,
   "metadata": {
    "scrolled": false
   },
   "outputs": [],
   "source": [
    "# Create Widgets\n",
    "\n",
    "dL = widgets.FloatSlider(min=0, max=10, step=0.1, value=0.75)\n",
    "dk0 = widgets.FloatSlider(min=0, max=10, step=0.1, value=4)\n",
    "dds = widgets.FloatSlider(min=.1, max=1, step=.01, value=0.22)\n",
    "ddI = widgets.FloatSlider(min=.5, max=3, step=.01, value=1.28)\n",
    "# dInfection = widgets.FloatSlider(min=0, max=.1, step=.001, value=0.024)\n",
    "dr = widgets.FloatSlider(min=0.01, max=10, step=0.1, value=1)\n",
    "dsTime = widgets.IntSlider(min=0, max=6, step=1, value=0)\n",
    "deTime = widgets.IntSlider(min=1, max=7, step=1, value=7)"
   ]
  },
  {
   "cell_type": "markdown",
   "metadata": {},
   "source": [
    "## Run the widget and attempt to calibrate model"
   ]
  },
  {
   "cell_type": "code",
   "execution_count": 9,
   "metadata": {},
   "outputs": [
    {
     "data": {
      "application/vnd.jupyter.widget-view+json": {
       "model_id": "f46e8543532a46878a1a5f6848a7e9f7",
       "version_major": 2,
       "version_minor": 0
      },
      "text/plain": [
       "interactive(children=(FloatSlider(value=0.75, description='L', max=10.0), FloatSlider(value=4.0, description='…"
      ]
     },
     "metadata": {},
     "output_type": "display_data"
    },
    {
     "data": {
      "text/plain": [
       "<function __main__.f(L, k0, r, sTime, eTime, dI, ds)>"
      ]
     },
     "execution_count": 9,
     "metadata": {},
     "output_type": "execute_result"
    }
   ],
   "source": [
    "# Run interactions\n",
    "interact(f, L=dL, k0=dk0, r=dr, sTime=dsTime, eTime=deTime, dI=ddI, ds=dds)"
   ]
  },
  {
   "cell_type": "code",
   "execution_count": null,
   "metadata": {},
   "outputs": [],
   "source": []
  },
  {
   "cell_type": "code",
   "execution_count": null,
   "metadata": {},
   "outputs": [],
   "source": []
  }
 ],
 "metadata": {
  "kernelspec": {
   "display_name": "Python 3",
   "language": "python",
   "name": "python3"
  },
  "language_info": {
   "codemirror_mode": {
    "name": "ipython",
    "version": 3
   },
   "file_extension": ".py",
   "mimetype": "text/x-python",
   "name": "python",
   "nbconvert_exporter": "python",
   "pygments_lexer": "ipython3",
   "version": "3.8.5"
  }
 },
 "nbformat": 4,
 "nbformat_minor": 4
}
